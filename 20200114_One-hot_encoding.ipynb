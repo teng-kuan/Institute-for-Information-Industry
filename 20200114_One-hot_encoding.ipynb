{
 "cells": [
  {
   "cell_type": "markdown",
   "metadata": {},
   "source": [
    "使用 One-Hot Encoding , 把類別型資料轉成 dummy型態\n",
    "在這本筆記本中並未將所有欄位都轉型 , 因為有些欄位的獨一值過多, 轉成dummy會導致欄位過多,難以進行機器學習"
   ]
  },
  {
   "cell_type": "code",
   "execution_count": 1,
   "metadata": {},
   "outputs": [],
   "source": [
    "import numpy as np\n",
    "import pandas as pd"
   ]
  },
  {
   "cell_type": "code",
   "execution_count": 2,
   "metadata": {},
   "outputs": [],
   "source": [
    "data = pd.read_csv('gurus_ML.csv')"
   ]
  },
  {
   "cell_type": "code",
   "execution_count": 3,
   "metadata": {},
   "outputs": [
    {
     "data": {
      "text/plain": [
       "Index(['Unnamed: 0', 'Title', 'Year', 'Brand', 'Location', 'State', 'Rental',\n",
       "       'Price', 'Mileage', 'Transmission', 'FuelType', 'Engine', 'Drivetrain',\n",
       "       'OptionCount', 'MajorOptions', 'Accident Check', 'OwnershipHistory'],\n",
       "      dtype='object')"
      ]
     },
     "execution_count": 3,
     "metadata": {},
     "output_type": "execute_result"
    }
   ],
   "source": [
    "data.columns"
   ]
  },
  {
   "cell_type": "code",
   "execution_count": 4,
   "metadata": {},
   "outputs": [
    {
     "data": {
      "text/html": [
       "<div>\n",
       "<style scoped>\n",
       "    .dataframe tbody tr th:only-of-type {\n",
       "        vertical-align: middle;\n",
       "    }\n",
       "\n",
       "    .dataframe tbody tr th {\n",
       "        vertical-align: top;\n",
       "    }\n",
       "\n",
       "    .dataframe thead th {\n",
       "        text-align: right;\n",
       "    }\n",
       "</style>\n",
       "<table border=\"1\" class=\"dataframe\">\n",
       "  <thead>\n",
       "    <tr style=\"text-align: right;\">\n",
       "      <th></th>\n",
       "      <th>Unnamed: 0</th>\n",
       "      <th>Title</th>\n",
       "      <th>Year</th>\n",
       "      <th>Brand</th>\n",
       "      <th>Location</th>\n",
       "      <th>State</th>\n",
       "      <th>Rental</th>\n",
       "      <th>Price</th>\n",
       "      <th>Mileage</th>\n",
       "      <th>Transmission</th>\n",
       "      <th>FuelType</th>\n",
       "      <th>Engine</th>\n",
       "      <th>Drivetrain</th>\n",
       "      <th>OptionCount</th>\n",
       "      <th>MajorOptions</th>\n",
       "      <th>Accident Check</th>\n",
       "      <th>OwnershipHistory</th>\n",
       "    </tr>\n",
       "  </thead>\n",
       "  <tbody>\n",
       "    <tr>\n",
       "      <th>0</th>\n",
       "      <td>2</td>\n",
       "      <td>Silverado 2500HD Work Truck Extended Cab LB 4WD</td>\n",
       "      <td>2010</td>\n",
       "      <td>Chevrolet</td>\n",
       "      <td>Frankfort</td>\n",
       "      <td>KY</td>\n",
       "      <td>False</td>\n",
       "      <td>15900.0</td>\n",
       "      <td>144000.0</td>\n",
       "      <td>Automatic</td>\n",
       "      <td>Gasoline</td>\n",
       "      <td>V8</td>\n",
       "      <td>Four-Wheel Drive</td>\n",
       "      <td>2</td>\n",
       "      <td>['Steel Wheels', 'Tow Package']</td>\n",
       "      <td>0.0</td>\n",
       "      <td>2.0</td>\n",
       "    </tr>\n",
       "    <tr>\n",
       "      <th>1</th>\n",
       "      <td>3</td>\n",
       "      <td>Corvette Stingray 3LT Coupe RWD</td>\n",
       "      <td>2014</td>\n",
       "      <td>Chevrolet</td>\n",
       "      <td>Lewistown</td>\n",
       "      <td>MT</td>\n",
       "      <td>False</td>\n",
       "      <td>49995.0</td>\n",
       "      <td>2500.0</td>\n",
       "      <td>7-Speed Manual</td>\n",
       "      <td>Gasoline</td>\n",
       "      <td>V8</td>\n",
       "      <td>Rear-Wheel Drive</td>\n",
       "      <td>5</td>\n",
       "      <td>['Bluetooth', 'Backup Camera', 'Aluminum Wheel...</td>\n",
       "      <td>0.0</td>\n",
       "      <td>1.0</td>\n",
       "    </tr>\n",
       "    <tr>\n",
       "      <th>2</th>\n",
       "      <td>4</td>\n",
       "      <td>Monte Carlo SS FWD</td>\n",
       "      <td>2002</td>\n",
       "      <td>Chevrolet</td>\n",
       "      <td>Delavan</td>\n",
       "      <td>IL</td>\n",
       "      <td>False</td>\n",
       "      <td>3440.0</td>\n",
       "      <td>174000.0</td>\n",
       "      <td>Automatic</td>\n",
       "      <td>Gasoline</td>\n",
       "      <td>V6</td>\n",
       "      <td>Front-Wheel Drive</td>\n",
       "      <td>2</td>\n",
       "      <td>['Leather Seats', 'Aluminum Wheels']</td>\n",
       "      <td>0.0</td>\n",
       "      <td>2.0</td>\n",
       "    </tr>\n",
       "    <tr>\n",
       "      <th>3</th>\n",
       "      <td>5</td>\n",
       "      <td>Monte Carlo LS FWD</td>\n",
       "      <td>2004</td>\n",
       "      <td>Chevrolet</td>\n",
       "      <td>Delavan</td>\n",
       "      <td>IL</td>\n",
       "      <td>False</td>\n",
       "      <td>4890.0</td>\n",
       "      <td>115500.0</td>\n",
       "      <td>Automatic</td>\n",
       "      <td>Gasoline</td>\n",
       "      <td>V6</td>\n",
       "      <td>Front-Wheel Drive</td>\n",
       "      <td>1</td>\n",
       "      <td>['Steel Wheels']</td>\n",
       "      <td>0.0</td>\n",
       "      <td>3.0</td>\n",
       "    </tr>\n",
       "    <tr>\n",
       "      <th>4</th>\n",
       "      <td>7</td>\n",
       "      <td>Silverado 1500 LT Extended Cab RWD</td>\n",
       "      <td>2001</td>\n",
       "      <td>Chevrolet</td>\n",
       "      <td>Delavan</td>\n",
       "      <td>IL</td>\n",
       "      <td>False</td>\n",
       "      <td>6550.0</td>\n",
       "      <td>188583.0</td>\n",
       "      <td>Automatic</td>\n",
       "      <td>Gasoline</td>\n",
       "      <td>V8</td>\n",
       "      <td>Rear-Wheel Drive</td>\n",
       "      <td>3</td>\n",
       "      <td>['Leather Seats', 'Suspension Package', 'Alumi...</td>\n",
       "      <td>0.0</td>\n",
       "      <td>1.0</td>\n",
       "    </tr>\n",
       "    <tr>\n",
       "      <th>5</th>\n",
       "      <td>8</td>\n",
       "      <td>Equinox 2LT FWD</td>\n",
       "      <td>2009</td>\n",
       "      <td>Chevrolet</td>\n",
       "      <td>Delavan</td>\n",
       "      <td>IL</td>\n",
       "      <td>True</td>\n",
       "      <td>9960.0</td>\n",
       "      <td>80124.0</td>\n",
       "      <td>Automatic</td>\n",
       "      <td>Gasoline</td>\n",
       "      <td>V6</td>\n",
       "      <td>Front-Wheel Drive</td>\n",
       "      <td>4</td>\n",
       "      <td>['Leather Seats', 'Chrome Wheels', 'Bluetooth'...</td>\n",
       "      <td>0.0</td>\n",
       "      <td>2.0</td>\n",
       "    </tr>\n",
       "    <tr>\n",
       "      <th>6</th>\n",
       "      <td>9</td>\n",
       "      <td>Silverado 1500 LS Extended Cab LB RWD</td>\n",
       "      <td>2004</td>\n",
       "      <td>Chevrolet</td>\n",
       "      <td>Delavan</td>\n",
       "      <td>IL</td>\n",
       "      <td>False</td>\n",
       "      <td>9220.0</td>\n",
       "      <td>103000.0</td>\n",
       "      <td>Automatic</td>\n",
       "      <td>Gasoline</td>\n",
       "      <td>V8</td>\n",
       "      <td>Rear-Wheel Drive</td>\n",
       "      <td>4</td>\n",
       "      <td>['Power Package', 'Suspension Package', 'Chrom...</td>\n",
       "      <td>0.0</td>\n",
       "      <td>1.0</td>\n",
       "    </tr>\n",
       "    <tr>\n",
       "      <th>7</th>\n",
       "      <td>11</td>\n",
       "      <td>Impala LS FWD</td>\n",
       "      <td>2005</td>\n",
       "      <td>Chevrolet</td>\n",
       "      <td>Delavan</td>\n",
       "      <td>IL</td>\n",
       "      <td>True</td>\n",
       "      <td>5230.0</td>\n",
       "      <td>171466.0</td>\n",
       "      <td>Automatic</td>\n",
       "      <td>Gasoline</td>\n",
       "      <td>V6</td>\n",
       "      <td>Front-Wheel Drive</td>\n",
       "      <td>2</td>\n",
       "      <td>['Leather Seats', 'Aluminum Wheels']</td>\n",
       "      <td>0.0</td>\n",
       "      <td>4.0</td>\n",
       "    </tr>\n",
       "    <tr>\n",
       "      <th>8</th>\n",
       "      <td>12</td>\n",
       "      <td>Blazer LS 4-Door 4WD</td>\n",
       "      <td>2004</td>\n",
       "      <td>Chevrolet</td>\n",
       "      <td>Delavan</td>\n",
       "      <td>IL</td>\n",
       "      <td>False</td>\n",
       "      <td>3970.0</td>\n",
       "      <td>178000.0</td>\n",
       "      <td>Automatic</td>\n",
       "      <td>Gasoline</td>\n",
       "      <td>V6</td>\n",
       "      <td>Four-Wheel Drive</td>\n",
       "      <td>2</td>\n",
       "      <td>['Power Package', 'Convenience Package']</td>\n",
       "      <td>0.0</td>\n",
       "      <td>3.0</td>\n",
       "    </tr>\n",
       "    <tr>\n",
       "      <th>9</th>\n",
       "      <td>14</td>\n",
       "      <td>Silverado 1500 1LT Crew Cab 4WD</td>\n",
       "      <td>2006</td>\n",
       "      <td>Chevrolet</td>\n",
       "      <td>Murdo</td>\n",
       "      <td>SD</td>\n",
       "      <td>False</td>\n",
       "      <td>16995.0</td>\n",
       "      <td>90200.0</td>\n",
       "      <td>Automatic</td>\n",
       "      <td>Flex Fuel Vehicle</td>\n",
       "      <td>V8 Flex Fuel Vehicle</td>\n",
       "      <td>Four-Wheel Drive</td>\n",
       "      <td>0</td>\n",
       "      <td>['empty']</td>\n",
       "      <td>0.0</td>\n",
       "      <td>4.0</td>\n",
       "    </tr>\n",
       "  </tbody>\n",
       "</table>\n",
       "</div>"
      ],
      "text/plain": [
       "   Unnamed: 0                                            Title  Year  \\\n",
       "0           2  Silverado 2500HD Work Truck Extended Cab LB 4WD  2010   \n",
       "1           3                  Corvette Stingray 3LT Coupe RWD  2014   \n",
       "2           4                               Monte Carlo SS FWD  2002   \n",
       "3           5                               Monte Carlo LS FWD  2004   \n",
       "4           7               Silverado 1500 LT Extended Cab RWD  2001   \n",
       "5           8                                  Equinox 2LT FWD  2009   \n",
       "6           9            Silverado 1500 LS Extended Cab LB RWD  2004   \n",
       "7          11                                    Impala LS FWD  2005   \n",
       "8          12                             Blazer LS 4-Door 4WD  2004   \n",
       "9          14                  Silverado 1500 1LT Crew Cab 4WD  2006   \n",
       "\n",
       "       Brand   Location State  Rental    Price   Mileage    Transmission  \\\n",
       "0  Chevrolet  Frankfort    KY   False  15900.0  144000.0       Automatic   \n",
       "1  Chevrolet  Lewistown    MT   False  49995.0    2500.0  7-Speed Manual   \n",
       "2  Chevrolet    Delavan    IL   False   3440.0  174000.0       Automatic   \n",
       "3  Chevrolet    Delavan    IL   False   4890.0  115500.0       Automatic   \n",
       "4  Chevrolet    Delavan    IL   False   6550.0  188583.0       Automatic   \n",
       "5  Chevrolet    Delavan    IL    True   9960.0   80124.0       Automatic   \n",
       "6  Chevrolet    Delavan    IL   False   9220.0  103000.0       Automatic   \n",
       "7  Chevrolet    Delavan    IL    True   5230.0  171466.0       Automatic   \n",
       "8  Chevrolet    Delavan    IL   False   3970.0  178000.0       Automatic   \n",
       "9  Chevrolet      Murdo    SD   False  16995.0   90200.0       Automatic   \n",
       "\n",
       "            FuelType                Engine         Drivetrain  OptionCount  \\\n",
       "0           Gasoline                    V8   Four-Wheel Drive            2   \n",
       "1           Gasoline                    V8   Rear-Wheel Drive            5   \n",
       "2           Gasoline                    V6  Front-Wheel Drive            2   \n",
       "3           Gasoline                    V6  Front-Wheel Drive            1   \n",
       "4           Gasoline                    V8   Rear-Wheel Drive            3   \n",
       "5           Gasoline                    V6  Front-Wheel Drive            4   \n",
       "6           Gasoline                    V8   Rear-Wheel Drive            4   \n",
       "7           Gasoline                    V6  Front-Wheel Drive            2   \n",
       "8           Gasoline                    V6   Four-Wheel Drive            2   \n",
       "9  Flex Fuel Vehicle  V8 Flex Fuel Vehicle   Four-Wheel Drive            0   \n",
       "\n",
       "                                        MajorOptions  Accident Check  \\\n",
       "0                    ['Steel Wheels', 'Tow Package']             0.0   \n",
       "1  ['Bluetooth', 'Backup Camera', 'Aluminum Wheel...             0.0   \n",
       "2               ['Leather Seats', 'Aluminum Wheels']             0.0   \n",
       "3                                   ['Steel Wheels']             0.0   \n",
       "4  ['Leather Seats', 'Suspension Package', 'Alumi...             0.0   \n",
       "5  ['Leather Seats', 'Chrome Wheels', 'Bluetooth'...             0.0   \n",
       "6  ['Power Package', 'Suspension Package', 'Chrom...             0.0   \n",
       "7               ['Leather Seats', 'Aluminum Wheels']             0.0   \n",
       "8           ['Power Package', 'Convenience Package']             0.0   \n",
       "9                                          ['empty']             0.0   \n",
       "\n",
       "   OwnershipHistory  \n",
       "0               2.0  \n",
       "1               1.0  \n",
       "2               2.0  \n",
       "3               3.0  \n",
       "4               1.0  \n",
       "5               2.0  \n",
       "6               1.0  \n",
       "7               4.0  \n",
       "8               3.0  \n",
       "9               4.0  "
      ]
     },
     "execution_count": 4,
     "metadata": {},
     "output_type": "execute_result"
    }
   ],
   "source": [
    "data.head(10)"
   ]
  },
  {
   "cell_type": "markdown",
   "metadata": {},
   "source": [
    "------------------------"
   ]
  },
  {
   "cell_type": "markdown",
   "metadata": {},
   "source": [
    "### 1.把每個欄位都有值的資料切出來"
   ]
  },
  {
   "cell_type": "code",
   "execution_count": 5,
   "metadata": {},
   "outputs": [
    {
     "data": {
      "text/plain": [
       "0           True\n",
       "1           True\n",
       "2           True\n",
       "3           True\n",
       "4           True\n",
       "           ...  \n",
       "2088473    False\n",
       "2088474     True\n",
       "2088475    False\n",
       "2088476    False\n",
       "2088477    False\n",
       "Length: 2088478, dtype: bool"
      ]
     },
     "execution_count": 5,
     "metadata": {},
     "output_type": "execute_result"
    }
   ],
   "source": [
    "data.notnull().all(axis=1)"
   ]
  },
  {
   "cell_type": "code",
   "execution_count": 6,
   "metadata": {},
   "outputs": [],
   "source": [
    "data1 = data[data.notnull().all(axis=1)]\n",
    "# data1: 是每個欄位都有值的那些資料 , 之後會再被切割成兩份 ,一份訓練資料 ,一份測試資料"
   ]
  },
  {
   "cell_type": "code",
   "execution_count": 7,
   "metadata": {},
   "outputs": [
    {
     "data": {
      "text/plain": [
       "Unnamed: 0          0\n",
       "Title               0\n",
       "Year                0\n",
       "Brand               0\n",
       "Location            0\n",
       "State               0\n",
       "Rental              0\n",
       "Price               0\n",
       "Mileage             0\n",
       "Transmission        0\n",
       "FuelType            0\n",
       "Engine              0\n",
       "Drivetrain          0\n",
       "OptionCount         0\n",
       "MajorOptions        0\n",
       "Accident Check      0\n",
       "OwnershipHistory    0\n",
       "dtype: int64"
      ]
     },
     "execution_count": 7,
     "metadata": {},
     "output_type": "execute_result"
    }
   ],
   "source": [
    "data1.isnull().sum()"
   ]
  },
  {
   "cell_type": "markdown",
   "metadata": {},
   "source": [
    "---------------------"
   ]
  },
  {
   "cell_type": "markdown",
   "metadata": {},
   "source": [
    "### 2.用 One-Hot Encoding 把類別型資料轉成數字型態"
   ]
  },
  {
   "cell_type": "code",
   "execution_count": 8,
   "metadata": {},
   "outputs": [],
   "source": [
    "# from sklearn.preprocessing import OneHotEncoder"
   ]
  },
  {
   "cell_type": "code",
   "execution_count": 9,
   "metadata": {},
   "outputs": [],
   "source": [
    "data1 = data1.drop(columns=['Unnamed: 0','Title'])"
   ]
  },
  {
   "cell_type": "code",
   "execution_count": 10,
   "metadata": {},
   "outputs": [
    {
     "data": {
      "text/plain": [
       "Year                  int64\n",
       "Brand                object\n",
       "Location             object\n",
       "State                object\n",
       "Rental                 bool\n",
       "Price               float64\n",
       "Mileage             float64\n",
       "Transmission         object\n",
       "FuelType             object\n",
       "Engine               object\n",
       "Drivetrain           object\n",
       "OptionCount           int64\n",
       "MajorOptions         object\n",
       "Accident Check      float64\n",
       "OwnershipHistory    float64\n",
       "dtype: object"
      ]
     },
     "execution_count": 10,
     "metadata": {},
     "output_type": "execute_result"
    }
   ],
   "source": [
    "data1.dtypes"
   ]
  },
  {
   "cell_type": "code",
   "execution_count": 11,
   "metadata": {},
   "outputs": [
    {
     "data": {
      "text/plain": [
       "Index(['Year', 'Brand', 'Location', 'State', 'Rental', 'Price', 'Mileage',\n",
       "       'Transmission', 'FuelType', 'Engine', 'Drivetrain', 'OptionCount',\n",
       "       'MajorOptions', 'Accident Check', 'OwnershipHistory'],\n",
       "      dtype='object')"
      ]
     },
     "execution_count": 11,
     "metadata": {},
     "output_type": "execute_result"
    }
   ],
   "source": [
    "data1.columns"
   ]
  },
  {
   "cell_type": "code",
   "execution_count": 12,
   "metadata": {},
   "outputs": [],
   "source": [
    "objectcolumn = ['Brand','State', 'Transmission', 'FuelType', 'Engine', 'Drivetrain']\n",
    "# 因為 Location 和 MajorOptions 兩個欄位的 唯一的值太多了 , 所以先不做 One-Hot"
   ]
  },
  {
   "cell_type": "code",
   "execution_count": 13,
   "metadata": {},
   "outputs": [
    {
     "data": {
      "text/plain": [
       "52"
      ]
     },
     "execution_count": 13,
     "metadata": {},
     "output_type": "execute_result"
    }
   ],
   "source": [
    "len(data1['Brand'].unique())"
   ]
  },
  {
   "cell_type": "code",
   "execution_count": 14,
   "metadata": {},
   "outputs": [
    {
     "data": {
      "text/plain": [
       "6383"
      ]
     },
     "execution_count": 14,
     "metadata": {},
     "output_type": "execute_result"
    }
   ],
   "source": [
    "len(data1['Location'].unique())"
   ]
  },
  {
   "cell_type": "code",
   "execution_count": 15,
   "metadata": {},
   "outputs": [
    {
     "data": {
      "text/plain": [
       "50"
      ]
     },
     "execution_count": 15,
     "metadata": {},
     "output_type": "execute_result"
    }
   ],
   "source": [
    "len(data1['State'].unique())"
   ]
  },
  {
   "cell_type": "code",
   "execution_count": 16,
   "metadata": {},
   "outputs": [
    {
     "data": {
      "text/plain": [
       "45"
      ]
     },
     "execution_count": 16,
     "metadata": {},
     "output_type": "execute_result"
    }
   ],
   "source": [
    "len(data1['Transmission'].unique())"
   ]
  },
  {
   "cell_type": "code",
   "execution_count": 17,
   "metadata": {},
   "outputs": [
    {
     "data": {
      "text/plain": [
       "7"
      ]
     },
     "execution_count": 17,
     "metadata": {},
     "output_type": "execute_result"
    }
   ],
   "source": [
    "len(data1['FuelType'].unique())"
   ]
  },
  {
   "cell_type": "code",
   "execution_count": 18,
   "metadata": {},
   "outputs": [
    {
     "data": {
      "text/plain": [
       "38"
      ]
     },
     "execution_count": 18,
     "metadata": {},
     "output_type": "execute_result"
    }
   ],
   "source": [
    "len(data1['Engine'].unique())"
   ]
  },
  {
   "cell_type": "code",
   "execution_count": 19,
   "metadata": {},
   "outputs": [
    {
     "data": {
      "text/plain": [
       "5"
      ]
     },
     "execution_count": 19,
     "metadata": {},
     "output_type": "execute_result"
    }
   ],
   "source": [
    "len(data1['Drivetrain'].unique())"
   ]
  },
  {
   "cell_type": "code",
   "execution_count": 20,
   "metadata": {},
   "outputs": [],
   "source": [
    "def column_to_dummy(i):\n",
    "    global data1\n",
    "    for k in i:\n",
    "        dummy_column = pd.get_dummies(data1[k], sparse=True)\n",
    "        data1 = pd.concat([data1,dummy_column], axis =1)"
   ]
  },
  {
   "cell_type": "code",
   "execution_count": 21,
   "metadata": {},
   "outputs": [],
   "source": [
    "column_to_dummy(objectcolumn)"
   ]
  },
  {
   "cell_type": "code",
   "execution_count": 22,
   "metadata": {},
   "outputs": [
    {
     "data": {
      "text/plain": [
       "Index(['Year', 'Brand', 'Location', 'State', 'Rental', 'Price', 'Mileage',\n",
       "       'Transmission', 'FuelType', 'Engine',\n",
       "       ...\n",
       "       'V8 Hybrid', 'V8 Propane', 'W12', 'W12 Flex Fuel Vehicle', 'W8', '4X2',\n",
       "       'All-Wheel Drive', 'Four-Wheel Drive', 'Front-Wheel Drive',\n",
       "       'Rear-Wheel Drive'],\n",
       "      dtype='object', length=212)"
      ]
     },
     "execution_count": 22,
     "metadata": {},
     "output_type": "execute_result"
    }
   ],
   "source": [
    "data1.columns"
   ]
  },
  {
   "cell_type": "code",
   "execution_count": 23,
   "metadata": {},
   "outputs": [],
   "source": [
    "from sklearn.model_selection import train_test_split"
   ]
  },
  {
   "cell_type": "code",
   "execution_count": 34,
   "metadata": {},
   "outputs": [],
   "source": [
    "X = data1.drop(columns=['Brand', 'Location', 'State', 'Transmission', 'FuelType', 'MajorOptions',\n",
    "                         'Engine', 'Drivetrain', 'Price'])"
   ]
  },
  {
   "cell_type": "code",
   "execution_count": 35,
   "metadata": {},
   "outputs": [
    {
     "data": {
      "text/plain": [
       "Index(['Year', 'Rental', 'Mileage', 'OptionCount', 'Accident Check',\n",
       "       'OwnershipHistory', 'Acura', 'Alfa Romeo', 'Aston Martin', 'Audi',\n",
       "       ...\n",
       "       'V8 Hybrid', 'V8 Propane', 'W12', 'W12 Flex Fuel Vehicle', 'W8', '4X2',\n",
       "       'All-Wheel Drive', 'Four-Wheel Drive', 'Front-Wheel Drive',\n",
       "       'Rear-Wheel Drive'],\n",
       "      dtype='object', length=203)"
      ]
     },
     "execution_count": 35,
     "metadata": {},
     "output_type": "execute_result"
    }
   ],
   "source": [
    "X.columns"
   ]
  },
  {
   "cell_type": "code",
   "execution_count": 36,
   "metadata": {},
   "outputs": [],
   "source": [
    "y = data1.iloc[:,5]"
   ]
  },
  {
   "cell_type": "code",
   "execution_count": 37,
   "metadata": {},
   "outputs": [],
   "source": [
    "X_train, X_test, y_train, y_test = train_test_split(\n",
    "    X, y, test_size=0.3, random_state=1)"
   ]
  },
  {
   "cell_type": "code",
   "execution_count": 38,
   "metadata": {},
   "outputs": [
    {
     "data": {
      "text/plain": [
       "(1389857, 203)"
      ]
     },
     "execution_count": 38,
     "metadata": {},
     "output_type": "execute_result"
    }
   ],
   "source": [
    "X_train.shape"
   ]
  },
  {
   "cell_type": "code",
   "execution_count": 39,
   "metadata": {},
   "outputs": [
    {
     "data": {
      "text/plain": [
       "(1389857,)"
      ]
     },
     "execution_count": 39,
     "metadata": {},
     "output_type": "execute_result"
    }
   ],
   "source": [
    "y_train.shape"
   ]
  },
  {
   "cell_type": "code",
   "execution_count": null,
   "metadata": {},
   "outputs": [],
   "source": []
  },
  {
   "cell_type": "code",
   "execution_count": 40,
   "metadata": {},
   "outputs": [],
   "source": [
    "from sklearn.ensemble import RandomForestRegressor"
   ]
  },
  {
   "cell_type": "code",
   "execution_count": 41,
   "metadata": {},
   "outputs": [],
   "source": [
    "model = RandomForestRegressor(n_estimators=10, criterion='mse', random_state=0)"
   ]
  },
  {
   "cell_type": "code",
   "execution_count": 42,
   "metadata": {},
   "outputs": [
    {
     "data": {
      "text/plain": [
       "RandomForestRegressor(bootstrap=True, criterion='mse', max_depth=None,\n",
       "                      max_features='auto', max_leaf_nodes=None,\n",
       "                      min_impurity_decrease=0.0, min_impurity_split=None,\n",
       "                      min_samples_leaf=1, min_samples_split=2,\n",
       "                      min_weight_fraction_leaf=0.0, n_estimators=10,\n",
       "                      n_jobs=None, oob_score=False, random_state=0, verbose=0,\n",
       "                      warm_start=False)"
      ]
     },
     "execution_count": 42,
     "metadata": {},
     "output_type": "execute_result"
    }
   ],
   "source": [
    "model.fit(X_train, y_train)"
   ]
  },
  {
   "cell_type": "code",
   "execution_count": 43,
   "metadata": {},
   "outputs": [],
   "source": [
    "y_pred = model.predict(X_test)"
   ]
  },
  {
   "cell_type": "code",
   "execution_count": 44,
   "metadata": {},
   "outputs": [],
   "source": [
    "from sklearn.metrics import r2_score"
   ]
  },
  {
   "cell_type": "code",
   "execution_count": 45,
   "metadata": {},
   "outputs": [
    {
     "data": {
      "text/plain": [
       "0.7870528537819138"
      ]
     },
     "execution_count": 45,
     "metadata": {},
     "output_type": "execute_result"
    }
   ],
   "source": [
    "r2_score(y_test, y_pred)"
   ]
  },
  {
   "cell_type": "code",
   "execution_count": null,
   "metadata": {},
   "outputs": [],
   "source": []
  },
  {
   "cell_type": "code",
   "execution_count": null,
   "metadata": {},
   "outputs": [],
   "source": []
  },
  {
   "cell_type": "code",
   "execution_count": null,
   "metadata": {},
   "outputs": [],
   "source": []
  },
  {
   "cell_type": "code",
   "execution_count": null,
   "metadata": {},
   "outputs": [],
   "source": []
  },
  {
   "cell_type": "code",
   "execution_count": null,
   "metadata": {},
   "outputs": [],
   "source": []
  }
 ],
 "metadata": {
  "kernelspec": {
   "display_name": "Python 3",
   "language": "python",
   "name": "python3"
  },
  "language_info": {
   "codemirror_mode": {
    "name": "ipython",
    "version": 3
   },
   "file_extension": ".py",
   "mimetype": "text/x-python",
   "name": "python",
   "nbconvert_exporter": "python",
   "pygments_lexer": "ipython3",
   "version": "3.7.5"
  }
 },
 "nbformat": 4,
 "nbformat_minor": 2
}
