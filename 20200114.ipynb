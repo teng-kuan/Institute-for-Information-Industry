{
 "cells": [
  {
   "cell_type": "markdown",
   "metadata": {},
   "source": [
    "目的:\n",
    "    這本筆記本的目的是處理空值,因為Price欄位和Mileage欄位都有空值\n",
    "\n",
    "方法:\n",
    "    使用的補空值方式是 RandomForestRegressor (from sklearn.ensemble import RandomForestRegressor)\n",
    "    用 LabelEncoder (from sklearn import preprocessing) 將 類別型態的資料轉成純數字 , 但是這樣會有順序問題(數字有大小,但類別之間其實\n",
    "    沒有大小關係)\n",
    "\n",
    "結論:\n",
    "    在 X 包含所有欄位(包括'Unnamed: 0'和'Title')的情況下 , 預測出來的 r平方最高 0.8125\n",
    "    去掉 'Unnamed: 0'和'Title' , 皆會造成 r 平方下降\n",
    "    標準化X的資料,可以讓 r平方 稍微上升, 從 0.7855 變成 0.7886"
   ]
  },
  {
   "cell_type": "code",
   "execution_count": 1,
   "metadata": {},
   "outputs": [],
   "source": [
    "import numpy as np\n",
    "import pandas as pd"
   ]
  },
  {
   "cell_type": "code",
   "execution_count": 2,
   "metadata": {},
   "outputs": [],
   "source": [
    "data = pd.read_csv('gurus_ML.csv')"
   ]
  },
  {
   "cell_type": "code",
   "execution_count": 3,
   "metadata": {},
   "outputs": [
    {
     "data": {
      "text/plain": [
       "Index(['Unnamed: 0', 'Title', 'Year', 'Brand', 'Location', 'State', 'Rental',\n",
       "       'Price', 'Mileage', 'Transmission', 'FuelType', 'Engine', 'Drivetrain',\n",
       "       'OptionCount', 'MajorOptions', 'Accident Check', 'OwnershipHistory'],\n",
       "      dtype='object')"
      ]
     },
     "execution_count": 3,
     "metadata": {},
     "output_type": "execute_result"
    }
   ],
   "source": [
    "data.columns"
   ]
  },
  {
   "cell_type": "markdown",
   "metadata": {},
   "source": [
    "------------------------"
   ]
  },
  {
   "cell_type": "markdown",
   "metadata": {},
   "source": [
    "### 1.把資料切成三份"
   ]
  },
  {
   "cell_type": "code",
   "execution_count": 4,
   "metadata": {},
   "outputs": [
    {
     "data": {
      "text/plain": [
       "0           True\n",
       "1           True\n",
       "2           True\n",
       "3           True\n",
       "4           True\n",
       "           ...  \n",
       "2088473    False\n",
       "2088474     True\n",
       "2088475    False\n",
       "2088476    False\n",
       "2088477    False\n",
       "Length: 2088478, dtype: bool"
      ]
     },
     "execution_count": 4,
     "metadata": {},
     "output_type": "execute_result"
    }
   ],
   "source": [
    "data.notnull().all(axis=1)"
   ]
  },
  {
   "cell_type": "code",
   "execution_count": 5,
   "metadata": {},
   "outputs": [],
   "source": [
    "data1 = data[data.notnull().all(axis=1)]\n",
    "# data1: 是每個欄位都有值的那些資料 , 之後會再被切割成兩份 ,一份訓練資料 ,一份測試資料"
   ]
  },
  {
   "cell_type": "code",
   "execution_count": 6,
   "metadata": {},
   "outputs": [
    {
     "data": {
      "text/plain": [
       "Unnamed: 0          0\n",
       "Title               0\n",
       "Year                0\n",
       "Brand               0\n",
       "Location            0\n",
       "State               0\n",
       "Rental              0\n",
       "Price               0\n",
       "Mileage             0\n",
       "Transmission        0\n",
       "FuelType            0\n",
       "Engine              0\n",
       "Drivetrain          0\n",
       "OptionCount         0\n",
       "MajorOptions        0\n",
       "Accident Check      0\n",
       "OwnershipHistory    0\n",
       "dtype: int64"
      ]
     },
     "execution_count": 6,
     "metadata": {},
     "output_type": "execute_result"
    }
   ],
   "source": [
    "data1.isnull().sum()"
   ]
  },
  {
   "cell_type": "code",
   "execution_count": 7,
   "metadata": {},
   "outputs": [
    {
     "data": {
      "text/plain": [
       "0          False\n",
       "1          False\n",
       "2          False\n",
       "3          False\n",
       "4          False\n",
       "           ...  \n",
       "2088473     True\n",
       "2088474    False\n",
       "2088475    False\n",
       "2088476    False\n",
       "2088477    False\n",
       "Name: Price, Length: 2088478, dtype: bool"
      ]
     },
     "execution_count": 7,
     "metadata": {},
     "output_type": "execute_result"
    }
   ],
   "source": [
    "data['Price'].isnull()"
   ]
  },
  {
   "cell_type": "code",
   "execution_count": 8,
   "metadata": {},
   "outputs": [],
   "source": [
    "data2 = data[data['Price'].isnull()]\n",
    "# data2 是價格為空值的那些資料 要被用來預測價格\n",
    "# 裡面每一筆資料 , Price 都是 NaN"
   ]
  },
  {
   "cell_type": "code",
   "execution_count": 9,
   "metadata": {},
   "outputs": [
    {
     "data": {
      "text/plain": [
       "0          False\n",
       "1          False\n",
       "2          False\n",
       "3          False\n",
       "4          False\n",
       "           ...  \n",
       "2088473    False\n",
       "2088474    False\n",
       "2088475     True\n",
       "2088476     True\n",
       "2088477     True\n",
       "Name: Mileage, Length: 2088478, dtype: bool"
      ]
     },
     "execution_count": 9,
     "metadata": {},
     "output_type": "execute_result"
    }
   ],
   "source": [
    "data['Mileage'].isnull()"
   ]
  },
  {
   "cell_type": "code",
   "execution_count": 10,
   "metadata": {},
   "outputs": [],
   "source": [
    "data3 = data[data['Mileage'].isnull()]\n",
    "# data3 是 Mileage 欄位是空值的那些資料\n",
    "#每一筆資料的 Mileage都是 NaN"
   ]
  },
  {
   "cell_type": "code",
   "execution_count": 11,
   "metadata": {},
   "outputs": [],
   "source": [
    "# 三份資料\n",
    "# data1 : 全部資料都有值,之後還要切成訓練和測試資料\n",
    "# data2 : Price 是空值的資料\n",
    "# data3 : Mileage 是空值的資料\n",
    "\n",
    "# 因為資料當中 , Price 和 Mileage 不會同時是空值, 所以 data2 和 data3 ,才不會出現兩個都是空值的狀況"
   ]
  },
  {
   "cell_type": "markdown",
   "metadata": {},
   "source": [
    "---------------------"
   ]
  },
  {
   "cell_type": "markdown",
   "metadata": {},
   "source": [
    "### 2.把類別資料轉成純數字"
   ]
  },
  {
   "cell_type": "code",
   "execution_count": 12,
   "metadata": {},
   "outputs": [],
   "source": [
    "from sklearn import preprocessing"
   ]
  },
  {
   "cell_type": "code",
   "execution_count": 13,
   "metadata": {},
   "outputs": [],
   "source": [
    "def transform_to_integer(i) :\n",
    "    le = preprocessing.LabelEncoder()\n",
    "    le.fit(data.iloc[:,i])\n",
    "    data1.iloc[:,i] = le.transform(data1.iloc[:,i])\n",
    "    data2.iloc[:,i] = le.transform(data2.iloc[:,i])\n",
    "    data3.iloc[:,i] = le.transform(data3.iloc[:,i])\n",
    "# 輸入 i 是 一個陣列 , 表示那些非數值型態的欄位"
   ]
  },
  {
   "cell_type": "code",
   "execution_count": 14,
   "metadata": {},
   "outputs": [],
   "source": [
    "# 因為上面已經將資料切成 3 份 , 所以做轉換時, data1, data2, data3 都要轉"
   ]
  },
  {
   "cell_type": "code",
   "execution_count": 15,
   "metadata": {},
   "outputs": [
    {
     "data": {
      "text/plain": [
       "Unnamed: 0            int64\n",
       "Title                object\n",
       "Year                  int64\n",
       "Brand                object\n",
       "Location             object\n",
       "State                object\n",
       "Rental                 bool\n",
       "Price               float64\n",
       "Mileage             float64\n",
       "Transmission         object\n",
       "FuelType             object\n",
       "Engine               object\n",
       "Drivetrain           object\n",
       "OptionCount           int64\n",
       "MajorOptions         object\n",
       "Accident Check      float64\n",
       "OwnershipHistory    float64\n",
       "dtype: object"
      ]
     },
     "execution_count": 15,
     "metadata": {},
     "output_type": "execute_result"
    }
   ],
   "source": [
    "data1.dtypes"
   ]
  },
  {
   "cell_type": "code",
   "execution_count": 16,
   "metadata": {},
   "outputs": [
    {
     "data": {
      "text/plain": [
       "Title           object\n",
       "Brand           object\n",
       "Location        object\n",
       "State           object\n",
       "Rental            bool\n",
       "Transmission    object\n",
       "FuelType        object\n",
       "Engine          object\n",
       "Drivetrain      object\n",
       "MajorOptions    object\n",
       "dtype: object"
      ]
     },
     "execution_count": 16,
     "metadata": {},
     "output_type": "execute_result"
    }
   ],
   "source": [
    "data1.iloc[:,[1,3,4,5,6,9,10,11,12,14]].dtypes"
   ]
  },
  {
   "cell_type": "code",
   "execution_count": 17,
   "metadata": {},
   "outputs": [],
   "source": [
    "notNumbers = [1,3,4,5,6,9,10,11,12,14]\n",
    "# 有哪些欄位不是數值型態"
   ]
  },
  {
   "cell_type": "code",
   "execution_count": 18,
   "metadata": {},
   "outputs": [
    {
     "data": {
      "text/plain": [
       "Title           object\n",
       "Brand           object\n",
       "Location        object\n",
       "State           object\n",
       "Rental            bool\n",
       "Transmission    object\n",
       "FuelType        object\n",
       "Engine          object\n",
       "Drivetrain      object\n",
       "MajorOptions    object\n",
       "dtype: object"
      ]
     },
     "execution_count": 18,
     "metadata": {},
     "output_type": "execute_result"
    }
   ],
   "source": [
    "data1.iloc[:,notNumbers].dtypes"
   ]
  },
  {
   "cell_type": "code",
   "execution_count": 19,
   "metadata": {},
   "outputs": [
    {
     "data": {
      "text/plain": [
       "Title           object\n",
       "Brand           object\n",
       "Location        object\n",
       "State           object\n",
       "Rental            bool\n",
       "Transmission    object\n",
       "FuelType        object\n",
       "Engine          object\n",
       "Drivetrain      object\n",
       "MajorOptions    object\n",
       "dtype: object"
      ]
     },
     "execution_count": 19,
     "metadata": {},
     "output_type": "execute_result"
    }
   ],
   "source": [
    "data2.iloc[:,notNumbers].dtypes"
   ]
  },
  {
   "cell_type": "code",
   "execution_count": 20,
   "metadata": {},
   "outputs": [
    {
     "data": {
      "text/plain": [
       "Title           object\n",
       "Brand           object\n",
       "Location        object\n",
       "State           object\n",
       "Rental            bool\n",
       "Transmission    object\n",
       "FuelType        object\n",
       "Engine          object\n",
       "Drivetrain      object\n",
       "MajorOptions    object\n",
       "dtype: object"
      ]
     },
     "execution_count": 20,
     "metadata": {},
     "output_type": "execute_result"
    }
   ],
   "source": [
    "data3.iloc[:,notNumbers].dtypes"
   ]
  },
  {
   "cell_type": "code",
   "execution_count": 21,
   "metadata": {},
   "outputs": [
    {
     "name": "stderr",
     "output_type": "stream",
     "text": [
      "c:\\program files\\python37\\lib\\site-packages\\pandas\\core\\indexing.py:494: SettingWithCopyWarning: \n",
      "A value is trying to be set on a copy of a slice from a DataFrame.\n",
      "Try using .loc[row_indexer,col_indexer] = value instead\n",
      "\n",
      "See the caveats in the documentation: http://pandas.pydata.org/pandas-docs/stable/user_guide/indexing.html#returning-a-view-versus-a-copy\n",
      "  self.obj[item] = s\n"
     ]
    }
   ],
   "source": [
    "for i in notNumbers:\n",
    "    transform_to_integer(i)"
   ]
  },
  {
   "cell_type": "code",
   "execution_count": 22,
   "metadata": {},
   "outputs": [
    {
     "data": {
      "text/plain": [
       "Unnamed: 0            int64\n",
       "Title                 int32\n",
       "Year                  int64\n",
       "Brand                 int32\n",
       "Location              int32\n",
       "State                 int32\n",
       "Rental                int64\n",
       "Price               float64\n",
       "Mileage             float64\n",
       "Transmission          int32\n",
       "FuelType              int32\n",
       "Engine                int32\n",
       "Drivetrain            int32\n",
       "OptionCount           int64\n",
       "MajorOptions          int32\n",
       "Accident Check      float64\n",
       "OwnershipHistory    float64\n",
       "dtype: object"
      ]
     },
     "execution_count": 22,
     "metadata": {},
     "output_type": "execute_result"
    }
   ],
   "source": [
    "data1.dtypes"
   ]
  },
  {
   "cell_type": "code",
   "execution_count": 23,
   "metadata": {},
   "outputs": [
    {
     "data": {
      "text/plain": [
       "Unnamed: 0            int64\n",
       "Title                 int32\n",
       "Year                  int64\n",
       "Brand                 int32\n",
       "Location              int32\n",
       "State                 int32\n",
       "Rental                int64\n",
       "Price               float64\n",
       "Mileage             float64\n",
       "Transmission          int32\n",
       "FuelType              int32\n",
       "Engine                int32\n",
       "Drivetrain            int32\n",
       "OptionCount           int64\n",
       "MajorOptions          int32\n",
       "Accident Check      float64\n",
       "OwnershipHistory    float64\n",
       "dtype: object"
      ]
     },
     "execution_count": 23,
     "metadata": {},
     "output_type": "execute_result"
    }
   ],
   "source": [
    "data2.dtypes"
   ]
  },
  {
   "cell_type": "code",
   "execution_count": 24,
   "metadata": {},
   "outputs": [
    {
     "data": {
      "text/plain": [
       "Unnamed: 0            int64\n",
       "Title                 int32\n",
       "Year                  int64\n",
       "Brand                 int32\n",
       "Location              int32\n",
       "State                 int32\n",
       "Rental                int64\n",
       "Price               float64\n",
       "Mileage             float64\n",
       "Transmission          int32\n",
       "FuelType              int32\n",
       "Engine                int32\n",
       "Drivetrain            int32\n",
       "OptionCount           int64\n",
       "MajorOptions          int32\n",
       "Accident Check      float64\n",
       "OwnershipHistory    float64\n",
       "dtype: object"
      ]
     },
     "execution_count": 24,
     "metadata": {},
     "output_type": "execute_result"
    }
   ],
   "source": [
    "data3.dtypes"
   ]
  },
  {
   "cell_type": "code",
   "execution_count": 25,
   "metadata": {},
   "outputs": [],
   "source": [
    "# 已確認 data1 , data2 ,data3 都已經轉成數值型態"
   ]
  },
  {
   "cell_type": "markdown",
   "metadata": {},
   "source": [
    "--------------------------------"
   ]
  },
  {
   "cell_type": "markdown",
   "metadata": {},
   "source": [
    "### 3. 將data1 切割成訓練和測試資料"
   ]
  },
  {
   "cell_type": "code",
   "execution_count": 26,
   "metadata": {},
   "outputs": [],
   "source": [
    "from sklearn.model_selection import train_test_split"
   ]
  },
  {
   "cell_type": "code",
   "execution_count": 27,
   "metadata": {},
   "outputs": [
    {
     "data": {
      "text/html": [
       "<div>\n",
       "<style scoped>\n",
       "    .dataframe tbody tr th:only-of-type {\n",
       "        vertical-align: middle;\n",
       "    }\n",
       "\n",
       "    .dataframe tbody tr th {\n",
       "        vertical-align: top;\n",
       "    }\n",
       "\n",
       "    .dataframe thead th {\n",
       "        text-align: right;\n",
       "    }\n",
       "</style>\n",
       "<table border=\"1\" class=\"dataframe\">\n",
       "  <thead>\n",
       "    <tr style=\"text-align: right;\">\n",
       "      <th></th>\n",
       "      <th>Unnamed: 0</th>\n",
       "      <th>Title</th>\n",
       "      <th>Year</th>\n",
       "      <th>Brand</th>\n",
       "      <th>Location</th>\n",
       "      <th>State</th>\n",
       "      <th>Rental</th>\n",
       "      <th>Price</th>\n",
       "      <th>Mileage</th>\n",
       "      <th>Transmission</th>\n",
       "      <th>FuelType</th>\n",
       "      <th>Engine</th>\n",
       "      <th>Drivetrain</th>\n",
       "      <th>OptionCount</th>\n",
       "      <th>MajorOptions</th>\n",
       "      <th>Accident Check</th>\n",
       "      <th>OwnershipHistory</th>\n",
       "    </tr>\n",
       "  </thead>\n",
       "  <tbody>\n",
       "    <tr>\n",
       "      <th>0</th>\n",
       "      <td>2</td>\n",
       "      <td>10461</td>\n",
       "      <td>2010</td>\n",
       "      <td>8</td>\n",
       "      <td>1976</td>\n",
       "      <td>15</td>\n",
       "      <td>0</td>\n",
       "      <td>15900.0</td>\n",
       "      <td>144000.0</td>\n",
       "      <td>42</td>\n",
       "      <td>4</td>\n",
       "      <td>28</td>\n",
       "      <td>2</td>\n",
       "      <td>2</td>\n",
       "      <td>187537</td>\n",
       "      <td>0.0</td>\n",
       "      <td>2.0</td>\n",
       "    </tr>\n",
       "    <tr>\n",
       "      <th>1</th>\n",
       "      <td>3</td>\n",
       "      <td>3183</td>\n",
       "      <td>2014</td>\n",
       "      <td>8</td>\n",
       "      <td>3100</td>\n",
       "      <td>24</td>\n",
       "      <td>0</td>\n",
       "      <td>49995.0</td>\n",
       "      <td>2500.0</td>\n",
       "      <td>32</td>\n",
       "      <td>4</td>\n",
       "      <td>28</td>\n",
       "      <td>4</td>\n",
       "      <td>5</td>\n",
       "      <td>9464</td>\n",
       "      <td>0.0</td>\n",
       "      <td>1.0</td>\n",
       "    </tr>\n",
       "    <tr>\n",
       "      <th>2</th>\n",
       "      <td>4</td>\n",
       "      <td>7065</td>\n",
       "      <td>2002</td>\n",
       "      <td>8</td>\n",
       "      <td>1382</td>\n",
       "      <td>12</td>\n",
       "      <td>0</td>\n",
       "      <td>3440.0</td>\n",
       "      <td>174000.0</td>\n",
       "      <td>42</td>\n",
       "      <td>4</td>\n",
       "      <td>22</td>\n",
       "      <td>3</td>\n",
       "      <td>2</td>\n",
       "      <td>41165</td>\n",
       "      <td>0.0</td>\n",
       "      <td>2.0</td>\n",
       "    </tr>\n",
       "    <tr>\n",
       "      <th>3</th>\n",
       "      <td>5</td>\n",
       "      <td>7062</td>\n",
       "      <td>2004</td>\n",
       "      <td>8</td>\n",
       "      <td>1382</td>\n",
       "      <td>12</td>\n",
       "      <td>0</td>\n",
       "      <td>4890.0</td>\n",
       "      <td>115500.0</td>\n",
       "      <td>42</td>\n",
       "      <td>4</td>\n",
       "      <td>22</td>\n",
       "      <td>3</td>\n",
       "      <td>1</td>\n",
       "      <td>187595</td>\n",
       "      <td>0.0</td>\n",
       "      <td>3.0</td>\n",
       "    </tr>\n",
       "    <tr>\n",
       "      <th>4</th>\n",
       "      <td>7</td>\n",
       "      <td>10273</td>\n",
       "      <td>2001</td>\n",
       "      <td>8</td>\n",
       "      <td>1382</td>\n",
       "      <td>12</td>\n",
       "      <td>0</td>\n",
       "      <td>6550.0</td>\n",
       "      <td>188583.0</td>\n",
       "      <td>42</td>\n",
       "      <td>4</td>\n",
       "      <td>28</td>\n",
       "      <td>4</td>\n",
       "      <td>3</td>\n",
       "      <td>127567</td>\n",
       "      <td>0.0</td>\n",
       "      <td>1.0</td>\n",
       "    </tr>\n",
       "  </tbody>\n",
       "</table>\n",
       "</div>"
      ],
      "text/plain": [
       "   Unnamed: 0  Title  Year  Brand  Location  State  Rental    Price   Mileage  \\\n",
       "0           2  10461  2010      8      1976     15       0  15900.0  144000.0   \n",
       "1           3   3183  2014      8      3100     24       0  49995.0    2500.0   \n",
       "2           4   7065  2002      8      1382     12       0   3440.0  174000.0   \n",
       "3           5   7062  2004      8      1382     12       0   4890.0  115500.0   \n",
       "4           7  10273  2001      8      1382     12       0   6550.0  188583.0   \n",
       "\n",
       "   Transmission  FuelType  Engine  Drivetrain  OptionCount  MajorOptions  \\\n",
       "0            42         4      28           2            2        187537   \n",
       "1            32         4      28           4            5          9464   \n",
       "2            42         4      22           3            2         41165   \n",
       "3            42         4      22           3            1        187595   \n",
       "4            42         4      28           4            3        127567   \n",
       "\n",
       "   Accident Check  OwnershipHistory  \n",
       "0             0.0               2.0  \n",
       "1             0.0               1.0  \n",
       "2             0.0               2.0  \n",
       "3             0.0               3.0  \n",
       "4             0.0               1.0  "
      ]
     },
     "execution_count": 27,
     "metadata": {},
     "output_type": "execute_result"
    }
   ],
   "source": [
    "data1.head()"
   ]
  },
  {
   "cell_type": "code",
   "execution_count": 28,
   "metadata": {},
   "outputs": [],
   "source": [
    "y1 = data1.iloc[:,7]\n",
    "# y 是 Price 欄位"
   ]
  },
  {
   "cell_type": "code",
   "execution_count": 29,
   "metadata": {},
   "outputs": [],
   "source": [
    "X1 = data1.drop(columns=['Unnamed: 0','Price'])\n",
    "# X是除了 Price 還有 Unnamed: 0 以外的欄位"
   ]
  },
  {
   "cell_type": "code",
   "execution_count": 30,
   "metadata": {},
   "outputs": [
    {
     "data": {
      "text/html": [
       "<div>\n",
       "<style scoped>\n",
       "    .dataframe tbody tr th:only-of-type {\n",
       "        vertical-align: middle;\n",
       "    }\n",
       "\n",
       "    .dataframe tbody tr th {\n",
       "        vertical-align: top;\n",
       "    }\n",
       "\n",
       "    .dataframe thead th {\n",
       "        text-align: right;\n",
       "    }\n",
       "</style>\n",
       "<table border=\"1\" class=\"dataframe\">\n",
       "  <thead>\n",
       "    <tr style=\"text-align: right;\">\n",
       "      <th></th>\n",
       "      <th>Title</th>\n",
       "      <th>Year</th>\n",
       "      <th>Brand</th>\n",
       "      <th>Location</th>\n",
       "      <th>State</th>\n",
       "      <th>Rental</th>\n",
       "      <th>Mileage</th>\n",
       "      <th>Transmission</th>\n",
       "      <th>FuelType</th>\n",
       "      <th>Engine</th>\n",
       "      <th>Drivetrain</th>\n",
       "      <th>OptionCount</th>\n",
       "      <th>MajorOptions</th>\n",
       "      <th>Accident Check</th>\n",
       "      <th>OwnershipHistory</th>\n",
       "    </tr>\n",
       "  </thead>\n",
       "  <tbody>\n",
       "    <tr>\n",
       "      <th>0</th>\n",
       "      <td>10461</td>\n",
       "      <td>2010</td>\n",
       "      <td>8</td>\n",
       "      <td>1976</td>\n",
       "      <td>15</td>\n",
       "      <td>0</td>\n",
       "      <td>144000.0</td>\n",
       "      <td>42</td>\n",
       "      <td>4</td>\n",
       "      <td>28</td>\n",
       "      <td>2</td>\n",
       "      <td>2</td>\n",
       "      <td>187537</td>\n",
       "      <td>0.0</td>\n",
       "      <td>2.0</td>\n",
       "    </tr>\n",
       "    <tr>\n",
       "      <th>1</th>\n",
       "      <td>3183</td>\n",
       "      <td>2014</td>\n",
       "      <td>8</td>\n",
       "      <td>3100</td>\n",
       "      <td>24</td>\n",
       "      <td>0</td>\n",
       "      <td>2500.0</td>\n",
       "      <td>32</td>\n",
       "      <td>4</td>\n",
       "      <td>28</td>\n",
       "      <td>4</td>\n",
       "      <td>5</td>\n",
       "      <td>9464</td>\n",
       "      <td>0.0</td>\n",
       "      <td>1.0</td>\n",
       "    </tr>\n",
       "    <tr>\n",
       "      <th>2</th>\n",
       "      <td>7065</td>\n",
       "      <td>2002</td>\n",
       "      <td>8</td>\n",
       "      <td>1382</td>\n",
       "      <td>12</td>\n",
       "      <td>0</td>\n",
       "      <td>174000.0</td>\n",
       "      <td>42</td>\n",
       "      <td>4</td>\n",
       "      <td>22</td>\n",
       "      <td>3</td>\n",
       "      <td>2</td>\n",
       "      <td>41165</td>\n",
       "      <td>0.0</td>\n",
       "      <td>2.0</td>\n",
       "    </tr>\n",
       "    <tr>\n",
       "      <th>3</th>\n",
       "      <td>7062</td>\n",
       "      <td>2004</td>\n",
       "      <td>8</td>\n",
       "      <td>1382</td>\n",
       "      <td>12</td>\n",
       "      <td>0</td>\n",
       "      <td>115500.0</td>\n",
       "      <td>42</td>\n",
       "      <td>4</td>\n",
       "      <td>22</td>\n",
       "      <td>3</td>\n",
       "      <td>1</td>\n",
       "      <td>187595</td>\n",
       "      <td>0.0</td>\n",
       "      <td>3.0</td>\n",
       "    </tr>\n",
       "    <tr>\n",
       "      <th>4</th>\n",
       "      <td>10273</td>\n",
       "      <td>2001</td>\n",
       "      <td>8</td>\n",
       "      <td>1382</td>\n",
       "      <td>12</td>\n",
       "      <td>0</td>\n",
       "      <td>188583.0</td>\n",
       "      <td>42</td>\n",
       "      <td>4</td>\n",
       "      <td>28</td>\n",
       "      <td>4</td>\n",
       "      <td>3</td>\n",
       "      <td>127567</td>\n",
       "      <td>0.0</td>\n",
       "      <td>1.0</td>\n",
       "    </tr>\n",
       "  </tbody>\n",
       "</table>\n",
       "</div>"
      ],
      "text/plain": [
       "   Title  Year  Brand  Location  State  Rental   Mileage  Transmission  \\\n",
       "0  10461  2010      8      1976     15       0  144000.0            42   \n",
       "1   3183  2014      8      3100     24       0    2500.0            32   \n",
       "2   7065  2002      8      1382     12       0  174000.0            42   \n",
       "3   7062  2004      8      1382     12       0  115500.0            42   \n",
       "4  10273  2001      8      1382     12       0  188583.0            42   \n",
       "\n",
       "   FuelType  Engine  Drivetrain  OptionCount  MajorOptions  Accident Check  \\\n",
       "0         4      28           2            2        187537             0.0   \n",
       "1         4      28           4            5          9464             0.0   \n",
       "2         4      22           3            2         41165             0.0   \n",
       "3         4      22           3            1        187595             0.0   \n",
       "4         4      28           4            3        127567             0.0   \n",
       "\n",
       "   OwnershipHistory  \n",
       "0               2.0  \n",
       "1               1.0  \n",
       "2               2.0  \n",
       "3               3.0  \n",
       "4               1.0  "
      ]
     },
     "execution_count": 30,
     "metadata": {},
     "output_type": "execute_result"
    }
   ],
   "source": [
    "X1.head()"
   ]
  },
  {
   "cell_type": "code",
   "execution_count": 31,
   "metadata": {},
   "outputs": [],
   "source": [
    "X1_train, X1_test, y1_train, y1_test = train_test_split(\n",
    "    X1, y1, test_size=0.3, random_state=1)"
   ]
  },
  {
   "cell_type": "code",
   "execution_count": 32,
   "metadata": {},
   "outputs": [
    {
     "data": {
      "text/plain": [
       "1012878    38517.0\n",
       "1406891    15980.0\n",
       "1380855     9500.0\n",
       "601250     33990.0\n",
       "1761264    13171.0\n",
       "            ...   \n",
       "519797     57990.0\n",
       "1936445    18997.0\n",
       "496761     24898.0\n",
       "520322      9777.0\n",
       "132713     32995.0\n",
       "Name: Price, Length: 1389857, dtype: float64"
      ]
     },
     "execution_count": 32,
     "metadata": {},
     "output_type": "execute_result"
    }
   ],
   "source": [
    "y1_train"
   ]
  },
  {
   "cell_type": "code",
   "execution_count": null,
   "metadata": {},
   "outputs": [],
   "source": [
    "# 已經將 data1 切割成訓練和測試資料\n",
    "# 訓練資料 : X1_train , y1_train\n",
    "# 測試資料 : X1_test , y1_test"
   ]
  },
  {
   "cell_type": "code",
   "execution_count": null,
   "metadata": {},
   "outputs": [],
   "source": []
  },
  {
   "cell_type": "markdown",
   "metadata": {},
   "source": [
    "----------------------------------"
   ]
  },
  {
   "cell_type": "markdown",
   "metadata": {},
   "source": [
    "### 4. 使用隨機森林迴歸 ,估計 Price"
   ]
  },
  {
   "cell_type": "code",
   "execution_count": 33,
   "metadata": {},
   "outputs": [],
   "source": [
    "from sklearn.ensemble import RandomForestRegressor"
   ]
  },
  {
   "cell_type": "code",
   "execution_count": 34,
   "metadata": {},
   "outputs": [],
   "source": [
    "model = RandomForestRegressor(n_estimators=10, criterion='mse', random_state=0)"
   ]
  },
  {
   "cell_type": "code",
   "execution_count": 35,
   "metadata": {},
   "outputs": [
    {
     "data": {
      "text/plain": [
       "RandomForestRegressor(bootstrap=True, criterion='mse', max_depth=None,\n",
       "                      max_features='auto', max_leaf_nodes=None,\n",
       "                      min_impurity_decrease=0.0, min_impurity_split=None,\n",
       "                      min_samples_leaf=1, min_samples_split=2,\n",
       "                      min_weight_fraction_leaf=0.0, n_estimators=10,\n",
       "                      n_jobs=None, oob_score=False, random_state=0, verbose=0,\n",
       "                      warm_start=False)"
      ]
     },
     "execution_count": 35,
     "metadata": {},
     "output_type": "execute_result"
    }
   ],
   "source": [
    "model.fit(X1_train, y1_train)"
   ]
  },
  {
   "cell_type": "code",
   "execution_count": null,
   "metadata": {},
   "outputs": [],
   "source": [
    "model.predict(X1_test)"
   ]
  },
  {
   "cell_type": "code",
   "execution_count": null,
   "metadata": {},
   "outputs": [],
   "source": [
    "y1_pred = model.predict(X1_test)"
   ]
  },
  {
   "cell_type": "code",
   "execution_count": null,
   "metadata": {},
   "outputs": [],
   "source": []
  },
  {
   "cell_type": "code",
   "execution_count": null,
   "metadata": {},
   "outputs": [],
   "source": [
    "from sklearn.metrics import r2_score"
   ]
  },
  {
   "cell_type": "code",
   "execution_count": null,
   "metadata": {},
   "outputs": [],
   "source": [
    "r2_score(y1_test, y1_pred)"
   ]
  },
  {
   "cell_type": "code",
   "execution_count": null,
   "metadata": {},
   "outputs": [],
   "source": [
    "y1_train_pred = model.predict(X1_train)"
   ]
  },
  {
   "cell_type": "code",
   "execution_count": null,
   "metadata": {},
   "outputs": [],
   "source": [
    "r2_score(y1_train, y1_train_pred)"
   ]
  },
  {
   "cell_type": "code",
   "execution_count": null,
   "metadata": {},
   "outputs": [],
   "source": [
    "# 假如讓模型來預測訓練資料 , 也就是 model.predict(X1_train) , 最後的 r平方 會來到 0.954008578414598\n",
    "# 而如果是以測試資料來做預測 , 也就是 model.predict(X1_test) , 最後的 r 平方 為 0.8125239744153182\n",
    "# 有過度擬合的狀況"
   ]
  },
  {
   "cell_type": "code",
   "execution_count": null,
   "metadata": {},
   "outputs": [],
   "source": [
    "# 2020/01/14 , 將 Unnamed: 0 欄位去掉 , 再去訓練模型 ,最終 r2 score 反而下降了\n",
    "# 訓練資料的 r平方 : 0.948170737806687\n",
    "# 測試資料的 r平方 : 0.7855675609751235"
   ]
  },
  {
   "cell_type": "code",
   "execution_count": null,
   "metadata": {},
   "outputs": [],
   "source": []
  },
  {
   "cell_type": "markdown",
   "metadata": {},
   "source": [
    "-------------------------------------------"
   ]
  },
  {
   "cell_type": "markdown",
   "metadata": {},
   "source": [
    "### 5.對 X 和 y 做標準化後,再訓練模型"
   ]
  },
  {
   "cell_type": "code",
   "execution_count": null,
   "metadata": {},
   "outputs": [],
   "source": [
    "from sklearn.preprocessing import StandardScaler"
   ]
  },
  {
   "cell_type": "code",
   "execution_count": null,
   "metadata": {},
   "outputs": [],
   "source": [
    "stdsc = StandardScaler()"
   ]
  },
  {
   "cell_type": "code",
   "execution_count": null,
   "metadata": {},
   "outputs": [],
   "source": [
    "X1_train_std = stdsc.fit_transform(X1_train)"
   ]
  },
  {
   "cell_type": "code",
   "execution_count": null,
   "metadata": {},
   "outputs": [],
   "source": [
    "X1_test_std = stdsc.transform(X1_test)"
   ]
  },
  {
   "cell_type": "code",
   "execution_count": null,
   "metadata": {},
   "outputs": [],
   "source": [
    "# y1_train_std = stdsc.fit_transform(y1_train)\n",
    "# y1_test_std = stdsc.transform(y1_test)\n",
    "# 因為 欄位(shape) 不同 , 不能用 X1_train fit出來的 stdsc 來 transform y1"
   ]
  },
  {
   "cell_type": "code",
   "execution_count": null,
   "metadata": {},
   "outputs": [],
   "source": [
    "model_std = RandomForestRegressor(n_estimators=10, criterion='mse', random_state=0)"
   ]
  },
  {
   "cell_type": "code",
   "execution_count": null,
   "metadata": {},
   "outputs": [],
   "source": [
    "model_std.fit(X1_train_std, y1_train)"
   ]
  },
  {
   "cell_type": "code",
   "execution_count": null,
   "metadata": {},
   "outputs": [],
   "source": [
    "model_std.predict(X1_test_std)"
   ]
  },
  {
   "cell_type": "code",
   "execution_count": null,
   "metadata": {},
   "outputs": [],
   "source": [
    "y1_pred_std = model_std.predict(X1_test_std)"
   ]
  },
  {
   "cell_type": "code",
   "execution_count": null,
   "metadata": {},
   "outputs": [],
   "source": []
  },
  {
   "cell_type": "code",
   "execution_count": null,
   "metadata": {},
   "outputs": [],
   "source": [
    "r2_score(y1_test, y1_pred_std)"
   ]
  },
  {
   "cell_type": "code",
   "execution_count": null,
   "metadata": {},
   "outputs": [],
   "source": [
    "y1_train_pred_std = model_std.predict(X1_train_std)"
   ]
  },
  {
   "cell_type": "code",
   "execution_count": null,
   "metadata": {},
   "outputs": [],
   "source": [
    "r2_score(y1_train, y1_train_pred_std)"
   ]
  },
  {
   "cell_type": "code",
   "execution_count": null,
   "metadata": {},
   "outputs": [],
   "source": [
    "# 標準化後 , 測試數據的 r 平方 差不多 , 標準化後的 r 平方為 0.7886964137618209\n",
    "# 訓練數據的 r 平方 為 0.9479330625265767"
   ]
  },
  {
   "cell_type": "code",
   "execution_count": null,
   "metadata": {},
   "outputs": [],
   "source": []
  },
  {
   "cell_type": "markdown",
   "metadata": {},
   "source": [
    "------------------------------------------"
   ]
  },
  {
   "cell_type": "markdown",
   "metadata": {},
   "source": [
    "### 6.將 Title 欄位拿掉 , 再去做訓練"
   ]
  },
  {
   "cell_type": "code",
   "execution_count": null,
   "metadata": {},
   "outputs": [],
   "source": [
    "y1 = data1.iloc[:,7]\n",
    "X1_no_title = data1.drop(columns=['Unnamed: 0','Title','Price'])"
   ]
  },
  {
   "cell_type": "code",
   "execution_count": null,
   "metadata": {},
   "outputs": [],
   "source": [
    "X1_no_title_train, X1_no_title_test, y1_train, y1_test = train_test_split(\n",
    "    X1_no_title, y1, test_size=0.3, random_state=1)"
   ]
  },
  {
   "cell_type": "code",
   "execution_count": null,
   "metadata": {},
   "outputs": [],
   "source": [
    "model2 = RandomForestRegressor(n_estimators=10, criterion='mse', random_state=0)"
   ]
  },
  {
   "cell_type": "code",
   "execution_count": null,
   "metadata": {},
   "outputs": [],
   "source": [
    "model2.fit(X1_no_title_train, y1_train)"
   ]
  },
  {
   "cell_type": "code",
   "execution_count": null,
   "metadata": {},
   "outputs": [],
   "source": [
    "y1_no_title_pred = model2.predict(X1_no_title_test)"
   ]
  },
  {
   "cell_type": "code",
   "execution_count": null,
   "metadata": {},
   "outputs": [],
   "source": [
    "r2_score(y1_test,y1_no_title_pred)"
   ]
  },
  {
   "cell_type": "code",
   "execution_count": null,
   "metadata": {},
   "outputs": [],
   "source": [
    "# 將 Title 拿掉後 , r平方和不拿掉 Title 差不多,仍然是 0.78 (0.7825372518881237)"
   ]
  },
  {
   "cell_type": "code",
   "execution_count": null,
   "metadata": {},
   "outputs": [],
   "source": [
    "y1_no_title_train_pred = model2.predict(X1_no_title_train) #用訓練資料 predict"
   ]
  },
  {
   "cell_type": "code",
   "execution_count": null,
   "metadata": {},
   "outputs": [],
   "source": [
    "r2_score(y1_train, y1_no_title_train_pred)"
   ]
  },
  {
   "cell_type": "code",
   "execution_count": null,
   "metadata": {},
   "outputs": [],
   "source": []
  }
 ],
 "metadata": {
  "kernelspec": {
   "display_name": "Python 3",
   "language": "python",
   "name": "python3"
  },
  "language_info": {
   "codemirror_mode": {
    "name": "ipython",
    "version": 3
   },
   "file_extension": ".py",
   "mimetype": "text/x-python",
   "name": "python",
   "nbconvert_exporter": "python",
   "pygments_lexer": "ipython3",
   "version": "3.7.5"
  }
 },
 "nbformat": 4,
 "nbformat_minor": 2
}
