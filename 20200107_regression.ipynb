{
 "cells": [
  {
   "cell_type": "markdown",
   "metadata": {},
   "source": [
    "### 補空值用"
   ]
  },
  {
   "cell_type": "code",
   "execution_count": 48,
   "metadata": {},
   "outputs": [],
   "source": [
    "import numpy as np\n",
    "import pandas as pd"
   ]
  },
  {
   "cell_type": "code",
   "execution_count": 49,
   "metadata": {},
   "outputs": [],
   "source": [
    "import matplotlib.pyplot as plt\n",
    "import seaborn as sns"
   ]
  },
  {
   "cell_type": "code",
   "execution_count": 50,
   "metadata": {},
   "outputs": [],
   "source": [
    "data = pd.read_csv('gurus_ML.csv')"
   ]
  },
  {
   "cell_type": "code",
   "execution_count": 51,
   "metadata": {},
   "outputs": [
    {
     "data": {
      "text/html": [
       "<div>\n",
       "<style scoped>\n",
       "    .dataframe tbody tr th:only-of-type {\n",
       "        vertical-align: middle;\n",
       "    }\n",
       "\n",
       "    .dataframe tbody tr th {\n",
       "        vertical-align: top;\n",
       "    }\n",
       "\n",
       "    .dataframe thead th {\n",
       "        text-align: right;\n",
       "    }\n",
       "</style>\n",
       "<table border=\"1\" class=\"dataframe\">\n",
       "  <thead>\n",
       "    <tr style=\"text-align: right;\">\n",
       "      <th></th>\n",
       "      <th>Unnamed: 0</th>\n",
       "      <th>Title</th>\n",
       "      <th>Year</th>\n",
       "      <th>Brand</th>\n",
       "      <th>Location</th>\n",
       "      <th>State</th>\n",
       "      <th>Rental</th>\n",
       "      <th>Price</th>\n",
       "      <th>Mileage</th>\n",
       "      <th>Transmission</th>\n",
       "      <th>FuelType</th>\n",
       "      <th>Engine</th>\n",
       "      <th>Drivetrain</th>\n",
       "      <th>OptionCount</th>\n",
       "      <th>MajorOptions</th>\n",
       "      <th>Accident Check</th>\n",
       "      <th>OwnershipHistory</th>\n",
       "    </tr>\n",
       "  </thead>\n",
       "  <tbody>\n",
       "    <tr>\n",
       "      <th>0</th>\n",
       "      <td>2</td>\n",
       "      <td>Silverado 2500HD Work Truck Extended Cab LB 4WD</td>\n",
       "      <td>2010</td>\n",
       "      <td>Chevrolet</td>\n",
       "      <td>Frankfort</td>\n",
       "      <td>KY</td>\n",
       "      <td>False</td>\n",
       "      <td>15900.0</td>\n",
       "      <td>144000.0</td>\n",
       "      <td>Automatic</td>\n",
       "      <td>Gasoline</td>\n",
       "      <td>V8</td>\n",
       "      <td>Four-Wheel Drive</td>\n",
       "      <td>2</td>\n",
       "      <td>['Steel Wheels', 'Tow Package']</td>\n",
       "      <td>0.0</td>\n",
       "      <td>2.0</td>\n",
       "    </tr>\n",
       "    <tr>\n",
       "      <th>1</th>\n",
       "      <td>3</td>\n",
       "      <td>Corvette Stingray 3LT Coupe RWD</td>\n",
       "      <td>2014</td>\n",
       "      <td>Chevrolet</td>\n",
       "      <td>Lewistown</td>\n",
       "      <td>MT</td>\n",
       "      <td>False</td>\n",
       "      <td>49995.0</td>\n",
       "      <td>2500.0</td>\n",
       "      <td>7-Speed Manual</td>\n",
       "      <td>Gasoline</td>\n",
       "      <td>V8</td>\n",
       "      <td>Rear-Wheel Drive</td>\n",
       "      <td>5</td>\n",
       "      <td>['Bluetooth', 'Backup Camera', 'Aluminum Wheel...</td>\n",
       "      <td>0.0</td>\n",
       "      <td>1.0</td>\n",
       "    </tr>\n",
       "    <tr>\n",
       "      <th>2</th>\n",
       "      <td>4</td>\n",
       "      <td>Monte Carlo SS FWD</td>\n",
       "      <td>2002</td>\n",
       "      <td>Chevrolet</td>\n",
       "      <td>Delavan</td>\n",
       "      <td>IL</td>\n",
       "      <td>False</td>\n",
       "      <td>3440.0</td>\n",
       "      <td>174000.0</td>\n",
       "      <td>Automatic</td>\n",
       "      <td>Gasoline</td>\n",
       "      <td>V6</td>\n",
       "      <td>Front-Wheel Drive</td>\n",
       "      <td>2</td>\n",
       "      <td>['Leather Seats', 'Aluminum Wheels']</td>\n",
       "      <td>0.0</td>\n",
       "      <td>2.0</td>\n",
       "    </tr>\n",
       "    <tr>\n",
       "      <th>3</th>\n",
       "      <td>5</td>\n",
       "      <td>Monte Carlo LS FWD</td>\n",
       "      <td>2004</td>\n",
       "      <td>Chevrolet</td>\n",
       "      <td>Delavan</td>\n",
       "      <td>IL</td>\n",
       "      <td>False</td>\n",
       "      <td>4890.0</td>\n",
       "      <td>115500.0</td>\n",
       "      <td>Automatic</td>\n",
       "      <td>Gasoline</td>\n",
       "      <td>V6</td>\n",
       "      <td>Front-Wheel Drive</td>\n",
       "      <td>1</td>\n",
       "      <td>['Steel Wheels']</td>\n",
       "      <td>0.0</td>\n",
       "      <td>3.0</td>\n",
       "    </tr>\n",
       "    <tr>\n",
       "      <th>4</th>\n",
       "      <td>7</td>\n",
       "      <td>Silverado 1500 LT Extended Cab RWD</td>\n",
       "      <td>2001</td>\n",
       "      <td>Chevrolet</td>\n",
       "      <td>Delavan</td>\n",
       "      <td>IL</td>\n",
       "      <td>False</td>\n",
       "      <td>6550.0</td>\n",
       "      <td>188583.0</td>\n",
       "      <td>Automatic</td>\n",
       "      <td>Gasoline</td>\n",
       "      <td>V8</td>\n",
       "      <td>Rear-Wheel Drive</td>\n",
       "      <td>3</td>\n",
       "      <td>['Leather Seats', 'Suspension Package', 'Alumi...</td>\n",
       "      <td>0.0</td>\n",
       "      <td>1.0</td>\n",
       "    </tr>\n",
       "  </tbody>\n",
       "</table>\n",
       "</div>"
      ],
      "text/plain": [
       "   Unnamed: 0                                            Title  Year  \\\n",
       "0           2  Silverado 2500HD Work Truck Extended Cab LB 4WD  2010   \n",
       "1           3                  Corvette Stingray 3LT Coupe RWD  2014   \n",
       "2           4                               Monte Carlo SS FWD  2002   \n",
       "3           5                               Monte Carlo LS FWD  2004   \n",
       "4           7               Silverado 1500 LT Extended Cab RWD  2001   \n",
       "\n",
       "       Brand   Location State  Rental    Price   Mileage    Transmission  \\\n",
       "0  Chevrolet  Frankfort    KY   False  15900.0  144000.0       Automatic   \n",
       "1  Chevrolet  Lewistown    MT   False  49995.0    2500.0  7-Speed Manual   \n",
       "2  Chevrolet    Delavan    IL   False   3440.0  174000.0       Automatic   \n",
       "3  Chevrolet    Delavan    IL   False   4890.0  115500.0       Automatic   \n",
       "4  Chevrolet    Delavan    IL   False   6550.0  188583.0       Automatic   \n",
       "\n",
       "   FuelType Engine         Drivetrain  OptionCount  \\\n",
       "0  Gasoline     V8   Four-Wheel Drive            2   \n",
       "1  Gasoline     V8   Rear-Wheel Drive            5   \n",
       "2  Gasoline     V6  Front-Wheel Drive            2   \n",
       "3  Gasoline     V6  Front-Wheel Drive            1   \n",
       "4  Gasoline     V8   Rear-Wheel Drive            3   \n",
       "\n",
       "                                        MajorOptions  Accident Check  \\\n",
       "0                    ['Steel Wheels', 'Tow Package']             0.0   \n",
       "1  ['Bluetooth', 'Backup Camera', 'Aluminum Wheel...             0.0   \n",
       "2               ['Leather Seats', 'Aluminum Wheels']             0.0   \n",
       "3                                   ['Steel Wheels']             0.0   \n",
       "4  ['Leather Seats', 'Suspension Package', 'Alumi...             0.0   \n",
       "\n",
       "   OwnershipHistory  \n",
       "0               2.0  \n",
       "1               1.0  \n",
       "2               2.0  \n",
       "3               3.0  \n",
       "4               1.0  "
      ]
     },
     "execution_count": 51,
     "metadata": {},
     "output_type": "execute_result"
    }
   ],
   "source": [
    "data.head()"
   ]
  },
  {
   "cell_type": "code",
   "execution_count": 52,
   "metadata": {},
   "outputs": [
    {
     "data": {
      "text/plain": [
       "Index(['Unnamed: 0', 'Title', 'Year', 'Brand', 'Location', 'State', 'Rental',\n",
       "       'Price', 'Mileage', 'Transmission', 'FuelType', 'Engine', 'Drivetrain',\n",
       "       'OptionCount', 'MajorOptions', 'Accident Check', 'OwnershipHistory'],\n",
       "      dtype='object')"
      ]
     },
     "execution_count": 52,
     "metadata": {},
     "output_type": "execute_result"
    }
   ],
   "source": [
    "data.columns"
   ]
  },
  {
   "cell_type": "code",
   "execution_count": null,
   "metadata": {},
   "outputs": [],
   "source": []
  },
  {
   "cell_type": "code",
   "execution_count": 53,
   "metadata": {},
   "outputs": [],
   "source": [
    "# Price 和 Mileage 欄位有空值, 把資料分開 , Price有空值的分一份 , Mileage 有空值的分一份\n",
    "# 完全沒空值的分一份 (資料中 , Price 和 Mileage 至少會有一個有值,不會有兩個空值)"
   ]
  },
  {
   "cell_type": "code",
   "execution_count": 54,
   "metadata": {},
   "outputs": [],
   "source": [
    "price_empty = data['Price'].isnull()"
   ]
  },
  {
   "cell_type": "code",
   "execution_count": 55,
   "metadata": {},
   "outputs": [],
   "source": [
    "y_need_pred = data[price_empty].iloc[:,7]\n",
    "# y_need_pred 全為 NaN"
   ]
  },
  {
   "cell_type": "code",
   "execution_count": 56,
   "metadata": {},
   "outputs": [],
   "source": [
    "X_need_pred = data[price_empty].iloc[:,[2,8,13,15,16]]\n",
    "# X_need_pred 是那些 price 是空值的資料"
   ]
  },
  {
   "cell_type": "code",
   "execution_count": 57,
   "metadata": {},
   "outputs": [
    {
     "data": {
      "text/html": [
       "<div>\n",
       "<style scoped>\n",
       "    .dataframe tbody tr th:only-of-type {\n",
       "        vertical-align: middle;\n",
       "    }\n",
       "\n",
       "    .dataframe tbody tr th {\n",
       "        vertical-align: top;\n",
       "    }\n",
       "\n",
       "    .dataframe thead th {\n",
       "        text-align: right;\n",
       "    }\n",
       "</style>\n",
       "<table border=\"1\" class=\"dataframe\">\n",
       "  <thead>\n",
       "    <tr style=\"text-align: right;\">\n",
       "      <th></th>\n",
       "      <th>Year</th>\n",
       "      <th>Mileage</th>\n",
       "      <th>OptionCount</th>\n",
       "      <th>Accident Check</th>\n",
       "      <th>OwnershipHistory</th>\n",
       "    </tr>\n",
       "  </thead>\n",
       "  <tbody>\n",
       "    <tr>\n",
       "      <th>28</th>\n",
       "      <td>2008</td>\n",
       "      <td>98056.0</td>\n",
       "      <td>1</td>\n",
       "      <td>0.0</td>\n",
       "      <td>1.0</td>\n",
       "    </tr>\n",
       "    <tr>\n",
       "      <th>29</th>\n",
       "      <td>2007</td>\n",
       "      <td>94225.0</td>\n",
       "      <td>2</td>\n",
       "      <td>0.0</td>\n",
       "      <td>2.0</td>\n",
       "    </tr>\n",
       "    <tr>\n",
       "      <th>50</th>\n",
       "      <td>2004</td>\n",
       "      <td>789.0</td>\n",
       "      <td>0</td>\n",
       "      <td>0.0</td>\n",
       "      <td>3.0</td>\n",
       "    </tr>\n",
       "    <tr>\n",
       "      <th>63</th>\n",
       "      <td>2013</td>\n",
       "      <td>44927.0</td>\n",
       "      <td>2</td>\n",
       "      <td>0.0</td>\n",
       "      <td>2.0</td>\n",
       "    </tr>\n",
       "    <tr>\n",
       "      <th>64</th>\n",
       "      <td>2012</td>\n",
       "      <td>66175.0</td>\n",
       "      <td>6</td>\n",
       "      <td>0.0</td>\n",
       "      <td>4.0</td>\n",
       "    </tr>\n",
       "  </tbody>\n",
       "</table>\n",
       "</div>"
      ],
      "text/plain": [
       "    Year  Mileage  OptionCount  Accident Check  OwnershipHistory\n",
       "28  2008  98056.0            1             0.0               1.0\n",
       "29  2007  94225.0            2             0.0               2.0\n",
       "50  2004    789.0            0             0.0               3.0\n",
       "63  2013  44927.0            2             0.0               2.0\n",
       "64  2012  66175.0            6             0.0               4.0"
      ]
     },
     "execution_count": 57,
     "metadata": {},
     "output_type": "execute_result"
    }
   ],
   "source": [
    "X_need_pred.head()"
   ]
  },
  {
   "cell_type": "code",
   "execution_count": 58,
   "metadata": {},
   "outputs": [
    {
     "data": {
      "text/plain": [
       "0          False\n",
       "1          False\n",
       "2          False\n",
       "3          False\n",
       "4          False\n",
       "           ...  \n",
       "2088473     True\n",
       "2088474    False\n",
       "2088475    False\n",
       "2088476    False\n",
       "2088477    False\n",
       "Name: Price, Length: 2088478, dtype: bool"
      ]
     },
     "execution_count": 58,
     "metadata": {},
     "output_type": "execute_result"
    }
   ],
   "source": [
    "data['Price'].isnull()"
   ]
  },
  {
   "cell_type": "code",
   "execution_count": 59,
   "metadata": {},
   "outputs": [
    {
     "data": {
      "text/plain": [
       "0           True\n",
       "1           True\n",
       "2           True\n",
       "3           True\n",
       "4           True\n",
       "           ...  \n",
       "2088473    False\n",
       "2088474     True\n",
       "2088475    False\n",
       "2088476    False\n",
       "2088477    False\n",
       "Length: 2088478, dtype: bool"
      ]
     },
     "execution_count": 59,
     "metadata": {},
     "output_type": "execute_result"
    }
   ],
   "source": [
    "data.notnull().all(axis=1)"
   ]
  },
  {
   "cell_type": "code",
   "execution_count": 60,
   "metadata": {},
   "outputs": [
    {
     "data": {
      "text/plain": [
       "0          True\n",
       "1          True\n",
       "2          True\n",
       "3          True\n",
       "4          True\n",
       "           ... \n",
       "2088473    True\n",
       "2088474    True\n",
       "2088475    True\n",
       "2088476    True\n",
       "2088477    True\n",
       "Length: 2088478, dtype: bool"
      ]
     },
     "execution_count": 60,
     "metadata": {},
     "output_type": "execute_result"
    }
   ],
   "source": [
    "data.notnull().any(axis=1)"
   ]
  },
  {
   "cell_type": "code",
   "execution_count": 61,
   "metadata": {},
   "outputs": [],
   "source": [
    "both_has = data.notnull().all(axis=1)"
   ]
  },
  {
   "cell_type": "code",
   "execution_count": 62,
   "metadata": {},
   "outputs": [],
   "source": [
    "y_train = data[both_has].iloc[:,7]"
   ]
  },
  {
   "cell_type": "code",
   "execution_count": 63,
   "metadata": {},
   "outputs": [],
   "source": [
    "X_train = data[both_has].iloc[:,[2,8,13,15,16]]"
   ]
  },
  {
   "cell_type": "code",
   "execution_count": 64,
   "metadata": {},
   "outputs": [],
   "source": [
    "# X_train 和 y_train 裡的資料,都是 Price 和 Mileage 皆\"非\"空值 ,因為他們是要丟進模型訓練 ,不能有空值"
   ]
  },
  {
   "cell_type": "code",
   "execution_count": 65,
   "metadata": {},
   "outputs": [
    {
     "data": {
      "text/plain": [
       "True"
      ]
     },
     "execution_count": 65,
     "metadata": {},
     "output_type": "execute_result"
    }
   ],
   "source": [
    "len(X_train) == len(y_train)"
   ]
  },
  {
   "cell_type": "code",
   "execution_count": 66,
   "metadata": {},
   "outputs": [
    {
     "data": {
      "text/plain": [
       "1985511"
      ]
     },
     "execution_count": 66,
     "metadata": {},
     "output_type": "execute_result"
    }
   ],
   "source": [
    "len(X_train)"
   ]
  },
  {
   "cell_type": "code",
   "execution_count": 67,
   "metadata": {},
   "outputs": [
    {
     "data": {
      "text/plain": [
       "Year                  int64\n",
       "Mileage             float64\n",
       "OptionCount           int64\n",
       "Accident Check      float64\n",
       "OwnershipHistory    float64\n",
       "dtype: object"
      ]
     },
     "execution_count": 67,
     "metadata": {},
     "output_type": "execute_result"
    }
   ],
   "source": [
    "X_train.dtypes"
   ]
  },
  {
   "cell_type": "code",
   "execution_count": 68,
   "metadata": {},
   "outputs": [
    {
     "data": {
      "text/plain": [
       "dtype('float64')"
      ]
     },
     "execution_count": 68,
     "metadata": {},
     "output_type": "execute_result"
    }
   ],
   "source": [
    "y_train.dtypes"
   ]
  },
  {
   "cell_type": "code",
   "execution_count": 69,
   "metadata": {},
   "outputs": [
    {
     "data": {
      "text/plain": [
       "0          15900\n",
       "1          49995\n",
       "2           3440\n",
       "3           4890\n",
       "4           6550\n",
       "           ...  \n",
       "2088468     6495\n",
       "2088469     8745\n",
       "2088470    13916\n",
       "2088471     5500\n",
       "2088474    11980\n",
       "Name: Price, Length: 1985511, dtype: int32"
      ]
     },
     "execution_count": 69,
     "metadata": {},
     "output_type": "execute_result"
    }
   ],
   "source": [
    "y_train.astype('int')"
   ]
  },
  {
   "cell_type": "code",
   "execution_count": 70,
   "metadata": {},
   "outputs": [],
   "source": [
    "X_train_columns = list(X_train.columns)"
   ]
  },
  {
   "cell_type": "code",
   "execution_count": 71,
   "metadata": {},
   "outputs": [
    {
     "data": {
      "image/png": "[encoded data removed]",
      "text/plain": [
       "<Figure size 900x900 with 30 Axes>"
      ]
     },
     "metadata": {
      "needs_background": "light"
     },
     "output_type": "display_data"
    }
   ],
   "source": [
    "sns.pairplot(data[X_train_columns], height=2.5)\n",
    "plt.tight_layout()\n",
    "# plt.savefig('images/10_03.png', dpi=300)\n",
    "plt.show()"
   ]
  },
  {
   "cell_type": "code",
   "execution_count": null,
   "metadata": {},
   "outputs": [],
   "source": []
  },
  {
   "cell_type": "code",
   "execution_count": 72,
   "metadata": {},
   "outputs": [],
   "source": [
    "cm = np.corrcoef(data[X_train_columns].values.T)\n",
    "#sns.set(font_scale=1.5)"
   ]
  },
  {
   "cell_type": "code",
   "execution_count": 73,
   "metadata": {},
   "outputs": [
    {
     "data": {
      "image/png": "[encoded data removed]",
      "text/plain": [
       "<Figure size 432x288 with 2 Axes>"
      ]
     },
     "metadata": {
      "needs_background": "light"
     },
     "output_type": "display_data"
    }
   ],
   "source": [
    "hm = sns.heatmap(cm,\n",
    "                 cbar=True,\n",
    "                 annot=True,\n",
    "                 square=True,\n",
    "                 fmt='.2f',\n",
    "                 annot_kws={'size': 15},\n",
    "                 yticklabels=X_train_columns,\n",
    "                 xticklabels=X_train_columns)\n",
    "\n",
    "plt.tight_layout()\n",
    "# plt.savefig('images/10_04.png', dpi=300)\n",
    "plt.show()"
   ]
  },
  {
   "cell_type": "code",
   "execution_count": 74,
   "metadata": {},
   "outputs": [
    {
     "data": {
      "text/plain": [
       "Year                0\n",
       "Mileage             0\n",
       "OptionCount         0\n",
       "Accident Check      0\n",
       "OwnershipHistory    0\n",
       "dtype: int64"
      ]
     },
     "execution_count": 74,
     "metadata": {},
     "output_type": "execute_result"
    }
   ],
   "source": [
    "X_train.isnull().sum()"
   ]
  },
  {
   "cell_type": "code",
   "execution_count": null,
   "metadata": {},
   "outputs": [],
   "source": []
  },
  {
   "cell_type": "code",
   "execution_count": 75,
   "metadata": {},
   "outputs": [],
   "source": [
    "from sklearn.linear_model import LinearRegression"
   ]
  },
  {
   "cell_type": "code",
   "execution_count": 76,
   "metadata": {},
   "outputs": [],
   "source": [
    "slr = LinearRegression()"
   ]
  },
  {
   "cell_type": "code",
   "execution_count": 77,
   "metadata": {},
   "outputs": [
    {
     "data": {
      "text/plain": [
       "LinearRegression(copy_X=True, fit_intercept=True, n_jobs=None, normalize=False)"
      ]
     },
     "execution_count": 77,
     "metadata": {},
     "output_type": "execute_result"
    }
   ],
   "source": [
    "slr.fit(X_train,y_train)"
   ]
  },
  {
   "cell_type": "code",
   "execution_count": 78,
   "metadata": {},
   "outputs": [],
   "source": [
    "y_pred = slr.predict(X_need_pred)"
   ]
  },
  {
   "cell_type": "code",
   "execution_count": 79,
   "metadata": {},
   "outputs": [
    {
     "data": {
      "text/plain": [
       "array([10690.20335214, 11809.04712038, 17606.95020255, ...,\n",
       "       15931.70996071, 25223.0220087 , 21837.74801086])"
      ]
     },
     "execution_count": 79,
     "metadata": {},
     "output_type": "execute_result"
    }
   ],
   "source": [
    "y_pred"
   ]
  },
  {
   "cell_type": "code",
   "execution_count": 80,
   "metadata": {},
   "outputs": [
    {
     "data": {
      "text/html": [
       "<div>\n",
       "<style scoped>\n",
       "    .dataframe tbody tr th:only-of-type {\n",
       "        vertical-align: middle;\n",
       "    }\n",
       "\n",
       "    .dataframe tbody tr th {\n",
       "        vertical-align: top;\n",
       "    }\n",
       "\n",
       "    .dataframe thead th {\n",
       "        text-align: right;\n",
       "    }\n",
       "</style>\n",
       "<table border=\"1\" class=\"dataframe\">\n",
       "  <thead>\n",
       "    <tr style=\"text-align: right;\">\n",
       "      <th></th>\n",
       "      <th>0</th>\n",
       "    </tr>\n",
       "  </thead>\n",
       "  <tbody>\n",
       "    <tr>\n",
       "      <th>0</th>\n",
       "      <td>10690.203352</td>\n",
       "    </tr>\n",
       "    <tr>\n",
       "      <th>1</th>\n",
       "      <td>11809.047120</td>\n",
       "    </tr>\n",
       "    <tr>\n",
       "      <th>2</th>\n",
       "      <td>17606.950203</td>\n",
       "    </tr>\n",
       "    <tr>\n",
       "      <th>3</th>\n",
       "      <td>19771.486074</td>\n",
       "    </tr>\n",
       "    <tr>\n",
       "      <th>4</th>\n",
       "      <td>21664.035867</td>\n",
       "    </tr>\n",
       "    <tr>\n",
       "      <th>...</th>\n",
       "      <td>...</td>\n",
       "    </tr>\n",
       "    <tr>\n",
       "      <th>90154</th>\n",
       "      <td>22922.489752</td>\n",
       "    </tr>\n",
       "    <tr>\n",
       "      <th>90155</th>\n",
       "      <td>25325.963305</td>\n",
       "    </tr>\n",
       "    <tr>\n",
       "      <th>90156</th>\n",
       "      <td>15931.709961</td>\n",
       "    </tr>\n",
       "    <tr>\n",
       "      <th>90157</th>\n",
       "      <td>25223.022009</td>\n",
       "    </tr>\n",
       "    <tr>\n",
       "      <th>90158</th>\n",
       "      <td>21837.748011</td>\n",
       "    </tr>\n",
       "  </tbody>\n",
       "</table>\n",
       "<p>90159 rows × 1 columns</p>\n",
       "</div>"
      ],
      "text/plain": [
       "                  0\n",
       "0      10690.203352\n",
       "1      11809.047120\n",
       "2      17606.950203\n",
       "3      19771.486074\n",
       "4      21664.035867\n",
       "...             ...\n",
       "90154  22922.489752\n",
       "90155  25325.963305\n",
       "90156  15931.709961\n",
       "90157  25223.022009\n",
       "90158  21837.748011\n",
       "\n",
       "[90159 rows x 1 columns]"
      ]
     },
     "execution_count": 80,
     "metadata": {},
     "output_type": "execute_result"
    }
   ],
   "source": [
    "pd.DataFrame(y_pred)"
   ]
  },
  {
   "cell_type": "code",
   "execution_count": 81,
   "metadata": {},
   "outputs": [
    {
     "data": {
      "text/plain": [
       "49079.29403781658"
      ]
     },
     "execution_count": 81,
     "metadata": {},
     "output_type": "execute_result"
    }
   ],
   "source": [
    "y_pred.max()"
   ]
  },
  {
   "cell_type": "code",
   "execution_count": 82,
   "metadata": {},
   "outputs": [
    {
     "data": {
      "text/plain": [
       "16683.3156339503"
      ]
     },
     "execution_count": 82,
     "metadata": {},
     "output_type": "execute_result"
    }
   ],
   "source": [
    "y_pred.mean()"
   ]
  },
  {
   "cell_type": "code",
   "execution_count": null,
   "metadata": {},
   "outputs": [],
   "source": []
  },
  {
   "cell_type": "code",
   "execution_count": 83,
   "metadata": {},
   "outputs": [],
   "source": [
    "# 多項式迴歸"
   ]
  },
  {
   "cell_type": "code",
   "execution_count": 84,
   "metadata": {},
   "outputs": [],
   "source": [
    "from sklearn.model_selection import train_test_split"
   ]
  },
  {
   "cell_type": "code",
   "execution_count": 85,
   "metadata": {},
   "outputs": [],
   "source": [
    "X_train_split, X_test_split, y_train_split, y_test_split = train_test_split(\n",
    "    X_train, y_train, test_size=0.3, random_state=1)"
   ]
  },
  {
   "cell_type": "code",
   "execution_count": null,
   "metadata": {},
   "outputs": [],
   "source": []
  },
  {
   "cell_type": "code",
   "execution_count": null,
   "metadata": {},
   "outputs": [],
   "source": []
  },
  {
   "cell_type": "code",
   "execution_count": 86,
   "metadata": {},
   "outputs": [],
   "source": [
    "# 為了確認迴歸模型的效果如何, 將訓練用的資料(也就是所有欄位都有值的資料),再切成訓練用和測試用資料\n",
    "# 下面是用多項式模型,不是一般線性迴歸\n",
    "# 線性迴歸轉多項式迴歸 見python 機器學習 p323"
   ]
  },
  {
   "cell_type": "code",
   "execution_count": 87,
   "metadata": {},
   "outputs": [],
   "source": [
    "from sklearn.preprocessing import PolynomialFeatures"
   ]
  },
  {
   "cell_type": "code",
   "execution_count": 88,
   "metadata": {},
   "outputs": [],
   "source": [
    "from sklearn.metrics import r2_score"
   ]
  },
  {
   "cell_type": "code",
   "execution_count": 89,
   "metadata": {},
   "outputs": [],
   "source": [
    "quadratic = PolynomialFeatures(degree=2)"
   ]
  },
  {
   "cell_type": "code",
   "execution_count": 90,
   "metadata": {},
   "outputs": [],
   "source": [
    "#PolynomialFeatures?"
   ]
  },
  {
   "cell_type": "code",
   "execution_count": 91,
   "metadata": {},
   "outputs": [],
   "source": [
    "pr = LinearRegression()"
   ]
  },
  {
   "cell_type": "code",
   "execution_count": 92,
   "metadata": {},
   "outputs": [],
   "source": [
    "quadratic = PolynomialFeatures(degree=4)"
   ]
  },
  {
   "cell_type": "code",
   "execution_count": 93,
   "metadata": {},
   "outputs": [],
   "source": [
    "X_quad = quadratic.fit_transform(X_train_split)"
   ]
  },
  {
   "cell_type": "code",
   "execution_count": 94,
   "metadata": {},
   "outputs": [
    {
     "data": {
      "text/plain": [
       "LinearRegression(copy_X=True, fit_intercept=True, n_jobs=None, normalize=False)"
      ]
     },
     "execution_count": 94,
     "metadata": {},
     "output_type": "execute_result"
    }
   ],
   "source": [
    "pr.fit(X_quad,y_train_split)"
   ]
  },
  {
   "cell_type": "code",
   "execution_count": 95,
   "metadata": {},
   "outputs": [],
   "source": [
    "y_train_split_pred = pr.predict(quadratic.fit_transform(X_test_split))"
   ]
  },
  {
   "cell_type": "code",
   "execution_count": 96,
   "metadata": {},
   "outputs": [
    {
     "data": {
      "text/plain": [
       "0.23506873949405016"
      ]
     },
     "execution_count": 96,
     "metadata": {},
     "output_type": "execute_result"
    }
   ],
   "source": [
    "r2_score(y_test_split,y_train_split_pred)"
   ]
  },
  {
   "cell_type": "code",
   "execution_count": 97,
   "metadata": {},
   "outputs": [],
   "source": [
    "# degree = 2 , 4\n",
    "# degree = 2 ,r2_score = 0.23021886745842168\n",
    "# degree = 4 ,r2_score = 0.23506873949405016\n",
    "# degree = 5 或 6時  r2 score 出現負數"
   ]
  },
  {
   "cell_type": "code",
   "execution_count": 98,
   "metadata": {},
   "outputs": [],
   "source": [
    "# PolynomialFeatures?"
   ]
  },
  {
   "cell_type": "code",
   "execution_count": null,
   "metadata": {},
   "outputs": [],
   "source": []
  },
  {
   "cell_type": "code",
   "execution_count": 99,
   "metadata": {},
   "outputs": [],
   "source": [
    "# 用隨機森林迴歸來預測"
   ]
  },
  {
   "cell_type": "code",
   "execution_count": 100,
   "metadata": {},
   "outputs": [],
   "source": [
    "from sklearn.ensemble import RandomForestRegressor"
   ]
  },
  {
   "cell_type": "code",
   "execution_count": 101,
   "metadata": {},
   "outputs": [],
   "source": [
    "quadratic = PolynomialFeatures(degree=2)"
   ]
  },
  {
   "cell_type": "code",
   "execution_count": 102,
   "metadata": {},
   "outputs": [],
   "source": [
    "X_train_split_quad = quadratic.fit_transform(X_train_split)"
   ]
  },
  {
   "cell_type": "code",
   "execution_count": 103,
   "metadata": {},
   "outputs": [],
   "source": [
    "forest = RandomForestRegressor(n_estimators=100, criterion='mse', random_state=1, n_jobs=-1)"
   ]
  },
  {
   "cell_type": "code",
   "execution_count": 104,
   "metadata": {},
   "outputs": [
    {
     "data": {
      "text/plain": [
       "RandomForestRegressor(bootstrap=True, criterion='mse', max_depth=None,\n",
       "                      max_features='auto', max_leaf_nodes=None,\n",
       "                      min_impurity_decrease=0.0, min_impurity_split=None,\n",
       "                      min_samples_leaf=1, min_samples_split=2,\n",
       "                      min_weight_fraction_leaf=0.0, n_estimators=100, n_jobs=-1,\n",
       "                      oob_score=False, random_state=1, verbose=0,\n",
       "                      warm_start=False)"
      ]
     },
     "execution_count": 104,
     "metadata": {},
     "output_type": "execute_result"
    }
   ],
   "source": [
    "forest.fit(X_train_split_quad,y_train_split)"
   ]
  },
  {
   "cell_type": "code",
   "execution_count": 105,
   "metadata": {},
   "outputs": [],
   "source": [
    "y_pred_forest = forest.predict(quadratic.fit_transform(X_test_split))"
   ]
  },
  {
   "cell_type": "code",
   "execution_count": 106,
   "metadata": {},
   "outputs": [
    {
     "data": {
      "text/plain": [
       "0.14571313262751506"
      ]
     },
     "execution_count": 106,
     "metadata": {},
     "output_type": "execute_result"
    }
   ],
   "source": [
    "r2_score(y_test_split,y_pred_forest)"
   ]
  },
  {
   "cell_type": "code",
   "execution_count": 107,
   "metadata": {},
   "outputs": [],
   "source": [
    "# 10棵樹 不用多項式 r2_score = 0.08484769131518277\n",
    "# 100棵樹 用多項式 r2_score = 0.14571313262751506"
   ]
  },
  {
   "cell_type": "code",
   "execution_count": null,
   "metadata": {},
   "outputs": [],
   "source": []
  },
  {
   "cell_type": "code",
   "execution_count": null,
   "metadata": {},
   "outputs": [],
   "source": []
  },
  {
   "cell_type": "code",
   "execution_count": null,
   "metadata": {},
   "outputs": [],
   "source": []
  }
 ],
 "metadata": {
  "kernelspec": {
   "display_name": "Python 3",
   "language": "python",
   "name": "python3"
  },
  "language_info": {
   "codemirror_mode": {
    "name": "ipython",
    "version": 3
   },
   "file_extension": ".py",
   "mimetype": "text/x-python",
   "name": "python",
   "nbconvert_exporter": "python",
   "pygments_lexer": "ipython3",
   "version": "3.7.4"
  }
 },
 "nbformat": 4,
 "nbformat_minor": 2
}
