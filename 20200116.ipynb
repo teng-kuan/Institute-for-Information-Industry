{
 "cells": [
  {
   "cell_type": "markdown",
   "metadata": {},
   "source": [
    "處理 usedCar_Dataset.csv, 產出一份 final_data.csv\n",
    "\n",
    "將一些欄位去掉 , 同時把類別欄位做 One-Hot Encoding\n",
    "\n",
    "有簡單的用 most frequent , 來補空值"
   ]
  },
  {
   "cell_type": "code",
   "execution_count": 1,
   "metadata": {},
   "outputs": [],
   "source": [
    "import numpy as np\n",
    "import pandas as pd"
   ]
  },
  {
   "cell_type": "code",
   "execution_count": 2,
   "metadata": {},
   "outputs": [],
   "source": [
    "data = pd.read_csv('usedCar_Dataset.csv')"
   ]
  },
  {
   "cell_type": "code",
   "execution_count": 3,
   "metadata": {},
   "outputs": [],
   "source": [
    "pd.set_option('display.max_rows', 500)\n",
    "pd.set_option('display.max_columns', 500)\n",
    "pd.set_option('display.width', 1000)"
   ]
  },
  {
   "cell_type": "markdown",
   "metadata": {},
   "source": [
    "-----------------------------------------------"
   ]
  },
  {
   "cell_type": "markdown",
   "metadata": {},
   "source": [
    "### 1.資料整理"
   ]
  },
  {
   "cell_type": "code",
   "execution_count": 4,
   "metadata": {},
   "outputs": [
    {
     "data": {
      "text/plain": [
       "Index(['CarID', 'MakeId', 'Title', 'BodyStyle', 'Rental', 'Location', 'GasMileage_city', 'GasMileage_highway', 'Price', 'Mileage', 'Transmission', 'FuelType', 'ExteriorColor', 'InteriorColor', 'DoorsNum', 'MaximumSeating', 'Engine', 'Drivetrain', 'VIN', 'OptionCount', 'MajorOptions', 'Certified', 'Accident Check', 'OwnershipHistory', 'SellingDays', 'OriginPrice'], dtype='object')"
      ]
     },
     "execution_count": 4,
     "metadata": {},
     "output_type": "execute_result"
    }
   ],
   "source": [
    "data.columns"
   ]
  },
  {
   "cell_type": "code",
   "execution_count": 5,
   "metadata": {},
   "outputs": [
    {
     "data": {
      "text/html": [
       "<div>\n",
       "<style scoped>\n",
       "    .dataframe tbody tr th:only-of-type {\n",
       "        vertical-align: middle;\n",
       "    }\n",
       "\n",
       "    .dataframe tbody tr th {\n",
       "        vertical-align: top;\n",
       "    }\n",
       "\n",
       "    .dataframe thead th {\n",
       "        text-align: right;\n",
       "    }\n",
       "</style>\n",
       "<table border=\"1\" class=\"dataframe\">\n",
       "  <thead>\n",
       "    <tr style=\"text-align: right;\">\n",
       "      <th></th>\n",
       "      <th>CarID</th>\n",
       "      <th>MakeId</th>\n",
       "      <th>Title</th>\n",
       "      <th>BodyStyle</th>\n",
       "      <th>Rental</th>\n",
       "      <th>Location</th>\n",
       "      <th>GasMileage_city</th>\n",
       "      <th>GasMileage_highway</th>\n",
       "      <th>Price</th>\n",
       "      <th>Mileage</th>\n",
       "      <th>Transmission</th>\n",
       "      <th>FuelType</th>\n",
       "      <th>ExteriorColor</th>\n",
       "      <th>InteriorColor</th>\n",
       "      <th>DoorsNum</th>\n",
       "      <th>MaximumSeating</th>\n",
       "      <th>Engine</th>\n",
       "      <th>Drivetrain</th>\n",
       "      <th>VIN</th>\n",
       "      <th>OptionCount</th>\n",
       "      <th>MajorOptions</th>\n",
       "      <th>Certified</th>\n",
       "      <th>Accident Check</th>\n",
       "      <th>OwnershipHistory</th>\n",
       "      <th>SellingDays</th>\n",
       "      <th>OriginPrice</th>\n",
       "    </tr>\n",
       "  </thead>\n",
       "  <tbody>\n",
       "    <tr>\n",
       "      <th>0</th>\n",
       "      <td>100351603</td>\n",
       "      <td>m1</td>\n",
       "      <td>2007 Chevrolet Tahoe - $11,999</td>\n",
       "      <td>suv</td>\n",
       "      <td>NaN</td>\n",
       "      <td>Garland, TX</td>\n",
       "      <td>NaN</td>\n",
       "      <td>NaN</td>\n",
       "      <td>11999.0</td>\n",
       "      <td>129280.0</td>\n",
       "      <td>Automatic</td>\n",
       "      <td>Gasoline</td>\n",
       "      <td>Gold</td>\n",
       "      <td>NaN</td>\n",
       "      <td>NaN</td>\n",
       "      <td>NaN</td>\n",
       "      <td>V8</td>\n",
       "      <td>NaN</td>\n",
       "      <td>1GNFC13J47R120389</td>\n",
       "      <td>0</td>\n",
       "      <td>NaN</td>\n",
       "      <td>NaN</td>\n",
       "      <td>0.0</td>\n",
       "      <td>2.0</td>\n",
       "      <td>1873</td>\n",
       "      <td>12999.0</td>\n",
       "    </tr>\n",
       "    <tr>\n",
       "      <th>1</th>\n",
       "      <td>101113873</td>\n",
       "      <td>m1</td>\n",
       "      <td>2005 Chevrolet Express - $11,995</td>\n",
       "      <td>van</td>\n",
       "      <td>NaN</td>\n",
       "      <td>Claremont, NH</td>\n",
       "      <td>NaN</td>\n",
       "      <td>NaN</td>\n",
       "      <td>11995.0</td>\n",
       "      <td>118113.0</td>\n",
       "      <td>Automatic</td>\n",
       "      <td>NaN</td>\n",
       "      <td>White</td>\n",
       "      <td>NaN</td>\n",
       "      <td>NaN</td>\n",
       "      <td>NaN</td>\n",
       "      <td>NaN</td>\n",
       "      <td>NaN</td>\n",
       "      <td>1GBJG31U251136588</td>\n",
       "      <td>0</td>\n",
       "      <td>NaN</td>\n",
       "      <td>NaN</td>\n",
       "      <td>1.0</td>\n",
       "      <td>1.0</td>\n",
       "      <td>1863</td>\n",
       "      <td>NaN</td>\n",
       "    </tr>\n",
       "    <tr>\n",
       "      <th>2</th>\n",
       "      <td>102996725</td>\n",
       "      <td>m1</td>\n",
       "      <td>2010 Chevrolet Silverado 2500HD Work Truck Ext...</td>\n",
       "      <td>pickup_truck</td>\n",
       "      <td>NaN</td>\n",
       "      <td>Frankfort, KY</td>\n",
       "      <td>NaN</td>\n",
       "      <td>NaN</td>\n",
       "      <td>15900.0</td>\n",
       "      <td>144000.0</td>\n",
       "      <td>Automatic</td>\n",
       "      <td>Gasoline</td>\n",
       "      <td>White</td>\n",
       "      <td>Gray</td>\n",
       "      <td>4 doors</td>\n",
       "      <td>6 seats</td>\n",
       "      <td>V8</td>\n",
       "      <td>Four-Wheel Drive</td>\n",
       "      <td>1GC5KVBG7AZ218246</td>\n",
       "      <td>2</td>\n",
       "      <td>Steel Wheels,Tow Package</td>\n",
       "      <td>NaN</td>\n",
       "      <td>0.0</td>\n",
       "      <td>2.0</td>\n",
       "      <td>1837</td>\n",
       "      <td>16900.0</td>\n",
       "    </tr>\n",
       "    <tr>\n",
       "      <th>3</th>\n",
       "      <td>103384798</td>\n",
       "      <td>m1</td>\n",
       "      <td>2014 Chevrolet Corvette Stingray 3LT Coupe RWD...</td>\n",
       "      <td>coupe</td>\n",
       "      <td>NaN</td>\n",
       "      <td>Lewistown, MT</td>\n",
       "      <td>17 MPG City</td>\n",
       "      <td>29 MPG Highway</td>\n",
       "      <td>49995.0</td>\n",
       "      <td>2500.0</td>\n",
       "      <td>7-Speed Manual</td>\n",
       "      <td>Gasoline</td>\n",
       "      <td>Red</td>\n",
       "      <td>Black</td>\n",
       "      <td>2 doors</td>\n",
       "      <td>2 seats</td>\n",
       "      <td>V8</td>\n",
       "      <td>Rear-Wheel Drive</td>\n",
       "      <td>1G1YE2D73E5104797</td>\n",
       "      <td>5</td>\n",
       "      <td>Bluetooth,Backup Camera,Aluminum Wheels,Naviga...</td>\n",
       "      <td>NaN</td>\n",
       "      <td>0.0</td>\n",
       "      <td>1.0</td>\n",
       "      <td>1832</td>\n",
       "      <td>62900.0</td>\n",
       "    </tr>\n",
       "    <tr>\n",
       "      <th>4</th>\n",
       "      <td>104800849</td>\n",
       "      <td>m1</td>\n",
       "      <td>2002 Chevrolet Monte Carlo SS FWD - $3,440</td>\n",
       "      <td>coupe</td>\n",
       "      <td>NaN</td>\n",
       "      <td>Delavan, IL</td>\n",
       "      <td>17 MPG City</td>\n",
       "      <td>27 MPG Highway</td>\n",
       "      <td>3440.0</td>\n",
       "      <td>174000.0</td>\n",
       "      <td>Automatic</td>\n",
       "      <td>Gasoline</td>\n",
       "      <td>Black</td>\n",
       "      <td>Black</td>\n",
       "      <td>2 doors</td>\n",
       "      <td>5 seats</td>\n",
       "      <td>V6</td>\n",
       "      <td>Front-Wheel Drive</td>\n",
       "      <td>2G1WX15K829249749</td>\n",
       "      <td>2</td>\n",
       "      <td>Leather Seats,Aluminum Wheels</td>\n",
       "      <td>NaN</td>\n",
       "      <td>0.0</td>\n",
       "      <td>2.0</td>\n",
       "      <td>1809</td>\n",
       "      <td>4800.0</td>\n",
       "    </tr>\n",
       "  </tbody>\n",
       "</table>\n",
       "</div>"
      ],
      "text/plain": [
       "       CarID MakeId                                              Title     BodyStyle Rental       Location GasMileage_city GasMileage_highway    Price   Mileage    Transmission  FuelType ExteriorColor InteriorColor DoorsNum MaximumSeating Engine         Drivetrain                VIN  OptionCount                                       MajorOptions Certified  Accident Check  OwnershipHistory  SellingDays  OriginPrice\n",
       "0  100351603     m1                     2007 Chevrolet Tahoe - $11,999           suv    NaN    Garland, TX             NaN                NaN  11999.0  129280.0       Automatic  Gasoline          Gold           NaN      NaN            NaN     V8                NaN  1GNFC13J47R120389            0                                                NaN       NaN             0.0               2.0         1873      12999.0\n",
       "1  101113873     m1                   2005 Chevrolet Express - $11,995           van    NaN  Claremont, NH             NaN                NaN  11995.0  118113.0       Automatic       NaN         White           NaN      NaN            NaN    NaN                NaN  1GBJG31U251136588            0                                                NaN       NaN             1.0               1.0         1863          NaN\n",
       "2  102996725     m1  2010 Chevrolet Silverado 2500HD Work Truck Ext...  pickup_truck    NaN  Frankfort, KY             NaN                NaN  15900.0  144000.0       Automatic  Gasoline         White          Gray  4 doors        6 seats     V8   Four-Wheel Drive  1GC5KVBG7AZ218246            2                           Steel Wheels,Tow Package       NaN             0.0               2.0         1837      16900.0\n",
       "3  103384798     m1  2014 Chevrolet Corvette Stingray 3LT Coupe RWD...         coupe    NaN  Lewistown, MT     17 MPG City     29 MPG Highway  49995.0    2500.0  7-Speed Manual  Gasoline           Red         Black  2 doors        2 seats     V8   Rear-Wheel Drive  1G1YE2D73E5104797            5  Bluetooth,Backup Camera,Aluminum Wheels,Naviga...       NaN             0.0               1.0         1832      62900.0\n",
       "4  104800849     m1         2002 Chevrolet Monte Carlo SS FWD - $3,440         coupe    NaN    Delavan, IL     17 MPG City     27 MPG Highway   3440.0  174000.0       Automatic  Gasoline         Black         Black  2 doors        5 seats     V6  Front-Wheel Drive  2G1WX15K829249749            2                      Leather Seats,Aluminum Wheels       NaN             0.0               2.0         1809       4800.0"
      ]
     },
     "execution_count": 5,
     "metadata": {},
     "output_type": "execute_result"
    }
   ],
   "source": [
    "data.head()"
   ]
  },
  {
   "cell_type": "code",
   "execution_count": 6,
   "metadata": {},
   "outputs": [
    {
     "data": {
      "text/html": [
       "<div>\n",
       "<style scoped>\n",
       "    .dataframe tbody tr th:only-of-type {\n",
       "        vertical-align: middle;\n",
       "    }\n",
       "\n",
       "    .dataframe tbody tr th {\n",
       "        vertical-align: top;\n",
       "    }\n",
       "\n",
       "    .dataframe thead th {\n",
       "        text-align: right;\n",
       "    }\n",
       "</style>\n",
       "<table border=\"1\" class=\"dataframe\">\n",
       "  <thead>\n",
       "    <tr style=\"text-align: right;\">\n",
       "      <th></th>\n",
       "      <th>Title</th>\n",
       "      <th>BodyStyle</th>\n",
       "      <th>Location</th>\n",
       "      <th>Price</th>\n",
       "      <th>Mileage</th>\n",
       "      <th>Transmission</th>\n",
       "      <th>FuelType</th>\n",
       "      <th>DoorsNum</th>\n",
       "      <th>MaximumSeating</th>\n",
       "      <th>Engine</th>\n",
       "      <th>Drivetrain</th>\n",
       "      <th>Accident Check</th>\n",
       "      <th>OwnershipHistory</th>\n",
       "      <th>SellingDays</th>\n",
       "      <th>OriginPrice</th>\n",
       "    </tr>\n",
       "  </thead>\n",
       "  <tbody>\n",
       "    <tr>\n",
       "      <th>0</th>\n",
       "      <td>2007 Chevrolet Tahoe - $11,999</td>\n",
       "      <td>suv</td>\n",
       "      <td>Garland, TX</td>\n",
       "      <td>11999.0</td>\n",
       "      <td>129280.0</td>\n",
       "      <td>Automatic</td>\n",
       "      <td>Gasoline</td>\n",
       "      <td>NaN</td>\n",
       "      <td>NaN</td>\n",
       "      <td>V8</td>\n",
       "      <td>NaN</td>\n",
       "      <td>0.0</td>\n",
       "      <td>2.0</td>\n",
       "      <td>1873</td>\n",
       "      <td>12999.0</td>\n",
       "    </tr>\n",
       "    <tr>\n",
       "      <th>1</th>\n",
       "      <td>2005 Chevrolet Express - $11,995</td>\n",
       "      <td>van</td>\n",
       "      <td>Claremont, NH</td>\n",
       "      <td>11995.0</td>\n",
       "      <td>118113.0</td>\n",
       "      <td>Automatic</td>\n",
       "      <td>NaN</td>\n",
       "      <td>NaN</td>\n",
       "      <td>NaN</td>\n",
       "      <td>NaN</td>\n",
       "      <td>NaN</td>\n",
       "      <td>1.0</td>\n",
       "      <td>1.0</td>\n",
       "      <td>1863</td>\n",
       "      <td>NaN</td>\n",
       "    </tr>\n",
       "    <tr>\n",
       "      <th>2</th>\n",
       "      <td>2010 Chevrolet Silverado 2500HD Work Truck Ext...</td>\n",
       "      <td>pickup_truck</td>\n",
       "      <td>Frankfort, KY</td>\n",
       "      <td>15900.0</td>\n",
       "      <td>144000.0</td>\n",
       "      <td>Automatic</td>\n",
       "      <td>Gasoline</td>\n",
       "      <td>4 doors</td>\n",
       "      <td>6 seats</td>\n",
       "      <td>V8</td>\n",
       "      <td>Four-Wheel Drive</td>\n",
       "      <td>0.0</td>\n",
       "      <td>2.0</td>\n",
       "      <td>1837</td>\n",
       "      <td>16900.0</td>\n",
       "    </tr>\n",
       "    <tr>\n",
       "      <th>3</th>\n",
       "      <td>2014 Chevrolet Corvette Stingray 3LT Coupe RWD...</td>\n",
       "      <td>coupe</td>\n",
       "      <td>Lewistown, MT</td>\n",
       "      <td>49995.0</td>\n",
       "      <td>2500.0</td>\n",
       "      <td>7-Speed Manual</td>\n",
       "      <td>Gasoline</td>\n",
       "      <td>2 doors</td>\n",
       "      <td>2 seats</td>\n",
       "      <td>V8</td>\n",
       "      <td>Rear-Wheel Drive</td>\n",
       "      <td>0.0</td>\n",
       "      <td>1.0</td>\n",
       "      <td>1832</td>\n",
       "      <td>62900.0</td>\n",
       "    </tr>\n",
       "    <tr>\n",
       "      <th>4</th>\n",
       "      <td>2002 Chevrolet Monte Carlo SS FWD - $3,440</td>\n",
       "      <td>coupe</td>\n",
       "      <td>Delavan, IL</td>\n",
       "      <td>3440.0</td>\n",
       "      <td>174000.0</td>\n",
       "      <td>Automatic</td>\n",
       "      <td>Gasoline</td>\n",
       "      <td>2 doors</td>\n",
       "      <td>5 seats</td>\n",
       "      <td>V6</td>\n",
       "      <td>Front-Wheel Drive</td>\n",
       "      <td>0.0</td>\n",
       "      <td>2.0</td>\n",
       "      <td>1809</td>\n",
       "      <td>4800.0</td>\n",
       "    </tr>\n",
       "    <tr>\n",
       "      <th>...</th>\n",
       "      <td>...</td>\n",
       "      <td>...</td>\n",
       "      <td>...</td>\n",
       "      <td>...</td>\n",
       "      <td>...</td>\n",
       "      <td>...</td>\n",
       "      <td>...</td>\n",
       "      <td>...</td>\n",
       "      <td>...</td>\n",
       "      <td>...</td>\n",
       "      <td>...</td>\n",
       "      <td>...</td>\n",
       "      <td>...</td>\n",
       "      <td>...</td>\n",
       "      <td>...</td>\n",
       "    </tr>\n",
       "    <tr>\n",
       "      <th>2375345</th>\n",
       "      <td>2012 FIAT 500 Lounge Convertible - $15,100</td>\n",
       "      <td>convertible</td>\n",
       "      <td>Eynon, PA</td>\n",
       "      <td>15100.0</td>\n",
       "      <td>NaN</td>\n",
       "      <td>5-Speed Automatic</td>\n",
       "      <td>Gasoline</td>\n",
       "      <td>2 doors</td>\n",
       "      <td>4 seats</td>\n",
       "      <td>I4</td>\n",
       "      <td>Front-Wheel Drive</td>\n",
       "      <td>0.0</td>\n",
       "      <td>1.0</td>\n",
       "      <td>1911</td>\n",
       "      <td>26350.0</td>\n",
       "    </tr>\n",
       "    <tr>\n",
       "      <th>2375346</th>\n",
       "      <td>2013 FIAT 500 Sport</td>\n",
       "      <td>hatchback</td>\n",
       "      <td>Eynon, PA</td>\n",
       "      <td>NaN</td>\n",
       "      <td>NaN</td>\n",
       "      <td>5-Speed Manual</td>\n",
       "      <td>Gasoline</td>\n",
       "      <td>2 doors</td>\n",
       "      <td>4 seats</td>\n",
       "      <td>I4</td>\n",
       "      <td>Front-Wheel Drive</td>\n",
       "      <td>0.0</td>\n",
       "      <td>3.0</td>\n",
       "      <td>1911</td>\n",
       "      <td>NaN</td>\n",
       "    </tr>\n",
       "    <tr>\n",
       "      <th>2375347</th>\n",
       "      <td>2012 FIAT 500 Lounge</td>\n",
       "      <td>hatchback</td>\n",
       "      <td>Eynon, PA</td>\n",
       "      <td>NaN</td>\n",
       "      <td>NaN</td>\n",
       "      <td>6-Speed Automatic</td>\n",
       "      <td>Gasoline</td>\n",
       "      <td>2 doors</td>\n",
       "      <td>4 seats</td>\n",
       "      <td>I4</td>\n",
       "      <td>Front-Wheel Drive</td>\n",
       "      <td>0.0</td>\n",
       "      <td>1.0</td>\n",
       "      <td>1911</td>\n",
       "      <td>NaN</td>\n",
       "    </tr>\n",
       "    <tr>\n",
       "      <th>2375348</th>\n",
       "      <td>2013 FIAT 500 Lounge</td>\n",
       "      <td>hatchback</td>\n",
       "      <td>Eynon, PA</td>\n",
       "      <td>NaN</td>\n",
       "      <td>NaN</td>\n",
       "      <td>5-Speed Manual</td>\n",
       "      <td>Gasoline</td>\n",
       "      <td>2 doors</td>\n",
       "      <td>4 seats</td>\n",
       "      <td>I4</td>\n",
       "      <td>Front-Wheel Drive</td>\n",
       "      <td>0.0</td>\n",
       "      <td>1.0</td>\n",
       "      <td>1911</td>\n",
       "      <td>NaN</td>\n",
       "    </tr>\n",
       "    <tr>\n",
       "      <th>2375349</th>\n",
       "      <td>2013 FIAT 500 Sport</td>\n",
       "      <td>hatchback</td>\n",
       "      <td>Eynon, PA</td>\n",
       "      <td>NaN</td>\n",
       "      <td>NaN</td>\n",
       "      <td>5-Speed Manual</td>\n",
       "      <td>Gasoline</td>\n",
       "      <td>2 doors</td>\n",
       "      <td>4 seats</td>\n",
       "      <td>I4</td>\n",
       "      <td>Front-Wheel Drive</td>\n",
       "      <td>0.0</td>\n",
       "      <td>3.0</td>\n",
       "      <td>1911</td>\n",
       "      <td>NaN</td>\n",
       "    </tr>\n",
       "  </tbody>\n",
       "</table>\n",
       "<p>2375350 rows × 15 columns</p>\n",
       "</div>"
      ],
      "text/plain": [
       "                                                     Title     BodyStyle       Location    Price   Mileage       Transmission  FuelType DoorsNum MaximumSeating Engine         Drivetrain  Accident Check  OwnershipHistory  SellingDays  OriginPrice\n",
       "0                           2007 Chevrolet Tahoe - $11,999           suv    Garland, TX  11999.0  129280.0          Automatic  Gasoline      NaN            NaN     V8                NaN             0.0               2.0         1873      12999.0\n",
       "1                         2005 Chevrolet Express - $11,995           van  Claremont, NH  11995.0  118113.0          Automatic       NaN      NaN            NaN    NaN                NaN             1.0               1.0         1863          NaN\n",
       "2        2010 Chevrolet Silverado 2500HD Work Truck Ext...  pickup_truck  Frankfort, KY  15900.0  144000.0          Automatic  Gasoline  4 doors        6 seats     V8   Four-Wheel Drive             0.0               2.0         1837      16900.0\n",
       "3        2014 Chevrolet Corvette Stingray 3LT Coupe RWD...         coupe  Lewistown, MT  49995.0    2500.0     7-Speed Manual  Gasoline  2 doors        2 seats     V8   Rear-Wheel Drive             0.0               1.0         1832      62900.0\n",
       "4               2002 Chevrolet Monte Carlo SS FWD - $3,440         coupe    Delavan, IL   3440.0  174000.0          Automatic  Gasoline  2 doors        5 seats     V6  Front-Wheel Drive             0.0               2.0         1809       4800.0\n",
       "...                                                    ...           ...            ...      ...       ...                ...       ...      ...            ...    ...                ...             ...               ...          ...          ...\n",
       "2375345         2012 FIAT 500 Lounge Convertible - $15,100   convertible      Eynon, PA  15100.0       NaN  5-Speed Automatic  Gasoline  2 doors        4 seats     I4  Front-Wheel Drive             0.0               1.0         1911      26350.0\n",
       "2375346                                2013 FIAT 500 Sport     hatchback      Eynon, PA      NaN       NaN     5-Speed Manual  Gasoline  2 doors        4 seats     I4  Front-Wheel Drive             0.0               3.0         1911          NaN\n",
       "2375347                               2012 FIAT 500 Lounge     hatchback      Eynon, PA      NaN       NaN  6-Speed Automatic  Gasoline  2 doors        4 seats     I4  Front-Wheel Drive             0.0               1.0         1911          NaN\n",
       "2375348                               2013 FIAT 500 Lounge     hatchback      Eynon, PA      NaN       NaN     5-Speed Manual  Gasoline  2 doors        4 seats     I4  Front-Wheel Drive             0.0               1.0         1911          NaN\n",
       "2375349                                2013 FIAT 500 Sport     hatchback      Eynon, PA      NaN       NaN     5-Speed Manual  Gasoline  2 doors        4 seats     I4  Front-Wheel Drive             0.0               3.0         1911          NaN\n",
       "\n",
       "[2375350 rows x 15 columns]"
      ]
     },
     "execution_count": 6,
     "metadata": {},
     "output_type": "execute_result"
    }
   ],
   "source": [
    "data.drop(columns=['CarID','MakeId','Rental','VIN','InteriorColor','ExteriorColor','GasMileage_city','GasMileage_highway',\n",
    "                  'MajorOptions','Certified','OptionCount'])"
   ]
  },
  {
   "cell_type": "markdown",
   "metadata": {},
   "source": [
    "##### Title"
   ]
  },
  {
   "cell_type": "code",
   "execution_count": 7,
   "metadata": {},
   "outputs": [],
   "source": [
    "no_price_title = data['Title'].str.split(' - ', expand=True).iloc[:,0]"
   ]
  },
  {
   "cell_type": "code",
   "execution_count": 8,
   "metadata": {},
   "outputs": [],
   "source": [
    "Title_only = no_price_title.str.split(' ', n=1,expand=True).iloc[:,1]"
   ]
  },
  {
   "cell_type": "code",
   "execution_count": 9,
   "metadata": {},
   "outputs": [
    {
     "data": {
      "text/plain": [
       "0                                      Chevrolet Tahoe\n",
       "1                                    Chevrolet Express\n",
       "2    Chevrolet Silverado 2500HD Work Truck Extended...\n",
       "3            Chevrolet Corvette Stingray 3LT Coupe RWD\n",
       "4                         Chevrolet Monte Carlo SS FWD\n",
       "5                         Chevrolet Monte Carlo LS FWD\n",
       "6     Chevrolet C/K 2500 Silverado Extended Cab HD 4WD\n",
       "7         Chevrolet Silverado 1500 LT Extended Cab RWD\n",
       "8                            Chevrolet Equinox 2LT FWD\n",
       "9      Chevrolet Silverado 1500 LS Extended Cab LB RWD\n",
       "Name: 1, dtype: object"
      ]
     },
     "execution_count": 9,
     "metadata": {},
     "output_type": "execute_result"
    }
   ],
   "source": [
    "Title_only.head(10)"
   ]
  },
  {
   "cell_type": "code",
   "execution_count": 10,
   "metadata": {},
   "outputs": [
    {
     "data": {
      "text/plain": [
       "15513"
      ]
     },
     "execution_count": 10,
     "metadata": {},
     "output_type": "execute_result"
    }
   ],
   "source": [
    "len(Title_only.unique())"
   ]
  },
  {
   "cell_type": "code",
   "execution_count": 11,
   "metadata": {},
   "outputs": [
    {
     "data": {
      "text/plain": [
       "2375350"
      ]
     },
     "execution_count": 11,
     "metadata": {},
     "output_type": "execute_result"
    }
   ],
   "source": [
    "len(Title_only)"
   ]
  },
  {
   "cell_type": "markdown",
   "metadata": {},
   "source": [
    "##### BodyStyle"
   ]
  },
  {
   "cell_type": "code",
   "execution_count": 12,
   "metadata": {},
   "outputs": [
    {
     "data": {
      "text/plain": [
       "array(['suv', 'van', 'pickup_truck', 'coupe', 'crossover', 'sedan',\n",
       "       'convertible', 'hatchback', nan, 'minivan', 'wagon'], dtype=object)"
      ]
     },
     "execution_count": 12,
     "metadata": {},
     "output_type": "execute_result"
    }
   ],
   "source": [
    "data['BodyStyle'].unique()"
   ]
  },
  {
   "cell_type": "markdown",
   "metadata": {},
   "source": [
    "##### Location"
   ]
  },
  {
   "cell_type": "code",
   "execution_count": 13,
   "metadata": {},
   "outputs": [],
   "source": [
    "location = data['Location'].str.split(',', expand = True).iloc[:,1]"
   ]
  },
  {
   "cell_type": "code",
   "execution_count": 14,
   "metadata": {},
   "outputs": [
    {
     "data": {
      "text/plain": [
       "array([' TX', ' NH', ' KY', ' MT', ' IL', ' SD', ' FL', ' OR', ' PA',\n",
       "       ' IN', ' GA', ' NY', ' OH', ' IA', ' WI', ' SC', ' CA', ' MN',\n",
       "       ' NJ', ' AZ', ' OK', ' NE', ' WA', ' AL', ' MA', ' MI', ' MO',\n",
       "       ' VA', ' UT', ' TN', ' WV', ' NV', ' ID', ' CT', ' VT', ' NC',\n",
       "       ' KS', ' RI', ' CO', ' LA', ' ME', ' AR', ' MS', ' MD', ' NM',\n",
       "       ' DE', ' WY', ' ND', ' ON', ' DC', ' California'], dtype=object)"
      ]
     },
     "execution_count": 14,
     "metadata": {},
     "output_type": "execute_result"
    }
   ],
   "source": [
    "location.unique()"
   ]
  },
  {
   "cell_type": "code",
   "execution_count": 15,
   "metadata": {},
   "outputs": [
    {
     "data": {
      "text/plain": [
       "51"
      ]
     },
     "execution_count": 15,
     "metadata": {},
     "output_type": "execute_result"
    }
   ],
   "source": [
    "len(location.unique())"
   ]
  },
  {
   "cell_type": "code",
   "execution_count": 16,
   "metadata": {},
   "outputs": [],
   "source": [
    "def tranlocation(x):\n",
    "    if 'California' in x:\n",
    "            return ' CA'\n",
    "    else:\n",
    "        return x\n",
    "\n",
    "location = location.apply(tranlocation)"
   ]
  },
  {
   "cell_type": "code",
   "execution_count": 17,
   "metadata": {},
   "outputs": [
    {
     "data": {
      "text/plain": [
       "array([' TX', ' NH', ' KY', ' MT', ' IL', ' SD', ' FL', ' OR', ' PA',\n",
       "       ' IN', ' GA', ' NY', ' OH', ' IA', ' WI', ' SC', ' CA', ' MN',\n",
       "       ' NJ', ' AZ', ' OK', ' NE', ' WA', ' AL', ' MA', ' MI', ' MO',\n",
       "       ' VA', ' UT', ' TN', ' WV', ' NV', ' ID', ' CT', ' VT', ' NC',\n",
       "       ' KS', ' RI', ' CO', ' LA', ' ME', ' AR', ' MS', ' MD', ' NM',\n",
       "       ' DE', ' WY', ' ND', ' ON', ' DC'], dtype=object)"
      ]
     },
     "execution_count": 17,
     "metadata": {},
     "output_type": "execute_result"
    }
   ],
   "source": [
    "location.unique()"
   ]
  },
  {
   "cell_type": "code",
   "execution_count": 18,
   "metadata": {},
   "outputs": [
    {
     "data": {
      "text/plain": [
       "50"
      ]
     },
     "execution_count": 18,
     "metadata": {},
     "output_type": "execute_result"
    }
   ],
   "source": [
    "len(location.unique())"
   ]
  },
  {
   "cell_type": "code",
   "execution_count": 19,
   "metadata": {},
   "outputs": [],
   "source": [
    "location = location.str.strip()"
   ]
  },
  {
   "cell_type": "code",
   "execution_count": 20,
   "metadata": {},
   "outputs": [
    {
     "data": {
      "text/plain": [
       "array(['TX', 'NH', 'KY', 'MT', 'IL', 'SD', 'FL', 'OR', 'PA', 'IN', 'GA',\n",
       "       'NY', 'OH', 'IA', 'WI', 'SC', 'CA', 'MN', 'NJ', 'AZ', 'OK', 'NE',\n",
       "       'WA', 'AL', 'MA', 'MI', 'MO', 'VA', 'UT', 'TN', 'WV', 'NV', 'ID',\n",
       "       'CT', 'VT', 'NC', 'KS', 'RI', 'CO', 'LA', 'ME', 'AR', 'MS', 'MD',\n",
       "       'NM', 'DE', 'WY', 'ND', 'ON', 'DC'], dtype=object)"
      ]
     },
     "execution_count": 20,
     "metadata": {},
     "output_type": "execute_result"
    }
   ],
   "source": [
    "location.unique()"
   ]
  },
  {
   "cell_type": "code",
   "execution_count": 21,
   "metadata": {},
   "outputs": [
    {
     "data": {
      "text/plain": [
       "50"
      ]
     },
     "execution_count": 21,
     "metadata": {},
     "output_type": "execute_result"
    }
   ],
   "source": [
    "len(location.unique())"
   ]
  },
  {
   "cell_type": "code",
   "execution_count": 22,
   "metadata": {},
   "outputs": [],
   "source": [
    "# Abbreviation"
   ]
  },
  {
   "cell_type": "code",
   "execution_count": null,
   "metadata": {},
   "outputs": [],
   "source": []
  },
  {
   "cell_type": "markdown",
   "metadata": {},
   "source": [
    "##### Transmission"
   ]
  },
  {
   "cell_type": "code",
   "execution_count": 23,
   "metadata": {},
   "outputs": [
    {
     "data": {
      "text/plain": [
       "array(['Automatic', '7-Speed Manual', '5-Speed Automatic',\n",
       "       '4-Speed Automatic', '6-Speed Automatic', nan, 'Manual',\n",
       "       '3-Speed Manual', '6-Speed Manual', '5-Speed Manual',\n",
       "       '4-Speed Manual', '6-Speed Automatic Overdrive',\n",
       "       '8-Speed Automatic', '2-Speed Automatic',\n",
       "       '4-Speed Automatic Overdrive',\n",
       "       'Continuously Variable Transmission', '3-Speed Automatic',\n",
       "       '9-Speed Automatic', '6-Speed Manual Overdrive',\n",
       "       '1-Speed Automatic', '8-Speed Automatic Overdrive',\n",
       "       '9-Speed Automatic Overdrive', '5-Speed Manual Overdrive',\n",
       "       '5-Speed Automatic Overdrive', '7-Speed Automatic', '1-Speed CVT',\n",
       "       '1-Speed Dual Clutch', '4-Speed CVT',\n",
       "       '6-Speed Dual Clutch Overdrive', '8-Speed Manual',\n",
       "       '10-Speed Automatic', '4-Speed Manual Overdrive',\n",
       "       '7-Speed Manual Overdrive', '7-Speed Automatic Overdrive',\n",
       "       '7-Speed CVT', '10-Speed Dual Clutch', '6-Speed CVT',\n",
       "       '6-Speed Dual Clutch', '5-Speed Dual Clutch', '8-Speed CVT',\n",
       "       '3-Speed Automatic Overdrive', '7-Speed Dual Clutch',\n",
       "       '10-Speed CVT', '4-Speed Dual Clutch', '8-Speed Dual Clutch',\n",
       "       '9-Speed Dual Clutch'], dtype=object)"
      ]
     },
     "execution_count": 23,
     "metadata": {},
     "output_type": "execute_result"
    }
   ],
   "source": [
    "data['Transmission'].unique()"
   ]
  },
  {
   "cell_type": "code",
   "execution_count": 24,
   "metadata": {},
   "outputs": [],
   "source": [
    "def Transmission(x):\n",
    "    if type(x)==str:\n",
    "        if 'automatic' in x.lower():\n",
    "            return 'Automatic'\n",
    "        elif 'manual' in x.lower():\n",
    "            return 'Manual'\n",
    "        elif 'CVT' in x:\n",
    "            return 'CVT'\n",
    "        elif 'Dual Clutch' in x:\n",
    "            return 'Dual Clutch'\n",
    "        elif 'Continuously' in x:\n",
    "            return 'CVT'\n",
    "        else:\n",
    "            return x\n",
    "    else:\n",
    "        return x\n",
    "\n",
    "data['Transmission'] = data['Transmission'].apply(Transmission)"
   ]
  },
  {
   "cell_type": "code",
   "execution_count": 25,
   "metadata": {},
   "outputs": [],
   "source": [
    "# Automatic Transmission，縮寫：AT : 自動變速\n",
    "# Manual Transmission，縮寫：MT : 手排變速\n",
    "# dual-clutch transmission，簡稱：DCT : 雙離合變速(半自動變速)\n",
    "# Continuously Variable Transmission，縮寫：CVT : 無段自排(動)變速(是一種自動變速器，可以通過連續變速改變有效傳動比)"
   ]
  },
  {
   "cell_type": "code",
   "execution_count": 26,
   "metadata": {},
   "outputs": [],
   "source": [
    "# devide_nums = data['Transmission'].str.split(r\"[0-9]\", n=1, expand=True)\n",
    "\n",
    "# devide_nums\n",
    "\n",
    "# devide_nums[0].unique()\n",
    "\n",
    "# devide_nums[1].unique()\n",
    "\n",
    "# devide_nums.columns\n",
    "\n",
    "# devide_nums.rename(columns={0: \"a\", 1: \"b\"}, inplace=True)\n",
    "\n",
    "# devide_nums\n",
    "\n",
    "# first_column = devide_nums[0]\n",
    "\n",
    "# first_column.fillna(value='',inplace=True)\n",
    "# # 把nan改成 '' 空字串\n",
    "\n",
    "# first_column.unique()\n",
    "\n",
    "# first_column.apply(lambda x:x == 'Continuously Variable Transmission')\n",
    "\n",
    "# first_column[first_column.apply(lambda x:x == 'Continuously Variable Transmission')] = 'CVT'\n",
    "\n",
    "# first_column.unique()\n",
    "# # 將 'Continuously Variable Transmission' 改成 'CVT'\n",
    "\n",
    "# first_column\n",
    "\n",
    "# second_column = devide_nums[1]\n",
    "\n",
    "# second_column.fillna(value='',inplace=True)\n",
    "\n",
    "# second_column.unique()\n",
    "\n",
    "# second_column\n",
    "\n",
    "# overdrive 超速檔 , 增速驅動裝置\n",
    "\n",
    "# column2 = second_column.str.split('-Speed ',expand=True)\n",
    "\n",
    "# column2[0].unique()\n",
    "\n",
    "# column2[1].unique()\n",
    "\n",
    "# column2[1].fillna(value='',inplace=True)\n",
    "\n",
    "# column2[1].unique()\n",
    "\n",
    "# column2[column2[1] == 'Automatic Overdrive'] = 'Automatic'\n",
    "# column2[column2[1] == 'Manual Overdrive'] = 'Manual'\n",
    "# column2[column2[1] == 'Dual Clutch Overdrive'] = 'Dual Clutch'\n",
    "\n",
    "# column2[1].unique()\n",
    "\n",
    "# final_second_column = column2[1]\n",
    "\n",
    "\n",
    "\n",
    "# first_column.unique()\n",
    "\n",
    "# final_second_column.unique()\n",
    "\n",
    "# type(first_column)\n",
    "\n",
    "# type(final_second_column)\n",
    "\n",
    "# pd.concat([first_column,final_second_column])\n",
    "\n",
    "# first = first_column.to_frame(name=\"first1\")\n",
    "\n",
    "# second = final_second_column.to_frame(name='second2')"
   ]
  },
  {
   "cell_type": "markdown",
   "metadata": {},
   "source": [
    "------------------------------------------------------------"
   ]
  },
  {
   "cell_type": "markdown",
   "metadata": {},
   "source": [
    "##### FuelType"
   ]
  },
  {
   "cell_type": "code",
   "execution_count": 27,
   "metadata": {},
   "outputs": [
    {
     "data": {
      "text/plain": [
       "array(['Gasoline', nan, 'Flex Fuel Vehicle', 'Diesel', 'Hybrid',\n",
       "       'Electric', 'Biodiesel', 'Compressed Natural Gas', 'Propane'],\n",
       "      dtype=object)"
      ]
     },
     "execution_count": 27,
     "metadata": {},
     "output_type": "execute_result"
    }
   ],
   "source": [
    "data['FuelType'].unique()"
   ]
  },
  {
   "cell_type": "markdown",
   "metadata": {},
   "source": [
    "------------------------------------"
   ]
  },
  {
   "cell_type": "markdown",
   "metadata": {},
   "source": [
    "##### DoorsNum"
   ]
  },
  {
   "cell_type": "code",
   "execution_count": 28,
   "metadata": {},
   "outputs": [
    {
     "data": {
      "text/plain": [
       "0          NaN\n",
       "1          NaN\n",
       "2            4\n",
       "3            2\n",
       "4            2\n",
       "          ... \n",
       "2375345      2\n",
       "2375346      2\n",
       "2375347      2\n",
       "2375348      2\n",
       "2375349      2\n",
       "Name: 0, Length: 2375350, dtype: object"
      ]
     },
     "execution_count": 28,
     "metadata": {},
     "output_type": "execute_result"
    }
   ],
   "source": [
    "data['DoorsNum'].str.split(' ',expand=True).iloc[:,0]"
   ]
  },
  {
   "cell_type": "code",
   "execution_count": 29,
   "metadata": {},
   "outputs": [],
   "source": [
    "data['DoorsNum'] = data['DoorsNum'].str.split(' ',expand=True).iloc[:,0]"
   ]
  },
  {
   "cell_type": "code",
   "execution_count": 30,
   "metadata": {},
   "outputs": [
    {
     "data": {
      "text/plain": [
       "array([nan, '4', '2', '3'], dtype=object)"
      ]
     },
     "execution_count": 30,
     "metadata": {},
     "output_type": "execute_result"
    }
   ],
   "source": [
    "data['DoorsNum'].unique()"
   ]
  },
  {
   "cell_type": "code",
   "execution_count": null,
   "metadata": {},
   "outputs": [],
   "source": []
  },
  {
   "cell_type": "code",
   "execution_count": 31,
   "metadata": {},
   "outputs": [],
   "source": [
    "def strtonum(x):\n",
    "    if type(x) == str:\n",
    "        return int(x)"
   ]
  },
  {
   "cell_type": "code",
   "execution_count": 32,
   "metadata": {},
   "outputs": [
    {
     "data": {
      "text/plain": [
       "0          NaN\n",
       "1          NaN\n",
       "2          4.0\n",
       "3          2.0\n",
       "4          2.0\n",
       "          ... \n",
       "2375345    2.0\n",
       "2375346    2.0\n",
       "2375347    2.0\n",
       "2375348    2.0\n",
       "2375349    2.0\n",
       "Name: DoorsNum, Length: 2375350, dtype: float64"
      ]
     },
     "execution_count": 32,
     "metadata": {},
     "output_type": "execute_result"
    }
   ],
   "source": [
    "data['DoorsNum'].apply(strtonum)"
   ]
  },
  {
   "cell_type": "code",
   "execution_count": 33,
   "metadata": {},
   "outputs": [
    {
     "data": {
      "text/plain": [
       "0          NaN\n",
       "1          NaN\n",
       "2            4\n",
       "3            2\n",
       "4            2\n",
       "          ... \n",
       "2375345      2\n",
       "2375346      2\n",
       "2375347      2\n",
       "2375348      2\n",
       "2375349      2\n",
       "Name: DoorsNum, Length: 2375350, dtype: object"
      ]
     },
     "execution_count": 33,
     "metadata": {},
     "output_type": "execute_result"
    }
   ],
   "source": [
    "data['DoorsNum']"
   ]
  },
  {
   "cell_type": "code",
   "execution_count": 34,
   "metadata": {},
   "outputs": [
    {
     "data": {
      "text/plain": [
       "array([nan, '4', '2', '3'], dtype=object)"
      ]
     },
     "execution_count": 34,
     "metadata": {},
     "output_type": "execute_result"
    }
   ],
   "source": [
    "data['DoorsNum'].unique()"
   ]
  },
  {
   "cell_type": "code",
   "execution_count": null,
   "metadata": {},
   "outputs": [],
   "source": []
  },
  {
   "cell_type": "markdown",
   "metadata": {},
   "source": [
    "----------------------------------------------------"
   ]
  },
  {
   "cell_type": "markdown",
   "metadata": {},
   "source": [
    "##### MaximumSeating"
   ]
  },
  {
   "cell_type": "code",
   "execution_count": 35,
   "metadata": {},
   "outputs": [],
   "source": [
    "data['MaximumSeating'] = data['MaximumSeating'].str.split(' ',expand=True).iloc[:,0]"
   ]
  },
  {
   "cell_type": "code",
   "execution_count": 36,
   "metadata": {},
   "outputs": [
    {
     "data": {
      "text/plain": [
       "array([nan, '6', '2', '5', '9', '4', '3', '12', '8', '7', '15', '10'],\n",
       "      dtype=object)"
      ]
     },
     "execution_count": 36,
     "metadata": {},
     "output_type": "execute_result"
    }
   ],
   "source": [
    "data['MaximumSeating'].unique()"
   ]
  },
  {
   "cell_type": "code",
   "execution_count": null,
   "metadata": {},
   "outputs": [],
   "source": []
  },
  {
   "cell_type": "markdown",
   "metadata": {},
   "source": [
    "-----------------------------------------------"
   ]
  },
  {
   "cell_type": "markdown",
   "metadata": {},
   "source": [
    "##### Engine"
   ]
  },
  {
   "cell_type": "code",
   "execution_count": 37,
   "metadata": {},
   "outputs": [
    {
     "data": {
      "text/plain": [
       "array(['V8', nan, 'V6', 'V8 Flex Fuel Vehicle', 'V6 Flex Fuel Vehicle',\n",
       "       'I4', 'V8 Diesel', 'I4 Flex Fuel Vehicle', 'I6', 'I4 Diesel',\n",
       "       'I4 Hybrid', 'I5', 'V8 Biodiesel', 'V8 Compressed Natural Gas',\n",
       "       'V8 Hybrid', 'V6 Compressed Natural Gas', 'I6 Diesel', 'I3', 'V12',\n",
       "       'V10', 'V6 Diesel', 'W12', 'V6 Biodiesel', 'I5 Biodiesel',\n",
       "       'V8 Propane', 'W12 Flex Fuel Vehicle', 'I5 Diesel', 'V12 Hybrid',\n",
       "       'I2', 'I6 Hybrid', 'V6 Hybrid', 'R2', 'H6', 'H4', 'H4 Hybrid',\n",
       "       'V10 Diesel', 'W8', 'I4 Compressed Natural Gas', 'I3 Hybrid'],\n",
       "      dtype=object)"
      ]
     },
     "execution_count": 37,
     "metadata": {},
     "output_type": "execute_result"
    }
   ],
   "source": [
    "data['Engine'].unique()"
   ]
  },
  {
   "cell_type": "code",
   "execution_count": 38,
   "metadata": {},
   "outputs": [],
   "source": [
    "def trans_engine(x):\n",
    "    if type(x)==str:\n",
    "        if 'V8' in x:\n",
    "            return 'V8'\n",
    "        elif 'V6' in x:\n",
    "            return 'V6'\n",
    "        elif 'I4' in x:\n",
    "            return 'I4'\n",
    "        elif 'I6' in x:\n",
    "            return 'I6'\n",
    "        elif 'I5' in x:\n",
    "            return 'I5'\n",
    "        elif 'I3' in x:\n",
    "            return 'I3'\n",
    "        elif 'V12' in x:\n",
    "            return 'V12'\n",
    "        elif 'W12' in x:\n",
    "            return 'W12'\n",
    "        elif 'H4' in x:\n",
    "            return 'H4'\n",
    "        elif 'V10' in x:\n",
    "            return 'V10'\n",
    "        else:\n",
    "            return x"
   ]
  },
  {
   "cell_type": "code",
   "execution_count": 39,
   "metadata": {},
   "outputs": [],
   "source": [
    "data['Engine'] = data['Engine'].apply(trans_engine)"
   ]
  },
  {
   "cell_type": "code",
   "execution_count": 40,
   "metadata": {},
   "outputs": [
    {
     "data": {
      "text/plain": [
       "array(['V8', None, 'V6', 'I4', 'I6', 'I5', 'I3', 'V12', 'V10', 'W12',\n",
       "       'I2', 'R2', 'H6', 'H4', 'W8'], dtype=object)"
      ]
     },
     "execution_count": 40,
     "metadata": {},
     "output_type": "execute_result"
    }
   ],
   "source": [
    "data['Engine'].unique()"
   ]
  },
  {
   "cell_type": "code",
   "execution_count": null,
   "metadata": {},
   "outputs": [],
   "source": []
  },
  {
   "cell_type": "markdown",
   "metadata": {},
   "source": [
    "--------------------------------------------------------"
   ]
  },
  {
   "cell_type": "markdown",
   "metadata": {},
   "source": [
    "##### Drivetrain"
   ]
  },
  {
   "cell_type": "code",
   "execution_count": 41,
   "metadata": {},
   "outputs": [
    {
     "data": {
      "text/plain": [
       "0                        NaN\n",
       "1                        NaN\n",
       "2           Four-Wheel Drive\n",
       "3           Rear-Wheel Drive\n",
       "4          Front-Wheel Drive\n",
       "                 ...        \n",
       "2375345    Front-Wheel Drive\n",
       "2375346    Front-Wheel Drive\n",
       "2375347    Front-Wheel Drive\n",
       "2375348    Front-Wheel Drive\n",
       "2375349    Front-Wheel Drive\n",
       "Name: Drivetrain, Length: 2375350, dtype: object"
      ]
     },
     "execution_count": 41,
     "metadata": {},
     "output_type": "execute_result"
    }
   ],
   "source": [
    "data['Drivetrain']"
   ]
  },
  {
   "cell_type": "code",
   "execution_count": 42,
   "metadata": {},
   "outputs": [
    {
     "data": {
      "text/plain": [
       "array([nan, 'Four-Wheel Drive', 'Rear-Wheel Drive', 'Front-Wheel Drive',\n",
       "       '4X2', 'All-Wheel Drive'], dtype=object)"
      ]
     },
     "execution_count": 42,
     "metadata": {},
     "output_type": "execute_result"
    }
   ],
   "source": [
    "data['Drivetrain'].unique()\n",
    "# Rear-Wheel Drive 後輪驅動\n",
    "# 4X2 「X」前的數字表示車輛車輪總數，「X」後面的數字表示驅動輪數\n",
    "#    實際上就是一輛兩軸的卡車，也就是俗稱的單橋車，他總共是4個車輪，後橋的2個車輪承擔驅動作用，所以標註為4X2。\n",
    "#    原文網址：https://kknews.cc/car/alk32x.html"
   ]
  },
  {
   "cell_type": "code",
   "execution_count": null,
   "metadata": {},
   "outputs": [],
   "source": []
  },
  {
   "cell_type": "markdown",
   "metadata": {},
   "source": [
    "------------------------------------------------"
   ]
  },
  {
   "cell_type": "markdown",
   "metadata": {},
   "source": [
    "### 2.處理類別型態資料"
   ]
  },
  {
   "cell_type": "code",
   "execution_count": 43,
   "metadata": {},
   "outputs": [],
   "source": [
    "newdata = data.drop(columns=['CarID','MakeId','Rental','VIN','InteriorColor','ExteriorColor','GasMileage_city','GasMileage_highway',\n",
    "                  'MajorOptions','Certified','OptionCount'])"
   ]
  },
  {
   "cell_type": "code",
   "execution_count": 44,
   "metadata": {},
   "outputs": [
    {
     "data": {
      "text/html": [
       "<div>\n",
       "<style scoped>\n",
       "    .dataframe tbody tr th:only-of-type {\n",
       "        vertical-align: middle;\n",
       "    }\n",
       "\n",
       "    .dataframe tbody tr th {\n",
       "        vertical-align: top;\n",
       "    }\n",
       "\n",
       "    .dataframe thead th {\n",
       "        text-align: right;\n",
       "    }\n",
       "</style>\n",
       "<table border=\"1\" class=\"dataframe\">\n",
       "  <thead>\n",
       "    <tr style=\"text-align: right;\">\n",
       "      <th></th>\n",
       "      <th>Title</th>\n",
       "      <th>BodyStyle</th>\n",
       "      <th>Location</th>\n",
       "      <th>Price</th>\n",
       "      <th>Mileage</th>\n",
       "      <th>Transmission</th>\n",
       "      <th>FuelType</th>\n",
       "      <th>DoorsNum</th>\n",
       "      <th>MaximumSeating</th>\n",
       "      <th>Engine</th>\n",
       "      <th>Drivetrain</th>\n",
       "      <th>Accident Check</th>\n",
       "      <th>OwnershipHistory</th>\n",
       "      <th>SellingDays</th>\n",
       "      <th>OriginPrice</th>\n",
       "    </tr>\n",
       "  </thead>\n",
       "  <tbody>\n",
       "    <tr>\n",
       "      <th>0</th>\n",
       "      <td>2007 Chevrolet Tahoe - $11,999</td>\n",
       "      <td>suv</td>\n",
       "      <td>Garland, TX</td>\n",
       "      <td>11999.0</td>\n",
       "      <td>129280.0</td>\n",
       "      <td>Automatic</td>\n",
       "      <td>Gasoline</td>\n",
       "      <td>NaN</td>\n",
       "      <td>NaN</td>\n",
       "      <td>V8</td>\n",
       "      <td>NaN</td>\n",
       "      <td>0.0</td>\n",
       "      <td>2.0</td>\n",
       "      <td>1873</td>\n",
       "      <td>12999.0</td>\n",
       "    </tr>\n",
       "    <tr>\n",
       "      <th>1</th>\n",
       "      <td>2005 Chevrolet Express - $11,995</td>\n",
       "      <td>van</td>\n",
       "      <td>Claremont, NH</td>\n",
       "      <td>11995.0</td>\n",
       "      <td>118113.0</td>\n",
       "      <td>Automatic</td>\n",
       "      <td>NaN</td>\n",
       "      <td>NaN</td>\n",
       "      <td>NaN</td>\n",
       "      <td>None</td>\n",
       "      <td>NaN</td>\n",
       "      <td>1.0</td>\n",
       "      <td>1.0</td>\n",
       "      <td>1863</td>\n",
       "      <td>NaN</td>\n",
       "    </tr>\n",
       "    <tr>\n",
       "      <th>2</th>\n",
       "      <td>2010 Chevrolet Silverado 2500HD Work Truck Ext...</td>\n",
       "      <td>pickup_truck</td>\n",
       "      <td>Frankfort, KY</td>\n",
       "      <td>15900.0</td>\n",
       "      <td>144000.0</td>\n",
       "      <td>Automatic</td>\n",
       "      <td>Gasoline</td>\n",
       "      <td>4</td>\n",
       "      <td>6</td>\n",
       "      <td>V8</td>\n",
       "      <td>Four-Wheel Drive</td>\n",
       "      <td>0.0</td>\n",
       "      <td>2.0</td>\n",
       "      <td>1837</td>\n",
       "      <td>16900.0</td>\n",
       "    </tr>\n",
       "    <tr>\n",
       "      <th>3</th>\n",
       "      <td>2014 Chevrolet Corvette Stingray 3LT Coupe RWD...</td>\n",
       "      <td>coupe</td>\n",
       "      <td>Lewistown, MT</td>\n",
       "      <td>49995.0</td>\n",
       "      <td>2500.0</td>\n",
       "      <td>Manual</td>\n",
       "      <td>Gasoline</td>\n",
       "      <td>2</td>\n",
       "      <td>2</td>\n",
       "      <td>V8</td>\n",
       "      <td>Rear-Wheel Drive</td>\n",
       "      <td>0.0</td>\n",
       "      <td>1.0</td>\n",
       "      <td>1832</td>\n",
       "      <td>62900.0</td>\n",
       "    </tr>\n",
       "    <tr>\n",
       "      <th>4</th>\n",
       "      <td>2002 Chevrolet Monte Carlo SS FWD - $3,440</td>\n",
       "      <td>coupe</td>\n",
       "      <td>Delavan, IL</td>\n",
       "      <td>3440.0</td>\n",
       "      <td>174000.0</td>\n",
       "      <td>Automatic</td>\n",
       "      <td>Gasoline</td>\n",
       "      <td>2</td>\n",
       "      <td>5</td>\n",
       "      <td>V6</td>\n",
       "      <td>Front-Wheel Drive</td>\n",
       "      <td>0.0</td>\n",
       "      <td>2.0</td>\n",
       "      <td>1809</td>\n",
       "      <td>4800.0</td>\n",
       "    </tr>\n",
       "    <tr>\n",
       "      <th>5</th>\n",
       "      <td>2004 Chevrolet Monte Carlo LS FWD - $4,890</td>\n",
       "      <td>coupe</td>\n",
       "      <td>Delavan, IL</td>\n",
       "      <td>4890.0</td>\n",
       "      <td>115500.0</td>\n",
       "      <td>Automatic</td>\n",
       "      <td>Gasoline</td>\n",
       "      <td>2</td>\n",
       "      <td>5</td>\n",
       "      <td>V6</td>\n",
       "      <td>Front-Wheel Drive</td>\n",
       "      <td>0.0</td>\n",
       "      <td>3.0</td>\n",
       "      <td>1809</td>\n",
       "      <td>NaN</td>\n",
       "    </tr>\n",
       "    <tr>\n",
       "      <th>6</th>\n",
       "      <td>1998 Chevrolet C/K 2500 Silverado Extended Cab...</td>\n",
       "      <td>pickup_truck</td>\n",
       "      <td>Delavan, IL</td>\n",
       "      <td>4660.0</td>\n",
       "      <td>249000.0</td>\n",
       "      <td>Automatic</td>\n",
       "      <td>Gasoline</td>\n",
       "      <td>2</td>\n",
       "      <td>6</td>\n",
       "      <td>V8</td>\n",
       "      <td>Four-Wheel Drive</td>\n",
       "      <td>0.0</td>\n",
       "      <td>3.0</td>\n",
       "      <td>1809</td>\n",
       "      <td>NaN</td>\n",
       "    </tr>\n",
       "    <tr>\n",
       "      <th>7</th>\n",
       "      <td>2001 Chevrolet Silverado 1500 LT Extended Cab ...</td>\n",
       "      <td>pickup_truck</td>\n",
       "      <td>Delavan, IL</td>\n",
       "      <td>6550.0</td>\n",
       "      <td>188583.0</td>\n",
       "      <td>Automatic</td>\n",
       "      <td>Gasoline</td>\n",
       "      <td>4</td>\n",
       "      <td>5</td>\n",
       "      <td>V8</td>\n",
       "      <td>Rear-Wheel Drive</td>\n",
       "      <td>0.0</td>\n",
       "      <td>1.0</td>\n",
       "      <td>1809</td>\n",
       "      <td>NaN</td>\n",
       "    </tr>\n",
       "    <tr>\n",
       "      <th>8</th>\n",
       "      <td>2009 Chevrolet Equinox 2LT FWD - $9,960</td>\n",
       "      <td>crossover</td>\n",
       "      <td>Delavan, IL</td>\n",
       "      <td>9960.0</td>\n",
       "      <td>80124.0</td>\n",
       "      <td>Automatic</td>\n",
       "      <td>Gasoline</td>\n",
       "      <td>4</td>\n",
       "      <td>5</td>\n",
       "      <td>V6</td>\n",
       "      <td>Front-Wheel Drive</td>\n",
       "      <td>0.0</td>\n",
       "      <td>2.0</td>\n",
       "      <td>1809</td>\n",
       "      <td>12740.0</td>\n",
       "    </tr>\n",
       "    <tr>\n",
       "      <th>9</th>\n",
       "      <td>2004 Chevrolet Silverado 1500 LS Extended Cab ...</td>\n",
       "      <td>pickup_truck</td>\n",
       "      <td>Delavan, IL</td>\n",
       "      <td>9220.0</td>\n",
       "      <td>103000.0</td>\n",
       "      <td>Automatic</td>\n",
       "      <td>Gasoline</td>\n",
       "      <td>4</td>\n",
       "      <td>6</td>\n",
       "      <td>V8</td>\n",
       "      <td>Rear-Wheel Drive</td>\n",
       "      <td>0.0</td>\n",
       "      <td>1.0</td>\n",
       "      <td>1809</td>\n",
       "      <td>NaN</td>\n",
       "    </tr>\n",
       "  </tbody>\n",
       "</table>\n",
       "</div>"
      ],
      "text/plain": [
       "                                               Title     BodyStyle       Location    Price   Mileage Transmission  FuelType DoorsNum MaximumSeating Engine         Drivetrain  Accident Check  OwnershipHistory  SellingDays  OriginPrice\n",
       "0                     2007 Chevrolet Tahoe - $11,999           suv    Garland, TX  11999.0  129280.0    Automatic  Gasoline      NaN            NaN     V8                NaN             0.0               2.0         1873      12999.0\n",
       "1                   2005 Chevrolet Express - $11,995           van  Claremont, NH  11995.0  118113.0    Automatic       NaN      NaN            NaN   None                NaN             1.0               1.0         1863          NaN\n",
       "2  2010 Chevrolet Silverado 2500HD Work Truck Ext...  pickup_truck  Frankfort, KY  15900.0  144000.0    Automatic  Gasoline        4              6     V8   Four-Wheel Drive             0.0               2.0         1837      16900.0\n",
       "3  2014 Chevrolet Corvette Stingray 3LT Coupe RWD...         coupe  Lewistown, MT  49995.0    2500.0       Manual  Gasoline        2              2     V8   Rear-Wheel Drive             0.0               1.0         1832      62900.0\n",
       "4         2002 Chevrolet Monte Carlo SS FWD - $3,440         coupe    Delavan, IL   3440.0  174000.0    Automatic  Gasoline        2              5     V6  Front-Wheel Drive             0.0               2.0         1809       4800.0\n",
       "5         2004 Chevrolet Monte Carlo LS FWD - $4,890         coupe    Delavan, IL   4890.0  115500.0    Automatic  Gasoline        2              5     V6  Front-Wheel Drive             0.0               3.0         1809          NaN\n",
       "6  1998 Chevrolet C/K 2500 Silverado Extended Cab...  pickup_truck    Delavan, IL   4660.0  249000.0    Automatic  Gasoline        2              6     V8   Four-Wheel Drive             0.0               3.0         1809          NaN\n",
       "7  2001 Chevrolet Silverado 1500 LT Extended Cab ...  pickup_truck    Delavan, IL   6550.0  188583.0    Automatic  Gasoline        4              5     V8   Rear-Wheel Drive             0.0               1.0         1809          NaN\n",
       "8            2009 Chevrolet Equinox 2LT FWD - $9,960     crossover    Delavan, IL   9960.0   80124.0    Automatic  Gasoline        4              5     V6  Front-Wheel Drive             0.0               2.0         1809      12740.0\n",
       "9  2004 Chevrolet Silverado 1500 LS Extended Cab ...  pickup_truck    Delavan, IL   9220.0  103000.0    Automatic  Gasoline        4              6     V8   Rear-Wheel Drive             0.0               1.0         1809          NaN"
      ]
     },
     "execution_count": 44,
     "metadata": {},
     "output_type": "execute_result"
    }
   ],
   "source": [
    "newdata.head(10)"
   ]
  },
  {
   "cell_type": "code",
   "execution_count": 45,
   "metadata": {},
   "outputs": [],
   "source": [
    "newdata = newdata.drop(columns=['Title'])"
   ]
  },
  {
   "cell_type": "code",
   "execution_count": 46,
   "metadata": {},
   "outputs": [
    {
     "data": {
      "text/html": [
       "<div>\n",
       "<style scoped>\n",
       "    .dataframe tbody tr th:only-of-type {\n",
       "        vertical-align: middle;\n",
       "    }\n",
       "\n",
       "    .dataframe tbody tr th {\n",
       "        vertical-align: top;\n",
       "    }\n",
       "\n",
       "    .dataframe thead th {\n",
       "        text-align: right;\n",
       "    }\n",
       "</style>\n",
       "<table border=\"1\" class=\"dataframe\">\n",
       "  <thead>\n",
       "    <tr style=\"text-align: right;\">\n",
       "      <th></th>\n",
       "      <th>BodyStyle</th>\n",
       "      <th>Location</th>\n",
       "      <th>Price</th>\n",
       "      <th>Mileage</th>\n",
       "      <th>Transmission</th>\n",
       "      <th>FuelType</th>\n",
       "      <th>DoorsNum</th>\n",
       "      <th>MaximumSeating</th>\n",
       "      <th>Engine</th>\n",
       "      <th>Drivetrain</th>\n",
       "      <th>Accident Check</th>\n",
       "      <th>OwnershipHistory</th>\n",
       "      <th>SellingDays</th>\n",
       "      <th>OriginPrice</th>\n",
       "    </tr>\n",
       "  </thead>\n",
       "  <tbody>\n",
       "    <tr>\n",
       "      <th>0</th>\n",
       "      <td>suv</td>\n",
       "      <td>Garland, TX</td>\n",
       "      <td>11999.0</td>\n",
       "      <td>129280.0</td>\n",
       "      <td>Automatic</td>\n",
       "      <td>Gasoline</td>\n",
       "      <td>NaN</td>\n",
       "      <td>NaN</td>\n",
       "      <td>V8</td>\n",
       "      <td>NaN</td>\n",
       "      <td>0.0</td>\n",
       "      <td>2.0</td>\n",
       "      <td>1873</td>\n",
       "      <td>12999.0</td>\n",
       "    </tr>\n",
       "    <tr>\n",
       "      <th>1</th>\n",
       "      <td>van</td>\n",
       "      <td>Claremont, NH</td>\n",
       "      <td>11995.0</td>\n",
       "      <td>118113.0</td>\n",
       "      <td>Automatic</td>\n",
       "      <td>NaN</td>\n",
       "      <td>NaN</td>\n",
       "      <td>NaN</td>\n",
       "      <td>None</td>\n",
       "      <td>NaN</td>\n",
       "      <td>1.0</td>\n",
       "      <td>1.0</td>\n",
       "      <td>1863</td>\n",
       "      <td>NaN</td>\n",
       "    </tr>\n",
       "    <tr>\n",
       "      <th>2</th>\n",
       "      <td>pickup_truck</td>\n",
       "      <td>Frankfort, KY</td>\n",
       "      <td>15900.0</td>\n",
       "      <td>144000.0</td>\n",
       "      <td>Automatic</td>\n",
       "      <td>Gasoline</td>\n",
       "      <td>4</td>\n",
       "      <td>6</td>\n",
       "      <td>V8</td>\n",
       "      <td>Four-Wheel Drive</td>\n",
       "      <td>0.0</td>\n",
       "      <td>2.0</td>\n",
       "      <td>1837</td>\n",
       "      <td>16900.0</td>\n",
       "    </tr>\n",
       "    <tr>\n",
       "      <th>3</th>\n",
       "      <td>coupe</td>\n",
       "      <td>Lewistown, MT</td>\n",
       "      <td>49995.0</td>\n",
       "      <td>2500.0</td>\n",
       "      <td>Manual</td>\n",
       "      <td>Gasoline</td>\n",
       "      <td>2</td>\n",
       "      <td>2</td>\n",
       "      <td>V8</td>\n",
       "      <td>Rear-Wheel Drive</td>\n",
       "      <td>0.0</td>\n",
       "      <td>1.0</td>\n",
       "      <td>1832</td>\n",
       "      <td>62900.0</td>\n",
       "    </tr>\n",
       "    <tr>\n",
       "      <th>4</th>\n",
       "      <td>coupe</td>\n",
       "      <td>Delavan, IL</td>\n",
       "      <td>3440.0</td>\n",
       "      <td>174000.0</td>\n",
       "      <td>Automatic</td>\n",
       "      <td>Gasoline</td>\n",
       "      <td>2</td>\n",
       "      <td>5</td>\n",
       "      <td>V6</td>\n",
       "      <td>Front-Wheel Drive</td>\n",
       "      <td>0.0</td>\n",
       "      <td>2.0</td>\n",
       "      <td>1809</td>\n",
       "      <td>4800.0</td>\n",
       "    </tr>\n",
       "  </tbody>\n",
       "</table>\n",
       "</div>"
      ],
      "text/plain": [
       "      BodyStyle       Location    Price   Mileage Transmission  FuelType DoorsNum MaximumSeating Engine         Drivetrain  Accident Check  OwnershipHistory  SellingDays  OriginPrice\n",
       "0           suv    Garland, TX  11999.0  129280.0    Automatic  Gasoline      NaN            NaN     V8                NaN             0.0               2.0         1873      12999.0\n",
       "1           van  Claremont, NH  11995.0  118113.0    Automatic       NaN      NaN            NaN   None                NaN             1.0               1.0         1863          NaN\n",
       "2  pickup_truck  Frankfort, KY  15900.0  144000.0    Automatic  Gasoline        4              6     V8   Four-Wheel Drive             0.0               2.0         1837      16900.0\n",
       "3         coupe  Lewistown, MT  49995.0    2500.0       Manual  Gasoline        2              2     V8   Rear-Wheel Drive             0.0               1.0         1832      62900.0\n",
       "4         coupe    Delavan, IL   3440.0  174000.0    Automatic  Gasoline        2              5     V6  Front-Wheel Drive             0.0               2.0         1809       4800.0"
      ]
     },
     "execution_count": 46,
     "metadata": {},
     "output_type": "execute_result"
    }
   ],
   "source": [
    "newdata.head(5)"
   ]
  },
  {
   "cell_type": "code",
   "execution_count": 47,
   "metadata": {},
   "outputs": [],
   "source": [
    "newdata.insert(0, \"Title\", Title_only, True)\n",
    "# 將原本的 Title 欄位 drop掉後 , 用上面做出來的 Title only換掉"
   ]
  },
  {
   "cell_type": "code",
   "execution_count": 48,
   "metadata": {},
   "outputs": [],
   "source": [
    "newdata = newdata.drop(columns=['Location'])"
   ]
  },
  {
   "cell_type": "code",
   "execution_count": 49,
   "metadata": {},
   "outputs": [],
   "source": [
    "newdata.insert(1, \"Location\", location, True)"
   ]
  },
  {
   "cell_type": "code",
   "execution_count": 50,
   "metadata": {},
   "outputs": [
    {
     "data": {
      "text/html": [
       "<div>\n",
       "<style scoped>\n",
       "    .dataframe tbody tr th:only-of-type {\n",
       "        vertical-align: middle;\n",
       "    }\n",
       "\n",
       "    .dataframe tbody tr th {\n",
       "        vertical-align: top;\n",
       "    }\n",
       "\n",
       "    .dataframe thead th {\n",
       "        text-align: right;\n",
       "    }\n",
       "</style>\n",
       "<table border=\"1\" class=\"dataframe\">\n",
       "  <thead>\n",
       "    <tr style=\"text-align: right;\">\n",
       "      <th></th>\n",
       "      <th>Title</th>\n",
       "      <th>Location</th>\n",
       "      <th>BodyStyle</th>\n",
       "      <th>Price</th>\n",
       "      <th>Mileage</th>\n",
       "      <th>Transmission</th>\n",
       "      <th>FuelType</th>\n",
       "      <th>DoorsNum</th>\n",
       "      <th>MaximumSeating</th>\n",
       "      <th>Engine</th>\n",
       "      <th>Drivetrain</th>\n",
       "      <th>Accident Check</th>\n",
       "      <th>OwnershipHistory</th>\n",
       "      <th>SellingDays</th>\n",
       "      <th>OriginPrice</th>\n",
       "    </tr>\n",
       "  </thead>\n",
       "  <tbody>\n",
       "    <tr>\n",
       "      <th>0</th>\n",
       "      <td>Chevrolet Tahoe</td>\n",
       "      <td>TX</td>\n",
       "      <td>suv</td>\n",
       "      <td>11999.0</td>\n",
       "      <td>129280.0</td>\n",
       "      <td>Automatic</td>\n",
       "      <td>Gasoline</td>\n",
       "      <td>NaN</td>\n",
       "      <td>NaN</td>\n",
       "      <td>V8</td>\n",
       "      <td>NaN</td>\n",
       "      <td>0.0</td>\n",
       "      <td>2.0</td>\n",
       "      <td>1873</td>\n",
       "      <td>12999.0</td>\n",
       "    </tr>\n",
       "    <tr>\n",
       "      <th>1</th>\n",
       "      <td>Chevrolet Express</td>\n",
       "      <td>NH</td>\n",
       "      <td>van</td>\n",
       "      <td>11995.0</td>\n",
       "      <td>118113.0</td>\n",
       "      <td>Automatic</td>\n",
       "      <td>NaN</td>\n",
       "      <td>NaN</td>\n",
       "      <td>NaN</td>\n",
       "      <td>None</td>\n",
       "      <td>NaN</td>\n",
       "      <td>1.0</td>\n",
       "      <td>1.0</td>\n",
       "      <td>1863</td>\n",
       "      <td>NaN</td>\n",
       "    </tr>\n",
       "    <tr>\n",
       "      <th>2</th>\n",
       "      <td>Chevrolet Silverado 2500HD Work Truck Extended...</td>\n",
       "      <td>KY</td>\n",
       "      <td>pickup_truck</td>\n",
       "      <td>15900.0</td>\n",
       "      <td>144000.0</td>\n",
       "      <td>Automatic</td>\n",
       "      <td>Gasoline</td>\n",
       "      <td>4</td>\n",
       "      <td>6</td>\n",
       "      <td>V8</td>\n",
       "      <td>Four-Wheel Drive</td>\n",
       "      <td>0.0</td>\n",
       "      <td>2.0</td>\n",
       "      <td>1837</td>\n",
       "      <td>16900.0</td>\n",
       "    </tr>\n",
       "    <tr>\n",
       "      <th>3</th>\n",
       "      <td>Chevrolet Corvette Stingray 3LT Coupe RWD</td>\n",
       "      <td>MT</td>\n",
       "      <td>coupe</td>\n",
       "      <td>49995.0</td>\n",
       "      <td>2500.0</td>\n",
       "      <td>Manual</td>\n",
       "      <td>Gasoline</td>\n",
       "      <td>2</td>\n",
       "      <td>2</td>\n",
       "      <td>V8</td>\n",
       "      <td>Rear-Wheel Drive</td>\n",
       "      <td>0.0</td>\n",
       "      <td>1.0</td>\n",
       "      <td>1832</td>\n",
       "      <td>62900.0</td>\n",
       "    </tr>\n",
       "    <tr>\n",
       "      <th>4</th>\n",
       "      <td>Chevrolet Monte Carlo SS FWD</td>\n",
       "      <td>IL</td>\n",
       "      <td>coupe</td>\n",
       "      <td>3440.0</td>\n",
       "      <td>174000.0</td>\n",
       "      <td>Automatic</td>\n",
       "      <td>Gasoline</td>\n",
       "      <td>2</td>\n",
       "      <td>5</td>\n",
       "      <td>V6</td>\n",
       "      <td>Front-Wheel Drive</td>\n",
       "      <td>0.0</td>\n",
       "      <td>2.0</td>\n",
       "      <td>1809</td>\n",
       "      <td>4800.0</td>\n",
       "    </tr>\n",
       "  </tbody>\n",
       "</table>\n",
       "</div>"
      ],
      "text/plain": [
       "                                               Title Location     BodyStyle    Price   Mileage Transmission  FuelType DoorsNum MaximumSeating Engine         Drivetrain  Accident Check  OwnershipHistory  SellingDays  OriginPrice\n",
       "0                                    Chevrolet Tahoe       TX           suv  11999.0  129280.0    Automatic  Gasoline      NaN            NaN     V8                NaN             0.0               2.0         1873      12999.0\n",
       "1                                  Chevrolet Express       NH           van  11995.0  118113.0    Automatic       NaN      NaN            NaN   None                NaN             1.0               1.0         1863          NaN\n",
       "2  Chevrolet Silverado 2500HD Work Truck Extended...       KY  pickup_truck  15900.0  144000.0    Automatic  Gasoline        4              6     V8   Four-Wheel Drive             0.0               2.0         1837      16900.0\n",
       "3          Chevrolet Corvette Stingray 3LT Coupe RWD       MT         coupe  49995.0    2500.0       Manual  Gasoline        2              2     V8   Rear-Wheel Drive             0.0               1.0         1832      62900.0\n",
       "4                       Chevrolet Monte Carlo SS FWD       IL         coupe   3440.0  174000.0    Automatic  Gasoline        2              5     V6  Front-Wheel Drive             0.0               2.0         1809       4800.0"
      ]
     },
     "execution_count": 50,
     "metadata": {},
     "output_type": "execute_result"
    }
   ],
   "source": [
    "newdata.head(5)"
   ]
  },
  {
   "cell_type": "code",
   "execution_count": 51,
   "metadata": {},
   "outputs": [],
   "source": [
    "newdata = newdata.drop(columns=['Title'])"
   ]
  },
  {
   "cell_type": "code",
   "execution_count": 52,
   "metadata": {},
   "outputs": [
    {
     "data": {
      "text/html": [
       "<div>\n",
       "<style scoped>\n",
       "    .dataframe tbody tr th:only-of-type {\n",
       "        vertical-align: middle;\n",
       "    }\n",
       "\n",
       "    .dataframe tbody tr th {\n",
       "        vertical-align: top;\n",
       "    }\n",
       "\n",
       "    .dataframe thead th {\n",
       "        text-align: right;\n",
       "    }\n",
       "</style>\n",
       "<table border=\"1\" class=\"dataframe\">\n",
       "  <thead>\n",
       "    <tr style=\"text-align: right;\">\n",
       "      <th></th>\n",
       "      <th>Location</th>\n",
       "      <th>BodyStyle</th>\n",
       "      <th>Price</th>\n",
       "      <th>Mileage</th>\n",
       "      <th>Transmission</th>\n",
       "      <th>FuelType</th>\n",
       "      <th>DoorsNum</th>\n",
       "      <th>MaximumSeating</th>\n",
       "      <th>Engine</th>\n",
       "      <th>Drivetrain</th>\n",
       "      <th>Accident Check</th>\n",
       "      <th>OwnershipHistory</th>\n",
       "      <th>SellingDays</th>\n",
       "      <th>OriginPrice</th>\n",
       "    </tr>\n",
       "  </thead>\n",
       "  <tbody>\n",
       "    <tr>\n",
       "      <th>0</th>\n",
       "      <td>TX</td>\n",
       "      <td>suv</td>\n",
       "      <td>11999.0</td>\n",
       "      <td>129280.0</td>\n",
       "      <td>Automatic</td>\n",
       "      <td>Gasoline</td>\n",
       "      <td>NaN</td>\n",
       "      <td>NaN</td>\n",
       "      <td>V8</td>\n",
       "      <td>NaN</td>\n",
       "      <td>0.0</td>\n",
       "      <td>2.0</td>\n",
       "      <td>1873</td>\n",
       "      <td>12999.0</td>\n",
       "    </tr>\n",
       "    <tr>\n",
       "      <th>1</th>\n",
       "      <td>NH</td>\n",
       "      <td>van</td>\n",
       "      <td>11995.0</td>\n",
       "      <td>118113.0</td>\n",
       "      <td>Automatic</td>\n",
       "      <td>NaN</td>\n",
       "      <td>NaN</td>\n",
       "      <td>NaN</td>\n",
       "      <td>None</td>\n",
       "      <td>NaN</td>\n",
       "      <td>1.0</td>\n",
       "      <td>1.0</td>\n",
       "      <td>1863</td>\n",
       "      <td>NaN</td>\n",
       "    </tr>\n",
       "    <tr>\n",
       "      <th>2</th>\n",
       "      <td>KY</td>\n",
       "      <td>pickup_truck</td>\n",
       "      <td>15900.0</td>\n",
       "      <td>144000.0</td>\n",
       "      <td>Automatic</td>\n",
       "      <td>Gasoline</td>\n",
       "      <td>4</td>\n",
       "      <td>6</td>\n",
       "      <td>V8</td>\n",
       "      <td>Four-Wheel Drive</td>\n",
       "      <td>0.0</td>\n",
       "      <td>2.0</td>\n",
       "      <td>1837</td>\n",
       "      <td>16900.0</td>\n",
       "    </tr>\n",
       "  </tbody>\n",
       "</table>\n",
       "</div>"
      ],
      "text/plain": [
       "  Location     BodyStyle    Price   Mileage Transmission  FuelType DoorsNum MaximumSeating Engine        Drivetrain  Accident Check  OwnershipHistory  SellingDays  OriginPrice\n",
       "0       TX           suv  11999.0  129280.0    Automatic  Gasoline      NaN            NaN     V8               NaN             0.0               2.0         1873      12999.0\n",
       "1       NH           van  11995.0  118113.0    Automatic       NaN      NaN            NaN   None               NaN             1.0               1.0         1863          NaN\n",
       "2       KY  pickup_truck  15900.0  144000.0    Automatic  Gasoline        4              6     V8  Four-Wheel Drive             0.0               2.0         1837      16900.0"
      ]
     },
     "execution_count": 52,
     "metadata": {},
     "output_type": "execute_result"
    }
   ],
   "source": [
    "newdata.head(3)"
   ]
  },
  {
   "cell_type": "code",
   "execution_count": 53,
   "metadata": {},
   "outputs": [
    {
     "data": {
      "text/plain": [
       "Location             object\n",
       "BodyStyle            object\n",
       "Price               float64\n",
       "Mileage             float64\n",
       "Transmission         object\n",
       "FuelType             object\n",
       "DoorsNum             object\n",
       "MaximumSeating       object\n",
       "Engine               object\n",
       "Drivetrain           object\n",
       "Accident Check      float64\n",
       "OwnershipHistory    float64\n",
       "SellingDays           int64\n",
       "OriginPrice         float64\n",
       "dtype: object"
      ]
     },
     "execution_count": 53,
     "metadata": {},
     "output_type": "execute_result"
    }
   ],
   "source": [
    "newdata.dtypes"
   ]
  },
  {
   "cell_type": "code",
   "execution_count": 54,
   "metadata": {},
   "outputs": [
    {
     "data": {
      "text/plain": [
       "Location                  0\n",
       "BodyStyle              3245\n",
       "Price                128142\n",
       "Mileage               35999\n",
       "Transmission          43703\n",
       "FuelType              56003\n",
       "DoorsNum            1139822\n",
       "MaximumSeating       115232\n",
       "Engine                60814\n",
       "Drivetrain           115321\n",
       "Accident Check        32329\n",
       "OwnershipHistory      70706\n",
       "SellingDays               0\n",
       "OriginPrice         1124126\n",
       "dtype: int64"
      ]
     },
     "execution_count": 54,
     "metadata": {},
     "output_type": "execute_result"
    }
   ],
   "source": [
    "newdata.isnull().sum()"
   ]
  },
  {
   "cell_type": "code",
   "execution_count": 55,
   "metadata": {},
   "outputs": [],
   "source": [
    "newdata = newdata.dropna(subset=['Price'])"
   ]
  },
  {
   "cell_type": "code",
   "execution_count": 56,
   "metadata": {},
   "outputs": [
    {
     "data": {
      "text/plain": [
       "Location                  0\n",
       "BodyStyle              3009\n",
       "Price                     0\n",
       "Mileage               24052\n",
       "Transmission          35354\n",
       "FuelType              51693\n",
       "DoorsNum            1086584\n",
       "MaximumSeating       100710\n",
       "Engine                56342\n",
       "Drivetrain           100756\n",
       "Accident Check        28850\n",
       "OwnershipHistory      64039\n",
       "SellingDays               0\n",
       "OriginPrice          999285\n",
       "dtype: int64"
      ]
     },
     "execution_count": 56,
     "metadata": {},
     "output_type": "execute_result"
    }
   ],
   "source": [
    "newdata.isnull().sum()"
   ]
  },
  {
   "cell_type": "code",
   "execution_count": 57,
   "metadata": {},
   "outputs": [],
   "source": [
    "newdata = newdata.dropna(subset=['Mileage'])"
   ]
  },
  {
   "cell_type": "code",
   "execution_count": 58,
   "metadata": {},
   "outputs": [
    {
     "data": {
      "text/plain": [
       "Location                  0\n",
       "BodyStyle              2620\n",
       "Price                     0\n",
       "Mileage                   0\n",
       "Transmission          33820\n",
       "FuelType              48822\n",
       "DoorsNum            1073776\n",
       "MaximumSeating        96711\n",
       "Engine                53383\n",
       "Drivetrain            96762\n",
       "Accident Check        26313\n",
       "OwnershipHistory      55879\n",
       "SellingDays               0\n",
       "OriginPrice          984435\n",
       "dtype: int64"
      ]
     },
     "execution_count": 58,
     "metadata": {},
     "output_type": "execute_result"
    }
   ],
   "source": [
    "newdata.isnull().sum()"
   ]
  },
  {
   "cell_type": "code",
   "execution_count": 59,
   "metadata": {},
   "outputs": [
    {
     "data": {
      "text/plain": [
       "2223156"
      ]
     },
     "execution_count": 59,
     "metadata": {},
     "output_type": "execute_result"
    }
   ],
   "source": [
    "len(newdata)"
   ]
  },
  {
   "cell_type": "code",
   "execution_count": null,
   "metadata": {},
   "outputs": [],
   "source": []
  },
  {
   "cell_type": "code",
   "execution_count": 60,
   "metadata": {},
   "outputs": [],
   "source": [
    "from sklearn.preprocessing import Imputer"
   ]
  },
  {
   "cell_type": "code",
   "execution_count": 61,
   "metadata": {},
   "outputs": [
    {
     "name": "stderr",
     "output_type": "stream",
     "text": [
      "c:\\program files\\python37\\lib\\site-packages\\sklearn\\utils\\deprecation.py:66: DeprecationWarning: Class Imputer is deprecated; Imputer was deprecated in version 0.20 and will be removed in 0.22. Import impute.SimpleImputer from sklearn instead.\n",
      "  warnings.warn(msg, category=DeprecationWarning)\n"
     ]
    }
   ],
   "source": [
    "imr = Imputer(missing_values='NaN', strategy='most_frequent', axis=0)"
   ]
  },
  {
   "cell_type": "code",
   "execution_count": 62,
   "metadata": {},
   "outputs": [],
   "source": [
    "newdata[['DoorsNum']] = imr.fit_transform(newdata[['DoorsNum']])"
   ]
  },
  {
   "cell_type": "code",
   "execution_count": 63,
   "metadata": {},
   "outputs": [
    {
     "data": {
      "text/plain": [
       "Location                 0\n",
       "BodyStyle             2620\n",
       "Price                    0\n",
       "Mileage                  0\n",
       "Transmission         33820\n",
       "FuelType             48822\n",
       "DoorsNum                 0\n",
       "MaximumSeating       96711\n",
       "Engine               53383\n",
       "Drivetrain           96762\n",
       "Accident Check       26313\n",
       "OwnershipHistory     55879\n",
       "SellingDays              0\n",
       "OriginPrice         984435\n",
       "dtype: int64"
      ]
     },
     "execution_count": 63,
     "metadata": {},
     "output_type": "execute_result"
    }
   ],
   "source": [
    "newdata.isnull().sum()"
   ]
  },
  {
   "cell_type": "code",
   "execution_count": 64,
   "metadata": {},
   "outputs": [],
   "source": [
    "newdata[['MaximumSeating']] = imr.fit_transform(newdata[['MaximumSeating']])"
   ]
  },
  {
   "cell_type": "code",
   "execution_count": 65,
   "metadata": {},
   "outputs": [
    {
     "data": {
      "text/plain": [
       "Location                 0\n",
       "BodyStyle             2620\n",
       "Price                    0\n",
       "Mileage                  0\n",
       "Transmission         33820\n",
       "FuelType             48822\n",
       "DoorsNum                 0\n",
       "MaximumSeating           0\n",
       "Engine               53383\n",
       "Drivetrain           96762\n",
       "Accident Check       26313\n",
       "OwnershipHistory     55879\n",
       "SellingDays              0\n",
       "OriginPrice         984435\n",
       "dtype: int64"
      ]
     },
     "execution_count": 65,
     "metadata": {},
     "output_type": "execute_result"
    }
   ],
   "source": [
    "newdata.isnull().sum()"
   ]
  },
  {
   "cell_type": "code",
   "execution_count": null,
   "metadata": {},
   "outputs": [],
   "source": []
  },
  {
   "cell_type": "code",
   "execution_count": 66,
   "metadata": {},
   "outputs": [],
   "source": [
    "newdata['OriginPrice'] = newdata['OriginPrice'].fillna(newdata['Price'])"
   ]
  },
  {
   "cell_type": "code",
   "execution_count": 67,
   "metadata": {},
   "outputs": [
    {
     "data": {
      "text/plain": [
       "Location                0\n",
       "BodyStyle            2620\n",
       "Price                   0\n",
       "Mileage                 0\n",
       "Transmission        33820\n",
       "FuelType            48822\n",
       "DoorsNum                0\n",
       "MaximumSeating          0\n",
       "Engine              53383\n",
       "Drivetrain          96762\n",
       "Accident Check      26313\n",
       "OwnershipHistory    55879\n",
       "SellingDays             0\n",
       "OriginPrice             0\n",
       "dtype: int64"
      ]
     },
     "execution_count": 67,
     "metadata": {},
     "output_type": "execute_result"
    }
   ],
   "source": [
    "newdata.isnull().sum()"
   ]
  },
  {
   "cell_type": "code",
   "execution_count": 68,
   "metadata": {},
   "outputs": [],
   "source": [
    "newdata = newdata.fillna(newdata.mode().iloc[0])\n",
    "# 用每一個欄位 ,各自的眾數(most frequent)來補空值 "
   ]
  },
  {
   "cell_type": "code",
   "execution_count": 69,
   "metadata": {},
   "outputs": [
    {
     "data": {
      "text/plain": [
       "Location            0\n",
       "BodyStyle           0\n",
       "Price               0\n",
       "Mileage             0\n",
       "Transmission        0\n",
       "FuelType            0\n",
       "DoorsNum            0\n",
       "MaximumSeating      0\n",
       "Engine              0\n",
       "Drivetrain          0\n",
       "Accident Check      0\n",
       "OwnershipHistory    0\n",
       "SellingDays         0\n",
       "OriginPrice         0\n",
       "dtype: int64"
      ]
     },
     "execution_count": 69,
     "metadata": {},
     "output_type": "execute_result"
    }
   ],
   "source": [
    "newdata.isnull().sum()"
   ]
  },
  {
   "cell_type": "code",
   "execution_count": 70,
   "metadata": {},
   "outputs": [
    {
     "data": {
      "text/plain": [
       "Location             object\n",
       "BodyStyle            object\n",
       "Price               float64\n",
       "Mileage             float64\n",
       "Transmission         object\n",
       "FuelType             object\n",
       "DoorsNum            float64\n",
       "MaximumSeating      float64\n",
       "Engine               object\n",
       "Drivetrain           object\n",
       "Accident Check      float64\n",
       "OwnershipHistory    float64\n",
       "SellingDays           int64\n",
       "OriginPrice         float64\n",
       "dtype: object"
      ]
     },
     "execution_count": 70,
     "metadata": {},
     "output_type": "execute_result"
    }
   ],
   "source": [
    "newdata.dtypes"
   ]
  },
  {
   "cell_type": "code",
   "execution_count": null,
   "metadata": {},
   "outputs": [],
   "source": []
  },
  {
   "cell_type": "markdown",
   "metadata": {},
   "source": [
    "---------------------------------------"
   ]
  },
  {
   "cell_type": "markdown",
   "metadata": {},
   "source": [
    "##### 將 newdata 和 state 合併"
   ]
  },
  {
   "cell_type": "code",
   "execution_count": 71,
   "metadata": {},
   "outputs": [],
   "source": [
    "state = pd.read_csv('StateResult.csv')"
   ]
  },
  {
   "cell_type": "code",
   "execution_count": 72,
   "metadata": {},
   "outputs": [
    {
     "data": {
      "text/html": [
       "<div>\n",
       "<style scoped>\n",
       "    .dataframe tbody tr th:only-of-type {\n",
       "        vertical-align: middle;\n",
       "    }\n",
       "\n",
       "    .dataframe tbody tr th {\n",
       "        vertical-align: top;\n",
       "    }\n",
       "\n",
       "    .dataframe thead th {\n",
       "        text-align: right;\n",
       "    }\n",
       "</style>\n",
       "<table border=\"1\" class=\"dataframe\">\n",
       "  <thead>\n",
       "    <tr style=\"text-align: right;\">\n",
       "      <th></th>\n",
       "      <th>Unnamed: 0</th>\n",
       "      <th>State</th>\n",
       "      <th>Median Household Income(USD)</th>\n",
       "      <th>Income Ranking</th>\n",
       "      <th>Abbreviation</th>\n",
       "      <th>OriginPrice</th>\n",
       "      <th>Cost Ranking</th>\n",
       "      <th>Density</th>\n",
       "      <th>Pop</th>\n",
       "      <th>LandArea</th>\n",
       "      <th>Vehicle Count</th>\n",
       "    </tr>\n",
       "  </thead>\n",
       "  <tbody>\n",
       "    <tr>\n",
       "      <th>0</th>\n",
       "      <td>0</td>\n",
       "      <td>District of Columbia</td>\n",
       "      <td>82604.0</td>\n",
       "      <td>1</td>\n",
       "      <td>DC</td>\n",
       "      <td>16599.842105</td>\n",
       "      <td>50</td>\n",
       "      <td>11665.0984</td>\n",
       "      <td>711571</td>\n",
       "      <td>61</td>\n",
       "      <td>39</td>\n",
       "    </tr>\n",
       "    <tr>\n",
       "      <th>1</th>\n",
       "      <td>1</td>\n",
       "      <td>New Jersey</td>\n",
       "      <td>79363.0</td>\n",
       "      <td>3</td>\n",
       "      <td>NJ</td>\n",
       "      <td>22646.412108</td>\n",
       "      <td>39</td>\n",
       "      <td>1213.2917</td>\n",
       "      <td>8922547</td>\n",
       "      <td>7354</td>\n",
       "      <td>68259</td>\n",
       "    </tr>\n",
       "    <tr>\n",
       "      <th>2</th>\n",
       "      <td>2</td>\n",
       "      <td>Massachusetts</td>\n",
       "      <td>77378.0</td>\n",
       "      <td>5</td>\n",
       "      <td>MA</td>\n",
       "      <td>23075.239772</td>\n",
       "      <td>28</td>\n",
       "      <td>889.6632</td>\n",
       "      <td>6939373</td>\n",
       "      <td>7800</td>\n",
       "      <td>53231</td>\n",
       "    </tr>\n",
       "    <tr>\n",
       "      <th>3</th>\n",
       "      <td>3</td>\n",
       "      <td>Connecticut</td>\n",
       "      <td>76106.0</td>\n",
       "      <td>7</td>\n",
       "      <td>CT</td>\n",
       "      <td>22848.884651</td>\n",
       "      <td>34</td>\n",
       "      <td>736.8589</td>\n",
       "      <td>3567871</td>\n",
       "      <td>4842</td>\n",
       "      <td>30298</td>\n",
       "    </tr>\n",
       "    <tr>\n",
       "      <th>4</th>\n",
       "      <td>4</td>\n",
       "      <td>Maryland</td>\n",
       "      <td>81868.0</td>\n",
       "      <td>2</td>\n",
       "      <td>MD</td>\n",
       "      <td>23859.104523</td>\n",
       "      <td>19</td>\n",
       "      <td>624.5923</td>\n",
       "      <td>6062917</td>\n",
       "      <td>9707</td>\n",
       "      <td>40098</td>\n",
       "    </tr>\n",
       "  </tbody>\n",
       "</table>\n",
       "</div>"
      ],
      "text/plain": [
       "   Unnamed: 0                 State  Median Household Income(USD)  Income Ranking Abbreviation   OriginPrice  Cost Ranking     Density      Pop  LandArea  Vehicle Count\n",
       "0           0  District of Columbia                       82604.0               1           DC  16599.842105            50  11665.0984   711571        61             39\n",
       "1           1            New Jersey                       79363.0               3           NJ  22646.412108            39   1213.2917  8922547      7354          68259\n",
       "2           2         Massachusetts                       77378.0               5           MA  23075.239772            28    889.6632  6939373      7800          53231\n",
       "3           3           Connecticut                       76106.0               7           CT  22848.884651            34    736.8589  3567871      4842          30298\n",
       "4           4              Maryland                       81868.0               2           MD  23859.104523            19    624.5923  6062917      9707          40098"
      ]
     },
     "execution_count": 72,
     "metadata": {},
     "output_type": "execute_result"
    }
   ],
   "source": [
    "state.head(5)"
   ]
  },
  {
   "cell_type": "code",
   "execution_count": 73,
   "metadata": {},
   "outputs": [],
   "source": [
    "state = state.drop(columns=['Unnamed: 0','State','OriginPrice'])"
   ]
  },
  {
   "cell_type": "code",
   "execution_count": 74,
   "metadata": {},
   "outputs": [
    {
     "data": {
      "text/html": [
       "<div>\n",
       "<style scoped>\n",
       "    .dataframe tbody tr th:only-of-type {\n",
       "        vertical-align: middle;\n",
       "    }\n",
       "\n",
       "    .dataframe tbody tr th {\n",
       "        vertical-align: top;\n",
       "    }\n",
       "\n",
       "    .dataframe thead th {\n",
       "        text-align: right;\n",
       "    }\n",
       "</style>\n",
       "<table border=\"1\" class=\"dataframe\">\n",
       "  <thead>\n",
       "    <tr style=\"text-align: right;\">\n",
       "      <th></th>\n",
       "      <th>Median Household Income(USD)</th>\n",
       "      <th>Income Ranking</th>\n",
       "      <th>Abbreviation</th>\n",
       "      <th>Cost Ranking</th>\n",
       "      <th>Density</th>\n",
       "      <th>Pop</th>\n",
       "      <th>LandArea</th>\n",
       "      <th>Vehicle Count</th>\n",
       "    </tr>\n",
       "  </thead>\n",
       "  <tbody>\n",
       "    <tr>\n",
       "      <th>0</th>\n",
       "      <td>82604.0</td>\n",
       "      <td>1</td>\n",
       "      <td>DC</td>\n",
       "      <td>50</td>\n",
       "      <td>11665.0984</td>\n",
       "      <td>711571</td>\n",
       "      <td>61</td>\n",
       "      <td>39</td>\n",
       "    </tr>\n",
       "    <tr>\n",
       "      <th>1</th>\n",
       "      <td>79363.0</td>\n",
       "      <td>3</td>\n",
       "      <td>NJ</td>\n",
       "      <td>39</td>\n",
       "      <td>1213.2917</td>\n",
       "      <td>8922547</td>\n",
       "      <td>7354</td>\n",
       "      <td>68259</td>\n",
       "    </tr>\n",
       "    <tr>\n",
       "      <th>2</th>\n",
       "      <td>77378.0</td>\n",
       "      <td>5</td>\n",
       "      <td>MA</td>\n",
       "      <td>28</td>\n",
       "      <td>889.6632</td>\n",
       "      <td>6939373</td>\n",
       "      <td>7800</td>\n",
       "      <td>53231</td>\n",
       "    </tr>\n",
       "    <tr>\n",
       "      <th>3</th>\n",
       "      <td>76106.0</td>\n",
       "      <td>7</td>\n",
       "      <td>CT</td>\n",
       "      <td>34</td>\n",
       "      <td>736.8589</td>\n",
       "      <td>3567871</td>\n",
       "      <td>4842</td>\n",
       "      <td>30298</td>\n",
       "    </tr>\n",
       "    <tr>\n",
       "      <th>4</th>\n",
       "      <td>81868.0</td>\n",
       "      <td>2</td>\n",
       "      <td>MD</td>\n",
       "      <td>19</td>\n",
       "      <td>624.5923</td>\n",
       "      <td>6062917</td>\n",
       "      <td>9707</td>\n",
       "      <td>40098</td>\n",
       "    </tr>\n",
       "  </tbody>\n",
       "</table>\n",
       "</div>"
      ],
      "text/plain": [
       "   Median Household Income(USD)  Income Ranking Abbreviation  Cost Ranking     Density      Pop  LandArea  Vehicle Count\n",
       "0                       82604.0               1           DC            50  11665.0984   711571        61             39\n",
       "1                       79363.0               3           NJ            39   1213.2917  8922547      7354          68259\n",
       "2                       77378.0               5           MA            28    889.6632  6939373      7800          53231\n",
       "3                       76106.0               7           CT            34    736.8589  3567871      4842          30298\n",
       "4                       81868.0               2           MD            19    624.5923  6062917      9707          40098"
      ]
     },
     "execution_count": 74,
     "metadata": {},
     "output_type": "execute_result"
    }
   ],
   "source": [
    "state.head(5)"
   ]
  },
  {
   "cell_type": "code",
   "execution_count": 75,
   "metadata": {},
   "outputs": [],
   "source": [
    "state.rename(columns={\"Abbreviation\": \"Location\"}, inplace=True)"
   ]
  },
  {
   "cell_type": "code",
   "execution_count": 76,
   "metadata": {},
   "outputs": [
    {
     "data": {
      "text/html": [
       "<div>\n",
       "<style scoped>\n",
       "    .dataframe tbody tr th:only-of-type {\n",
       "        vertical-align: middle;\n",
       "    }\n",
       "\n",
       "    .dataframe tbody tr th {\n",
       "        vertical-align: top;\n",
       "    }\n",
       "\n",
       "    .dataframe thead th {\n",
       "        text-align: right;\n",
       "    }\n",
       "</style>\n",
       "<table border=\"1\" class=\"dataframe\">\n",
       "  <thead>\n",
       "    <tr style=\"text-align: right;\">\n",
       "      <th></th>\n",
       "      <th>Median Household Income(USD)</th>\n",
       "      <th>Income Ranking</th>\n",
       "      <th>Location</th>\n",
       "      <th>Cost Ranking</th>\n",
       "      <th>Density</th>\n",
       "      <th>Pop</th>\n",
       "      <th>LandArea</th>\n",
       "      <th>Vehicle Count</th>\n",
       "    </tr>\n",
       "  </thead>\n",
       "  <tbody>\n",
       "    <tr>\n",
       "      <th>0</th>\n",
       "      <td>82604.0</td>\n",
       "      <td>1</td>\n",
       "      <td>DC</td>\n",
       "      <td>50</td>\n",
       "      <td>11665.0984</td>\n",
       "      <td>711571</td>\n",
       "      <td>61</td>\n",
       "      <td>39</td>\n",
       "    </tr>\n",
       "    <tr>\n",
       "      <th>1</th>\n",
       "      <td>79363.0</td>\n",
       "      <td>3</td>\n",
       "      <td>NJ</td>\n",
       "      <td>39</td>\n",
       "      <td>1213.2917</td>\n",
       "      <td>8922547</td>\n",
       "      <td>7354</td>\n",
       "      <td>68259</td>\n",
       "    </tr>\n",
       "    <tr>\n",
       "      <th>2</th>\n",
       "      <td>77378.0</td>\n",
       "      <td>5</td>\n",
       "      <td>MA</td>\n",
       "      <td>28</td>\n",
       "      <td>889.6632</td>\n",
       "      <td>6939373</td>\n",
       "      <td>7800</td>\n",
       "      <td>53231</td>\n",
       "    </tr>\n",
       "  </tbody>\n",
       "</table>\n",
       "</div>"
      ],
      "text/plain": [
       "   Median Household Income(USD)  Income Ranking Location  Cost Ranking     Density      Pop  LandArea  Vehicle Count\n",
       "0                       82604.0               1       DC            50  11665.0984   711571        61             39\n",
       "1                       79363.0               3       NJ            39   1213.2917  8922547      7354          68259\n",
       "2                       77378.0               5       MA            28    889.6632  6939373      7800          53231"
      ]
     },
     "execution_count": 76,
     "metadata": {},
     "output_type": "execute_result"
    }
   ],
   "source": [
    "state.head(3)"
   ]
  },
  {
   "cell_type": "code",
   "execution_count": null,
   "metadata": {},
   "outputs": [],
   "source": []
  },
  {
   "cell_type": "code",
   "execution_count": 77,
   "metadata": {},
   "outputs": [],
   "source": [
    "newdata = pd.merge(newdata, state, on=\"Location\")"
   ]
  },
  {
   "cell_type": "code",
   "execution_count": 78,
   "metadata": {},
   "outputs": [
    {
     "data": {
      "text/html": [
       "<div>\n",
       "<style scoped>\n",
       "    .dataframe tbody tr th:only-of-type {\n",
       "        vertical-align: middle;\n",
       "    }\n",
       "\n",
       "    .dataframe tbody tr th {\n",
       "        vertical-align: top;\n",
       "    }\n",
       "\n",
       "    .dataframe thead th {\n",
       "        text-align: right;\n",
       "    }\n",
       "</style>\n",
       "<table border=\"1\" class=\"dataframe\">\n",
       "  <thead>\n",
       "    <tr style=\"text-align: right;\">\n",
       "      <th></th>\n",
       "      <th>Location</th>\n",
       "      <th>BodyStyle</th>\n",
       "      <th>Price</th>\n",
       "      <th>Mileage</th>\n",
       "      <th>Transmission</th>\n",
       "      <th>FuelType</th>\n",
       "      <th>DoorsNum</th>\n",
       "      <th>MaximumSeating</th>\n",
       "      <th>Engine</th>\n",
       "      <th>Drivetrain</th>\n",
       "      <th>Accident Check</th>\n",
       "      <th>OwnershipHistory</th>\n",
       "      <th>SellingDays</th>\n",
       "      <th>OriginPrice</th>\n",
       "      <th>Median Household Income(USD)</th>\n",
       "      <th>Income Ranking</th>\n",
       "      <th>Cost Ranking</th>\n",
       "      <th>Density</th>\n",
       "      <th>Pop</th>\n",
       "      <th>LandArea</th>\n",
       "      <th>Vehicle Count</th>\n",
       "    </tr>\n",
       "  </thead>\n",
       "  <tbody>\n",
       "    <tr>\n",
       "      <th>0</th>\n",
       "      <td>TX</td>\n",
       "      <td>suv</td>\n",
       "      <td>11999.0</td>\n",
       "      <td>129280.0</td>\n",
       "      <td>Automatic</td>\n",
       "      <td>Gasoline</td>\n",
       "      <td>4.0</td>\n",
       "      <td>5.0</td>\n",
       "      <td>V8</td>\n",
       "      <td>Front-Wheel Drive</td>\n",
       "      <td>0.0</td>\n",
       "      <td>2.0</td>\n",
       "      <td>1873</td>\n",
       "      <td>12999.0</td>\n",
       "      <td>59570.0</td>\n",
       "      <td>21</td>\n",
       "      <td>9</td>\n",
       "      <td>111.3457</td>\n",
       "      <td>29087070</td>\n",
       "      <td>261232</td>\n",
       "      <td>199688</td>\n",
       "    </tr>\n",
       "    <tr>\n",
       "      <th>1</th>\n",
       "      <td>TX</td>\n",
       "      <td>coupe</td>\n",
       "      <td>34999.0</td>\n",
       "      <td>21806.0</td>\n",
       "      <td>Manual</td>\n",
       "      <td>Gasoline</td>\n",
       "      <td>2.0</td>\n",
       "      <td>2.0</td>\n",
       "      <td>V8</td>\n",
       "      <td>Rear-Wheel Drive</td>\n",
       "      <td>0.0</td>\n",
       "      <td>3.0</td>\n",
       "      <td>1690</td>\n",
       "      <td>37000.0</td>\n",
       "      <td>59570.0</td>\n",
       "      <td>21</td>\n",
       "      <td>9</td>\n",
       "      <td>111.3457</td>\n",
       "      <td>29087070</td>\n",
       "      <td>261232</td>\n",
       "      <td>199688</td>\n",
       "    </tr>\n",
       "    <tr>\n",
       "      <th>2</th>\n",
       "      <td>TX</td>\n",
       "      <td>hatchback</td>\n",
       "      <td>39995.0</td>\n",
       "      <td>14170.0</td>\n",
       "      <td>Automatic</td>\n",
       "      <td>Gasoline</td>\n",
       "      <td>4.0</td>\n",
       "      <td>4.0</td>\n",
       "      <td>I4</td>\n",
       "      <td>Front-Wheel Drive</td>\n",
       "      <td>0.0</td>\n",
       "      <td>1.0</td>\n",
       "      <td>1506</td>\n",
       "      <td>24995.0</td>\n",
       "      <td>59570.0</td>\n",
       "      <td>21</td>\n",
       "      <td>9</td>\n",
       "      <td>111.3457</td>\n",
       "      <td>29087070</td>\n",
       "      <td>261232</td>\n",
       "      <td>199688</td>\n",
       "    </tr>\n",
       "  </tbody>\n",
       "</table>\n",
       "</div>"
      ],
      "text/plain": [
       "  Location  BodyStyle    Price   Mileage Transmission  FuelType  DoorsNum  MaximumSeating Engine         Drivetrain  Accident Check  OwnershipHistory  SellingDays  OriginPrice  Median Household Income(USD)  Income Ranking  Cost Ranking   Density       Pop  LandArea  Vehicle Count\n",
       "0       TX        suv  11999.0  129280.0    Automatic  Gasoline       4.0             5.0     V8  Front-Wheel Drive             0.0               2.0         1873      12999.0                       59570.0              21             9  111.3457  29087070    261232         199688\n",
       "1       TX      coupe  34999.0   21806.0       Manual  Gasoline       2.0             2.0     V8   Rear-Wheel Drive             0.0               3.0         1690      37000.0                       59570.0              21             9  111.3457  29087070    261232         199688\n",
       "2       TX  hatchback  39995.0   14170.0    Automatic  Gasoline       4.0             4.0     I4  Front-Wheel Drive             0.0               1.0         1506      24995.0                       59570.0              21             9  111.3457  29087070    261232         199688"
      ]
     },
     "execution_count": 78,
     "metadata": {},
     "output_type": "execute_result"
    }
   ],
   "source": [
    "newdata.head(3)"
   ]
  },
  {
   "cell_type": "markdown",
   "metadata": {},
   "source": [
    "---------------------------------------------"
   ]
  },
  {
   "cell_type": "code",
   "execution_count": 79,
   "metadata": {},
   "outputs": [],
   "source": [
    "final_data = pd.get_dummies(newdata,\n",
    "                            columns=['Location', 'BodyStyle','Transmission','FuelType','Engine','Drivetrain'], \n",
    "                            sparse=True, \n",
    "                            dtype=int)"
   ]
  },
  {
   "cell_type": "code",
   "execution_count": 80,
   "metadata": {},
   "outputs": [
    {
     "data": {
      "text/plain": [
       "104"
      ]
     },
     "execution_count": 80,
     "metadata": {},
     "output_type": "execute_result"
    }
   ],
   "source": [
    "len(final_data.columns)"
   ]
  },
  {
   "cell_type": "code",
   "execution_count": 81,
   "metadata": {},
   "outputs": [
    {
     "data": {
      "text/plain": [
       "Price                                       float64\n",
       "Mileage                                     float64\n",
       "DoorsNum                                    float64\n",
       "MaximumSeating                              float64\n",
       "Accident Check                              float64\n",
       "OwnershipHistory                            float64\n",
       "SellingDays                                   int64\n",
       "OriginPrice                                 float64\n",
       "Median Household Income(USD)                float64\n",
       "Income Ranking                                int64\n",
       "Cost Ranking                                  int64\n",
       "Density                                     float64\n",
       "Pop                                           int64\n",
       "LandArea                                      int64\n",
       "Vehicle Count                                 int64\n",
       "Location_AL                        Sparse[int32, 0]\n",
       "Location_AR                        Sparse[int32, 0]\n",
       "Location_AZ                        Sparse[int32, 0]\n",
       "Location_CA                        Sparse[int32, 0]\n",
       "Location_CO                        Sparse[int32, 0]\n",
       "Location_CT                        Sparse[int32, 0]\n",
       "Location_DC                        Sparse[int32, 0]\n",
       "Location_DE                        Sparse[int32, 0]\n",
       "Location_FL                        Sparse[int32, 0]\n",
       "Location_GA                        Sparse[int32, 0]\n",
       "Location_IA                        Sparse[int32, 0]\n",
       "Location_ID                        Sparse[int32, 0]\n",
       "Location_IL                        Sparse[int32, 0]\n",
       "Location_IN                        Sparse[int32, 0]\n",
       "Location_KS                        Sparse[int32, 0]\n",
       "Location_KY                        Sparse[int32, 0]\n",
       "Location_LA                        Sparse[int32, 0]\n",
       "Location_MA                        Sparse[int32, 0]\n",
       "Location_MD                        Sparse[int32, 0]\n",
       "Location_ME                        Sparse[int32, 0]\n",
       "Location_MI                        Sparse[int32, 0]\n",
       "Location_MN                        Sparse[int32, 0]\n",
       "Location_MO                        Sparse[int32, 0]\n",
       "Location_MS                        Sparse[int32, 0]\n",
       "Location_MT                        Sparse[int32, 0]\n",
       "Location_NC                        Sparse[int32, 0]\n",
       "Location_ND                        Sparse[int32, 0]\n",
       "Location_NE                        Sparse[int32, 0]\n",
       "Location_NH                        Sparse[int32, 0]\n",
       "Location_NJ                        Sparse[int32, 0]\n",
       "Location_NM                        Sparse[int32, 0]\n",
       "Location_NV                        Sparse[int32, 0]\n",
       "Location_NY                        Sparse[int32, 0]\n",
       "Location_OH                        Sparse[int32, 0]\n",
       "Location_OK                        Sparse[int32, 0]\n",
       "Location_OR                        Sparse[int32, 0]\n",
       "Location_PA                        Sparse[int32, 0]\n",
       "Location_SC                        Sparse[int32, 0]\n",
       "Location_SD                        Sparse[int32, 0]\n",
       "Location_TN                        Sparse[int32, 0]\n",
       "Location_TX                        Sparse[int32, 0]\n",
       "Location_UT                        Sparse[int32, 0]\n",
       "Location_VA                        Sparse[int32, 0]\n",
       "Location_VT                        Sparse[int32, 0]\n",
       "Location_WA                        Sparse[int32, 0]\n",
       "Location_WI                        Sparse[int32, 0]\n",
       "Location_WV                        Sparse[int32, 0]\n",
       "Location_WY                        Sparse[int32, 0]\n",
       "BodyStyle_convertible              Sparse[int32, 0]\n",
       "BodyStyle_coupe                    Sparse[int32, 0]\n",
       "BodyStyle_crossover                Sparse[int32, 0]\n",
       "BodyStyle_hatchback                Sparse[int32, 0]\n",
       "BodyStyle_minivan                  Sparse[int32, 0]\n",
       "BodyStyle_pickup_truck             Sparse[int32, 0]\n",
       "BodyStyle_sedan                    Sparse[int32, 0]\n",
       "BodyStyle_suv                      Sparse[int32, 0]\n",
       "BodyStyle_van                      Sparse[int32, 0]\n",
       "BodyStyle_wagon                    Sparse[int32, 0]\n",
       "Transmission_Automatic             Sparse[int32, 0]\n",
       "Transmission_CVT                   Sparse[int32, 0]\n",
       "Transmission_Dual Clutch           Sparse[int32, 0]\n",
       "Transmission_Manual                Sparse[int32, 0]\n",
       "FuelType_Biodiesel                 Sparse[int32, 0]\n",
       "FuelType_Compressed Natural Gas    Sparse[int32, 0]\n",
       "FuelType_Diesel                    Sparse[int32, 0]\n",
       "FuelType_Electric                  Sparse[int32, 0]\n",
       "FuelType_Flex Fuel Vehicle         Sparse[int32, 0]\n",
       "FuelType_Gasoline                  Sparse[int32, 0]\n",
       "FuelType_Hybrid                    Sparse[int32, 0]\n",
       "FuelType_Propane                   Sparse[int32, 0]\n",
       "Engine_H4                          Sparse[int32, 0]\n",
       "Engine_H6                          Sparse[int32, 0]\n",
       "Engine_I2                          Sparse[int32, 0]\n",
       "Engine_I3                          Sparse[int32, 0]\n",
       "Engine_I4                          Sparse[int32, 0]\n",
       "Engine_I5                          Sparse[int32, 0]\n",
       "Engine_I6                          Sparse[int32, 0]\n",
       "Engine_R2                          Sparse[int32, 0]\n",
       "Engine_V10                         Sparse[int32, 0]\n",
       "Engine_V12                         Sparse[int32, 0]\n",
       "Engine_V6                          Sparse[int32, 0]\n",
       "Engine_V8                          Sparse[int32, 0]\n",
       "Engine_W12                         Sparse[int32, 0]\n",
       "Engine_W8                          Sparse[int32, 0]\n",
       "Drivetrain_4X2                     Sparse[int32, 0]\n",
       "Drivetrain_All-Wheel Drive         Sparse[int32, 0]\n",
       "Drivetrain_Four-Wheel Drive        Sparse[int32, 0]\n",
       "Drivetrain_Front-Wheel Drive       Sparse[int32, 0]\n",
       "Drivetrain_Rear-Wheel Drive        Sparse[int32, 0]\n",
       "dtype: object"
      ]
     },
     "execution_count": 81,
     "metadata": {},
     "output_type": "execute_result"
    }
   ],
   "source": [
    "final_data.dtypes"
   ]
  },
  {
   "cell_type": "code",
   "execution_count": null,
   "metadata": {},
   "outputs": [],
   "source": []
  },
  {
   "cell_type": "code",
   "execution_count": 82,
   "metadata": {},
   "outputs": [],
   "source": [
    "final_data.to_csv(r'C:\\machine_learning\\final_data.csv', index = None, header=True)"
   ]
  },
  {
   "cell_type": "code",
   "execution_count": null,
   "metadata": {},
   "outputs": [],
   "source": []
  }
 ],
 "metadata": {
  "kernelspec": {
   "display_name": "Python 3",
   "language": "python",
   "name": "python3"
  },
  "language_info": {
   "codemirror_mode": {
    "name": "ipython",
    "version": 3
   },
   "file_extension": ".py",
   "mimetype": "text/x-python",
   "name": "python",
   "nbconvert_exporter": "python",
   "pygments_lexer": "ipython3",
   "version": "3.7.5"
  }
 },
 "nbformat": 4,
 "nbformat_minor": 2
}
