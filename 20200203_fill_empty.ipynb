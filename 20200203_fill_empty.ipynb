{
 "cells": [
  {
   "cell_type": "code",
   "execution_count": 1,
   "metadata": {},
   "outputs": [],
   "source": [
    "import numpy as np\n",
    "import pandas as pd"
   ]
  },
  {
   "cell_type": "code",
   "execution_count": 2,
   "metadata": {},
   "outputs": [],
   "source": [
    "data = pd.read_csv('usedCar_Dataset.csv')"
   ]
  },
  {
   "cell_type": "code",
   "execution_count": 3,
   "metadata": {},
   "outputs": [],
   "source": [
    "pd.set_option('display.max_rows', 500)\n",
    "pd.set_option('display.max_columns', 500)\n",
    "pd.set_option('display.width', 1000)"
   ]
  },
  {
   "cell_type": "markdown",
   "metadata": {},
   "source": [
    "----------------------------------------------"
   ]
  },
  {
   "cell_type": "markdown",
   "metadata": {},
   "source": [
    "##### 刪除重複值"
   ]
  },
  {
   "cell_type": "code",
   "execution_count": 4,
   "metadata": {},
   "outputs": [
    {
     "data": {
      "text/plain": [
       "0"
      ]
     },
     "execution_count": 4,
     "metadata": {},
     "output_type": "execute_result"
    }
   ],
   "source": [
    "the_vin = data[data.duplicated(subset='VIN', keep=False)]\n",
    "the_vin[the_vin.duplicated(subset=['CarID'], keep=False)]\n",
    "new_data = data[~data.duplicated(subset=['CarID'], keep='last')]\n",
    "new_data.duplicated(subset=['CarID'], keep=False).sum()"
   ]
  },
  {
   "cell_type": "code",
   "execution_count": 5,
   "metadata": {},
   "outputs": [],
   "source": [
    "the_vin = new_data[new_data.duplicated(subset=['VIN'], keep=False)]\n",
    "new_data = new_data.drop(index=[1296653,1524990])"
   ]
  },
  {
   "cell_type": "markdown",
   "metadata": {},
   "source": [
    "------------------------------------------------------"
   ]
  },
  {
   "cell_type": "code",
   "execution_count": 6,
   "metadata": {},
   "outputs": [],
   "source": [
    "new_data['Certified'].unique()\n",
    "new_data['Certified'].fillna(value=0, inplace=True)"
   ]
  },
  {
   "cell_type": "code",
   "execution_count": 7,
   "metadata": {},
   "outputs": [],
   "source": [
    "def toint(x):\n",
    "    if x == True:\n",
    "        return int(x)\n",
    "    else:\n",
    "        return x"
   ]
  },
  {
   "cell_type": "code",
   "execution_count": 8,
   "metadata": {},
   "outputs": [],
   "source": [
    "new_data['Certified'] = new_data['Certified'].apply(toint)"
   ]
  },
  {
   "cell_type": "code",
   "execution_count": 9,
   "metadata": {},
   "outputs": [
    {
     "data": {
      "text/plain": [
       "array([0, 1], dtype=int64)"
      ]
     },
     "execution_count": 9,
     "metadata": {},
     "output_type": "execute_result"
    }
   ],
   "source": [
    "new_data['Certified'].unique()"
   ]
  },
  {
   "cell_type": "code",
   "execution_count": 10,
   "metadata": {},
   "outputs": [
    {
     "data": {
      "text/html": [
       "<div>\n",
       "<style scoped>\n",
       "    .dataframe tbody tr th:only-of-type {\n",
       "        vertical-align: middle;\n",
       "    }\n",
       "\n",
       "    .dataframe tbody tr th {\n",
       "        vertical-align: top;\n",
       "    }\n",
       "\n",
       "    .dataframe thead th {\n",
       "        text-align: right;\n",
       "    }\n",
       "</style>\n",
       "<table border=\"1\" class=\"dataframe\">\n",
       "  <thead>\n",
       "    <tr style=\"text-align: right;\">\n",
       "      <th></th>\n",
       "      <th>Price</th>\n",
       "      <th>Certified</th>\n",
       "    </tr>\n",
       "  </thead>\n",
       "  <tbody>\n",
       "    <tr>\n",
       "      <th>Price</th>\n",
       "      <td>1.000000</td>\n",
       "      <td>0.130795</td>\n",
       "    </tr>\n",
       "    <tr>\n",
       "      <th>Certified</th>\n",
       "      <td>0.130795</td>\n",
       "      <td>1.000000</td>\n",
       "    </tr>\n",
       "  </tbody>\n",
       "</table>\n",
       "</div>"
      ],
      "text/plain": [
       "              Price  Certified\n",
       "Price      1.000000   0.130795\n",
       "Certified  0.130795   1.000000"
      ]
     },
     "execution_count": 10,
     "metadata": {},
     "output_type": "execute_result"
    }
   ],
   "source": [
    "new_data[['Price','Certified']].corr()"
   ]
  },
  {
   "cell_type": "code",
   "execution_count": null,
   "metadata": {},
   "outputs": [],
   "source": []
  },
  {
   "cell_type": "code",
   "execution_count": 11,
   "metadata": {},
   "outputs": [],
   "source": [
    "new_data = new_data.drop(columns=['CarID','VIN'])"
   ]
  },
  {
   "cell_type": "code",
   "execution_count": 12,
   "metadata": {},
   "outputs": [
    {
     "data": {
      "text/html": [
       "<div>\n",
       "<style scoped>\n",
       "    .dataframe tbody tr th:only-of-type {\n",
       "        vertical-align: middle;\n",
       "    }\n",
       "\n",
       "    .dataframe tbody tr th {\n",
       "        vertical-align: top;\n",
       "    }\n",
       "\n",
       "    .dataframe thead th {\n",
       "        text-align: right;\n",
       "    }\n",
       "</style>\n",
       "<table border=\"1\" class=\"dataframe\">\n",
       "  <thead>\n",
       "    <tr style=\"text-align: right;\">\n",
       "      <th></th>\n",
       "      <th>MakeId</th>\n",
       "      <th>Title</th>\n",
       "      <th>BodyStyle</th>\n",
       "      <th>Rental</th>\n",
       "      <th>Location</th>\n",
       "      <th>GasMileage_city</th>\n",
       "      <th>GasMileage_highway</th>\n",
       "      <th>Price</th>\n",
       "      <th>Mileage</th>\n",
       "      <th>Transmission</th>\n",
       "      <th>FuelType</th>\n",
       "      <th>ExteriorColor</th>\n",
       "      <th>InteriorColor</th>\n",
       "      <th>DoorsNum</th>\n",
       "      <th>MaximumSeating</th>\n",
       "      <th>Engine</th>\n",
       "      <th>Drivetrain</th>\n",
       "      <th>OptionCount</th>\n",
       "      <th>MajorOptions</th>\n",
       "      <th>Certified</th>\n",
       "      <th>Accident Check</th>\n",
       "      <th>OwnershipHistory</th>\n",
       "      <th>SellingDays</th>\n",
       "      <th>OriginPrice</th>\n",
       "    </tr>\n",
       "  </thead>\n",
       "  <tbody>\n",
       "    <tr>\n",
       "      <th>0</th>\n",
       "      <td>m1</td>\n",
       "      <td>2007 Chevrolet Tahoe - $11,999</td>\n",
       "      <td>suv</td>\n",
       "      <td>NaN</td>\n",
       "      <td>Garland, TX</td>\n",
       "      <td>NaN</td>\n",
       "      <td>NaN</td>\n",
       "      <td>11999.0</td>\n",
       "      <td>129280.0</td>\n",
       "      <td>Automatic</td>\n",
       "      <td>Gasoline</td>\n",
       "      <td>Gold</td>\n",
       "      <td>NaN</td>\n",
       "      <td>NaN</td>\n",
       "      <td>NaN</td>\n",
       "      <td>V8</td>\n",
       "      <td>NaN</td>\n",
       "      <td>0</td>\n",
       "      <td>NaN</td>\n",
       "      <td>0</td>\n",
       "      <td>0.0</td>\n",
       "      <td>2.0</td>\n",
       "      <td>1873</td>\n",
       "      <td>12999.0</td>\n",
       "    </tr>\n",
       "    <tr>\n",
       "      <th>1</th>\n",
       "      <td>m1</td>\n",
       "      <td>2005 Chevrolet Express - $11,995</td>\n",
       "      <td>van</td>\n",
       "      <td>NaN</td>\n",
       "      <td>Claremont, NH</td>\n",
       "      <td>NaN</td>\n",
       "      <td>NaN</td>\n",
       "      <td>11995.0</td>\n",
       "      <td>118113.0</td>\n",
       "      <td>Automatic</td>\n",
       "      <td>NaN</td>\n",
       "      <td>White</td>\n",
       "      <td>NaN</td>\n",
       "      <td>NaN</td>\n",
       "      <td>NaN</td>\n",
       "      <td>NaN</td>\n",
       "      <td>NaN</td>\n",
       "      <td>0</td>\n",
       "      <td>NaN</td>\n",
       "      <td>0</td>\n",
       "      <td>1.0</td>\n",
       "      <td>1.0</td>\n",
       "      <td>1863</td>\n",
       "      <td>NaN</td>\n",
       "    </tr>\n",
       "    <tr>\n",
       "      <th>2</th>\n",
       "      <td>m1</td>\n",
       "      <td>2010 Chevrolet Silverado 2500HD Work Truck Ext...</td>\n",
       "      <td>pickup_truck</td>\n",
       "      <td>NaN</td>\n",
       "      <td>Frankfort, KY</td>\n",
       "      <td>NaN</td>\n",
       "      <td>NaN</td>\n",
       "      <td>15900.0</td>\n",
       "      <td>144000.0</td>\n",
       "      <td>Automatic</td>\n",
       "      <td>Gasoline</td>\n",
       "      <td>White</td>\n",
       "      <td>Gray</td>\n",
       "      <td>4 doors</td>\n",
       "      <td>6 seats</td>\n",
       "      <td>V8</td>\n",
       "      <td>Four-Wheel Drive</td>\n",
       "      <td>2</td>\n",
       "      <td>Steel Wheels,Tow Package</td>\n",
       "      <td>0</td>\n",
       "      <td>0.0</td>\n",
       "      <td>2.0</td>\n",
       "      <td>1837</td>\n",
       "      <td>16900.0</td>\n",
       "    </tr>\n",
       "    <tr>\n",
       "      <th>3</th>\n",
       "      <td>m1</td>\n",
       "      <td>2014 Chevrolet Corvette Stingray 3LT Coupe RWD...</td>\n",
       "      <td>coupe</td>\n",
       "      <td>NaN</td>\n",
       "      <td>Lewistown, MT</td>\n",
       "      <td>17 MPG City</td>\n",
       "      <td>29 MPG Highway</td>\n",
       "      <td>49995.0</td>\n",
       "      <td>2500.0</td>\n",
       "      <td>7-Speed Manual</td>\n",
       "      <td>Gasoline</td>\n",
       "      <td>Red</td>\n",
       "      <td>Black</td>\n",
       "      <td>2 doors</td>\n",
       "      <td>2 seats</td>\n",
       "      <td>V8</td>\n",
       "      <td>Rear-Wheel Drive</td>\n",
       "      <td>5</td>\n",
       "      <td>Bluetooth,Backup Camera,Aluminum Wheels,Naviga...</td>\n",
       "      <td>0</td>\n",
       "      <td>0.0</td>\n",
       "      <td>1.0</td>\n",
       "      <td>1832</td>\n",
       "      <td>62900.0</td>\n",
       "    </tr>\n",
       "    <tr>\n",
       "      <th>4</th>\n",
       "      <td>m1</td>\n",
       "      <td>2002 Chevrolet Monte Carlo SS FWD - $3,440</td>\n",
       "      <td>coupe</td>\n",
       "      <td>NaN</td>\n",
       "      <td>Delavan, IL</td>\n",
       "      <td>17 MPG City</td>\n",
       "      <td>27 MPG Highway</td>\n",
       "      <td>3440.0</td>\n",
       "      <td>174000.0</td>\n",
       "      <td>Automatic</td>\n",
       "      <td>Gasoline</td>\n",
       "      <td>Black</td>\n",
       "      <td>Black</td>\n",
       "      <td>2 doors</td>\n",
       "      <td>5 seats</td>\n",
       "      <td>V6</td>\n",
       "      <td>Front-Wheel Drive</td>\n",
       "      <td>2</td>\n",
       "      <td>Leather Seats,Aluminum Wheels</td>\n",
       "      <td>0</td>\n",
       "      <td>0.0</td>\n",
       "      <td>2.0</td>\n",
       "      <td>1809</td>\n",
       "      <td>4800.0</td>\n",
       "    </tr>\n",
       "  </tbody>\n",
       "</table>\n",
       "</div>"
      ],
      "text/plain": [
       "  MakeId                                              Title     BodyStyle Rental       Location GasMileage_city GasMileage_highway    Price   Mileage    Transmission  FuelType ExteriorColor InteriorColor DoorsNum MaximumSeating Engine         Drivetrain  OptionCount                                       MajorOptions  Certified  Accident Check  OwnershipHistory  SellingDays  OriginPrice\n",
       "0     m1                     2007 Chevrolet Tahoe - $11,999           suv    NaN    Garland, TX             NaN                NaN  11999.0  129280.0       Automatic  Gasoline          Gold           NaN      NaN            NaN     V8                NaN            0                                                NaN          0             0.0               2.0         1873      12999.0\n",
       "1     m1                   2005 Chevrolet Express - $11,995           van    NaN  Claremont, NH             NaN                NaN  11995.0  118113.0       Automatic       NaN         White           NaN      NaN            NaN    NaN                NaN            0                                                NaN          0             1.0               1.0         1863          NaN\n",
       "2     m1  2010 Chevrolet Silverado 2500HD Work Truck Ext...  pickup_truck    NaN  Frankfort, KY             NaN                NaN  15900.0  144000.0       Automatic  Gasoline         White          Gray  4 doors        6 seats     V8   Four-Wheel Drive            2                           Steel Wheels,Tow Package          0             0.0               2.0         1837      16900.0\n",
       "3     m1  2014 Chevrolet Corvette Stingray 3LT Coupe RWD...         coupe    NaN  Lewistown, MT     17 MPG City     29 MPG Highway  49995.0    2500.0  7-Speed Manual  Gasoline           Red         Black  2 doors        2 seats     V8   Rear-Wheel Drive            5  Bluetooth,Backup Camera,Aluminum Wheels,Naviga...          0             0.0               1.0         1832      62900.0\n",
       "4     m1         2002 Chevrolet Monte Carlo SS FWD - $3,440         coupe    NaN    Delavan, IL     17 MPG City     27 MPG Highway   3440.0  174000.0       Automatic  Gasoline         Black         Black  2 doors        5 seats     V6  Front-Wheel Drive            2                      Leather Seats,Aluminum Wheels          0             0.0               2.0         1809       4800.0"
      ]
     },
     "execution_count": 12,
     "metadata": {},
     "output_type": "execute_result"
    }
   ],
   "source": [
    "new_data.head()"
   ]
  },
  {
   "cell_type": "code",
   "execution_count": 13,
   "metadata": {},
   "outputs": [],
   "source": [
    "columns = new_data.columns"
   ]
  },
  {
   "cell_type": "code",
   "execution_count": null,
   "metadata": {},
   "outputs": [],
   "source": []
  },
  {
   "cell_type": "code",
   "execution_count": 14,
   "metadata": {},
   "outputs": [],
   "source": [
    "# 上面做了一些簡單的基本處理 , 詳細參考 20200121_fill_empty 這本筆記本\n",
    "# 下面要補空值"
   ]
  },
  {
   "cell_type": "markdown",
   "metadata": {},
   "source": [
    "----------------------------------------------------------------------"
   ]
  },
  {
   "cell_type": "markdown",
   "metadata": {},
   "source": [
    "##### 補BodyStyle"
   ]
  },
  {
   "cell_type": "code",
   "execution_count": 15,
   "metadata": {},
   "outputs": [],
   "source": [
    "# 用 每一個車款 各自 出現最多次的 BodyStyle 來補 BodyStyle"
   ]
  },
  {
   "cell_type": "code",
   "execution_count": 16,
   "metadata": {},
   "outputs": [],
   "source": [
    "new_data1 = pd.DataFrame(columns=columns)\n",
    "# 建一個空的 dataframe"
   ]
  },
  {
   "cell_type": "code",
   "execution_count": 17,
   "metadata": {},
   "outputs": [],
   "source": [
    "# type(new_data1)"
   ]
  },
  {
   "cell_type": "code",
   "execution_count": 18,
   "metadata": {},
   "outputs": [
    {
     "name": "stderr",
     "output_type": "stream",
     "text": [
      "c:\\program files\\python37\\lib\\site-packages\\ipykernel_launcher.py:4: SettingWithCopyWarning: \n",
      "A value is trying to be set on a copy of a slice from a DataFrame.\n",
      "Try using .loc[row_indexer,col_indexer] = value instead\n",
      "\n",
      "See the caveats in the documentation: http://pandas.pydata.org/pandas-docs/stable/user_guide/indexing.html#returning-a-view-versus-a-copy\n",
      "  after removing the cwd from sys.path.\n"
     ]
    }
   ],
   "source": [
    "for id in new_data['MakeId'].unique():\n",
    "    part = new_data[new_data['MakeId'] == id]\n",
    "    most_frequent = part.groupby(by='BodyStyle').size().sort_values(ascending=False).index[0]\n",
    "    part['BodyStyle'] = part['BodyStyle'].fillna(value=most_frequent)\n",
    "    new_data1 = new_data1.append(part)"
   ]
  },
  {
   "cell_type": "code",
   "execution_count": 19,
   "metadata": {},
   "outputs": [
    {
     "data": {
      "text/plain": [
       "MakeId                      0\n",
       "Title                       0\n",
       "BodyStyle                   0\n",
       "Rental                1968035\n",
       "Location                    0\n",
       "GasMileage_city        467051\n",
       "GasMileage_highway     467051\n",
       "Price                  127920\n",
       "Mileage                 35969\n",
       "Transmission            43611\n",
       "FuelType                55844\n",
       "ExteriorColor           57359\n",
       "InteriorColor          413991\n",
       "DoorsNum              1137476\n",
       "MaximumSeating         114967\n",
       "Engine                  60655\n",
       "Drivetrain             115055\n",
       "OptionCount                 0\n",
       "MajorOptions           310481\n",
       "Certified                   0\n",
       "Accident Check          32305\n",
       "OwnershipHistory        70501\n",
       "SellingDays                 0\n",
       "OriginPrice           1122205\n",
       "dtype: int64"
      ]
     },
     "execution_count": 19,
     "metadata": {},
     "output_type": "execute_result"
    }
   ],
   "source": [
    "new_data1.isnull().sum()"
   ]
  },
  {
   "cell_type": "markdown",
   "metadata": {},
   "source": [
    "---------------------------------------"
   ]
  },
  {
   "cell_type": "markdown",
   "metadata": {},
   "source": [
    "##### 補 Rental"
   ]
  },
  {
   "cell_type": "code",
   "execution_count": 20,
   "metadata": {},
   "outputs": [],
   "source": [
    "# Rental 的空值補法是 : 由於 Rental 和 Mileage有關\n",
    "# 假如 該筆資料的 Mileage 大於 第三四分位數 就讓 Rental = True"
   ]
  },
  {
   "cell_type": "code",
   "execution_count": 21,
   "metadata": {},
   "outputs": [],
   "source": [
    "new_data2 = pd.DataFrame(columns=columns)"
   ]
  },
  {
   "cell_type": "code",
   "execution_count": 22,
   "metadata": {},
   "outputs": [],
   "source": [
    "def fillRental(x, third_quantile):\n",
    "    if x.Rental != True:\n",
    "        if x.Mileage > third_quantile:\n",
    "            return True\n",
    "        else:\n",
    "            return False\n",
    "    else:\n",
    "        return True"
   ]
  },
  {
   "cell_type": "code",
   "execution_count": 23,
   "metadata": {},
   "outputs": [
    {
     "name": "stderr",
     "output_type": "stream",
     "text": [
      "c:\\program files\\python37\\lib\\site-packages\\ipykernel_launcher.py:4: SettingWithCopyWarning: \n",
      "A value is trying to be set on a copy of a slice from a DataFrame.\n",
      "Try using .loc[row_indexer,col_indexer] = value instead\n",
      "\n",
      "See the caveats in the documentation: http://pandas.pydata.org/pandas-docs/stable/user_guide/indexing.html#returning-a-view-versus-a-copy\n",
      "  after removing the cwd from sys.path.\n"
     ]
    }
   ],
   "source": [
    "for id in new_data1['MakeId'].unique():\n",
    "    part = new_data1[new_data1['MakeId'] == id]\n",
    "    third_quantile = part.Mileage.quantile(0.75)\n",
    "    part['Rental'] = part.apply(lambda x:fillRental(x, third_quantile), axis=1)\n",
    "    new_data2 = new_data2.append(part)"
   ]
  },
  {
   "cell_type": "code",
   "execution_count": 24,
   "metadata": {},
   "outputs": [
    {
     "data": {
      "text/plain": [
       "MakeId                      0\n",
       "Title                       0\n",
       "BodyStyle                   0\n",
       "Rental                      0\n",
       "Location                    0\n",
       "GasMileage_city        467051\n",
       "GasMileage_highway     467051\n",
       "Price                  127920\n",
       "Mileage                 35969\n",
       "Transmission            43611\n",
       "FuelType                55844\n",
       "ExteriorColor           57359\n",
       "InteriorColor          413991\n",
       "DoorsNum              1137476\n",
       "MaximumSeating         114967\n",
       "Engine                  60655\n",
       "Drivetrain             115055\n",
       "OptionCount                 0\n",
       "MajorOptions           310481\n",
       "Certified                   0\n",
       "Accident Check          32305\n",
       "OwnershipHistory        70501\n",
       "SellingDays                 0\n",
       "OriginPrice           1122205\n",
       "dtype: int64"
      ]
     },
     "execution_count": 24,
     "metadata": {},
     "output_type": "execute_result"
    }
   ],
   "source": [
    "new_data2.isnull().sum()"
   ]
  },
  {
   "cell_type": "code",
   "execution_count": null,
   "metadata": {},
   "outputs": [],
   "source": []
  },
  {
   "cell_type": "markdown",
   "metadata": {},
   "source": [
    "-------------------------------"
   ]
  },
  {
   "cell_type": "markdown",
   "metadata": {},
   "source": [
    "##### GasMileage_city , GasMileage_highway "
   ]
  },
  {
   "cell_type": "code",
   "execution_count": 25,
   "metadata": {},
   "outputs": [],
   "source": [
    "# GasMileage_city 和 GasMileage_highway 的處理方式:\n",
    "# 直接 drop 空值的資料"
   ]
  },
  {
   "cell_type": "code",
   "execution_count": 26,
   "metadata": {},
   "outputs": [],
   "source": [
    "new_data2 = new_data2.dropna(axis=0, subset=['GasMileage_city'])"
   ]
  },
  {
   "cell_type": "code",
   "execution_count": 27,
   "metadata": {},
   "outputs": [
    {
     "data": {
      "text/plain": [
       "MakeId                     0\n",
       "Title                      0\n",
       "BodyStyle                  0\n",
       "Rental                     0\n",
       "Location                   0\n",
       "GasMileage_city            0\n",
       "GasMileage_highway         0\n",
       "Price                  90369\n",
       "Mileage                24260\n",
       "Transmission           12707\n",
       "FuelType                   0\n",
       "ExteriorColor          39515\n",
       "InteriorColor         301309\n",
       "DoorsNum              873375\n",
       "MaximumSeating             7\n",
       "Engine                  3292\n",
       "Drivetrain                 0\n",
       "OptionCount                0\n",
       "MajorOptions          216202\n",
       "Certified                  0\n",
       "Accident Check         17444\n",
       "OwnershipHistory       46999\n",
       "SellingDays                0\n",
       "OriginPrice           883588\n",
       "dtype: int64"
      ]
     },
     "execution_count": 27,
     "metadata": {},
     "output_type": "execute_result"
    }
   ],
   "source": [
    "new_data2.isnull().sum()"
   ]
  },
  {
   "cell_type": "code",
   "execution_count": null,
   "metadata": {},
   "outputs": [],
   "source": []
  },
  {
   "cell_type": "markdown",
   "metadata": {},
   "source": [
    "----------------------------"
   ]
  },
  {
   "cell_type": "markdown",
   "metadata": {},
   "source": [
    "##### Transmission"
   ]
  },
  {
   "cell_type": "code",
   "execution_count": 28,
   "metadata": {},
   "outputs": [],
   "source": [
    "new_data3 = pd.DataFrame()"
   ]
  },
  {
   "cell_type": "code",
   "execution_count": 29,
   "metadata": {},
   "outputs": [
    {
     "data": {
      "text/plain": [
       "pandas.core.frame.DataFrame"
      ]
     },
     "execution_count": 29,
     "metadata": {},
     "output_type": "execute_result"
    }
   ],
   "source": [
    "type(new_data3)"
   ]
  },
  {
   "cell_type": "code",
   "execution_count": 30,
   "metadata": {},
   "outputs": [
    {
     "name": "stderr",
     "output_type": "stream",
     "text": [
      "c:\\program files\\python37\\lib\\site-packages\\ipykernel_launcher.py:4: SettingWithCopyWarning: \n",
      "A value is trying to be set on a copy of a slice from a DataFrame.\n",
      "Try using .loc[row_indexer,col_indexer] = value instead\n",
      "\n",
      "See the caveats in the documentation: http://pandas.pydata.org/pandas-docs/stable/user_guide/indexing.html#returning-a-view-versus-a-copy\n",
      "  after removing the cwd from sys.path.\n"
     ]
    }
   ],
   "source": [
    "for id in new_data2['MakeId'].unique():\n",
    "    part = new_data2[new_data2['MakeId'] == id]\n",
    "    most = part.groupby(by='Transmission').size().sort_values(ascending=False).index[0]\n",
    "    part['Transmission'] = part['Transmission'].fillna(value=most)\n",
    "    new_data3 = new_data3.append(part)"
   ]
  },
  {
   "cell_type": "code",
   "execution_count": 31,
   "metadata": {},
   "outputs": [
    {
     "data": {
      "text/plain": [
       "MakeId                     0\n",
       "Title                      0\n",
       "BodyStyle                  0\n",
       "Rental                     0\n",
       "Location                   0\n",
       "GasMileage_city            0\n",
       "GasMileage_highway         0\n",
       "Price                  90369\n",
       "Mileage                24260\n",
       "Transmission               0\n",
       "FuelType                   0\n",
       "ExteriorColor          39515\n",
       "InteriorColor         301309\n",
       "DoorsNum              873375\n",
       "MaximumSeating             7\n",
       "Engine                  3292\n",
       "Drivetrain                 0\n",
       "OptionCount                0\n",
       "MajorOptions          216202\n",
       "Certified                  0\n",
       "Accident Check         17444\n",
       "OwnershipHistory       46999\n",
       "SellingDays                0\n",
       "OriginPrice           883588\n",
       "dtype: int64"
      ]
     },
     "execution_count": 31,
     "metadata": {},
     "output_type": "execute_result"
    }
   ],
   "source": [
    "new_data3.isnull().sum()"
   ]
  },
  {
   "cell_type": "code",
   "execution_count": null,
   "metadata": {},
   "outputs": [],
   "source": []
  },
  {
   "cell_type": "markdown",
   "metadata": {},
   "source": [
    "-------------------------------------"
   ]
  },
  {
   "cell_type": "markdown",
   "metadata": {},
   "source": [
    "##### MaximumSeating"
   ]
  },
  {
   "cell_type": "code",
   "execution_count": 32,
   "metadata": {},
   "outputs": [
    {
     "data": {
      "text/html": [
       "<div>\n",
       "<style scoped>\n",
       "    .dataframe tbody tr th:only-of-type {\n",
       "        vertical-align: middle;\n",
       "    }\n",
       "\n",
       "    .dataframe tbody tr th {\n",
       "        vertical-align: top;\n",
       "    }\n",
       "\n",
       "    .dataframe thead th {\n",
       "        text-align: right;\n",
       "    }\n",
       "</style>\n",
       "<table border=\"1\" class=\"dataframe\">\n",
       "  <thead>\n",
       "    <tr style=\"text-align: right;\">\n",
       "      <th></th>\n",
       "      <th>MakeId</th>\n",
       "      <th>Title</th>\n",
       "      <th>BodyStyle</th>\n",
       "      <th>Rental</th>\n",
       "      <th>Location</th>\n",
       "      <th>GasMileage_city</th>\n",
       "      <th>GasMileage_highway</th>\n",
       "      <th>Price</th>\n",
       "      <th>Mileage</th>\n",
       "      <th>Transmission</th>\n",
       "      <th>FuelType</th>\n",
       "      <th>ExteriorColor</th>\n",
       "      <th>InteriorColor</th>\n",
       "      <th>DoorsNum</th>\n",
       "      <th>MaximumSeating</th>\n",
       "      <th>Engine</th>\n",
       "      <th>Drivetrain</th>\n",
       "      <th>OptionCount</th>\n",
       "      <th>MajorOptions</th>\n",
       "      <th>Certified</th>\n",
       "      <th>Accident Check</th>\n",
       "      <th>OwnershipHistory</th>\n",
       "      <th>SellingDays</th>\n",
       "      <th>OriginPrice</th>\n",
       "    </tr>\n",
       "  </thead>\n",
       "  <tbody>\n",
       "    <tr>\n",
       "      <th>952553</th>\n",
       "      <td>m22</td>\n",
       "      <td>2016 Cadillac XTS Pro Coachbuilder Limousine F...</td>\n",
       "      <td>sedan</td>\n",
       "      <td>False</td>\n",
       "      <td>Irving, TX</td>\n",
       "      <td>15 MPG City</td>\n",
       "      <td>21 MPG Highway</td>\n",
       "      <td>62995.0</td>\n",
       "      <td>40228.0</td>\n",
       "      <td>6-Speed Automatic</td>\n",
       "      <td>Gasoline</td>\n",
       "      <td>Crystal White</td>\n",
       "      <td>Shale With Cocoa Accents</td>\n",
       "      <td>NaN</td>\n",
       "      <td>NaN</td>\n",
       "      <td>V6</td>\n",
       "      <td>Front-Wheel Drive</td>\n",
       "      <td>0</td>\n",
       "      <td>NaN</td>\n",
       "      <td>0</td>\n",
       "      <td>0.0</td>\n",
       "      <td>NaN</td>\n",
       "      <td>135</td>\n",
       "      <td>65779.0</td>\n",
       "    </tr>\n",
       "    <tr>\n",
       "      <th>953166</th>\n",
       "      <td>m22</td>\n",
       "      <td>2015 Cadillac XTS Pro Coachbuilder Limousine F...</td>\n",
       "      <td>sedan</td>\n",
       "      <td>True</td>\n",
       "      <td>Chicago, IL</td>\n",
       "      <td>14 MPG City</td>\n",
       "      <td>21 MPG Highway</td>\n",
       "      <td>10995.0</td>\n",
       "      <td>175558.0</td>\n",
       "      <td>6-Speed Automatic</td>\n",
       "      <td>Gasoline</td>\n",
       "      <td>Black</td>\n",
       "      <td>Black</td>\n",
       "      <td>NaN</td>\n",
       "      <td>NaN</td>\n",
       "      <td>V6</td>\n",
       "      <td>Front-Wheel Drive</td>\n",
       "      <td>0</td>\n",
       "      <td>NaN</td>\n",
       "      <td>0</td>\n",
       "      <td>0.0</td>\n",
       "      <td>5.0</td>\n",
       "      <td>126</td>\n",
       "      <td>10995.0</td>\n",
       "    </tr>\n",
       "    <tr>\n",
       "      <th>953872</th>\n",
       "      <td>m22</td>\n",
       "      <td>2015 Cadillac XTS Pro Coachbuilder Limousine F...</td>\n",
       "      <td>sedan</td>\n",
       "      <td>False</td>\n",
       "      <td>Butler, PA</td>\n",
       "      <td>14 MPG City</td>\n",
       "      <td>21 MPG Highway</td>\n",
       "      <td>25995.0</td>\n",
       "      <td>45980.0</td>\n",
       "      <td>Automatic</td>\n",
       "      <td>Gasoline</td>\n",
       "      <td>Black Raven</td>\n",
       "      <td>Jet Black</td>\n",
       "      <td>NaN</td>\n",
       "      <td>NaN</td>\n",
       "      <td>V6</td>\n",
       "      <td>Front-Wheel Drive</td>\n",
       "      <td>0</td>\n",
       "      <td>NaN</td>\n",
       "      <td>0</td>\n",
       "      <td>0.0</td>\n",
       "      <td>1.0</td>\n",
       "      <td>118</td>\n",
       "      <td>NaN</td>\n",
       "    </tr>\n",
       "    <tr>\n",
       "      <th>960552</th>\n",
       "      <td>m22</td>\n",
       "      <td>2014 Cadillac XTS Pro Coachbuilder Limousine F...</td>\n",
       "      <td>sedan</td>\n",
       "      <td>True</td>\n",
       "      <td>Baton Rouge, LA</td>\n",
       "      <td>15 MPG City</td>\n",
       "      <td>21 MPG Highway</td>\n",
       "      <td>13495.0</td>\n",
       "      <td>103492.0</td>\n",
       "      <td>6-Speed Automatic</td>\n",
       "      <td>Gasoline</td>\n",
       "      <td>Black</td>\n",
       "      <td>Black</td>\n",
       "      <td>NaN</td>\n",
       "      <td>NaN</td>\n",
       "      <td>V6</td>\n",
       "      <td>Front-Wheel Drive</td>\n",
       "      <td>6</td>\n",
       "      <td>Bluetooth,Leather Seats,Premium Wheels,Backup ...</td>\n",
       "      <td>0</td>\n",
       "      <td>1.0</td>\n",
       "      <td>1.0</td>\n",
       "      <td>64</td>\n",
       "      <td>NaN</td>\n",
       "    </tr>\n",
       "    <tr>\n",
       "      <th>969885</th>\n",
       "      <td>m22</td>\n",
       "      <td>2015 Cadillac XTS Pro Coachbuilder Limousine FWD</td>\n",
       "      <td>sedan</td>\n",
       "      <td>False</td>\n",
       "      <td>Cockeysville, MD</td>\n",
       "      <td>14 MPG City</td>\n",
       "      <td>21 MPG Highway</td>\n",
       "      <td>NaN</td>\n",
       "      <td>47003.0</td>\n",
       "      <td>6-Speed Automatic</td>\n",
       "      <td>Gasoline</td>\n",
       "      <td>Black Raven</td>\n",
       "      <td>jet black</td>\n",
       "      <td>NaN</td>\n",
       "      <td>NaN</td>\n",
       "      <td>V6</td>\n",
       "      <td>Front-Wheel Drive</td>\n",
       "      <td>0</td>\n",
       "      <td>NaN</td>\n",
       "      <td>0</td>\n",
       "      <td>2.0</td>\n",
       "      <td>1.0</td>\n",
       "      <td>29</td>\n",
       "      <td>NaN</td>\n",
       "    </tr>\n",
       "    <tr>\n",
       "      <th>979235</th>\n",
       "      <td>m22</td>\n",
       "      <td>2014 Cadillac XTS Pro Coachbuilder Limousine FWD</td>\n",
       "      <td>sedan</td>\n",
       "      <td>False</td>\n",
       "      <td>Ewing, NJ</td>\n",
       "      <td>15 MPG City</td>\n",
       "      <td>21 MPG Highway</td>\n",
       "      <td>NaN</td>\n",
       "      <td>NaN</td>\n",
       "      <td>6-Speed Automatic</td>\n",
       "      <td>Gasoline</td>\n",
       "      <td>Black Diamond</td>\n",
       "      <td>Jet Black</td>\n",
       "      <td>NaN</td>\n",
       "      <td>NaN</td>\n",
       "      <td>V6</td>\n",
       "      <td>Front-Wheel Drive</td>\n",
       "      <td>1</td>\n",
       "      <td>Leather Seats</td>\n",
       "      <td>0</td>\n",
       "      <td>1.0</td>\n",
       "      <td>2.0</td>\n",
       "      <td>9</td>\n",
       "      <td>NaN</td>\n",
       "    </tr>\n",
       "    <tr>\n",
       "      <th>1964926</th>\n",
       "      <td>m55</td>\n",
       "      <td>2015 Volkswagen Passat SE w/ Convenience - $8,495</td>\n",
       "      <td>sedan</td>\n",
       "      <td>True</td>\n",
       "      <td>Boise, ID</td>\n",
       "      <td>24 MPG City</td>\n",
       "      <td>36 MPG Highway</td>\n",
       "      <td>8495.0</td>\n",
       "      <td>76073.0</td>\n",
       "      <td>6-Speed Automatic</td>\n",
       "      <td>Gasoline</td>\n",
       "      <td>Red</td>\n",
       "      <td>NaN</td>\n",
       "      <td>NaN</td>\n",
       "      <td>NaN</td>\n",
       "      <td>I4</td>\n",
       "      <td>Front-Wheel Drive</td>\n",
       "      <td>0</td>\n",
       "      <td>NaN</td>\n",
       "      <td>0</td>\n",
       "      <td>2.0</td>\n",
       "      <td>3.0</td>\n",
       "      <td>96</td>\n",
       "      <td>7695.0</td>\n",
       "    </tr>\n",
       "  </tbody>\n",
       "</table>\n",
       "</div>"
      ],
      "text/plain": [
       "        MakeId                                              Title BodyStyle Rental          Location GasMileage_city GasMileage_highway    Price   Mileage       Transmission  FuelType  ExteriorColor             InteriorColor DoorsNum MaximumSeating Engine         Drivetrain OptionCount                                       MajorOptions Certified  Accident Check  OwnershipHistory SellingDays  OriginPrice\n",
       "952553     m22  2016 Cadillac XTS Pro Coachbuilder Limousine F...     sedan  False        Irving, TX     15 MPG City     21 MPG Highway  62995.0   40228.0  6-Speed Automatic  Gasoline  Crystal White  Shale With Cocoa Accents      NaN            NaN     V6  Front-Wheel Drive           0                                                NaN         0             0.0               NaN         135      65779.0\n",
       "953166     m22  2015 Cadillac XTS Pro Coachbuilder Limousine F...     sedan   True       Chicago, IL     14 MPG City     21 MPG Highway  10995.0  175558.0  6-Speed Automatic  Gasoline          Black                     Black      NaN            NaN     V6  Front-Wheel Drive           0                                                NaN         0             0.0               5.0         126      10995.0\n",
       "953872     m22  2015 Cadillac XTS Pro Coachbuilder Limousine F...     sedan  False        Butler, PA     14 MPG City     21 MPG Highway  25995.0   45980.0          Automatic  Gasoline    Black Raven                 Jet Black      NaN            NaN     V6  Front-Wheel Drive           0                                                NaN         0             0.0               1.0         118          NaN\n",
       "960552     m22  2014 Cadillac XTS Pro Coachbuilder Limousine F...     sedan   True   Baton Rouge, LA     15 MPG City     21 MPG Highway  13495.0  103492.0  6-Speed Automatic  Gasoline          Black                     Black      NaN            NaN     V6  Front-Wheel Drive           6  Bluetooth,Leather Seats,Premium Wheels,Backup ...         0             1.0               1.0          64          NaN\n",
       "969885     m22   2015 Cadillac XTS Pro Coachbuilder Limousine FWD     sedan  False  Cockeysville, MD     14 MPG City     21 MPG Highway      NaN   47003.0  6-Speed Automatic  Gasoline    Black Raven                 jet black      NaN            NaN     V6  Front-Wheel Drive           0                                                NaN         0             2.0               1.0          29          NaN\n",
       "979235     m22   2014 Cadillac XTS Pro Coachbuilder Limousine FWD     sedan  False         Ewing, NJ     15 MPG City     21 MPG Highway      NaN       NaN  6-Speed Automatic  Gasoline  Black Diamond                 Jet Black      NaN            NaN     V6  Front-Wheel Drive           1                                      Leather Seats         0             1.0               2.0           9          NaN\n",
       "1964926    m55  2015 Volkswagen Passat SE w/ Convenience - $8,495     sedan   True         Boise, ID     24 MPG City     36 MPG Highway   8495.0   76073.0  6-Speed Automatic  Gasoline            Red                       NaN      NaN            NaN     I4  Front-Wheel Drive           0                                                NaN         0             2.0               3.0          96       7695.0"
      ]
     },
     "execution_count": 32,
     "metadata": {},
     "output_type": "execute_result"
    }
   ],
   "source": [
    "new_data3[new_data3['MaximumSeating'].isnull()]"
   ]
  },
  {
   "cell_type": "code",
   "execution_count": 33,
   "metadata": {},
   "outputs": [],
   "source": [
    "m22 = new_data3[new_data3['MakeId'] == 'm22']"
   ]
  },
  {
   "cell_type": "code",
   "execution_count": 34,
   "metadata": {},
   "outputs": [
    {
     "data": {
      "text/plain": [
       "MaximumSeating\n",
       "5 seats    23735\n",
       "8 seats     6910\n",
       "4 seats     1172\n",
       "6 seats      953\n",
       "7 seats      425\n",
       "2 seats      171\n",
       "dtype: int64"
      ]
     },
     "execution_count": 34,
     "metadata": {},
     "output_type": "execute_result"
    }
   ],
   "source": [
    "m22.groupby('MaximumSeating').size().sort_values(ascending=False)"
   ]
  },
  {
   "cell_type": "code",
   "execution_count": 35,
   "metadata": {},
   "outputs": [
    {
     "data": {
      "text/plain": [
       "MaximumSeating\n",
       "5 seats    39637\n",
       "7 seats     4436\n",
       "4 seats     4200\n",
       "6 seats        3\n",
       "dtype: int64"
      ]
     },
     "execution_count": 35,
     "metadata": {},
     "output_type": "execute_result"
    }
   ],
   "source": [
    "new_data3[new_data3['MakeId'] == 'm55'].groupby('MaximumSeating').size().sort_values(ascending=False)"
   ]
  },
  {
   "cell_type": "code",
   "execution_count": 36,
   "metadata": {},
   "outputs": [],
   "source": [
    "new_data3.MaximumSeating.fillna('5 seats', inplace=True)"
   ]
  },
  {
   "cell_type": "code",
   "execution_count": 37,
   "metadata": {},
   "outputs": [
    {
     "data": {
      "text/plain": [
       "MakeId                     0\n",
       "Title                      0\n",
       "BodyStyle                  0\n",
       "Rental                     0\n",
       "Location                   0\n",
       "GasMileage_city            0\n",
       "GasMileage_highway         0\n",
       "Price                  90369\n",
       "Mileage                24260\n",
       "Transmission               0\n",
       "FuelType                   0\n",
       "ExteriorColor          39515\n",
       "InteriorColor         301309\n",
       "DoorsNum              873375\n",
       "MaximumSeating             0\n",
       "Engine                  3292\n",
       "Drivetrain                 0\n",
       "OptionCount                0\n",
       "MajorOptions          216202\n",
       "Certified                  0\n",
       "Accident Check         17444\n",
       "OwnershipHistory       46999\n",
       "SellingDays                0\n",
       "OriginPrice           883588\n",
       "dtype: int64"
      ]
     },
     "execution_count": 37,
     "metadata": {},
     "output_type": "execute_result"
    }
   ],
   "source": [
    "new_data3.isnull().sum()"
   ]
  },
  {
   "cell_type": "code",
   "execution_count": null,
   "metadata": {},
   "outputs": [],
   "source": []
  },
  {
   "cell_type": "markdown",
   "metadata": {},
   "source": [
    "------------------------------------"
   ]
  },
  {
   "cell_type": "markdown",
   "metadata": {},
   "source": [
    "##### DoorsNum"
   ]
  },
  {
   "cell_type": "code",
   "execution_count": 38,
   "metadata": {},
   "outputs": [],
   "source": [
    "new_data4 = pd.DataFrame()"
   ]
  },
  {
   "cell_type": "code",
   "execution_count": 39,
   "metadata": {},
   "outputs": [
    {
     "name": "stderr",
     "output_type": "stream",
     "text": [
      "c:\\program files\\python37\\lib\\site-packages\\ipykernel_launcher.py:5: SettingWithCopyWarning: \n",
      "A value is trying to be set on a copy of a slice from a DataFrame.\n",
      "Try using .loc[row_indexer,col_indexer] = value instead\n",
      "\n",
      "See the caveats in the documentation: http://pandas.pydata.org/pandas-docs/stable/user_guide/indexing.html#returning-a-view-versus-a-copy\n",
      "  \"\"\"\n",
      "c:\\program files\\python37\\lib\\site-packages\\ipykernel_launcher.py:9: SettingWithCopyWarning: \n",
      "A value is trying to be set on a copy of a slice from a DataFrame.\n",
      "Try using .loc[row_indexer,col_indexer] = value instead\n",
      "\n",
      "See the caveats in the documentation: http://pandas.pydata.org/pandas-docs/stable/user_guide/indexing.html#returning-a-view-versus-a-copy\n",
      "  if __name__ == '__main__':\n"
     ]
    }
   ],
   "source": [
    "for id in new_data3['MakeId'].unique():\n",
    "    if id != 'm203':\n",
    "        part = new_data3[new_data3['MakeId'] == id]\n",
    "        most = part.groupby(by='DoorsNum').size().sort_values(ascending=False).index[0]\n",
    "        part['DoorsNum'] = part['DoorsNum'].fillna(value=most)\n",
    "        new_data4 = new_data4.append(part)\n",
    "    else:\n",
    "        part = new_data3[new_data3['MakeId'] == id]\n",
    "        part['DoorsNum'] = part['DoorsNum'].fillna(value='4 doors')\n",
    "        new_data4 = new_data4.append(part)"
   ]
  },
  {
   "cell_type": "code",
   "execution_count": 40,
   "metadata": {},
   "outputs": [
    {
     "data": {
      "text/plain": [
       "MakeId                     0\n",
       "Title                      0\n",
       "BodyStyle                  0\n",
       "Rental                     0\n",
       "Location                   0\n",
       "GasMileage_city            0\n",
       "GasMileage_highway         0\n",
       "Price                  90369\n",
       "Mileage                24260\n",
       "Transmission               0\n",
       "FuelType                   0\n",
       "ExteriorColor          39515\n",
       "InteriorColor         301309\n",
       "DoorsNum                   0\n",
       "MaximumSeating             0\n",
       "Engine                  3292\n",
       "Drivetrain                 0\n",
       "OptionCount                0\n",
       "MajorOptions          216202\n",
       "Certified                  0\n",
       "Accident Check         17444\n",
       "OwnershipHistory       46999\n",
       "SellingDays                0\n",
       "OriginPrice           883588\n",
       "dtype: int64"
      ]
     },
     "execution_count": 40,
     "metadata": {},
     "output_type": "execute_result"
    }
   ],
   "source": [
    "new_data4.isnull().sum()"
   ]
  },
  {
   "cell_type": "code",
   "execution_count": null,
   "metadata": {},
   "outputs": [],
   "source": []
  },
  {
   "cell_type": "markdown",
   "metadata": {},
   "source": [
    "##### Engine"
   ]
  },
  {
   "cell_type": "code",
   "execution_count": 41,
   "metadata": {},
   "outputs": [],
   "source": [
    "# for id in new_data4['MakeId'].unique():\n",
    "#     print(id)\n",
    "#     part = new_data4[new_data4['MakeId'] == id]\n",
    "#     print(part.groupby('Engine').size().sort_values(ascending=False))"
   ]
  },
  {
   "cell_type": "code",
   "execution_count": null,
   "metadata": {},
   "outputs": [],
   "source": []
  },
  {
   "cell_type": "markdown",
   "metadata": {},
   "source": [
    "##### OriginPrice"
   ]
  },
  {
   "cell_type": "code",
   "execution_count": 50,
   "metadata": {},
   "outputs": [],
   "source": [
    "test_data = new_data4.dropna(subset=['Price','OriginPrice'])\n",
    "# test_data 就是之後要用來訓練的資料 Price 和 OriginPrice 都有值"
   ]
  },
  {
   "cell_type": "code",
   "execution_count": 51,
   "metadata": {},
   "outputs": [
    {
     "data": {
      "text/plain": [
       "1017565"
      ]
     },
     "execution_count": 51,
     "metadata": {},
     "output_type": "execute_result"
    }
   ],
   "source": [
    "len(test_data)"
   ]
  },
  {
   "cell_type": "code",
   "execution_count": 52,
   "metadata": {},
   "outputs": [
    {
     "data": {
      "text/html": [
       "<div>\n",
       "<style scoped>\n",
       "    .dataframe tbody tr th:only-of-type {\n",
       "        vertical-align: middle;\n",
       "    }\n",
       "\n",
       "    .dataframe tbody tr th {\n",
       "        vertical-align: top;\n",
       "    }\n",
       "\n",
       "    .dataframe thead th {\n",
       "        text-align: right;\n",
       "    }\n",
       "</style>\n",
       "<table border=\"1\" class=\"dataframe\">\n",
       "  <thead>\n",
       "    <tr style=\"text-align: right;\">\n",
       "      <th></th>\n",
       "      <th>MakeId</th>\n",
       "      <th>Title</th>\n",
       "      <th>BodyStyle</th>\n",
       "      <th>Rental</th>\n",
       "      <th>Location</th>\n",
       "      <th>GasMileage_city</th>\n",
       "      <th>GasMileage_highway</th>\n",
       "      <th>Price</th>\n",
       "      <th>Mileage</th>\n",
       "      <th>Transmission</th>\n",
       "      <th>FuelType</th>\n",
       "      <th>ExteriorColor</th>\n",
       "      <th>InteriorColor</th>\n",
       "      <th>DoorsNum</th>\n",
       "      <th>MaximumSeating</th>\n",
       "      <th>Engine</th>\n",
       "      <th>Drivetrain</th>\n",
       "      <th>OptionCount</th>\n",
       "      <th>MajorOptions</th>\n",
       "      <th>Certified</th>\n",
       "      <th>Accident Check</th>\n",
       "      <th>OwnershipHistory</th>\n",
       "      <th>SellingDays</th>\n",
       "      <th>OriginPrice</th>\n",
       "    </tr>\n",
       "  </thead>\n",
       "  <tbody>\n",
       "    <tr>\n",
       "      <th>51</th>\n",
       "      <td>m1</td>\n",
       "      <td>2010 Chevrolet Malibu LS FWD - $10,995</td>\n",
       "      <td>sedan</td>\n",
       "      <td>False</td>\n",
       "      <td>Schuylkill Haven, PA</td>\n",
       "      <td>22 MPG City</td>\n",
       "      <td>30 MPG Highway</td>\n",
       "      <td>10995.0</td>\n",
       "      <td>28988.0</td>\n",
       "      <td>4-Speed Automatic</td>\n",
       "      <td>Gasoline</td>\n",
       "      <td>Gold Mist Metallic</td>\n",
       "      <td>NaN</td>\n",
       "      <td>4 doors</td>\n",
       "      <td>5 seats</td>\n",
       "      <td>I4</td>\n",
       "      <td>Front-Wheel Drive</td>\n",
       "      <td>0</td>\n",
       "      <td>NaN</td>\n",
       "      <td>0</td>\n",
       "      <td>0.0</td>\n",
       "      <td>1.0</td>\n",
       "      <td>1624</td>\n",
       "      <td>10995.0</td>\n",
       "    </tr>\n",
       "    <tr>\n",
       "      <th>89</th>\n",
       "      <td>m1</td>\n",
       "      <td>2016 Chevrolet Corvette Stingray 2LT Convertib...</td>\n",
       "      <td>convertible</td>\n",
       "      <td>False</td>\n",
       "      <td>North Dartmouth, MA</td>\n",
       "      <td>16 MPG City</td>\n",
       "      <td>29 MPG Highway</td>\n",
       "      <td>57250.0</td>\n",
       "      <td>105.0</td>\n",
       "      <td>8-Speed Automatic</td>\n",
       "      <td>Gasoline</td>\n",
       "      <td>ARCTIC WHITE</td>\n",
       "      <td>KALAHARI</td>\n",
       "      <td>2 doors</td>\n",
       "      <td>2 seats</td>\n",
       "      <td>V8</td>\n",
       "      <td>Rear-Wheel Drive</td>\n",
       "      <td>5</td>\n",
       "      <td>Leather Seats,Navigation System,Bluetooth,Back...</td>\n",
       "      <td>0</td>\n",
       "      <td>0.0</td>\n",
       "      <td>NaN</td>\n",
       "      <td>1537</td>\n",
       "      <td>57250.0</td>\n",
       "    </tr>\n",
       "    <tr>\n",
       "      <th>212</th>\n",
       "      <td>m1</td>\n",
       "      <td>2016 Chevrolet Corvette Stingray Z51 2LT Conve...</td>\n",
       "      <td>convertible</td>\n",
       "      <td>False</td>\n",
       "      <td>North Dartmouth, MA</td>\n",
       "      <td>16 MPG City</td>\n",
       "      <td>29 MPG Highway</td>\n",
       "      <td>60815.0</td>\n",
       "      <td>103.0</td>\n",
       "      <td>8-Speed Automatic</td>\n",
       "      <td>Gasoline</td>\n",
       "      <td>ARCTIC WHITE</td>\n",
       "      <td>KALAHARI</td>\n",
       "      <td>2 doors</td>\n",
       "      <td>2 seats</td>\n",
       "      <td>V8</td>\n",
       "      <td>Rear-Wheel Drive</td>\n",
       "      <td>5</td>\n",
       "      <td>Leather Seats,Navigation System,Bluetooth,Back...</td>\n",
       "      <td>0</td>\n",
       "      <td>0.0</td>\n",
       "      <td>NaN</td>\n",
       "      <td>1365</td>\n",
       "      <td>60815.0</td>\n",
       "    </tr>\n",
       "    <tr>\n",
       "      <th>256</th>\n",
       "      <td>m1</td>\n",
       "      <td>2015 Chevrolet SS RWD - $49,000</td>\n",
       "      <td>sedan</td>\n",
       "      <td>False</td>\n",
       "      <td>Bridgeport, CT</td>\n",
       "      <td>14 MPG City</td>\n",
       "      <td>21 MPG Highway</td>\n",
       "      <td>49000.0</td>\n",
       "      <td>15100.0</td>\n",
       "      <td>6-Speed Automatic</td>\n",
       "      <td>Gasoline</td>\n",
       "      <td>Black</td>\n",
       "      <td>Black</td>\n",
       "      <td>4 doors</td>\n",
       "      <td>5 seats</td>\n",
       "      <td>V8</td>\n",
       "      <td>Rear-Wheel Drive</td>\n",
       "      <td>2</td>\n",
       "      <td>Navigation System,Bluetooth</td>\n",
       "      <td>0</td>\n",
       "      <td>0.0</td>\n",
       "      <td>1.0</td>\n",
       "      <td>1316</td>\n",
       "      <td>49000.0</td>\n",
       "    </tr>\n",
       "    <tr>\n",
       "      <th>282</th>\n",
       "      <td>m1</td>\n",
       "      <td>2009 Chevrolet Impala 1LT FWD - $7,995</td>\n",
       "      <td>sedan</td>\n",
       "      <td>True</td>\n",
       "      <td>Houston, TX</td>\n",
       "      <td>19 MPG City</td>\n",
       "      <td>29 MPG Highway</td>\n",
       "      <td>7995.0</td>\n",
       "      <td>93395.0</td>\n",
       "      <td>4-Speed Automatic</td>\n",
       "      <td>Flex Fuel Vehicle</td>\n",
       "      <td>White</td>\n",
       "      <td>Black Cloth</td>\n",
       "      <td>4 doors</td>\n",
       "      <td>6 seats</td>\n",
       "      <td>V6 Flex Fuel Vehicle</td>\n",
       "      <td>Front-Wheel Drive</td>\n",
       "      <td>1</td>\n",
       "      <td>Alloy Wheels</td>\n",
       "      <td>0</td>\n",
       "      <td>0.0</td>\n",
       "      <td>4.0</td>\n",
       "      <td>1263</td>\n",
       "      <td>7995.0</td>\n",
       "    </tr>\n",
       "    <tr>\n",
       "      <th>...</th>\n",
       "      <td>...</td>\n",
       "      <td>...</td>\n",
       "      <td>...</td>\n",
       "      <td>...</td>\n",
       "      <td>...</td>\n",
       "      <td>...</td>\n",
       "      <td>...</td>\n",
       "      <td>...</td>\n",
       "      <td>...</td>\n",
       "      <td>...</td>\n",
       "      <td>...</td>\n",
       "      <td>...</td>\n",
       "      <td>...</td>\n",
       "      <td>...</td>\n",
       "      <td>...</td>\n",
       "      <td>...</td>\n",
       "      <td>...</td>\n",
       "      <td>...</td>\n",
       "      <td>...</td>\n",
       "      <td>...</td>\n",
       "      <td>...</td>\n",
       "      <td>...</td>\n",
       "      <td>...</td>\n",
       "      <td>...</td>\n",
       "    </tr>\n",
       "    <tr>\n",
       "      <th>2373772</th>\n",
       "      <td>m98</td>\n",
       "      <td>2013 FIAT 500 Abarth Convertible - $15,912</td>\n",
       "      <td>convertible</td>\n",
       "      <td>False</td>\n",
       "      <td>East Hanover, NJ</td>\n",
       "      <td>28 MPG City</td>\n",
       "      <td>34 MPG Highway</td>\n",
       "      <td>15912.0</td>\n",
       "      <td>13222.0</td>\n",
       "      <td>5-Speed Manual</td>\n",
       "      <td>Gasoline</td>\n",
       "      <td>Nero</td>\n",
       "      <td>Black</td>\n",
       "      <td>2 doors</td>\n",
       "      <td>4 seats</td>\n",
       "      <td>I4</td>\n",
       "      <td>Front-Wheel Drive</td>\n",
       "      <td>1</td>\n",
       "      <td>Bluetooth</td>\n",
       "      <td>0</td>\n",
       "      <td>0.0</td>\n",
       "      <td>2.0</td>\n",
       "      <td>30</td>\n",
       "      <td>15912.0</td>\n",
       "    </tr>\n",
       "    <tr>\n",
       "      <th>2373996</th>\n",
       "      <td>m98</td>\n",
       "      <td>2012 FIAT 500 Pop - $5,995</td>\n",
       "      <td>hatchback</td>\n",
       "      <td>False</td>\n",
       "      <td>Wilmington, CA</td>\n",
       "      <td>30 MPG City</td>\n",
       "      <td>38 MPG Highway</td>\n",
       "      <td>5995.0</td>\n",
       "      <td>62538.0</td>\n",
       "      <td>Manual</td>\n",
       "      <td>Gasoline</td>\n",
       "      <td>Bianco Perla (Pearl White Tri-Coat)</td>\n",
       "      <td>White (Ivory Interior)</td>\n",
       "      <td>2 doors</td>\n",
       "      <td>4 seats</td>\n",
       "      <td>I4</td>\n",
       "      <td>Front-Wheel Drive</td>\n",
       "      <td>3</td>\n",
       "      <td>Audio Package,Steel Wheels,Bluetooth</td>\n",
       "      <td>0</td>\n",
       "      <td>0.0</td>\n",
       "      <td>3.0</td>\n",
       "      <td>25</td>\n",
       "      <td>5995.0</td>\n",
       "    </tr>\n",
       "    <tr>\n",
       "      <th>2374126</th>\n",
       "      <td>m98</td>\n",
       "      <td>2015 FIAT 500 Pop - $5,989</td>\n",
       "      <td>hatchback</td>\n",
       "      <td>False</td>\n",
       "      <td>Avondale, AZ</td>\n",
       "      <td>31 MPG City</td>\n",
       "      <td>40 MPG Highway</td>\n",
       "      <td>5989.0</td>\n",
       "      <td>46762.0</td>\n",
       "      <td>5-Speed Manual</td>\n",
       "      <td>Gasoline</td>\n",
       "      <td>Blue Metallic</td>\n",
       "      <td>Gray</td>\n",
       "      <td>2 doors</td>\n",
       "      <td>4 seats</td>\n",
       "      <td>I4</td>\n",
       "      <td>Front-Wheel Drive</td>\n",
       "      <td>2</td>\n",
       "      <td>Steel Wheels,Quick Order Package</td>\n",
       "      <td>0</td>\n",
       "      <td>0.0</td>\n",
       "      <td>1.0</td>\n",
       "      <td>21</td>\n",
       "      <td>5989.0</td>\n",
       "    </tr>\n",
       "    <tr>\n",
       "      <th>2374214</th>\n",
       "      <td>m98</td>\n",
       "      <td>2012 FIAT 500 Lounge Convertible - $8,500</td>\n",
       "      <td>convertible</td>\n",
       "      <td>True</td>\n",
       "      <td>Silver Spring, MD</td>\n",
       "      <td>27 MPG City</td>\n",
       "      <td>32 MPG Highway</td>\n",
       "      <td>8500.0</td>\n",
       "      <td>71859.0</td>\n",
       "      <td>6-Speed Automatic</td>\n",
       "      <td>Gasoline</td>\n",
       "      <td>Bianco (White)</td>\n",
       "      <td>Avorio (Ivory)</td>\n",
       "      <td>2 doors</td>\n",
       "      <td>4 seats</td>\n",
       "      <td>I4</td>\n",
       "      <td>Front-Wheel Drive</td>\n",
       "      <td>4</td>\n",
       "      <td>Leather Seats,Alloy Wheels,Bluetooth,Quick Ord...</td>\n",
       "      <td>0</td>\n",
       "      <td>0.0</td>\n",
       "      <td>3.0</td>\n",
       "      <td>19</td>\n",
       "      <td>8500.0</td>\n",
       "    </tr>\n",
       "    <tr>\n",
       "      <th>2374798</th>\n",
       "      <td>m98</td>\n",
       "      <td>2017 FIAT 500e FWD - $9,990</td>\n",
       "      <td>hatchback</td>\n",
       "      <td>False</td>\n",
       "      <td>Costa Mesa, CA</td>\n",
       "      <td>121 MPG City</td>\n",
       "      <td>103 MPG Highway</td>\n",
       "      <td>9990.0</td>\n",
       "      <td>17691.0</td>\n",
       "      <td>Automatic</td>\n",
       "      <td>Electric</td>\n",
       "      <td>White</td>\n",
       "      <td>Black</td>\n",
       "      <td>2 doors</td>\n",
       "      <td>4 seats</td>\n",
       "      <td>NaN</td>\n",
       "      <td>Front-Wheel Drive</td>\n",
       "      <td>5</td>\n",
       "      <td>Leather Seats,Navigation System,Alloy Wheels,B...</td>\n",
       "      <td>0</td>\n",
       "      <td>0.0</td>\n",
       "      <td>1.0</td>\n",
       "      <td>8</td>\n",
       "      <td>9990.0</td>\n",
       "    </tr>\n",
       "  </tbody>\n",
       "</table>\n",
       "<p>13908 rows × 24 columns</p>\n",
       "</div>"
      ],
      "text/plain": [
       "        MakeId                                              Title    BodyStyle Rental              Location GasMileage_city GasMileage_highway    Price  Mileage       Transmission           FuelType                        ExteriorColor           InteriorColor DoorsNum MaximumSeating                Engine         Drivetrain OptionCount                                       MajorOptions Certified  Accident Check  OwnershipHistory SellingDays  OriginPrice\n",
       "51          m1             2010 Chevrolet Malibu LS FWD - $10,995        sedan  False  Schuylkill Haven, PA     22 MPG City     30 MPG Highway  10995.0  28988.0  4-Speed Automatic           Gasoline                   Gold Mist Metallic                     NaN  4 doors        5 seats                    I4  Front-Wheel Drive           0                                                NaN         0             0.0               1.0        1624      10995.0\n",
       "89          m1  2016 Chevrolet Corvette Stingray 2LT Convertib...  convertible  False   North Dartmouth, MA     16 MPG City     29 MPG Highway  57250.0    105.0  8-Speed Automatic           Gasoline                         ARCTIC WHITE                KALAHARI  2 doors        2 seats                    V8   Rear-Wheel Drive           5  Leather Seats,Navigation System,Bluetooth,Back...         0             0.0               NaN        1537      57250.0\n",
       "212         m1  2016 Chevrolet Corvette Stingray Z51 2LT Conve...  convertible  False   North Dartmouth, MA     16 MPG City     29 MPG Highway  60815.0    103.0  8-Speed Automatic           Gasoline                         ARCTIC WHITE                KALAHARI  2 doors        2 seats                    V8   Rear-Wheel Drive           5  Leather Seats,Navigation System,Bluetooth,Back...         0             0.0               NaN        1365      60815.0\n",
       "256         m1                    2015 Chevrolet SS RWD - $49,000        sedan  False        Bridgeport, CT     14 MPG City     21 MPG Highway  49000.0  15100.0  6-Speed Automatic           Gasoline                                Black                   Black  4 doors        5 seats                    V8   Rear-Wheel Drive           2                        Navigation System,Bluetooth         0             0.0               1.0        1316      49000.0\n",
       "282         m1             2009 Chevrolet Impala 1LT FWD - $7,995        sedan   True           Houston, TX     19 MPG City     29 MPG Highway   7995.0  93395.0  4-Speed Automatic  Flex Fuel Vehicle                                White             Black Cloth  4 doors        6 seats  V6 Flex Fuel Vehicle  Front-Wheel Drive           1                                       Alloy Wheels         0             0.0               4.0        1263       7995.0\n",
       "...        ...                                                ...          ...    ...                   ...             ...                ...      ...      ...                ...                ...                                  ...                     ...      ...            ...                   ...                ...         ...                                                ...       ...             ...               ...         ...          ...\n",
       "2373772    m98         2013 FIAT 500 Abarth Convertible - $15,912  convertible  False      East Hanover, NJ     28 MPG City     34 MPG Highway  15912.0  13222.0     5-Speed Manual           Gasoline                                 Nero                   Black  2 doors        4 seats                    I4  Front-Wheel Drive           1                                          Bluetooth         0             0.0               2.0          30      15912.0\n",
       "2373996    m98                         2012 FIAT 500 Pop - $5,995    hatchback  False        Wilmington, CA     30 MPG City     38 MPG Highway   5995.0  62538.0             Manual           Gasoline  Bianco Perla (Pearl White Tri-Coat)  White (Ivory Interior)  2 doors        4 seats                    I4  Front-Wheel Drive           3               Audio Package,Steel Wheels,Bluetooth         0             0.0               3.0          25       5995.0\n",
       "2374126    m98                         2015 FIAT 500 Pop - $5,989    hatchback  False          Avondale, AZ     31 MPG City     40 MPG Highway   5989.0  46762.0     5-Speed Manual           Gasoline                        Blue Metallic                    Gray  2 doors        4 seats                    I4  Front-Wheel Drive           2                   Steel Wheels,Quick Order Package         0             0.0               1.0          21       5989.0\n",
       "2374214    m98          2012 FIAT 500 Lounge Convertible - $8,500  convertible   True     Silver Spring, MD     27 MPG City     32 MPG Highway   8500.0  71859.0  6-Speed Automatic           Gasoline                       Bianco (White)          Avorio (Ivory)  2 doors        4 seats                    I4  Front-Wheel Drive           4  Leather Seats,Alloy Wheels,Bluetooth,Quick Ord...         0             0.0               3.0          19       8500.0\n",
       "2374798    m98                        2017 FIAT 500e FWD - $9,990    hatchback  False        Costa Mesa, CA    121 MPG City    103 MPG Highway   9990.0  17691.0          Automatic           Electric                                White                   Black  2 doors        4 seats                   NaN  Front-Wheel Drive           5  Leather Seats,Navigation System,Alloy Wheels,B...         0             0.0               1.0           8       9990.0\n",
       "\n",
       "[13908 rows x 24 columns]"
      ]
     },
     "execution_count": 52,
     "metadata": {},
     "output_type": "execute_result"
    }
   ],
   "source": [
    "test_data[test_data['Price'] == test_data['OriginPrice']]\n",
    "# 去掉所有空值後,發現價格完全沒有變動過的資料只有13908筆, 表示價格變動的滿劇烈的"
   ]
  },
  {
   "cell_type": "code",
   "execution_count": 53,
   "metadata": {},
   "outputs": [],
   "source": [
    "train_data = test_data.iloc[:,[7,22,23]]"
   ]
  },
  {
   "cell_type": "code",
   "execution_count": 54,
   "metadata": {},
   "outputs": [
    {
     "name": "stderr",
     "output_type": "stream",
     "text": [
      "c:\\program files\\python37\\lib\\site-packages\\ipykernel_launcher.py:1: SettingWithCopyWarning: \n",
      "A value is trying to be set on a copy of a slice from a DataFrame.\n",
      "Try using .loc[row_indexer,col_indexer] = value instead\n",
      "\n",
      "See the caveats in the documentation: http://pandas.pydata.org/pandas-docs/stable/user_guide/indexing.html#returning-a-view-versus-a-copy\n",
      "  \"\"\"Entry point for launching an IPython kernel.\n"
     ]
    }
   ],
   "source": [
    "train_data['SellingDays'] = train_data['SellingDays'].astype('int32')"
   ]
  },
  {
   "cell_type": "code",
   "execution_count": 55,
   "metadata": {},
   "outputs": [
    {
     "data": {
      "text/plain": [
       "Price          float64\n",
       "SellingDays      int32\n",
       "OriginPrice    float64\n",
       "dtype: object"
      ]
     },
     "execution_count": 55,
     "metadata": {},
     "output_type": "execute_result"
    }
   ],
   "source": [
    "train_data.dtypes"
   ]
  },
  {
   "cell_type": "code",
   "execution_count": 56,
   "metadata": {},
   "outputs": [
    {
     "data": {
      "text/html": [
       "<div>\n",
       "<style scoped>\n",
       "    .dataframe tbody tr th:only-of-type {\n",
       "        vertical-align: middle;\n",
       "    }\n",
       "\n",
       "    .dataframe tbody tr th {\n",
       "        vertical-align: top;\n",
       "    }\n",
       "\n",
       "    .dataframe thead th {\n",
       "        text-align: right;\n",
       "    }\n",
       "</style>\n",
       "<table border=\"1\" class=\"dataframe\">\n",
       "  <thead>\n",
       "    <tr style=\"text-align: right;\">\n",
       "      <th></th>\n",
       "      <th>Price</th>\n",
       "      <th>SellingDays</th>\n",
       "      <th>OriginPrice</th>\n",
       "    </tr>\n",
       "  </thead>\n",
       "  <tbody>\n",
       "    <tr>\n",
       "      <th>Price</th>\n",
       "      <td>1.000000</td>\n",
       "      <td>0.007153</td>\n",
       "      <td>0.008534</td>\n",
       "    </tr>\n",
       "    <tr>\n",
       "      <th>SellingDays</th>\n",
       "      <td>0.007153</td>\n",
       "      <td>1.000000</td>\n",
       "      <td>-0.000358</td>\n",
       "    </tr>\n",
       "    <tr>\n",
       "      <th>OriginPrice</th>\n",
       "      <td>0.008534</td>\n",
       "      <td>-0.000358</td>\n",
       "      <td>1.000000</td>\n",
       "    </tr>\n",
       "  </tbody>\n",
       "</table>\n",
       "</div>"
      ],
      "text/plain": [
       "                Price  SellingDays  OriginPrice\n",
       "Price        1.000000     0.007153     0.008534\n",
       "SellingDays  0.007153     1.000000    -0.000358\n",
       "OriginPrice  0.008534    -0.000358     1.000000"
      ]
     },
     "execution_count": 56,
     "metadata": {},
     "output_type": "execute_result"
    }
   ],
   "source": [
    "train_data.corr()"
   ]
  },
  {
   "cell_type": "code",
   "execution_count": 57,
   "metadata": {},
   "outputs": [],
   "source": [
    "from sklearn.ensemble import RandomForestRegressor"
   ]
  },
  {
   "cell_type": "code",
   "execution_count": 58,
   "metadata": {},
   "outputs": [],
   "source": [
    "forest = RandomForestRegressor(n_estimators=10,\n",
    "                              criterion='mse',\n",
    "                              random_state=1,\n",
    "                              n_jobs=-1)"
   ]
  },
  {
   "cell_type": "code",
   "execution_count": 59,
   "metadata": {},
   "outputs": [],
   "source": [
    "y_train = train_data.iloc[:,2]"
   ]
  },
  {
   "cell_type": "code",
   "execution_count": 60,
   "metadata": {},
   "outputs": [],
   "source": [
    "X_train = train_data.iloc[:,[0,1]]"
   ]
  },
  {
   "cell_type": "code",
   "execution_count": 61,
   "metadata": {},
   "outputs": [
    {
     "data": {
      "text/plain": [
       "RandomForestRegressor(bootstrap=True, criterion='mse', max_depth=None,\n",
       "                      max_features='auto', max_leaf_nodes=None,\n",
       "                      min_impurity_decrease=0.0, min_impurity_split=None,\n",
       "                      min_samples_leaf=1, min_samples_split=2,\n",
       "                      min_weight_fraction_leaf=0.0, n_estimators=10, n_jobs=-1,\n",
       "                      oob_score=False, random_state=1, verbose=0,\n",
       "                      warm_start=False)"
      ]
     },
     "execution_count": 61,
     "metadata": {},
     "output_type": "execute_result"
    }
   ],
   "source": [
    "forest.fit(X_train, y_train)"
   ]
  },
  {
   "cell_type": "code",
   "execution_count": 62,
   "metadata": {},
   "outputs": [],
   "source": [
    "need_pred = new_data4.dropna(subset=['Price']).iloc[:,[7,22,23]]"
   ]
  },
  {
   "cell_type": "code",
   "execution_count": 63,
   "metadata": {},
   "outputs": [],
   "source": [
    "need_pred = need_pred[need_pred['SellingDays'] != 0]"
   ]
  },
  {
   "cell_type": "code",
   "execution_count": 65,
   "metadata": {},
   "outputs": [
    {
     "data": {
      "text/plain": [
       "Price               0\n",
       "SellingDays         0\n",
       "OriginPrice    777005\n",
       "dtype: int64"
      ]
     },
     "execution_count": 65,
     "metadata": {},
     "output_type": "execute_result"
    }
   ],
   "source": [
    "need_pred.isnull().sum()\n",
    "# 在 need_pred 當中 , Price 和 SellingDays都是有值的"
   ]
  },
  {
   "cell_type": "code",
   "execution_count": 66,
   "metadata": {},
   "outputs": [],
   "source": [
    "need_pred = need_pred[need_pred['OriginPrice'].isnull()]"
   ]
  },
  {
   "cell_type": "code",
   "execution_count": 67,
   "metadata": {},
   "outputs": [],
   "source": [
    "X_test = need_pred.iloc[:,[0,1]]"
   ]
  },
  {
   "cell_type": "code",
   "execution_count": 68,
   "metadata": {},
   "outputs": [],
   "source": [
    "y_pred = forest.predict(X_test)"
   ]
  },
  {
   "cell_type": "code",
   "execution_count": 69,
   "metadata": {},
   "outputs": [],
   "source": [
    "the_index = need_pred['OriginPrice'].index"
   ]
  },
  {
   "cell_type": "code",
   "execution_count": 70,
   "metadata": {},
   "outputs": [
    {
     "data": {
      "text/plain": [
       "True"
      ]
     },
     "execution_count": 70,
     "metadata": {},
     "output_type": "execute_result"
    }
   ],
   "source": [
    "len(the_index) == len(y_pred)"
   ]
  },
  {
   "cell_type": "code",
   "execution_count": 71,
   "metadata": {},
   "outputs": [
    {
     "data": {
      "text/plain": [
       "numpy.ndarray"
      ]
     },
     "execution_count": 71,
     "metadata": {},
     "output_type": "execute_result"
    }
   ],
   "source": [
    "type(y_pred)"
   ]
  },
  {
   "cell_type": "code",
   "execution_count": 72,
   "metadata": {},
   "outputs": [
    {
     "data": {
      "text/plain": [
       "array([ 8252.9 ,  9965.  , 13583.4 , ..., 12442.7 ,  7375.43, 17254.  ])"
      ]
     },
     "execution_count": 72,
     "metadata": {},
     "output_type": "execute_result"
    }
   ],
   "source": [
    "y_pred"
   ]
  },
  {
   "cell_type": "code",
   "execution_count": 73,
   "metadata": {},
   "outputs": [
    {
     "name": "stderr",
     "output_type": "stream",
     "text": [
      "c:\\program files\\python37\\lib\\site-packages\\pandas\\core\\indexing.py:494: SettingWithCopyWarning: \n",
      "A value is trying to be set on a copy of a slice from a DataFrame.\n",
      "Try using .loc[row_indexer,col_indexer] = value instead\n",
      "\n",
      "See the caveats in the documentation: http://pandas.pydata.org/pandas-docs/stable/user_guide/indexing.html#returning-a-view-versus-a-copy\n",
      "  self.obj[item] = s\n"
     ]
    }
   ],
   "source": [
    "need_pred.loc[the_index,'OriginPrice'] = y_pred"
   ]
  },
  {
   "cell_type": "code",
   "execution_count": 74,
   "metadata": {},
   "outputs": [
    {
     "data": {
      "text/html": [
       "<div>\n",
       "<style scoped>\n",
       "    .dataframe tbody tr th:only-of-type {\n",
       "        vertical-align: middle;\n",
       "    }\n",
       "\n",
       "    .dataframe tbody tr th {\n",
       "        vertical-align: top;\n",
       "    }\n",
       "\n",
       "    .dataframe thead th {\n",
       "        text-align: right;\n",
       "    }\n",
       "</style>\n",
       "<table border=\"1\" class=\"dataframe\">\n",
       "  <thead>\n",
       "    <tr style=\"text-align: right;\">\n",
       "      <th></th>\n",
       "      <th>Price</th>\n",
       "      <th>SellingDays</th>\n",
       "      <th>OriginPrice</th>\n",
       "    </tr>\n",
       "  </thead>\n",
       "  <tbody>\n",
       "    <tr>\n",
       "      <th>5</th>\n",
       "      <td>4890.0</td>\n",
       "      <td>1809</td>\n",
       "      <td>8252.90</td>\n",
       "    </tr>\n",
       "    <tr>\n",
       "      <th>7</th>\n",
       "      <td>6550.0</td>\n",
       "      <td>1809</td>\n",
       "      <td>9965.00</td>\n",
       "    </tr>\n",
       "    <tr>\n",
       "      <th>9</th>\n",
       "      <td>9220.0</td>\n",
       "      <td>1809</td>\n",
       "      <td>13583.40</td>\n",
       "    </tr>\n",
       "    <tr>\n",
       "      <th>13</th>\n",
       "      <td>3140.0</td>\n",
       "      <td>1809</td>\n",
       "      <td>9935.70</td>\n",
       "    </tr>\n",
       "    <tr>\n",
       "      <th>14</th>\n",
       "      <td>16995.0</td>\n",
       "      <td>1799</td>\n",
       "      <td>21272.90</td>\n",
       "    </tr>\n",
       "    <tr>\n",
       "      <th>...</th>\n",
       "      <td>...</td>\n",
       "      <td>...</td>\n",
       "      <td>...</td>\n",
       "    </tr>\n",
       "    <tr>\n",
       "      <th>2375293</th>\n",
       "      <td>16598.0</td>\n",
       "      <td>1</td>\n",
       "      <td>16887.80</td>\n",
       "    </tr>\n",
       "    <tr>\n",
       "      <th>2375295</th>\n",
       "      <td>8988.0</td>\n",
       "      <td>1</td>\n",
       "      <td>10993.80</td>\n",
       "    </tr>\n",
       "    <tr>\n",
       "      <th>2375297</th>\n",
       "      <td>11988.0</td>\n",
       "      <td>1</td>\n",
       "      <td>12442.70</td>\n",
       "    </tr>\n",
       "    <tr>\n",
       "      <th>2375298</th>\n",
       "      <td>7500.0</td>\n",
       "      <td>1</td>\n",
       "      <td>7375.43</td>\n",
       "    </tr>\n",
       "    <tr>\n",
       "      <th>2375299</th>\n",
       "      <td>16695.0</td>\n",
       "      <td>1</td>\n",
       "      <td>17254.00</td>\n",
       "    </tr>\n",
       "  </tbody>\n",
       "</table>\n",
       "<p>777005 rows × 3 columns</p>\n",
       "</div>"
      ],
      "text/plain": [
       "           Price SellingDays  OriginPrice\n",
       "5         4890.0        1809      8252.90\n",
       "7         6550.0        1809      9965.00\n",
       "9         9220.0        1809     13583.40\n",
       "13        3140.0        1809      9935.70\n",
       "14       16995.0        1799     21272.90\n",
       "...          ...         ...          ...\n",
       "2375293  16598.0           1     16887.80\n",
       "2375295   8988.0           1     10993.80\n",
       "2375297  11988.0           1     12442.70\n",
       "2375298   7500.0           1      7375.43\n",
       "2375299  16695.0           1     17254.00\n",
       "\n",
       "[777005 rows x 3 columns]"
      ]
     },
     "execution_count": 74,
     "metadata": {},
     "output_type": "execute_result"
    }
   ],
   "source": [
    "need_pred"
   ]
  },
  {
   "cell_type": "code",
   "execution_count": 75,
   "metadata": {},
   "outputs": [],
   "source": [
    "new_data4.loc[the_index,'OriginPrice'] = y_pred"
   ]
  },
  {
   "cell_type": "code",
   "execution_count": 76,
   "metadata": {},
   "outputs": [
    {
     "data": {
      "text/html": [
       "<div>\n",
       "<style scoped>\n",
       "    .dataframe tbody tr th:only-of-type {\n",
       "        vertical-align: middle;\n",
       "    }\n",
       "\n",
       "    .dataframe tbody tr th {\n",
       "        vertical-align: top;\n",
       "    }\n",
       "\n",
       "    .dataframe thead th {\n",
       "        text-align: right;\n",
       "    }\n",
       "</style>\n",
       "<table border=\"1\" class=\"dataframe\">\n",
       "  <thead>\n",
       "    <tr style=\"text-align: right;\">\n",
       "      <th></th>\n",
       "      <th>MakeId</th>\n",
       "      <th>Title</th>\n",
       "      <th>BodyStyle</th>\n",
       "      <th>Rental</th>\n",
       "      <th>Location</th>\n",
       "      <th>GasMileage_city</th>\n",
       "      <th>GasMileage_highway</th>\n",
       "      <th>Price</th>\n",
       "      <th>Mileage</th>\n",
       "      <th>Transmission</th>\n",
       "      <th>FuelType</th>\n",
       "      <th>ExteriorColor</th>\n",
       "      <th>InteriorColor</th>\n",
       "      <th>DoorsNum</th>\n",
       "      <th>MaximumSeating</th>\n",
       "      <th>Engine</th>\n",
       "      <th>Drivetrain</th>\n",
       "      <th>OptionCount</th>\n",
       "      <th>MajorOptions</th>\n",
       "      <th>Certified</th>\n",
       "      <th>Accident Check</th>\n",
       "      <th>OwnershipHistory</th>\n",
       "      <th>SellingDays</th>\n",
       "      <th>OriginPrice</th>\n",
       "    </tr>\n",
       "  </thead>\n",
       "  <tbody>\n",
       "    <tr>\n",
       "      <th>3</th>\n",
       "      <td>m1</td>\n",
       "      <td>2014 Chevrolet Corvette Stingray 3LT Coupe RWD...</td>\n",
       "      <td>coupe</td>\n",
       "      <td>False</td>\n",
       "      <td>Lewistown, MT</td>\n",
       "      <td>17 MPG City</td>\n",
       "      <td>29 MPG Highway</td>\n",
       "      <td>49995.0</td>\n",
       "      <td>2500.0</td>\n",
       "      <td>7-Speed Manual</td>\n",
       "      <td>Gasoline</td>\n",
       "      <td>Red</td>\n",
       "      <td>Black</td>\n",
       "      <td>2 doors</td>\n",
       "      <td>2 seats</td>\n",
       "      <td>V8</td>\n",
       "      <td>Rear-Wheel Drive</td>\n",
       "      <td>5</td>\n",
       "      <td>Bluetooth,Backup Camera,Aluminum Wheels,Naviga...</td>\n",
       "      <td>0</td>\n",
       "      <td>0.0</td>\n",
       "      <td>1.0</td>\n",
       "      <td>1832</td>\n",
       "      <td>62900.0</td>\n",
       "    </tr>\n",
       "    <tr>\n",
       "      <th>4</th>\n",
       "      <td>m1</td>\n",
       "      <td>2002 Chevrolet Monte Carlo SS FWD - $3,440</td>\n",
       "      <td>coupe</td>\n",
       "      <td>True</td>\n",
       "      <td>Delavan, IL</td>\n",
       "      <td>17 MPG City</td>\n",
       "      <td>27 MPG Highway</td>\n",
       "      <td>3440.0</td>\n",
       "      <td>174000.0</td>\n",
       "      <td>Automatic</td>\n",
       "      <td>Gasoline</td>\n",
       "      <td>Black</td>\n",
       "      <td>Black</td>\n",
       "      <td>2 doors</td>\n",
       "      <td>5 seats</td>\n",
       "      <td>V6</td>\n",
       "      <td>Front-Wheel Drive</td>\n",
       "      <td>2</td>\n",
       "      <td>Leather Seats,Aluminum Wheels</td>\n",
       "      <td>0</td>\n",
       "      <td>0.0</td>\n",
       "      <td>2.0</td>\n",
       "      <td>1809</td>\n",
       "      <td>4800.0</td>\n",
       "    </tr>\n",
       "    <tr>\n",
       "      <th>5</th>\n",
       "      <td>m1</td>\n",
       "      <td>2004 Chevrolet Monte Carlo LS FWD - $4,890</td>\n",
       "      <td>coupe</td>\n",
       "      <td>True</td>\n",
       "      <td>Delavan, IL</td>\n",
       "      <td>19 MPG City</td>\n",
       "      <td>29 MPG Highway</td>\n",
       "      <td>4890.0</td>\n",
       "      <td>115500.0</td>\n",
       "      <td>Automatic</td>\n",
       "      <td>Gasoline</td>\n",
       "      <td>Medium Gray Metallic</td>\n",
       "      <td>Medium Gray</td>\n",
       "      <td>2 doors</td>\n",
       "      <td>5 seats</td>\n",
       "      <td>V6</td>\n",
       "      <td>Front-Wheel Drive</td>\n",
       "      <td>1</td>\n",
       "      <td>Steel Wheels</td>\n",
       "      <td>0</td>\n",
       "      <td>0.0</td>\n",
       "      <td>3.0</td>\n",
       "      <td>1809</td>\n",
       "      <td>8252.9</td>\n",
       "    </tr>\n",
       "    <tr>\n",
       "      <th>7</th>\n",
       "      <td>m1</td>\n",
       "      <td>2001 Chevrolet Silverado 1500 LT Extended Cab ...</td>\n",
       "      <td>pickup_truck</td>\n",
       "      <td>True</td>\n",
       "      <td>Delavan, IL</td>\n",
       "      <td>14 MPG City</td>\n",
       "      <td>18 MPG Highway</td>\n",
       "      <td>6550.0</td>\n",
       "      <td>188583.0</td>\n",
       "      <td>Automatic</td>\n",
       "      <td>Gasoline</td>\n",
       "      <td>Med Charcoal Gray Met</td>\n",
       "      <td>Graphite</td>\n",
       "      <td>4 doors</td>\n",
       "      <td>5 seats</td>\n",
       "      <td>V8</td>\n",
       "      <td>Rear-Wheel Drive</td>\n",
       "      <td>3</td>\n",
       "      <td>Leather Seats,Suspension Package,Aluminum Wheels</td>\n",
       "      <td>0</td>\n",
       "      <td>0.0</td>\n",
       "      <td>1.0</td>\n",
       "      <td>1809</td>\n",
       "      <td>9965.0</td>\n",
       "    </tr>\n",
       "    <tr>\n",
       "      <th>8</th>\n",
       "      <td>m1</td>\n",
       "      <td>2009 Chevrolet Equinox 2LT FWD - $9,960</td>\n",
       "      <td>crossover</td>\n",
       "      <td>True</td>\n",
       "      <td>Delavan, IL</td>\n",
       "      <td>17 MPG City</td>\n",
       "      <td>24 MPG Highway</td>\n",
       "      <td>9960.0</td>\n",
       "      <td>80124.0</td>\n",
       "      <td>Automatic</td>\n",
       "      <td>Gasoline</td>\n",
       "      <td>Black Granite Metallic</td>\n",
       "      <td>NaN</td>\n",
       "      <td>4 doors</td>\n",
       "      <td>5 seats</td>\n",
       "      <td>V6</td>\n",
       "      <td>Front-Wheel Drive</td>\n",
       "      <td>4</td>\n",
       "      <td>Leather Seats,Chrome Wheels,Bluetooth,Remote S...</td>\n",
       "      <td>0</td>\n",
       "      <td>0.0</td>\n",
       "      <td>2.0</td>\n",
       "      <td>1809</td>\n",
       "      <td>12740.0</td>\n",
       "    </tr>\n",
       "    <tr>\n",
       "      <th>...</th>\n",
       "      <td>...</td>\n",
       "      <td>...</td>\n",
       "      <td>...</td>\n",
       "      <td>...</td>\n",
       "      <td>...</td>\n",
       "      <td>...</td>\n",
       "      <td>...</td>\n",
       "      <td>...</td>\n",
       "      <td>...</td>\n",
       "      <td>...</td>\n",
       "      <td>...</td>\n",
       "      <td>...</td>\n",
       "      <td>...</td>\n",
       "      <td>...</td>\n",
       "      <td>...</td>\n",
       "      <td>...</td>\n",
       "      <td>...</td>\n",
       "      <td>...</td>\n",
       "      <td>...</td>\n",
       "      <td>...</td>\n",
       "      <td>...</td>\n",
       "      <td>...</td>\n",
       "      <td>...</td>\n",
       "      <td>...</td>\n",
       "    </tr>\n",
       "    <tr>\n",
       "      <th>2375341</th>\n",
       "      <td>m98</td>\n",
       "      <td>2014 FIAT 500 Pop - $11,980</td>\n",
       "      <td>hatchback</td>\n",
       "      <td>True</td>\n",
       "      <td>Clearfield, PA</td>\n",
       "      <td>27 MPG City</td>\n",
       "      <td>34 MPG Highway</td>\n",
       "      <td>11980.0</td>\n",
       "      <td>9493.0</td>\n",
       "      <td>6-Speed Automatic</td>\n",
       "      <td>Gasoline</td>\n",
       "      <td>Blue</td>\n",
       "      <td>Black</td>\n",
       "      <td>2 doors</td>\n",
       "      <td>4 seats</td>\n",
       "      <td>I4</td>\n",
       "      <td>Front-Wheel Drive</td>\n",
       "      <td>1</td>\n",
       "      <td>Bluetooth</td>\n",
       "      <td>0</td>\n",
       "      <td>0.0</td>\n",
       "      <td>1.0</td>\n",
       "      <td>1920</td>\n",
       "      <td>12980.0</td>\n",
       "    </tr>\n",
       "    <tr>\n",
       "      <th>2375346</th>\n",
       "      <td>m98</td>\n",
       "      <td>2013 FIAT 500 Sport</td>\n",
       "      <td>hatchback</td>\n",
       "      <td>False</td>\n",
       "      <td>Eynon, PA</td>\n",
       "      <td>31 MPG City</td>\n",
       "      <td>40 MPG Highway</td>\n",
       "      <td>NaN</td>\n",
       "      <td>NaN</td>\n",
       "      <td>5-Speed Manual</td>\n",
       "      <td>Gasoline</td>\n",
       "      <td>Black</td>\n",
       "      <td>Black</td>\n",
       "      <td>2 doors</td>\n",
       "      <td>4 seats</td>\n",
       "      <td>I4</td>\n",
       "      <td>Front-Wheel Drive</td>\n",
       "      <td>0</td>\n",
       "      <td>NaN</td>\n",
       "      <td>0</td>\n",
       "      <td>0.0</td>\n",
       "      <td>3.0</td>\n",
       "      <td>1911</td>\n",
       "      <td>NaN</td>\n",
       "    </tr>\n",
       "    <tr>\n",
       "      <th>2375347</th>\n",
       "      <td>m98</td>\n",
       "      <td>2012 FIAT 500 Lounge</td>\n",
       "      <td>hatchback</td>\n",
       "      <td>False</td>\n",
       "      <td>Eynon, PA</td>\n",
       "      <td>27 MPG City</td>\n",
       "      <td>34 MPG Highway</td>\n",
       "      <td>NaN</td>\n",
       "      <td>NaN</td>\n",
       "      <td>6-Speed Automatic</td>\n",
       "      <td>Gasoline</td>\n",
       "      <td>Argento (Silver)</td>\n",
       "      <td>Black</td>\n",
       "      <td>2 doors</td>\n",
       "      <td>4 seats</td>\n",
       "      <td>I4</td>\n",
       "      <td>Front-Wheel Drive</td>\n",
       "      <td>5</td>\n",
       "      <td>Leather Seats,Sunroof/Moonroof,Alloy Wheels,Bl...</td>\n",
       "      <td>0</td>\n",
       "      <td>0.0</td>\n",
       "      <td>1.0</td>\n",
       "      <td>1911</td>\n",
       "      <td>NaN</td>\n",
       "    </tr>\n",
       "    <tr>\n",
       "      <th>2375348</th>\n",
       "      <td>m98</td>\n",
       "      <td>2013 FIAT 500 Lounge</td>\n",
       "      <td>hatchback</td>\n",
       "      <td>False</td>\n",
       "      <td>Eynon, PA</td>\n",
       "      <td>31 MPG City</td>\n",
       "      <td>40 MPG Highway</td>\n",
       "      <td>NaN</td>\n",
       "      <td>NaN</td>\n",
       "      <td>5-Speed Manual</td>\n",
       "      <td>Gasoline</td>\n",
       "      <td>Rosso (Red)</td>\n",
       "      <td>Avorio (Ivory)</td>\n",
       "      <td>2 doors</td>\n",
       "      <td>4 seats</td>\n",
       "      <td>I4</td>\n",
       "      <td>Front-Wheel Drive</td>\n",
       "      <td>0</td>\n",
       "      <td>NaN</td>\n",
       "      <td>0</td>\n",
       "      <td>0.0</td>\n",
       "      <td>1.0</td>\n",
       "      <td>1911</td>\n",
       "      <td>NaN</td>\n",
       "    </tr>\n",
       "    <tr>\n",
       "      <th>2375349</th>\n",
       "      <td>m98</td>\n",
       "      <td>2013 FIAT 500 Sport</td>\n",
       "      <td>hatchback</td>\n",
       "      <td>False</td>\n",
       "      <td>Eynon, PA</td>\n",
       "      <td>31 MPG City</td>\n",
       "      <td>40 MPG Highway</td>\n",
       "      <td>NaN</td>\n",
       "      <td>NaN</td>\n",
       "      <td>5-Speed Manual</td>\n",
       "      <td>Gasoline</td>\n",
       "      <td>Nero Puro (Straight Black)</td>\n",
       "      <td>Nero (Black)</td>\n",
       "      <td>2 doors</td>\n",
       "      <td>4 seats</td>\n",
       "      <td>I4</td>\n",
       "      <td>Front-Wheel Drive</td>\n",
       "      <td>0</td>\n",
       "      <td>NaN</td>\n",
       "      <td>0</td>\n",
       "      <td>0.0</td>\n",
       "      <td>3.0</td>\n",
       "      <td>1911</td>\n",
       "      <td>NaN</td>\n",
       "    </tr>\n",
       "  </tbody>\n",
       "</table>\n",
       "<p>1903725 rows × 24 columns</p>\n",
       "</div>"
      ],
      "text/plain": [
       "        MakeId                                              Title     BodyStyle Rental        Location GasMileage_city GasMileage_highway    Price   Mileage       Transmission  FuelType               ExteriorColor   InteriorColor DoorsNum MaximumSeating Engine         Drivetrain OptionCount                                       MajorOptions Certified  Accident Check  OwnershipHistory SellingDays  OriginPrice\n",
       "3           m1  2014 Chevrolet Corvette Stingray 3LT Coupe RWD...         coupe  False   Lewistown, MT     17 MPG City     29 MPG Highway  49995.0    2500.0     7-Speed Manual  Gasoline                         Red           Black  2 doors        2 seats     V8   Rear-Wheel Drive           5  Bluetooth,Backup Camera,Aluminum Wheels,Naviga...         0             0.0               1.0        1832      62900.0\n",
       "4           m1         2002 Chevrolet Monte Carlo SS FWD - $3,440         coupe   True     Delavan, IL     17 MPG City     27 MPG Highway   3440.0  174000.0          Automatic  Gasoline                       Black           Black  2 doors        5 seats     V6  Front-Wheel Drive           2                      Leather Seats,Aluminum Wheels         0             0.0               2.0        1809       4800.0\n",
       "5           m1         2004 Chevrolet Monte Carlo LS FWD - $4,890         coupe   True     Delavan, IL     19 MPG City     29 MPG Highway   4890.0  115500.0          Automatic  Gasoline        Medium Gray Metallic     Medium Gray  2 doors        5 seats     V6  Front-Wheel Drive           1                                       Steel Wheels         0             0.0               3.0        1809       8252.9\n",
       "7           m1  2001 Chevrolet Silverado 1500 LT Extended Cab ...  pickup_truck   True     Delavan, IL     14 MPG City     18 MPG Highway   6550.0  188583.0          Automatic  Gasoline       Med Charcoal Gray Met        Graphite  4 doors        5 seats     V8   Rear-Wheel Drive           3   Leather Seats,Suspension Package,Aluminum Wheels         0             0.0               1.0        1809       9965.0\n",
       "8           m1            2009 Chevrolet Equinox 2LT FWD - $9,960     crossover   True     Delavan, IL     17 MPG City     24 MPG Highway   9960.0   80124.0          Automatic  Gasoline      Black Granite Metallic             NaN  4 doors        5 seats     V6  Front-Wheel Drive           4  Leather Seats,Chrome Wheels,Bluetooth,Remote S...         0             0.0               2.0        1809      12740.0\n",
       "...        ...                                                ...           ...    ...             ...             ...                ...      ...       ...                ...       ...                         ...             ...      ...            ...    ...                ...         ...                                                ...       ...             ...               ...         ...          ...\n",
       "2375341    m98                        2014 FIAT 500 Pop - $11,980     hatchback   True  Clearfield, PA     27 MPG City     34 MPG Highway  11980.0    9493.0  6-Speed Automatic  Gasoline                        Blue           Black  2 doors        4 seats     I4  Front-Wheel Drive           1                                          Bluetooth         0             0.0               1.0        1920      12980.0\n",
       "2375346    m98                                2013 FIAT 500 Sport     hatchback  False       Eynon, PA     31 MPG City     40 MPG Highway      NaN       NaN     5-Speed Manual  Gasoline                       Black           Black  2 doors        4 seats     I4  Front-Wheel Drive           0                                                NaN         0             0.0               3.0        1911          NaN\n",
       "2375347    m98                               2012 FIAT 500 Lounge     hatchback  False       Eynon, PA     27 MPG City     34 MPG Highway      NaN       NaN  6-Speed Automatic  Gasoline            Argento (Silver)           Black  2 doors        4 seats     I4  Front-Wheel Drive           5  Leather Seats,Sunroof/Moonroof,Alloy Wheels,Bl...         0             0.0               1.0        1911          NaN\n",
       "2375348    m98                               2013 FIAT 500 Lounge     hatchback  False       Eynon, PA     31 MPG City     40 MPG Highway      NaN       NaN     5-Speed Manual  Gasoline                 Rosso (Red)  Avorio (Ivory)  2 doors        4 seats     I4  Front-Wheel Drive           0                                                NaN         0             0.0               1.0        1911          NaN\n",
       "2375349    m98                                2013 FIAT 500 Sport     hatchback  False       Eynon, PA     31 MPG City     40 MPG Highway      NaN       NaN     5-Speed Manual  Gasoline  Nero Puro (Straight Black)    Nero (Black)  2 doors        4 seats     I4  Front-Wheel Drive           0                                                NaN         0             0.0               3.0        1911          NaN\n",
       "\n",
       "[1903725 rows x 24 columns]"
      ]
     },
     "execution_count": 76,
     "metadata": {},
     "output_type": "execute_result"
    }
   ],
   "source": [
    "new_data4\n",
    "# 因為有些資料被 drop掉了 (Price是空值的那些) , 所以在補 OriginPrice的時候, 不會全部都補到"
   ]
  },
  {
   "cell_type": "code",
   "execution_count": null,
   "metadata": {},
   "outputs": [],
   "source": []
  },
  {
   "cell_type": "code",
   "execution_count": 77,
   "metadata": {},
   "outputs": [
    {
     "data": {
      "text/plain": [
       "MakeId                     0\n",
       "Title                      0\n",
       "BodyStyle                  0\n",
       "Rental                     0\n",
       "Location                   0\n",
       "GasMileage_city            0\n",
       "GasMileage_highway         0\n",
       "Price                  90369\n",
       "Mileage                24260\n",
       "Transmission               0\n",
       "FuelType                   0\n",
       "ExteriorColor          39515\n",
       "InteriorColor         301309\n",
       "DoorsNum                   0\n",
       "MaximumSeating             0\n",
       "Engine                  3292\n",
       "Drivetrain                 0\n",
       "OptionCount                0\n",
       "MajorOptions          216202\n",
       "Certified                  0\n",
       "Accident Check         17444\n",
       "OwnershipHistory       46999\n",
       "SellingDays                0\n",
       "OriginPrice           106583\n",
       "dtype: int64"
      ]
     },
     "execution_count": 77,
     "metadata": {},
     "output_type": "execute_result"
    }
   ],
   "source": [
    "new_data4.isnull().sum()"
   ]
  },
  {
   "cell_type": "code",
   "execution_count": null,
   "metadata": {},
   "outputs": [],
   "source": [
    "# 上面的補法還是有問題 Selling days 是 0 天的那些 應該要拿掉再做補值\n",
    "# 已經修正過了 Selling days 如果是 0 天 ,就不用這個方式補值"
   ]
  },
  {
   "cell_type": "code",
   "execution_count": null,
   "metadata": {},
   "outputs": [],
   "source": []
  },
  {
   "cell_type": "code",
   "execution_count": 78,
   "metadata": {},
   "outputs": [
    {
     "data": {
      "text/plain": [
       "array([ 1.,  2.,  3.,  4.,  7.,  5.,  6., nan,  8.,  9., 15., 14., 11.,\n",
       "       10., 12., 17., 13., 16.])"
      ]
     },
     "execution_count": 78,
     "metadata": {},
     "output_type": "execute_result"
    }
   ],
   "source": [
    "new_data4['OwnershipHistory'].unique()"
   ]
  },
  {
   "cell_type": "code",
   "execution_count": 79,
   "metadata": {},
   "outputs": [
    {
     "data": {
      "text/plain": [
       "array([ 0.,  2.,  1., nan,  3.,  4.,  5.,  6.,  7.,  8.])"
      ]
     },
     "execution_count": 79,
     "metadata": {},
     "output_type": "execute_result"
    }
   ],
   "source": [
    "new_data4['Accident Check'].unique()"
   ]
  },
  {
   "cell_type": "code",
   "execution_count": null,
   "metadata": {},
   "outputs": [],
   "source": []
  },
  {
   "cell_type": "code",
   "execution_count": 82,
   "metadata": {},
   "outputs": [],
   "source": [
    "new_data4.to_csv('C:\\\\machine_learning\\\\20200203_final_data.csv', index=False)"
   ]
  },
  {
   "cell_type": "code",
   "execution_count": null,
   "metadata": {},
   "outputs": [],
   "source": []
  }
 ],
 "metadata": {
  "kernelspec": {
   "display_name": "Python 3",
   "language": "python",
   "name": "python3"
  },
  "language_info": {
   "codemirror_mode": {
    "name": "ipython",
    "version": 3
   },
   "file_extension": ".py",
   "mimetype": "text/x-python",
   "name": "python",
   "nbconvert_exporter": "python",
   "pygments_lexer": "ipython3",
   "version": "3.7.5"
  }
 },
 "nbformat": 4,
 "nbformat_minor": 2
}
