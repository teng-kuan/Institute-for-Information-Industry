{
 "cells": [
  {
   "cell_type": "markdown",
   "metadata": {},
   "source": [
    "### 用 kernel SVM 機器學習,分類, 並未使用全部資料以及全部欄位"
   ]
  },
  {
   "cell_type": "code",
   "execution_count": 1,
   "metadata": {},
   "outputs": [],
   "source": [
    "import numpy as np\n",
    "import pandas as pd"
   ]
  },
  {
   "cell_type": "code",
   "execution_count": 2,
   "metadata": {},
   "outputs": [],
   "source": [
    "import time"
   ]
  },
  {
   "cell_type": "code",
   "execution_count": 3,
   "metadata": {},
   "outputs": [],
   "source": [
    "pd.set_option('display.max_rows', 500)\n",
    "pd.set_option('display.max_columns', 500)\n",
    "pd.set_option('display.width', 1000)\n",
    "#做這個設定是為了讓dataframe可以顯示更多資料"
   ]
  },
  {
   "cell_type": "code",
   "execution_count": 4,
   "metadata": {},
   "outputs": [],
   "source": [
    "data = pd.read_csv('usedCar_Dataset.csv')"
   ]
  },
  {
   "cell_type": "code",
   "execution_count": 5,
   "metadata": {},
   "outputs": [
    {
     "data": {
      "text/html": [
       "<div>\n",
       "<style scoped>\n",
       "    .dataframe tbody tr th:only-of-type {\n",
       "        vertical-align: middle;\n",
       "    }\n",
       "\n",
       "    .dataframe tbody tr th {\n",
       "        vertical-align: top;\n",
       "    }\n",
       "\n",
       "    .dataframe thead th {\n",
       "        text-align: right;\n",
       "    }\n",
       "</style>\n",
       "<table border=\"1\" class=\"dataframe\">\n",
       "  <thead>\n",
       "    <tr style=\"text-align: right;\">\n",
       "      <th></th>\n",
       "      <th>CarID</th>\n",
       "      <th>MakeId</th>\n",
       "      <th>Title</th>\n",
       "      <th>BodyStyle</th>\n",
       "      <th>Rental</th>\n",
       "      <th>Location</th>\n",
       "      <th>GasMileage_city</th>\n",
       "      <th>GasMileage_highway</th>\n",
       "      <th>Price</th>\n",
       "      <th>Mileage</th>\n",
       "      <th>Transmission</th>\n",
       "      <th>FuelType</th>\n",
       "      <th>ExteriorColor</th>\n",
       "      <th>InteriorColor</th>\n",
       "      <th>DoorsNum</th>\n",
       "      <th>MaximumSeating</th>\n",
       "      <th>Engine</th>\n",
       "      <th>Drivetrain</th>\n",
       "      <th>VIN</th>\n",
       "      <th>OptionCount</th>\n",
       "      <th>MajorOptions</th>\n",
       "      <th>Certified</th>\n",
       "      <th>Accident Check</th>\n",
       "      <th>OwnershipHistory</th>\n",
       "      <th>SellingDays</th>\n",
       "      <th>OriginPrice</th>\n",
       "    </tr>\n",
       "  </thead>\n",
       "  <tbody>\n",
       "    <tr>\n",
       "      <th>0</th>\n",
       "      <td>100351603</td>\n",
       "      <td>m1</td>\n",
       "      <td>2007 Chevrolet Tahoe - $11,999</td>\n",
       "      <td>suv</td>\n",
       "      <td>NaN</td>\n",
       "      <td>Garland, TX</td>\n",
       "      <td>NaN</td>\n",
       "      <td>NaN</td>\n",
       "      <td>11999.0</td>\n",
       "      <td>129280.0</td>\n",
       "      <td>Automatic</td>\n",
       "      <td>Gasoline</td>\n",
       "      <td>Gold</td>\n",
       "      <td>NaN</td>\n",
       "      <td>NaN</td>\n",
       "      <td>NaN</td>\n",
       "      <td>V8</td>\n",
       "      <td>NaN</td>\n",
       "      <td>1GNFC13J47R120389</td>\n",
       "      <td>0</td>\n",
       "      <td>NaN</td>\n",
       "      <td>NaN</td>\n",
       "      <td>0.0</td>\n",
       "      <td>2.0</td>\n",
       "      <td>1873</td>\n",
       "      <td>12999.0</td>\n",
       "    </tr>\n",
       "    <tr>\n",
       "      <th>1</th>\n",
       "      <td>101113873</td>\n",
       "      <td>m1</td>\n",
       "      <td>2005 Chevrolet Express - $11,995</td>\n",
       "      <td>van</td>\n",
       "      <td>NaN</td>\n",
       "      <td>Claremont, NH</td>\n",
       "      <td>NaN</td>\n",
       "      <td>NaN</td>\n",
       "      <td>11995.0</td>\n",
       "      <td>118113.0</td>\n",
       "      <td>Automatic</td>\n",
       "      <td>NaN</td>\n",
       "      <td>White</td>\n",
       "      <td>NaN</td>\n",
       "      <td>NaN</td>\n",
       "      <td>NaN</td>\n",
       "      <td>NaN</td>\n",
       "      <td>NaN</td>\n",
       "      <td>1GBJG31U251136588</td>\n",
       "      <td>0</td>\n",
       "      <td>NaN</td>\n",
       "      <td>NaN</td>\n",
       "      <td>1.0</td>\n",
       "      <td>1.0</td>\n",
       "      <td>1863</td>\n",
       "      <td>NaN</td>\n",
       "    </tr>\n",
       "    <tr>\n",
       "      <th>2</th>\n",
       "      <td>102996725</td>\n",
       "      <td>m1</td>\n",
       "      <td>2010 Chevrolet Silverado 2500HD Work Truck Ext...</td>\n",
       "      <td>pickup_truck</td>\n",
       "      <td>NaN</td>\n",
       "      <td>Frankfort, KY</td>\n",
       "      <td>NaN</td>\n",
       "      <td>NaN</td>\n",
       "      <td>15900.0</td>\n",
       "      <td>144000.0</td>\n",
       "      <td>Automatic</td>\n",
       "      <td>Gasoline</td>\n",
       "      <td>White</td>\n",
       "      <td>Gray</td>\n",
       "      <td>4 doors</td>\n",
       "      <td>6 seats</td>\n",
       "      <td>V8</td>\n",
       "      <td>Four-Wheel Drive</td>\n",
       "      <td>1GC5KVBG7AZ218246</td>\n",
       "      <td>2</td>\n",
       "      <td>Steel Wheels,Tow Package</td>\n",
       "      <td>NaN</td>\n",
       "      <td>0.0</td>\n",
       "      <td>2.0</td>\n",
       "      <td>1837</td>\n",
       "      <td>16900.0</td>\n",
       "    </tr>\n",
       "    <tr>\n",
       "      <th>3</th>\n",
       "      <td>103384798</td>\n",
       "      <td>m1</td>\n",
       "      <td>2014 Chevrolet Corvette Stingray 3LT Coupe RWD...</td>\n",
       "      <td>coupe</td>\n",
       "      <td>NaN</td>\n",
       "      <td>Lewistown, MT</td>\n",
       "      <td>17 MPG City</td>\n",
       "      <td>29 MPG Highway</td>\n",
       "      <td>49995.0</td>\n",
       "      <td>2500.0</td>\n",
       "      <td>7-Speed Manual</td>\n",
       "      <td>Gasoline</td>\n",
       "      <td>Red</td>\n",
       "      <td>Black</td>\n",
       "      <td>2 doors</td>\n",
       "      <td>2 seats</td>\n",
       "      <td>V8</td>\n",
       "      <td>Rear-Wheel Drive</td>\n",
       "      <td>1G1YE2D73E5104797</td>\n",
       "      <td>5</td>\n",
       "      <td>Bluetooth,Backup Camera,Aluminum Wheels,Naviga...</td>\n",
       "      <td>NaN</td>\n",
       "      <td>0.0</td>\n",
       "      <td>1.0</td>\n",
       "      <td>1832</td>\n",
       "      <td>62900.0</td>\n",
       "    </tr>\n",
       "    <tr>\n",
       "      <th>4</th>\n",
       "      <td>104800849</td>\n",
       "      <td>m1</td>\n",
       "      <td>2002 Chevrolet Monte Carlo SS FWD - $3,440</td>\n",
       "      <td>coupe</td>\n",
       "      <td>NaN</td>\n",
       "      <td>Delavan, IL</td>\n",
       "      <td>17 MPG City</td>\n",
       "      <td>27 MPG Highway</td>\n",
       "      <td>3440.0</td>\n",
       "      <td>174000.0</td>\n",
       "      <td>Automatic</td>\n",
       "      <td>Gasoline</td>\n",
       "      <td>Black</td>\n",
       "      <td>Black</td>\n",
       "      <td>2 doors</td>\n",
       "      <td>5 seats</td>\n",
       "      <td>V6</td>\n",
       "      <td>Front-Wheel Drive</td>\n",
       "      <td>2G1WX15K829249749</td>\n",
       "      <td>2</td>\n",
       "      <td>Leather Seats,Aluminum Wheels</td>\n",
       "      <td>NaN</td>\n",
       "      <td>0.0</td>\n",
       "      <td>2.0</td>\n",
       "      <td>1809</td>\n",
       "      <td>4800.0</td>\n",
       "    </tr>\n",
       "  </tbody>\n",
       "</table>\n",
       "</div>"
      ],
      "text/plain": [
       "       CarID MakeId                                              Title     BodyStyle Rental       Location GasMileage_city GasMileage_highway    Price   Mileage    Transmission  FuelType ExteriorColor InteriorColor DoorsNum MaximumSeating Engine         Drivetrain                VIN  OptionCount                                       MajorOptions Certified  Accident Check  OwnershipHistory  SellingDays  OriginPrice\n",
       "0  100351603     m1                     2007 Chevrolet Tahoe - $11,999           suv    NaN    Garland, TX             NaN                NaN  11999.0  129280.0       Automatic  Gasoline          Gold           NaN      NaN            NaN     V8                NaN  1GNFC13J47R120389            0                                                NaN       NaN             0.0               2.0         1873      12999.0\n",
       "1  101113873     m1                   2005 Chevrolet Express - $11,995           van    NaN  Claremont, NH             NaN                NaN  11995.0  118113.0       Automatic       NaN         White           NaN      NaN            NaN    NaN                NaN  1GBJG31U251136588            0                                                NaN       NaN             1.0               1.0         1863          NaN\n",
       "2  102996725     m1  2010 Chevrolet Silverado 2500HD Work Truck Ext...  pickup_truck    NaN  Frankfort, KY             NaN                NaN  15900.0  144000.0       Automatic  Gasoline         White          Gray  4 doors        6 seats     V8   Four-Wheel Drive  1GC5KVBG7AZ218246            2                           Steel Wheels,Tow Package       NaN             0.0               2.0         1837      16900.0\n",
       "3  103384798     m1  2014 Chevrolet Corvette Stingray 3LT Coupe RWD...         coupe    NaN  Lewistown, MT     17 MPG City     29 MPG Highway  49995.0    2500.0  7-Speed Manual  Gasoline           Red         Black  2 doors        2 seats     V8   Rear-Wheel Drive  1G1YE2D73E5104797            5  Bluetooth,Backup Camera,Aluminum Wheels,Naviga...       NaN             0.0               1.0         1832      62900.0\n",
       "4  104800849     m1         2002 Chevrolet Monte Carlo SS FWD - $3,440         coupe    NaN    Delavan, IL     17 MPG City     27 MPG Highway   3440.0  174000.0       Automatic  Gasoline         Black         Black  2 doors        5 seats     V6  Front-Wheel Drive  2G1WX15K829249749            2                      Leather Seats,Aluminum Wheels       NaN             0.0               2.0         1809       4800.0"
      ]
     },
     "execution_count": 5,
     "metadata": {},
     "output_type": "execute_result"
    }
   ],
   "source": [
    "data.head()"
   ]
  },
  {
   "cell_type": "code",
   "execution_count": 6,
   "metadata": {},
   "outputs": [
    {
     "data": {
      "text/plain": [
       "CarID                   int64\n",
       "MakeId                 object\n",
       "Title                  object\n",
       "BodyStyle              object\n",
       "Rental                 object\n",
       "Location               object\n",
       "GasMileage_city        object\n",
       "GasMileage_highway     object\n",
       "Price                 float64\n",
       "Mileage               float64\n",
       "Transmission           object\n",
       "FuelType               object\n",
       "ExteriorColor          object\n",
       "InteriorColor          object\n",
       "DoorsNum               object\n",
       "MaximumSeating         object\n",
       "Engine                 object\n",
       "Drivetrain             object\n",
       "VIN                    object\n",
       "OptionCount             int64\n",
       "MajorOptions           object\n",
       "Certified              object\n",
       "Accident Check        float64\n",
       "OwnershipHistory      float64\n",
       "SellingDays             int64\n",
       "OriginPrice           float64\n",
       "dtype: object"
      ]
     },
     "execution_count": 6,
     "metadata": {},
     "output_type": "execute_result"
    }
   ],
   "source": [
    "data.dtypes"
   ]
  },
  {
   "cell_type": "code",
   "execution_count": 7,
   "metadata": {},
   "outputs": [
    {
     "data": {
      "text/plain": [
       "Index(['CarID', 'MakeId', 'Title', 'BodyStyle', 'Rental', 'Location', 'GasMileage_city', 'GasMileage_highway', 'Price', 'Mileage', 'Transmission', 'FuelType', 'ExteriorColor', 'InteriorColor', 'DoorsNum', 'MaximumSeating', 'Engine', 'Drivetrain', 'VIN', 'OptionCount', 'MajorOptions', 'Certified', 'Accident Check', 'OwnershipHistory', 'SellingDays', 'OriginPrice'], dtype='object')"
      ]
     },
     "execution_count": 7,
     "metadata": {},
     "output_type": "execute_result"
    }
   ],
   "source": [
    "data.columns"
   ]
  },
  {
   "cell_type": "code",
   "execution_count": 8,
   "metadata": {},
   "outputs": [],
   "source": [
    "# 在選擇欄位的時候,只選擇數字型欄位,如果是有包括文字的欄位就沒有加入"
   ]
  },
  {
   "cell_type": "code",
   "execution_count": 9,
   "metadata": {},
   "outputs": [],
   "source": [
    "# 資料只使用了200筆,因為有些欄位當中可能有字串,還沒辦法直接進去訓練"
   ]
  },
  {
   "cell_type": "code",
   "execution_count": 10,
   "metadata": {},
   "outputs": [],
   "source": [
    "X = data.iloc[:,[8,9,19,22,23,24,25]]"
   ]
  },
  {
   "cell_type": "code",
   "execution_count": 11,
   "metadata": {},
   "outputs": [
    {
     "data": {
      "text/html": [
       "<div>\n",
       "<style scoped>\n",
       "    .dataframe tbody tr th:only-of-type {\n",
       "        vertical-align: middle;\n",
       "    }\n",
       "\n",
       "    .dataframe tbody tr th {\n",
       "        vertical-align: top;\n",
       "    }\n",
       "\n",
       "    .dataframe thead th {\n",
       "        text-align: right;\n",
       "    }\n",
       "</style>\n",
       "<table border=\"1\" class=\"dataframe\">\n",
       "  <thead>\n",
       "    <tr style=\"text-align: right;\">\n",
       "      <th></th>\n",
       "      <th>Price</th>\n",
       "      <th>Mileage</th>\n",
       "      <th>OptionCount</th>\n",
       "      <th>Accident Check</th>\n",
       "      <th>OwnershipHistory</th>\n",
       "      <th>SellingDays</th>\n",
       "      <th>OriginPrice</th>\n",
       "    </tr>\n",
       "  </thead>\n",
       "  <tbody>\n",
       "    <tr>\n",
       "      <th>0</th>\n",
       "      <td>11999.0</td>\n",
       "      <td>129280.0</td>\n",
       "      <td>0</td>\n",
       "      <td>0.0</td>\n",
       "      <td>2.0</td>\n",
       "      <td>1873</td>\n",
       "      <td>12999.0</td>\n",
       "    </tr>\n",
       "    <tr>\n",
       "      <th>1</th>\n",
       "      <td>11995.0</td>\n",
       "      <td>118113.0</td>\n",
       "      <td>0</td>\n",
       "      <td>1.0</td>\n",
       "      <td>1.0</td>\n",
       "      <td>1863</td>\n",
       "      <td>NaN</td>\n",
       "    </tr>\n",
       "    <tr>\n",
       "      <th>2</th>\n",
       "      <td>15900.0</td>\n",
       "      <td>144000.0</td>\n",
       "      <td>2</td>\n",
       "      <td>0.0</td>\n",
       "      <td>2.0</td>\n",
       "      <td>1837</td>\n",
       "      <td>16900.0</td>\n",
       "    </tr>\n",
       "    <tr>\n",
       "      <th>3</th>\n",
       "      <td>49995.0</td>\n",
       "      <td>2500.0</td>\n",
       "      <td>5</td>\n",
       "      <td>0.0</td>\n",
       "      <td>1.0</td>\n",
       "      <td>1832</td>\n",
       "      <td>62900.0</td>\n",
       "    </tr>\n",
       "    <tr>\n",
       "      <th>4</th>\n",
       "      <td>3440.0</td>\n",
       "      <td>174000.0</td>\n",
       "      <td>2</td>\n",
       "      <td>0.0</td>\n",
       "      <td>2.0</td>\n",
       "      <td>1809</td>\n",
       "      <td>4800.0</td>\n",
       "    </tr>\n",
       "    <tr>\n",
       "      <th>5</th>\n",
       "      <td>4890.0</td>\n",
       "      <td>115500.0</td>\n",
       "      <td>1</td>\n",
       "      <td>0.0</td>\n",
       "      <td>3.0</td>\n",
       "      <td>1809</td>\n",
       "      <td>NaN</td>\n",
       "    </tr>\n",
       "    <tr>\n",
       "      <th>6</th>\n",
       "      <td>4660.0</td>\n",
       "      <td>249000.0</td>\n",
       "      <td>3</td>\n",
       "      <td>0.0</td>\n",
       "      <td>3.0</td>\n",
       "      <td>1809</td>\n",
       "      <td>NaN</td>\n",
       "    </tr>\n",
       "    <tr>\n",
       "      <th>7</th>\n",
       "      <td>6550.0</td>\n",
       "      <td>188583.0</td>\n",
       "      <td>3</td>\n",
       "      <td>0.0</td>\n",
       "      <td>1.0</td>\n",
       "      <td>1809</td>\n",
       "      <td>NaN</td>\n",
       "    </tr>\n",
       "    <tr>\n",
       "      <th>8</th>\n",
       "      <td>9960.0</td>\n",
       "      <td>80124.0</td>\n",
       "      <td>4</td>\n",
       "      <td>0.0</td>\n",
       "      <td>2.0</td>\n",
       "      <td>1809</td>\n",
       "      <td>12740.0</td>\n",
       "    </tr>\n",
       "    <tr>\n",
       "      <th>9</th>\n",
       "      <td>9220.0</td>\n",
       "      <td>103000.0</td>\n",
       "      <td>4</td>\n",
       "      <td>0.0</td>\n",
       "      <td>1.0</td>\n",
       "      <td>1809</td>\n",
       "      <td>NaN</td>\n",
       "    </tr>\n",
       "  </tbody>\n",
       "</table>\n",
       "</div>"
      ],
      "text/plain": [
       "     Price   Mileage  OptionCount  Accident Check  OwnershipHistory  SellingDays  OriginPrice\n",
       "0  11999.0  129280.0            0             0.0               2.0         1873      12999.0\n",
       "1  11995.0  118113.0            0             1.0               1.0         1863          NaN\n",
       "2  15900.0  144000.0            2             0.0               2.0         1837      16900.0\n",
       "3  49995.0    2500.0            5             0.0               1.0         1832      62900.0\n",
       "4   3440.0  174000.0            2             0.0               2.0         1809       4800.0\n",
       "5   4890.0  115500.0            1             0.0               3.0         1809          NaN\n",
       "6   4660.0  249000.0            3             0.0               3.0         1809          NaN\n",
       "7   6550.0  188583.0            3             0.0               1.0         1809          NaN\n",
       "8   9960.0   80124.0            4             0.0               2.0         1809      12740.0\n",
       "9   9220.0  103000.0            4             0.0               1.0         1809          NaN"
      ]
     },
     "execution_count": 11,
     "metadata": {},
     "output_type": "execute_result"
    }
   ],
   "source": [
    "X.head(10)"
   ]
  },
  {
   "cell_type": "code",
   "execution_count": 12,
   "metadata": {},
   "outputs": [],
   "source": [
    "# X.iloc[:,:]"
   ]
  },
  {
   "cell_type": "code",
   "execution_count": 13,
   "metadata": {},
   "outputs": [
    {
     "name": "stderr",
     "output_type": "stream",
     "text": [
      "c:\\program files\\python37\\lib\\site-packages\\pandas\\core\\frame.py:4259: SettingWithCopyWarning: \n",
      "A value is trying to be set on a copy of a slice from a DataFrame\n",
      "\n",
      "See the caveats in the documentation: http://pandas.pydata.org/pandas-docs/stable/user_guide/indexing.html#returning-a-view-versus-a-copy\n",
      "  **kwargs\n"
     ]
    }
   ],
   "source": [
    "X.fillna(value=0, inplace=True)"
   ]
  },
  {
   "cell_type": "code",
   "execution_count": 14,
   "metadata": {},
   "outputs": [
    {
     "data": {
      "text/html": [
       "<div>\n",
       "<style scoped>\n",
       "    .dataframe tbody tr th:only-of-type {\n",
       "        vertical-align: middle;\n",
       "    }\n",
       "\n",
       "    .dataframe tbody tr th {\n",
       "        vertical-align: top;\n",
       "    }\n",
       "\n",
       "    .dataframe thead th {\n",
       "        text-align: right;\n",
       "    }\n",
       "</style>\n",
       "<table border=\"1\" class=\"dataframe\">\n",
       "  <thead>\n",
       "    <tr style=\"text-align: right;\">\n",
       "      <th></th>\n",
       "      <th>Price</th>\n",
       "      <th>Mileage</th>\n",
       "      <th>OptionCount</th>\n",
       "      <th>Accident Check</th>\n",
       "      <th>OwnershipHistory</th>\n",
       "      <th>SellingDays</th>\n",
       "      <th>OriginPrice</th>\n",
       "    </tr>\n",
       "  </thead>\n",
       "  <tbody>\n",
       "    <tr>\n",
       "      <th>0</th>\n",
       "      <td>11999.0</td>\n",
       "      <td>129280.0</td>\n",
       "      <td>0</td>\n",
       "      <td>0.0</td>\n",
       "      <td>2.0</td>\n",
       "      <td>1873</td>\n",
       "      <td>12999.0</td>\n",
       "    </tr>\n",
       "    <tr>\n",
       "      <th>1</th>\n",
       "      <td>11995.0</td>\n",
       "      <td>118113.0</td>\n",
       "      <td>0</td>\n",
       "      <td>1.0</td>\n",
       "      <td>1.0</td>\n",
       "      <td>1863</td>\n",
       "      <td>0.0</td>\n",
       "    </tr>\n",
       "    <tr>\n",
       "      <th>2</th>\n",
       "      <td>15900.0</td>\n",
       "      <td>144000.0</td>\n",
       "      <td>2</td>\n",
       "      <td>0.0</td>\n",
       "      <td>2.0</td>\n",
       "      <td>1837</td>\n",
       "      <td>16900.0</td>\n",
       "    </tr>\n",
       "    <tr>\n",
       "      <th>3</th>\n",
       "      <td>49995.0</td>\n",
       "      <td>2500.0</td>\n",
       "      <td>5</td>\n",
       "      <td>0.0</td>\n",
       "      <td>1.0</td>\n",
       "      <td>1832</td>\n",
       "      <td>62900.0</td>\n",
       "    </tr>\n",
       "    <tr>\n",
       "      <th>4</th>\n",
       "      <td>3440.0</td>\n",
       "      <td>174000.0</td>\n",
       "      <td>2</td>\n",
       "      <td>0.0</td>\n",
       "      <td>2.0</td>\n",
       "      <td>1809</td>\n",
       "      <td>4800.0</td>\n",
       "    </tr>\n",
       "    <tr>\n",
       "      <th>5</th>\n",
       "      <td>4890.0</td>\n",
       "      <td>115500.0</td>\n",
       "      <td>1</td>\n",
       "      <td>0.0</td>\n",
       "      <td>3.0</td>\n",
       "      <td>1809</td>\n",
       "      <td>0.0</td>\n",
       "    </tr>\n",
       "    <tr>\n",
       "      <th>6</th>\n",
       "      <td>4660.0</td>\n",
       "      <td>249000.0</td>\n",
       "      <td>3</td>\n",
       "      <td>0.0</td>\n",
       "      <td>3.0</td>\n",
       "      <td>1809</td>\n",
       "      <td>0.0</td>\n",
       "    </tr>\n",
       "    <tr>\n",
       "      <th>7</th>\n",
       "      <td>6550.0</td>\n",
       "      <td>188583.0</td>\n",
       "      <td>3</td>\n",
       "      <td>0.0</td>\n",
       "      <td>1.0</td>\n",
       "      <td>1809</td>\n",
       "      <td>0.0</td>\n",
       "    </tr>\n",
       "    <tr>\n",
       "      <th>8</th>\n",
       "      <td>9960.0</td>\n",
       "      <td>80124.0</td>\n",
       "      <td>4</td>\n",
       "      <td>0.0</td>\n",
       "      <td>2.0</td>\n",
       "      <td>1809</td>\n",
       "      <td>12740.0</td>\n",
       "    </tr>\n",
       "    <tr>\n",
       "      <th>9</th>\n",
       "      <td>9220.0</td>\n",
       "      <td>103000.0</td>\n",
       "      <td>4</td>\n",
       "      <td>0.0</td>\n",
       "      <td>1.0</td>\n",
       "      <td>1809</td>\n",
       "      <td>0.0</td>\n",
       "    </tr>\n",
       "  </tbody>\n",
       "</table>\n",
       "</div>"
      ],
      "text/plain": [
       "     Price   Mileage  OptionCount  Accident Check  OwnershipHistory  SellingDays  OriginPrice\n",
       "0  11999.0  129280.0            0             0.0               2.0         1873      12999.0\n",
       "1  11995.0  118113.0            0             1.0               1.0         1863          0.0\n",
       "2  15900.0  144000.0            2             0.0               2.0         1837      16900.0\n",
       "3  49995.0    2500.0            5             0.0               1.0         1832      62900.0\n",
       "4   3440.0  174000.0            2             0.0               2.0         1809       4800.0\n",
       "5   4890.0  115500.0            1             0.0               3.0         1809          0.0\n",
       "6   4660.0  249000.0            3             0.0               3.0         1809          0.0\n",
       "7   6550.0  188583.0            3             0.0               1.0         1809          0.0\n",
       "8   9960.0   80124.0            4             0.0               2.0         1809      12740.0\n",
       "9   9220.0  103000.0            4             0.0               1.0         1809          0.0"
      ]
     },
     "execution_count": 14,
     "metadata": {},
     "output_type": "execute_result"
    }
   ],
   "source": [
    "X.head(10)"
   ]
  },
  {
   "cell_type": "code",
   "execution_count": 15,
   "metadata": {},
   "outputs": [],
   "source": [
    "# X.astype('float32')"
   ]
  },
  {
   "cell_type": "code",
   "execution_count": 16,
   "metadata": {},
   "outputs": [],
   "source": [
    "# X = X.where( X != 'unknown',0)"
   ]
  },
  {
   "cell_type": "code",
   "execution_count": 17,
   "metadata": {},
   "outputs": [],
   "source": [
    "y = data.iloc[:,3]"
   ]
  },
  {
   "cell_type": "code",
   "execution_count": 18,
   "metadata": {},
   "outputs": [],
   "source": [
    "y.fillna(value=0, inplace=True)"
   ]
  },
  {
   "cell_type": "code",
   "execution_count": 19,
   "metadata": {},
   "outputs": [
    {
     "data": {
      "text/plain": [
       "True"
      ]
     },
     "execution_count": 19,
     "metadata": {},
     "output_type": "execute_result"
    }
   ],
   "source": [
    "len(X) == len(y)"
   ]
  },
  {
   "cell_type": "code",
   "execution_count": 20,
   "metadata": {},
   "outputs": [
    {
     "data": {
      "text/plain": [
       "array(['suv', 'van', 'pickup_truck', 'coupe', 'crossover', 'sedan',\n",
       "       'convertible', 'hatchback', 0, 'minivan', 'wagon'], dtype=object)"
      ]
     },
     "execution_count": 20,
     "metadata": {},
     "output_type": "execute_result"
    }
   ],
   "source": [
    "y.unique()"
   ]
  },
  {
   "cell_type": "code",
   "execution_count": 21,
   "metadata": {},
   "outputs": [],
   "source": [
    "# y會有八種不同可能,也就是八種車型,會是一個分8類的問題\n",
    "# Logistic Regression 原本是處理二元分類,不過可以用 OvR(One-vs.-Rest) 擴展成多元分類"
   ]
  },
  {
   "cell_type": "code",
   "execution_count": 22,
   "metadata": {},
   "outputs": [],
   "source": [
    "y = y.where( y != 'coupe',1)\n",
    "y = y.where( y != 'pickup_truck',2)\n",
    "y = y.where( y != 'suv',3)\n",
    "y = y.where( y != 'sedan',4)\n",
    "y = y.where( y != 'convertible',5)\n",
    "y = y.where( y != 'van',6)\n",
    "y = y.where( y != 'crossover',7)\n",
    "y = y.where( y != 'hatchback',8)\n",
    "y = y.where( y != 'minivan',9)\n",
    "y = y.where( y != 'wagon',10)"
   ]
  },
  {
   "cell_type": "code",
   "execution_count": 23,
   "metadata": {},
   "outputs": [
    {
     "data": {
      "text/plain": [
       "array([3, 6, 2, 1, 7, 4, 5, 8, 0, 9, 10], dtype=object)"
      ]
     },
     "execution_count": 23,
     "metadata": {},
     "output_type": "execute_result"
    }
   ],
   "source": [
    "y.unique()"
   ]
  },
  {
   "cell_type": "code",
   "execution_count": null,
   "metadata": {},
   "outputs": [],
   "source": []
  },
  {
   "cell_type": "code",
   "execution_count": 24,
   "metadata": {},
   "outputs": [],
   "source": [
    "from sklearn.model_selection import train_test_split"
   ]
  },
  {
   "cell_type": "code",
   "execution_count": 25,
   "metadata": {},
   "outputs": [],
   "source": [
    "X_train, X_test, y_train, y_test = train_test_split(\n",
    "    X, y, test_size=0.3, random_state=1, stratify=y)"
   ]
  },
  {
   "cell_type": "code",
   "execution_count": 26,
   "metadata": {},
   "outputs": [
    {
     "data": {
      "text/html": [
       "<div>\n",
       "<style scoped>\n",
       "    .dataframe tbody tr th:only-of-type {\n",
       "        vertical-align: middle;\n",
       "    }\n",
       "\n",
       "    .dataframe tbody tr th {\n",
       "        vertical-align: top;\n",
       "    }\n",
       "\n",
       "    .dataframe thead th {\n",
       "        text-align: right;\n",
       "    }\n",
       "</style>\n",
       "<table border=\"1\" class=\"dataframe\">\n",
       "  <thead>\n",
       "    <tr style=\"text-align: right;\">\n",
       "      <th></th>\n",
       "      <th>Price</th>\n",
       "      <th>Mileage</th>\n",
       "      <th>OptionCount</th>\n",
       "      <th>Accident Check</th>\n",
       "      <th>OwnershipHistory</th>\n",
       "      <th>SellingDays</th>\n",
       "      <th>OriginPrice</th>\n",
       "    </tr>\n",
       "  </thead>\n",
       "  <tbody>\n",
       "    <tr>\n",
       "      <th>2078932</th>\n",
       "      <td>38713.0</td>\n",
       "      <td>33125.0</td>\n",
       "      <td>5</td>\n",
       "      <td>0.0</td>\n",
       "      <td>1.0</td>\n",
       "      <td>42</td>\n",
       "      <td>38950.0</td>\n",
       "    </tr>\n",
       "    <tr>\n",
       "      <th>2345543</th>\n",
       "      <td>26990.0</td>\n",
       "      <td>15307.0</td>\n",
       "      <td>4</td>\n",
       "      <td>0.0</td>\n",
       "      <td>1.0</td>\n",
       "      <td>114</td>\n",
       "      <td>26991.0</td>\n",
       "    </tr>\n",
       "    <tr>\n",
       "      <th>1228556</th>\n",
       "      <td>33874.0</td>\n",
       "      <td>72920.0</td>\n",
       "      <td>6</td>\n",
       "      <td>0.0</td>\n",
       "      <td>2.0</td>\n",
       "      <td>5</td>\n",
       "      <td>0.0</td>\n",
       "    </tr>\n",
       "    <tr>\n",
       "      <th>1191794</th>\n",
       "      <td>28908.0</td>\n",
       "      <td>33365.0</td>\n",
       "      <td>5</td>\n",
       "      <td>1.0</td>\n",
       "      <td>1.0</td>\n",
       "      <td>36</td>\n",
       "      <td>29688.0</td>\n",
       "    </tr>\n",
       "    <tr>\n",
       "      <th>1481347</th>\n",
       "      <td>24795.0</td>\n",
       "      <td>70152.0</td>\n",
       "      <td>8</td>\n",
       "      <td>0.0</td>\n",
       "      <td>2.0</td>\n",
       "      <td>50</td>\n",
       "      <td>24995.0</td>\n",
       "    </tr>\n",
       "    <tr>\n",
       "      <th>...</th>\n",
       "      <td>...</td>\n",
       "      <td>...</td>\n",
       "      <td>...</td>\n",
       "      <td>...</td>\n",
       "      <td>...</td>\n",
       "      <td>...</td>\n",
       "      <td>...</td>\n",
       "    </tr>\n",
       "    <tr>\n",
       "      <th>1887813</th>\n",
       "      <td>36575.0</td>\n",
       "      <td>39150.0</td>\n",
       "      <td>5</td>\n",
       "      <td>0.0</td>\n",
       "      <td>1.0</td>\n",
       "      <td>45</td>\n",
       "      <td>37995.0</td>\n",
       "    </tr>\n",
       "    <tr>\n",
       "      <th>1040859</th>\n",
       "      <td>6990.0</td>\n",
       "      <td>142444.0</td>\n",
       "      <td>0</td>\n",
       "      <td>0.0</td>\n",
       "      <td>6.0</td>\n",
       "      <td>130</td>\n",
       "      <td>7990.0</td>\n",
       "    </tr>\n",
       "    <tr>\n",
       "      <th>379743</th>\n",
       "      <td>4995.0</td>\n",
       "      <td>123025.0</td>\n",
       "      <td>2</td>\n",
       "      <td>1.0</td>\n",
       "      <td>5.0</td>\n",
       "      <td>40</td>\n",
       "      <td>5250.0</td>\n",
       "    </tr>\n",
       "    <tr>\n",
       "      <th>108051</th>\n",
       "      <td>37933.0</td>\n",
       "      <td>14770.0</td>\n",
       "      <td>3</td>\n",
       "      <td>0.0</td>\n",
       "      <td>1.0</td>\n",
       "      <td>66</td>\n",
       "      <td>38887.0</td>\n",
       "    </tr>\n",
       "    <tr>\n",
       "      <th>1155792</th>\n",
       "      <td>49630.0</td>\n",
       "      <td>70126.0</td>\n",
       "      <td>8</td>\n",
       "      <td>0.0</td>\n",
       "      <td>1.0</td>\n",
       "      <td>105</td>\n",
       "      <td>57217.0</td>\n",
       "    </tr>\n",
       "  </tbody>\n",
       "</table>\n",
       "<p>1662745 rows × 7 columns</p>\n",
       "</div>"
      ],
      "text/plain": [
       "           Price   Mileage  OptionCount  Accident Check  OwnershipHistory  SellingDays  OriginPrice\n",
       "2078932  38713.0   33125.0            5             0.0               1.0           42      38950.0\n",
       "2345543  26990.0   15307.0            4             0.0               1.0          114      26991.0\n",
       "1228556  33874.0   72920.0            6             0.0               2.0            5          0.0\n",
       "1191794  28908.0   33365.0            5             1.0               1.0           36      29688.0\n",
       "1481347  24795.0   70152.0            8             0.0               2.0           50      24995.0\n",
       "...          ...       ...          ...             ...               ...          ...          ...\n",
       "1887813  36575.0   39150.0            5             0.0               1.0           45      37995.0\n",
       "1040859   6990.0  142444.0            0             0.0               6.0          130       7990.0\n",
       "379743    4995.0  123025.0            2             1.0               5.0           40       5250.0\n",
       "108051   37933.0   14770.0            3             0.0               1.0           66      38887.0\n",
       "1155792  49630.0   70126.0            8             0.0               1.0          105      57217.0\n",
       "\n",
       "[1662745 rows x 7 columns]"
      ]
     },
     "execution_count": 26,
     "metadata": {},
     "output_type": "execute_result"
    }
   ],
   "source": [
    "X_train"
   ]
  },
  {
   "cell_type": "code",
   "execution_count": 27,
   "metadata": {},
   "outputs": [
    {
     "data": {
      "text/plain": [
       "array([   973,  28900, 125043,  79001, 202996,  13348,   9209, 195226,\n",
       "        22282,  21132,  14495], dtype=int64)"
      ]
     },
     "execution_count": 27,
     "metadata": {},
     "output_type": "execute_result"
    }
   ],
   "source": [
    "np.bincount(y_test)"
   ]
  },
  {
   "cell_type": "code",
   "execution_count": 28,
   "metadata": {},
   "outputs": [
    {
     "data": {
      "text/plain": [
       "array([  2272,  67432, 291766, 184336, 473656,  31144,  21486, 455529,\n",
       "        51993,  49308,  33823], dtype=int64)"
      ]
     },
     "execution_count": 28,
     "metadata": {},
     "output_type": "execute_result"
    }
   ],
   "source": [
    "np.bincount(y_train)"
   ]
  },
  {
   "cell_type": "code",
   "execution_count": 29,
   "metadata": {},
   "outputs": [],
   "source": [
    "# y_test = y_test.where( y != 'coupe',0)"
   ]
  },
  {
   "cell_type": "code",
   "execution_count": 30,
   "metadata": {},
   "outputs": [],
   "source": [
    "# y_test = y_test.where( y != 'coupe',0)\n",
    "# y_test = y_test.where( y != 'pickup_truck',1)\n",
    "# y_test = y_test.where( y != 'suv',2)\n",
    "# y_test = y_test.where( y != 'sedan',3)\n",
    "# y_test = y_test.where( y != 'convertible',4)\n",
    "# y_test = y_test.where( y != 'van',5)\n",
    "# y_test = y_test.where( y != 'crossover',6)\n",
    "# y_test = y_test.where( y != 'hatchback',7)"
   ]
  },
  {
   "cell_type": "code",
   "execution_count": 31,
   "metadata": {},
   "outputs": [],
   "source": [
    "# 'coupe', 'pickup_truck', 'suv', 'sedan', 'convertible', 'van','crossover', 'hatchback'"
   ]
  },
  {
   "cell_type": "code",
   "execution_count": null,
   "metadata": {},
   "outputs": [],
   "source": []
  },
  {
   "cell_type": "code",
   "execution_count": 32,
   "metadata": {},
   "outputs": [],
   "source": [
    "from sklearn.preprocessing import StandardScaler"
   ]
  },
  {
   "cell_type": "code",
   "execution_count": 33,
   "metadata": {},
   "outputs": [],
   "source": [
    "sc = StandardScaler()\n",
    "sc.fit(X_train)\n",
    "X_train_std = sc.transform(X_train)\n",
    "X_test_std = sc.transform(X_test)"
   ]
  },
  {
   "cell_type": "code",
   "execution_count": null,
   "metadata": {},
   "outputs": [],
   "source": []
  },
  {
   "cell_type": "code",
   "execution_count": 34,
   "metadata": {},
   "outputs": [
    {
     "data": {
      "text/plain": [
       "dtype('O')"
      ]
     },
     "execution_count": 34,
     "metadata": {},
     "output_type": "execute_result"
    }
   ],
   "source": [
    "np.dtype(y_train)\n",
    "# dtype('O')"
   ]
  },
  {
   "cell_type": "code",
   "execution_count": 35,
   "metadata": {},
   "outputs": [],
   "source": [
    "# 在使用 Sklearn 的 Logistic Regression 時 , y的 type 必須 必須 要是 int\n",
    "# 不要用 type() 確認 , 用 dtype 確認 ,如果是物件 'O' 要轉型別\n",
    "y_train = y_train.astype('int')"
   ]
  },
  {
   "cell_type": "code",
   "execution_count": 36,
   "metadata": {},
   "outputs": [
    {
     "data": {
      "text/plain": [
       "dtype('int32')"
      ]
     },
     "execution_count": 36,
     "metadata": {},
     "output_type": "execute_result"
    }
   ],
   "source": [
    "np.dtype(y_train)\n",
    "# 經過轉換後 ,變成 dtype('int32')"
   ]
  },
  {
   "cell_type": "code",
   "execution_count": null,
   "metadata": {},
   "outputs": [],
   "source": []
  },
  {
   "cell_type": "code",
   "execution_count": 37,
   "metadata": {},
   "outputs": [],
   "source": [
    "from sklearn.svm import SVC"
   ]
  },
  {
   "cell_type": "code",
   "execution_count": 38,
   "metadata": {},
   "outputs": [],
   "source": [
    "svm = SVC(kernel='rbf', random_state=1, gamma=0.10, C=100.0)"
   ]
  },
  {
   "cell_type": "code",
   "execution_count": null,
   "metadata": {},
   "outputs": [],
   "source": [
    "svm.fit(X_train_std, y_train)"
   ]
  },
  {
   "cell_type": "code",
   "execution_count": null,
   "metadata": {},
   "outputs": [],
   "source": [
    "y_pred = svm.predict(X_test_std)"
   ]
  },
  {
   "cell_type": "code",
   "execution_count": null,
   "metadata": {},
   "outputs": [],
   "source": [
    "accuracy = (y_pred == y_test).sum()/len(y_test)"
   ]
  },
  {
   "cell_type": "code",
   "execution_count": null,
   "metadata": {},
   "outputs": [],
   "source": [
    "accuracy"
   ]
  },
  {
   "cell_type": "code",
   "execution_count": null,
   "metadata": {},
   "outputs": [],
   "source": [
    "np.dtype(y_test)"
   ]
  },
  {
   "cell_type": "code",
   "execution_count": null,
   "metadata": {},
   "outputs": [],
   "source": [
    "y_test = y_test.astype('int')"
   ]
  },
  {
   "cell_type": "code",
   "execution_count": null,
   "metadata": {},
   "outputs": [],
   "source": [
    "from sklearn.metrics import confusion_matrix"
   ]
  },
  {
   "cell_type": "code",
   "execution_count": null,
   "metadata": {},
   "outputs": [],
   "source": [
    "confusion_matrix(y_test,y_pred)"
   ]
  },
  {
   "cell_type": "code",
   "execution_count": null,
   "metadata": {},
   "outputs": [],
   "source": []
  }
 ],
 "metadata": {
  "kernelspec": {
   "display_name": "Python 3",
   "language": "python",
   "name": "python3"
  },
  "language_info": {
   "codemirror_mode": {
    "name": "ipython",
    "version": 3
   },
   "file_extension": ".py",
   "mimetype": "text/x-python",
   "name": "python",
   "nbconvert_exporter": "python",
   "pygments_lexer": "ipython3",
   "version": "3.7.5"
  }
 },
 "nbformat": 4,
 "nbformat_minor": 2
}
