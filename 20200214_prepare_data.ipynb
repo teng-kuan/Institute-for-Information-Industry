{
 "cells": [
  {
   "cell_type": "code",
   "execution_count": 1,
   "metadata": {},
   "outputs": [],
   "source": [
    "import numpy as np\n",
    "import pandas as pd"
   ]
  },
  {
   "cell_type": "code",
   "execution_count": 2,
   "metadata": {},
   "outputs": [
    {
     "name": "stdout",
     "output_type": "stream",
     "text": [
      "Wall time: 7.94 s\n"
     ]
    }
   ],
   "source": [
    "%%time\n",
    "raw_data = pd.read_csv('usedCar_Dataset.csv')"
   ]
  },
  {
   "cell_type": "code",
   "execution_count": 3,
   "metadata": {},
   "outputs": [],
   "source": [
    "pd.set_option('display.max_rows', 500)\n",
    "pd.set_option('display.max_columns', 500)\n",
    "pd.set_option('display.width', 1000)"
   ]
  },
  {
   "cell_type": "markdown",
   "metadata": {},
   "source": [
    "---------------------------------------------------"
   ]
  },
  {
   "cell_type": "code",
   "execution_count": 4,
   "metadata": {},
   "outputs": [
    {
     "data": {
      "text/html": [
       "<div>\n",
       "<style scoped>\n",
       "    .dataframe tbody tr th:only-of-type {\n",
       "        vertical-align: middle;\n",
       "    }\n",
       "\n",
       "    .dataframe tbody tr th {\n",
       "        vertical-align: top;\n",
       "    }\n",
       "\n",
       "    .dataframe thead th {\n",
       "        text-align: right;\n",
       "    }\n",
       "</style>\n",
       "<table border=\"1\" class=\"dataframe\">\n",
       "  <thead>\n",
       "    <tr style=\"text-align: right;\">\n",
       "      <th></th>\n",
       "      <th>CarID</th>\n",
       "      <th>MakeId</th>\n",
       "      <th>Title</th>\n",
       "      <th>BodyStyle</th>\n",
       "      <th>Rental</th>\n",
       "      <th>Location</th>\n",
       "      <th>GasMileage_city</th>\n",
       "      <th>GasMileage_highway</th>\n",
       "      <th>Price</th>\n",
       "      <th>Mileage</th>\n",
       "      <th>Transmission</th>\n",
       "      <th>FuelType</th>\n",
       "      <th>ExteriorColor</th>\n",
       "      <th>InteriorColor</th>\n",
       "      <th>DoorsNum</th>\n",
       "      <th>MaximumSeating</th>\n",
       "      <th>Engine</th>\n",
       "      <th>Drivetrain</th>\n",
       "      <th>VIN</th>\n",
       "      <th>OptionCount</th>\n",
       "      <th>MajorOptions</th>\n",
       "      <th>Certified</th>\n",
       "      <th>Accident Check</th>\n",
       "      <th>OwnershipHistory</th>\n",
       "      <th>SellingDays</th>\n",
       "      <th>OriginPrice</th>\n",
       "    </tr>\n",
       "  </thead>\n",
       "  <tbody>\n",
       "    <tr>\n",
       "      <th>0</th>\n",
       "      <td>100351603</td>\n",
       "      <td>m1</td>\n",
       "      <td>2007 Chevrolet Tahoe - $11,999</td>\n",
       "      <td>suv</td>\n",
       "      <td>NaN</td>\n",
       "      <td>Garland, TX</td>\n",
       "      <td>NaN</td>\n",
       "      <td>NaN</td>\n",
       "      <td>11999.0</td>\n",
       "      <td>129280.0</td>\n",
       "      <td>Automatic</td>\n",
       "      <td>Gasoline</td>\n",
       "      <td>Gold</td>\n",
       "      <td>NaN</td>\n",
       "      <td>NaN</td>\n",
       "      <td>NaN</td>\n",
       "      <td>V8</td>\n",
       "      <td>NaN</td>\n",
       "      <td>1GNFC13J47R120389</td>\n",
       "      <td>0</td>\n",
       "      <td>NaN</td>\n",
       "      <td>NaN</td>\n",
       "      <td>0.0</td>\n",
       "      <td>2.0</td>\n",
       "      <td>1873</td>\n",
       "      <td>12999.0</td>\n",
       "    </tr>\n",
       "    <tr>\n",
       "      <th>1</th>\n",
       "      <td>101113873</td>\n",
       "      <td>m1</td>\n",
       "      <td>2005 Chevrolet Express - $11,995</td>\n",
       "      <td>van</td>\n",
       "      <td>NaN</td>\n",
       "      <td>Claremont, NH</td>\n",
       "      <td>NaN</td>\n",
       "      <td>NaN</td>\n",
       "      <td>11995.0</td>\n",
       "      <td>118113.0</td>\n",
       "      <td>Automatic</td>\n",
       "      <td>NaN</td>\n",
       "      <td>White</td>\n",
       "      <td>NaN</td>\n",
       "      <td>NaN</td>\n",
       "      <td>NaN</td>\n",
       "      <td>NaN</td>\n",
       "      <td>NaN</td>\n",
       "      <td>1GBJG31U251136588</td>\n",
       "      <td>0</td>\n",
       "      <td>NaN</td>\n",
       "      <td>NaN</td>\n",
       "      <td>1.0</td>\n",
       "      <td>1.0</td>\n",
       "      <td>1863</td>\n",
       "      <td>NaN</td>\n",
       "    </tr>\n",
       "    <tr>\n",
       "      <th>2</th>\n",
       "      <td>102996725</td>\n",
       "      <td>m1</td>\n",
       "      <td>2010 Chevrolet Silverado 2500HD Work Truck Ext...</td>\n",
       "      <td>pickup_truck</td>\n",
       "      <td>NaN</td>\n",
       "      <td>Frankfort, KY</td>\n",
       "      <td>NaN</td>\n",
       "      <td>NaN</td>\n",
       "      <td>15900.0</td>\n",
       "      <td>144000.0</td>\n",
       "      <td>Automatic</td>\n",
       "      <td>Gasoline</td>\n",
       "      <td>White</td>\n",
       "      <td>Gray</td>\n",
       "      <td>4 doors</td>\n",
       "      <td>6 seats</td>\n",
       "      <td>V8</td>\n",
       "      <td>Four-Wheel Drive</td>\n",
       "      <td>1GC5KVBG7AZ218246</td>\n",
       "      <td>2</td>\n",
       "      <td>Steel Wheels,Tow Package</td>\n",
       "      <td>NaN</td>\n",
       "      <td>0.0</td>\n",
       "      <td>2.0</td>\n",
       "      <td>1837</td>\n",
       "      <td>16900.0</td>\n",
       "    </tr>\n",
       "    <tr>\n",
       "      <th>3</th>\n",
       "      <td>103384798</td>\n",
       "      <td>m1</td>\n",
       "      <td>2014 Chevrolet Corvette Stingray 3LT Coupe RWD...</td>\n",
       "      <td>coupe</td>\n",
       "      <td>NaN</td>\n",
       "      <td>Lewistown, MT</td>\n",
       "      <td>17 MPG City</td>\n",
       "      <td>29 MPG Highway</td>\n",
       "      <td>49995.0</td>\n",
       "      <td>2500.0</td>\n",
       "      <td>7-Speed Manual</td>\n",
       "      <td>Gasoline</td>\n",
       "      <td>Red</td>\n",
       "      <td>Black</td>\n",
       "      <td>2 doors</td>\n",
       "      <td>2 seats</td>\n",
       "      <td>V8</td>\n",
       "      <td>Rear-Wheel Drive</td>\n",
       "      <td>1G1YE2D73E5104797</td>\n",
       "      <td>5</td>\n",
       "      <td>Bluetooth,Backup Camera,Aluminum Wheels,Naviga...</td>\n",
       "      <td>NaN</td>\n",
       "      <td>0.0</td>\n",
       "      <td>1.0</td>\n",
       "      <td>1832</td>\n",
       "      <td>62900.0</td>\n",
       "    </tr>\n",
       "    <tr>\n",
       "      <th>4</th>\n",
       "      <td>104800849</td>\n",
       "      <td>m1</td>\n",
       "      <td>2002 Chevrolet Monte Carlo SS FWD - $3,440</td>\n",
       "      <td>coupe</td>\n",
       "      <td>NaN</td>\n",
       "      <td>Delavan, IL</td>\n",
       "      <td>17 MPG City</td>\n",
       "      <td>27 MPG Highway</td>\n",
       "      <td>3440.0</td>\n",
       "      <td>174000.0</td>\n",
       "      <td>Automatic</td>\n",
       "      <td>Gasoline</td>\n",
       "      <td>Black</td>\n",
       "      <td>Black</td>\n",
       "      <td>2 doors</td>\n",
       "      <td>5 seats</td>\n",
       "      <td>V6</td>\n",
       "      <td>Front-Wheel Drive</td>\n",
       "      <td>2G1WX15K829249749</td>\n",
       "      <td>2</td>\n",
       "      <td>Leather Seats,Aluminum Wheels</td>\n",
       "      <td>NaN</td>\n",
       "      <td>0.0</td>\n",
       "      <td>2.0</td>\n",
       "      <td>1809</td>\n",
       "      <td>4800.0</td>\n",
       "    </tr>\n",
       "    <tr>\n",
       "      <th>...</th>\n",
       "      <td>...</td>\n",
       "      <td>...</td>\n",
       "      <td>...</td>\n",
       "      <td>...</td>\n",
       "      <td>...</td>\n",
       "      <td>...</td>\n",
       "      <td>...</td>\n",
       "      <td>...</td>\n",
       "      <td>...</td>\n",
       "      <td>...</td>\n",
       "      <td>...</td>\n",
       "      <td>...</td>\n",
       "      <td>...</td>\n",
       "      <td>...</td>\n",
       "      <td>...</td>\n",
       "      <td>...</td>\n",
       "      <td>...</td>\n",
       "      <td>...</td>\n",
       "      <td>...</td>\n",
       "      <td>...</td>\n",
       "      <td>...</td>\n",
       "      <td>...</td>\n",
       "      <td>...</td>\n",
       "      <td>...</td>\n",
       "      <td>...</td>\n",
       "      <td>...</td>\n",
       "    </tr>\n",
       "    <tr>\n",
       "      <th>2375345</th>\n",
       "      <td>97006676</td>\n",
       "      <td>m98</td>\n",
       "      <td>2012 FIAT 500 Lounge Convertible - $15,100</td>\n",
       "      <td>convertible</td>\n",
       "      <td>NaN</td>\n",
       "      <td>Eynon, PA</td>\n",
       "      <td>NaN</td>\n",
       "      <td>NaN</td>\n",
       "      <td>15100.0</td>\n",
       "      <td>NaN</td>\n",
       "      <td>5-Speed Automatic</td>\n",
       "      <td>Gasoline</td>\n",
       "      <td>Orange</td>\n",
       "      <td>Avorio (Ivory)</td>\n",
       "      <td>2 doors</td>\n",
       "      <td>4 seats</td>\n",
       "      <td>I4</td>\n",
       "      <td>Front-Wheel Drive</td>\n",
       "      <td>3C3CFFER3CT310225</td>\n",
       "      <td>0</td>\n",
       "      <td>NaN</td>\n",
       "      <td>NaN</td>\n",
       "      <td>0.0</td>\n",
       "      <td>1.0</td>\n",
       "      <td>1911</td>\n",
       "      <td>26350.0</td>\n",
       "    </tr>\n",
       "    <tr>\n",
       "      <th>2375346</th>\n",
       "      <td>97006677</td>\n",
       "      <td>m98</td>\n",
       "      <td>2013 FIAT 500 Sport</td>\n",
       "      <td>hatchback</td>\n",
       "      <td>NaN</td>\n",
       "      <td>Eynon, PA</td>\n",
       "      <td>31 MPG City</td>\n",
       "      <td>40 MPG Highway</td>\n",
       "      <td>NaN</td>\n",
       "      <td>NaN</td>\n",
       "      <td>5-Speed Manual</td>\n",
       "      <td>Gasoline</td>\n",
       "      <td>Black</td>\n",
       "      <td>Black</td>\n",
       "      <td>2 doors</td>\n",
       "      <td>4 seats</td>\n",
       "      <td>I4</td>\n",
       "      <td>Front-Wheel Drive</td>\n",
       "      <td>3C3CFFBR8DT515920</td>\n",
       "      <td>0</td>\n",
       "      <td>NaN</td>\n",
       "      <td>NaN</td>\n",
       "      <td>0.0</td>\n",
       "      <td>3.0</td>\n",
       "      <td>1911</td>\n",
       "      <td>NaN</td>\n",
       "    </tr>\n",
       "    <tr>\n",
       "      <th>2375347</th>\n",
       "      <td>97006680</td>\n",
       "      <td>m98</td>\n",
       "      <td>2012 FIAT 500 Lounge</td>\n",
       "      <td>hatchback</td>\n",
       "      <td>NaN</td>\n",
       "      <td>Eynon, PA</td>\n",
       "      <td>27 MPG City</td>\n",
       "      <td>34 MPG Highway</td>\n",
       "      <td>NaN</td>\n",
       "      <td>NaN</td>\n",
       "      <td>6-Speed Automatic</td>\n",
       "      <td>Gasoline</td>\n",
       "      <td>Argento (Silver)</td>\n",
       "      <td>Black</td>\n",
       "      <td>2 doors</td>\n",
       "      <td>4 seats</td>\n",
       "      <td>I4</td>\n",
       "      <td>Front-Wheel Drive</td>\n",
       "      <td>3C3CFFCR5CT310469</td>\n",
       "      <td>5</td>\n",
       "      <td>Leather Seats,Sunroof/Moonroof,Alloy Wheels,Bl...</td>\n",
       "      <td>NaN</td>\n",
       "      <td>0.0</td>\n",
       "      <td>1.0</td>\n",
       "      <td>1911</td>\n",
       "      <td>NaN</td>\n",
       "    </tr>\n",
       "    <tr>\n",
       "      <th>2375348</th>\n",
       "      <td>97006682</td>\n",
       "      <td>m98</td>\n",
       "      <td>2013 FIAT 500 Lounge</td>\n",
       "      <td>hatchback</td>\n",
       "      <td>NaN</td>\n",
       "      <td>Eynon, PA</td>\n",
       "      <td>31 MPG City</td>\n",
       "      <td>40 MPG Highway</td>\n",
       "      <td>NaN</td>\n",
       "      <td>NaN</td>\n",
       "      <td>5-Speed Manual</td>\n",
       "      <td>Gasoline</td>\n",
       "      <td>Rosso (Red)</td>\n",
       "      <td>Avorio (Ivory)</td>\n",
       "      <td>2 doors</td>\n",
       "      <td>4 seats</td>\n",
       "      <td>I4</td>\n",
       "      <td>Front-Wheel Drive</td>\n",
       "      <td>3C3CFFCR1DT693120</td>\n",
       "      <td>0</td>\n",
       "      <td>NaN</td>\n",
       "      <td>NaN</td>\n",
       "      <td>0.0</td>\n",
       "      <td>1.0</td>\n",
       "      <td>1911</td>\n",
       "      <td>NaN</td>\n",
       "    </tr>\n",
       "    <tr>\n",
       "      <th>2375349</th>\n",
       "      <td>97006684</td>\n",
       "      <td>m98</td>\n",
       "      <td>2013 FIAT 500 Sport</td>\n",
       "      <td>hatchback</td>\n",
       "      <td>NaN</td>\n",
       "      <td>Eynon, PA</td>\n",
       "      <td>31 MPG City</td>\n",
       "      <td>40 MPG Highway</td>\n",
       "      <td>NaN</td>\n",
       "      <td>NaN</td>\n",
       "      <td>5-Speed Manual</td>\n",
       "      <td>Gasoline</td>\n",
       "      <td>Nero Puro (Straight Black)</td>\n",
       "      <td>Nero (Black)</td>\n",
       "      <td>2 doors</td>\n",
       "      <td>4 seats</td>\n",
       "      <td>I4</td>\n",
       "      <td>Front-Wheel Drive</td>\n",
       "      <td>3C3CFFBR5DT539107</td>\n",
       "      <td>0</td>\n",
       "      <td>NaN</td>\n",
       "      <td>NaN</td>\n",
       "      <td>0.0</td>\n",
       "      <td>3.0</td>\n",
       "      <td>1911</td>\n",
       "      <td>NaN</td>\n",
       "    </tr>\n",
       "  </tbody>\n",
       "</table>\n",
       "<p>2375350 rows × 26 columns</p>\n",
       "</div>"
      ],
      "text/plain": [
       "             CarID MakeId                                              Title     BodyStyle Rental       Location GasMileage_city GasMileage_highway    Price   Mileage       Transmission  FuelType               ExteriorColor   InteriorColor DoorsNum MaximumSeating Engine         Drivetrain                VIN  OptionCount                                       MajorOptions Certified  Accident Check  OwnershipHistory  SellingDays  OriginPrice\n",
       "0        100351603     m1                     2007 Chevrolet Tahoe - $11,999           suv    NaN    Garland, TX             NaN                NaN  11999.0  129280.0          Automatic  Gasoline                        Gold             NaN      NaN            NaN     V8                NaN  1GNFC13J47R120389            0                                                NaN       NaN             0.0               2.0         1873      12999.0\n",
       "1        101113873     m1                   2005 Chevrolet Express - $11,995           van    NaN  Claremont, NH             NaN                NaN  11995.0  118113.0          Automatic       NaN                       White             NaN      NaN            NaN    NaN                NaN  1GBJG31U251136588            0                                                NaN       NaN             1.0               1.0         1863          NaN\n",
       "2        102996725     m1  2010 Chevrolet Silverado 2500HD Work Truck Ext...  pickup_truck    NaN  Frankfort, KY             NaN                NaN  15900.0  144000.0          Automatic  Gasoline                       White            Gray  4 doors        6 seats     V8   Four-Wheel Drive  1GC5KVBG7AZ218246            2                           Steel Wheels,Tow Package       NaN             0.0               2.0         1837      16900.0\n",
       "3        103384798     m1  2014 Chevrolet Corvette Stingray 3LT Coupe RWD...         coupe    NaN  Lewistown, MT     17 MPG City     29 MPG Highway  49995.0    2500.0     7-Speed Manual  Gasoline                         Red           Black  2 doors        2 seats     V8   Rear-Wheel Drive  1G1YE2D73E5104797            5  Bluetooth,Backup Camera,Aluminum Wheels,Naviga...       NaN             0.0               1.0         1832      62900.0\n",
       "4        104800849     m1         2002 Chevrolet Monte Carlo SS FWD - $3,440         coupe    NaN    Delavan, IL     17 MPG City     27 MPG Highway   3440.0  174000.0          Automatic  Gasoline                       Black           Black  2 doors        5 seats     V6  Front-Wheel Drive  2G1WX15K829249749            2                      Leather Seats,Aluminum Wheels       NaN             0.0               2.0         1809       4800.0\n",
       "...            ...    ...                                                ...           ...    ...            ...             ...                ...      ...       ...                ...       ...                         ...             ...      ...            ...    ...                ...                ...          ...                                                ...       ...             ...               ...          ...          ...\n",
       "2375345   97006676    m98         2012 FIAT 500 Lounge Convertible - $15,100   convertible    NaN      Eynon, PA             NaN                NaN  15100.0       NaN  5-Speed Automatic  Gasoline                      Orange  Avorio (Ivory)  2 doors        4 seats     I4  Front-Wheel Drive  3C3CFFER3CT310225            0                                                NaN       NaN             0.0               1.0         1911      26350.0\n",
       "2375346   97006677    m98                                2013 FIAT 500 Sport     hatchback    NaN      Eynon, PA     31 MPG City     40 MPG Highway      NaN       NaN     5-Speed Manual  Gasoline                       Black           Black  2 doors        4 seats     I4  Front-Wheel Drive  3C3CFFBR8DT515920            0                                                NaN       NaN             0.0               3.0         1911          NaN\n",
       "2375347   97006680    m98                               2012 FIAT 500 Lounge     hatchback    NaN      Eynon, PA     27 MPG City     34 MPG Highway      NaN       NaN  6-Speed Automatic  Gasoline            Argento (Silver)           Black  2 doors        4 seats     I4  Front-Wheel Drive  3C3CFFCR5CT310469            5  Leather Seats,Sunroof/Moonroof,Alloy Wheels,Bl...       NaN             0.0               1.0         1911          NaN\n",
       "2375348   97006682    m98                               2013 FIAT 500 Lounge     hatchback    NaN      Eynon, PA     31 MPG City     40 MPG Highway      NaN       NaN     5-Speed Manual  Gasoline                 Rosso (Red)  Avorio (Ivory)  2 doors        4 seats     I4  Front-Wheel Drive  3C3CFFCR1DT693120            0                                                NaN       NaN             0.0               1.0         1911          NaN\n",
       "2375349   97006684    m98                                2013 FIAT 500 Sport     hatchback    NaN      Eynon, PA     31 MPG City     40 MPG Highway      NaN       NaN     5-Speed Manual  Gasoline  Nero Puro (Straight Black)    Nero (Black)  2 doors        4 seats     I4  Front-Wheel Drive  3C3CFFBR5DT539107            0                                                NaN       NaN             0.0               3.0         1911          NaN\n",
       "\n",
       "[2375350 rows x 26 columns]"
      ]
     },
     "execution_count": 4,
     "metadata": {},
     "output_type": "execute_result"
    }
   ],
   "source": [
    "raw_data"
   ]
  },
  {
   "cell_type": "code",
   "execution_count": null,
   "metadata": {},
   "outputs": [],
   "source": []
  },
  {
   "cell_type": "markdown",
   "metadata": {},
   "source": [
    "------------------------------------------------------------------------------"
   ]
  },
  {
   "cell_type": "markdown",
   "metadata": {},
   "source": [
    "##### 刪除重複值"
   ]
  },
  {
   "cell_type": "code",
   "execution_count": 5,
   "metadata": {},
   "outputs": [
    {
     "data": {
      "text/plain": [
       "0"
      ]
     },
     "execution_count": 5,
     "metadata": {},
     "output_type": "execute_result"
    }
   ],
   "source": [
    "the_vin = raw_data[raw_data.duplicated(subset='VIN', keep=False)]\n",
    "the_vin[the_vin.duplicated(subset=['CarID'], keep=False)]\n",
    "data1 = raw_data[~raw_data.duplicated(subset=['CarID'], keep='last')]\n",
    "data1.duplicated(subset=['CarID'], keep=False).sum()"
   ]
  },
  {
   "cell_type": "code",
   "execution_count": 6,
   "metadata": {},
   "outputs": [],
   "source": [
    "the_vin = data1[data1.duplicated(subset=['VIN'], keep=False)]\n",
    "data1 = data1.drop(index=[1296653,1524990])"
   ]
  },
  {
   "cell_type": "code",
   "execution_count": 7,
   "metadata": {},
   "outputs": [
    {
     "data": {
      "text/plain": [
       "(2370776, 26)"
      ]
     },
     "execution_count": 7,
     "metadata": {},
     "output_type": "execute_result"
    }
   ],
   "source": [
    "data1.shape"
   ]
  },
  {
   "cell_type": "markdown",
   "metadata": {},
   "source": [
    "----------------------------------------------------------------------------"
   ]
  },
  {
   "cell_type": "code",
   "execution_count": 8,
   "metadata": {},
   "outputs": [],
   "source": [
    "data2 = data1.dropna(subset=['Price'])"
   ]
  },
  {
   "cell_type": "code",
   "execution_count": 9,
   "metadata": {},
   "outputs": [
    {
     "data": {
      "text/plain": [
       "(2242856, 26)"
      ]
     },
     "execution_count": 9,
     "metadata": {},
     "output_type": "execute_result"
    }
   ],
   "source": [
    "data2.shape"
   ]
  },
  {
   "cell_type": "code",
   "execution_count": 10,
   "metadata": {},
   "outputs": [],
   "source": [
    "data2 = data2.drop(columns=['CarID', 'VIN', 'MajorOptions'])"
   ]
  },
  {
   "cell_type": "code",
   "execution_count": 11,
   "metadata": {},
   "outputs": [
    {
     "data": {
      "text/plain": [
       "(2242856, 23)"
      ]
     },
     "execution_count": 11,
     "metadata": {},
     "output_type": "execute_result"
    }
   ],
   "source": [
    "data2.shape"
   ]
  },
  {
   "cell_type": "markdown",
   "metadata": {},
   "source": [
    "-------------------------------------------------------------------------"
   ]
  },
  {
   "cell_type": "markdown",
   "metadata": {},
   "source": [
    "##### 處理 Certified"
   ]
  },
  {
   "cell_type": "code",
   "execution_count": 12,
   "metadata": {},
   "outputs": [
    {
     "data": {
      "text/plain": [
       "array([nan, True], dtype=object)"
      ]
     },
     "execution_count": 12,
     "metadata": {},
     "output_type": "execute_result"
    }
   ],
   "source": [
    "data2['Certified'].unique()"
   ]
  },
  {
   "cell_type": "code",
   "execution_count": 13,
   "metadata": {},
   "outputs": [],
   "source": [
    "data2['Certified'].fillna(value=0, inplace=True)"
   ]
  },
  {
   "cell_type": "code",
   "execution_count": 14,
   "metadata": {},
   "outputs": [],
   "source": [
    "def toint(x):\n",
    "    if x == True:\n",
    "        return int(x)\n",
    "    else:\n",
    "        return x"
   ]
  },
  {
   "cell_type": "code",
   "execution_count": 15,
   "metadata": {},
   "outputs": [],
   "source": [
    "data2['Certified'] = data2['Certified'].apply(toint)"
   ]
  },
  {
   "cell_type": "code",
   "execution_count": 16,
   "metadata": {},
   "outputs": [
    {
     "data": {
      "text/plain": [
       "array([0, 1], dtype=int64)"
      ]
     },
     "execution_count": 16,
     "metadata": {},
     "output_type": "execute_result"
    }
   ],
   "source": [
    "data2['Certified'].unique()"
   ]
  },
  {
   "cell_type": "code",
   "execution_count": 17,
   "metadata": {},
   "outputs": [
    {
     "data": {
      "text/html": [
       "<div>\n",
       "<style scoped>\n",
       "    .dataframe tbody tr th:only-of-type {\n",
       "        vertical-align: middle;\n",
       "    }\n",
       "\n",
       "    .dataframe tbody tr th {\n",
       "        vertical-align: top;\n",
       "    }\n",
       "\n",
       "    .dataframe thead th {\n",
       "        text-align: right;\n",
       "    }\n",
       "</style>\n",
       "<table border=\"1\" class=\"dataframe\">\n",
       "  <thead>\n",
       "    <tr style=\"text-align: right;\">\n",
       "      <th></th>\n",
       "      <th>Price</th>\n",
       "      <th>Certified</th>\n",
       "    </tr>\n",
       "  </thead>\n",
       "  <tbody>\n",
       "    <tr>\n",
       "      <th>Price</th>\n",
       "      <td>1.000000</td>\n",
       "      <td>0.130795</td>\n",
       "    </tr>\n",
       "    <tr>\n",
       "      <th>Certified</th>\n",
       "      <td>0.130795</td>\n",
       "      <td>1.000000</td>\n",
       "    </tr>\n",
       "  </tbody>\n",
       "</table>\n",
       "</div>"
      ],
      "text/plain": [
       "              Price  Certified\n",
       "Price      1.000000   0.130795\n",
       "Certified  0.130795   1.000000"
      ]
     },
     "execution_count": 17,
     "metadata": {},
     "output_type": "execute_result"
    }
   ],
   "source": [
    "data2[['Price','Certified']].corr()"
   ]
  },
  {
   "cell_type": "markdown",
   "metadata": {},
   "source": [
    "-----------------------------------------------"
   ]
  },
  {
   "cell_type": "code",
   "execution_count": 18,
   "metadata": {},
   "outputs": [
    {
     "data": {
      "text/html": [
       "<div>\n",
       "<style scoped>\n",
       "    .dataframe tbody tr th:only-of-type {\n",
       "        vertical-align: middle;\n",
       "    }\n",
       "\n",
       "    .dataframe tbody tr th {\n",
       "        vertical-align: top;\n",
       "    }\n",
       "\n",
       "    .dataframe thead th {\n",
       "        text-align: right;\n",
       "    }\n",
       "</style>\n",
       "<table border=\"1\" class=\"dataframe\">\n",
       "  <thead>\n",
       "    <tr style=\"text-align: right;\">\n",
       "      <th></th>\n",
       "      <th>MakeId</th>\n",
       "      <th>Title</th>\n",
       "      <th>BodyStyle</th>\n",
       "      <th>Rental</th>\n",
       "      <th>Location</th>\n",
       "      <th>GasMileage_city</th>\n",
       "      <th>GasMileage_highway</th>\n",
       "      <th>Price</th>\n",
       "      <th>Mileage</th>\n",
       "      <th>Transmission</th>\n",
       "      <th>FuelType</th>\n",
       "      <th>ExteriorColor</th>\n",
       "      <th>InteriorColor</th>\n",
       "      <th>DoorsNum</th>\n",
       "      <th>MaximumSeating</th>\n",
       "      <th>Engine</th>\n",
       "      <th>Drivetrain</th>\n",
       "      <th>OptionCount</th>\n",
       "      <th>Certified</th>\n",
       "      <th>Accident Check</th>\n",
       "      <th>OwnershipHistory</th>\n",
       "      <th>SellingDays</th>\n",
       "      <th>OriginPrice</th>\n",
       "    </tr>\n",
       "  </thead>\n",
       "  <tbody>\n",
       "    <tr>\n",
       "      <th>0</th>\n",
       "      <td>m1</td>\n",
       "      <td>2007 Chevrolet Tahoe - $11,999</td>\n",
       "      <td>suv</td>\n",
       "      <td>NaN</td>\n",
       "      <td>Garland, TX</td>\n",
       "      <td>NaN</td>\n",
       "      <td>NaN</td>\n",
       "      <td>11999.0</td>\n",
       "      <td>129280.0</td>\n",
       "      <td>Automatic</td>\n",
       "      <td>Gasoline</td>\n",
       "      <td>Gold</td>\n",
       "      <td>NaN</td>\n",
       "      <td>NaN</td>\n",
       "      <td>NaN</td>\n",
       "      <td>V8</td>\n",
       "      <td>NaN</td>\n",
       "      <td>0</td>\n",
       "      <td>0</td>\n",
       "      <td>0.0</td>\n",
       "      <td>2.0</td>\n",
       "      <td>1873</td>\n",
       "      <td>12999.0</td>\n",
       "    </tr>\n",
       "    <tr>\n",
       "      <th>1</th>\n",
       "      <td>m1</td>\n",
       "      <td>2005 Chevrolet Express - $11,995</td>\n",
       "      <td>van</td>\n",
       "      <td>NaN</td>\n",
       "      <td>Claremont, NH</td>\n",
       "      <td>NaN</td>\n",
       "      <td>NaN</td>\n",
       "      <td>11995.0</td>\n",
       "      <td>118113.0</td>\n",
       "      <td>Automatic</td>\n",
       "      <td>NaN</td>\n",
       "      <td>White</td>\n",
       "      <td>NaN</td>\n",
       "      <td>NaN</td>\n",
       "      <td>NaN</td>\n",
       "      <td>NaN</td>\n",
       "      <td>NaN</td>\n",
       "      <td>0</td>\n",
       "      <td>0</td>\n",
       "      <td>1.0</td>\n",
       "      <td>1.0</td>\n",
       "      <td>1863</td>\n",
       "      <td>NaN</td>\n",
       "    </tr>\n",
       "    <tr>\n",
       "      <th>2</th>\n",
       "      <td>m1</td>\n",
       "      <td>2010 Chevrolet Silverado 2500HD Work Truck Ext...</td>\n",
       "      <td>pickup_truck</td>\n",
       "      <td>NaN</td>\n",
       "      <td>Frankfort, KY</td>\n",
       "      <td>NaN</td>\n",
       "      <td>NaN</td>\n",
       "      <td>15900.0</td>\n",
       "      <td>144000.0</td>\n",
       "      <td>Automatic</td>\n",
       "      <td>Gasoline</td>\n",
       "      <td>White</td>\n",
       "      <td>Gray</td>\n",
       "      <td>4 doors</td>\n",
       "      <td>6 seats</td>\n",
       "      <td>V8</td>\n",
       "      <td>Four-Wheel Drive</td>\n",
       "      <td>2</td>\n",
       "      <td>0</td>\n",
       "      <td>0.0</td>\n",
       "      <td>2.0</td>\n",
       "      <td>1837</td>\n",
       "      <td>16900.0</td>\n",
       "    </tr>\n",
       "  </tbody>\n",
       "</table>\n",
       "</div>"
      ],
      "text/plain": [
       "  MakeId                                              Title     BodyStyle Rental       Location GasMileage_city GasMileage_highway    Price   Mileage Transmission  FuelType ExteriorColor InteriorColor DoorsNum MaximumSeating Engine        Drivetrain  OptionCount  Certified  Accident Check  OwnershipHistory  SellingDays  OriginPrice\n",
       "0     m1                     2007 Chevrolet Tahoe - $11,999           suv    NaN    Garland, TX             NaN                NaN  11999.0  129280.0    Automatic  Gasoline          Gold           NaN      NaN            NaN     V8               NaN            0          0             0.0               2.0         1873      12999.0\n",
       "1     m1                   2005 Chevrolet Express - $11,995           van    NaN  Claremont, NH             NaN                NaN  11995.0  118113.0    Automatic       NaN         White           NaN      NaN            NaN    NaN               NaN            0          0             1.0               1.0         1863          NaN\n",
       "2     m1  2010 Chevrolet Silverado 2500HD Work Truck Ext...  pickup_truck    NaN  Frankfort, KY             NaN                NaN  15900.0  144000.0    Automatic  Gasoline         White          Gray  4 doors        6 seats     V8  Four-Wheel Drive            2          0             0.0               2.0         1837      16900.0"
      ]
     },
     "execution_count": 18,
     "metadata": {},
     "output_type": "execute_result"
    }
   ],
   "source": [
    "data2.head(3)"
   ]
  },
  {
   "cell_type": "code",
   "execution_count": 19,
   "metadata": {},
   "outputs": [],
   "source": [
    "year = data2['Title'].str.split(' ', n=1, expand=True).iloc[:,0]"
   ]
  },
  {
   "cell_type": "code",
   "execution_count": 20,
   "metadata": {},
   "outputs": [],
   "source": [
    "data2.insert(0,'Year',year)"
   ]
  },
  {
   "cell_type": "code",
   "execution_count": 21,
   "metadata": {},
   "outputs": [
    {
     "data": {
      "text/html": [
       "<div>\n",
       "<style scoped>\n",
       "    .dataframe tbody tr th:only-of-type {\n",
       "        vertical-align: middle;\n",
       "    }\n",
       "\n",
       "    .dataframe tbody tr th {\n",
       "        vertical-align: top;\n",
       "    }\n",
       "\n",
       "    .dataframe thead th {\n",
       "        text-align: right;\n",
       "    }\n",
       "</style>\n",
       "<table border=\"1\" class=\"dataframe\">\n",
       "  <thead>\n",
       "    <tr style=\"text-align: right;\">\n",
       "      <th></th>\n",
       "      <th>Year</th>\n",
       "      <th>MakeId</th>\n",
       "      <th>Title</th>\n",
       "      <th>BodyStyle</th>\n",
       "      <th>Rental</th>\n",
       "      <th>Location</th>\n",
       "      <th>GasMileage_city</th>\n",
       "      <th>GasMileage_highway</th>\n",
       "      <th>Price</th>\n",
       "      <th>Mileage</th>\n",
       "      <th>Transmission</th>\n",
       "      <th>FuelType</th>\n",
       "      <th>ExteriorColor</th>\n",
       "      <th>InteriorColor</th>\n",
       "      <th>DoorsNum</th>\n",
       "      <th>MaximumSeating</th>\n",
       "      <th>Engine</th>\n",
       "      <th>Drivetrain</th>\n",
       "      <th>OptionCount</th>\n",
       "      <th>Certified</th>\n",
       "      <th>Accident Check</th>\n",
       "      <th>OwnershipHistory</th>\n",
       "      <th>SellingDays</th>\n",
       "      <th>OriginPrice</th>\n",
       "    </tr>\n",
       "  </thead>\n",
       "  <tbody>\n",
       "    <tr>\n",
       "      <th>0</th>\n",
       "      <td>2007</td>\n",
       "      <td>m1</td>\n",
       "      <td>2007 Chevrolet Tahoe - $11,999</td>\n",
       "      <td>suv</td>\n",
       "      <td>NaN</td>\n",
       "      <td>Garland, TX</td>\n",
       "      <td>NaN</td>\n",
       "      <td>NaN</td>\n",
       "      <td>11999.0</td>\n",
       "      <td>129280.0</td>\n",
       "      <td>Automatic</td>\n",
       "      <td>Gasoline</td>\n",
       "      <td>Gold</td>\n",
       "      <td>NaN</td>\n",
       "      <td>NaN</td>\n",
       "      <td>NaN</td>\n",
       "      <td>V8</td>\n",
       "      <td>NaN</td>\n",
       "      <td>0</td>\n",
       "      <td>0</td>\n",
       "      <td>0.0</td>\n",
       "      <td>2.0</td>\n",
       "      <td>1873</td>\n",
       "      <td>12999.0</td>\n",
       "    </tr>\n",
       "    <tr>\n",
       "      <th>1</th>\n",
       "      <td>2005</td>\n",
       "      <td>m1</td>\n",
       "      <td>2005 Chevrolet Express - $11,995</td>\n",
       "      <td>van</td>\n",
       "      <td>NaN</td>\n",
       "      <td>Claremont, NH</td>\n",
       "      <td>NaN</td>\n",
       "      <td>NaN</td>\n",
       "      <td>11995.0</td>\n",
       "      <td>118113.0</td>\n",
       "      <td>Automatic</td>\n",
       "      <td>NaN</td>\n",
       "      <td>White</td>\n",
       "      <td>NaN</td>\n",
       "      <td>NaN</td>\n",
       "      <td>NaN</td>\n",
       "      <td>NaN</td>\n",
       "      <td>NaN</td>\n",
       "      <td>0</td>\n",
       "      <td>0</td>\n",
       "      <td>1.0</td>\n",
       "      <td>1.0</td>\n",
       "      <td>1863</td>\n",
       "      <td>NaN</td>\n",
       "    </tr>\n",
       "    <tr>\n",
       "      <th>2</th>\n",
       "      <td>2010</td>\n",
       "      <td>m1</td>\n",
       "      <td>2010 Chevrolet Silverado 2500HD Work Truck Ext...</td>\n",
       "      <td>pickup_truck</td>\n",
       "      <td>NaN</td>\n",
       "      <td>Frankfort, KY</td>\n",
       "      <td>NaN</td>\n",
       "      <td>NaN</td>\n",
       "      <td>15900.0</td>\n",
       "      <td>144000.0</td>\n",
       "      <td>Automatic</td>\n",
       "      <td>Gasoline</td>\n",
       "      <td>White</td>\n",
       "      <td>Gray</td>\n",
       "      <td>4 doors</td>\n",
       "      <td>6 seats</td>\n",
       "      <td>V8</td>\n",
       "      <td>Four-Wheel Drive</td>\n",
       "      <td>2</td>\n",
       "      <td>0</td>\n",
       "      <td>0.0</td>\n",
       "      <td>2.0</td>\n",
       "      <td>1837</td>\n",
       "      <td>16900.0</td>\n",
       "    </tr>\n",
       "  </tbody>\n",
       "</table>\n",
       "</div>"
      ],
      "text/plain": [
       "   Year MakeId                                              Title     BodyStyle Rental       Location GasMileage_city GasMileage_highway    Price   Mileage Transmission  FuelType ExteriorColor InteriorColor DoorsNum MaximumSeating Engine        Drivetrain  OptionCount  Certified  Accident Check  OwnershipHistory  SellingDays  OriginPrice\n",
       "0  2007     m1                     2007 Chevrolet Tahoe - $11,999           suv    NaN    Garland, TX             NaN                NaN  11999.0  129280.0    Automatic  Gasoline          Gold           NaN      NaN            NaN     V8               NaN            0          0             0.0               2.0         1873      12999.0\n",
       "1  2005     m1                   2005 Chevrolet Express - $11,995           van    NaN  Claremont, NH             NaN                NaN  11995.0  118113.0    Automatic       NaN         White           NaN      NaN            NaN    NaN               NaN            0          0             1.0               1.0         1863          NaN\n",
       "2  2010     m1  2010 Chevrolet Silverado 2500HD Work Truck Ext...  pickup_truck    NaN  Frankfort, KY             NaN                NaN  15900.0  144000.0    Automatic  Gasoline         White          Gray  4 doors        6 seats     V8  Four-Wheel Drive            2          0             0.0               2.0         1837      16900.0"
      ]
     },
     "execution_count": 21,
     "metadata": {},
     "output_type": "execute_result"
    }
   ],
   "source": [
    "data2.head(3)"
   ]
  },
  {
   "cell_type": "code",
   "execution_count": 22,
   "metadata": {},
   "outputs": [],
   "source": [
    "data2['Title'] = data2['Title'].str.split(' ', n=1, expand=True).iloc[:,1]\n",
    "# 把 Title 中的 年 拿掉"
   ]
  },
  {
   "cell_type": "code",
   "execution_count": 23,
   "metadata": {},
   "outputs": [],
   "source": [
    "data2['Title'] = data2['Title'].str.split(' - ', n=1, expand=True).iloc[:,0]\n",
    "# 把 Title 中的 price 拿掉"
   ]
  },
  {
   "cell_type": "code",
   "execution_count": 24,
   "metadata": {},
   "outputs": [],
   "source": [
    "data2['Title'] = data2['Title'].str.split(' ', n=1, expand=True).iloc[:,0]\n",
    "# Title 只保留最基本的 牌子"
   ]
  },
  {
   "cell_type": "code",
   "execution_count": 25,
   "metadata": {},
   "outputs": [],
   "source": [
    "data2 = data2.rename(columns={\"Title\": \"Brand\"})"
   ]
  },
  {
   "cell_type": "code",
   "execution_count": 26,
   "metadata": {},
   "outputs": [],
   "source": [
    "data2 = data2.drop(columns=['MakeId'])"
   ]
  },
  {
   "cell_type": "code",
   "execution_count": 27,
   "metadata": {},
   "outputs": [
    {
     "data": {
      "text/html": [
       "<div>\n",
       "<style scoped>\n",
       "    .dataframe tbody tr th:only-of-type {\n",
       "        vertical-align: middle;\n",
       "    }\n",
       "\n",
       "    .dataframe tbody tr th {\n",
       "        vertical-align: top;\n",
       "    }\n",
       "\n",
       "    .dataframe thead th {\n",
       "        text-align: right;\n",
       "    }\n",
       "</style>\n",
       "<table border=\"1\" class=\"dataframe\">\n",
       "  <thead>\n",
       "    <tr style=\"text-align: right;\">\n",
       "      <th></th>\n",
       "      <th>Year</th>\n",
       "      <th>Brand</th>\n",
       "      <th>BodyStyle</th>\n",
       "      <th>Rental</th>\n",
       "      <th>Location</th>\n",
       "      <th>GasMileage_city</th>\n",
       "      <th>GasMileage_highway</th>\n",
       "      <th>Price</th>\n",
       "      <th>Mileage</th>\n",
       "      <th>Transmission</th>\n",
       "      <th>FuelType</th>\n",
       "      <th>ExteriorColor</th>\n",
       "      <th>InteriorColor</th>\n",
       "      <th>DoorsNum</th>\n",
       "      <th>MaximumSeating</th>\n",
       "      <th>Engine</th>\n",
       "      <th>Drivetrain</th>\n",
       "      <th>OptionCount</th>\n",
       "      <th>Certified</th>\n",
       "      <th>Accident Check</th>\n",
       "      <th>OwnershipHistory</th>\n",
       "      <th>SellingDays</th>\n",
       "      <th>OriginPrice</th>\n",
       "    </tr>\n",
       "  </thead>\n",
       "  <tbody>\n",
       "    <tr>\n",
       "      <th>0</th>\n",
       "      <td>2007</td>\n",
       "      <td>Chevrolet</td>\n",
       "      <td>suv</td>\n",
       "      <td>NaN</td>\n",
       "      <td>Garland, TX</td>\n",
       "      <td>NaN</td>\n",
       "      <td>NaN</td>\n",
       "      <td>11999.0</td>\n",
       "      <td>129280.0</td>\n",
       "      <td>Automatic</td>\n",
       "      <td>Gasoline</td>\n",
       "      <td>Gold</td>\n",
       "      <td>NaN</td>\n",
       "      <td>NaN</td>\n",
       "      <td>NaN</td>\n",
       "      <td>V8</td>\n",
       "      <td>NaN</td>\n",
       "      <td>0</td>\n",
       "      <td>0</td>\n",
       "      <td>0.0</td>\n",
       "      <td>2.0</td>\n",
       "      <td>1873</td>\n",
       "      <td>12999.0</td>\n",
       "    </tr>\n",
       "    <tr>\n",
       "      <th>1</th>\n",
       "      <td>2005</td>\n",
       "      <td>Chevrolet</td>\n",
       "      <td>van</td>\n",
       "      <td>NaN</td>\n",
       "      <td>Claremont, NH</td>\n",
       "      <td>NaN</td>\n",
       "      <td>NaN</td>\n",
       "      <td>11995.0</td>\n",
       "      <td>118113.0</td>\n",
       "      <td>Automatic</td>\n",
       "      <td>NaN</td>\n",
       "      <td>White</td>\n",
       "      <td>NaN</td>\n",
       "      <td>NaN</td>\n",
       "      <td>NaN</td>\n",
       "      <td>NaN</td>\n",
       "      <td>NaN</td>\n",
       "      <td>0</td>\n",
       "      <td>0</td>\n",
       "      <td>1.0</td>\n",
       "      <td>1.0</td>\n",
       "      <td>1863</td>\n",
       "      <td>NaN</td>\n",
       "    </tr>\n",
       "    <tr>\n",
       "      <th>2</th>\n",
       "      <td>2010</td>\n",
       "      <td>Chevrolet</td>\n",
       "      <td>pickup_truck</td>\n",
       "      <td>NaN</td>\n",
       "      <td>Frankfort, KY</td>\n",
       "      <td>NaN</td>\n",
       "      <td>NaN</td>\n",
       "      <td>15900.0</td>\n",
       "      <td>144000.0</td>\n",
       "      <td>Automatic</td>\n",
       "      <td>Gasoline</td>\n",
       "      <td>White</td>\n",
       "      <td>Gray</td>\n",
       "      <td>4 doors</td>\n",
       "      <td>6 seats</td>\n",
       "      <td>V8</td>\n",
       "      <td>Four-Wheel Drive</td>\n",
       "      <td>2</td>\n",
       "      <td>0</td>\n",
       "      <td>0.0</td>\n",
       "      <td>2.0</td>\n",
       "      <td>1837</td>\n",
       "      <td>16900.0</td>\n",
       "    </tr>\n",
       "  </tbody>\n",
       "</table>\n",
       "</div>"
      ],
      "text/plain": [
       "   Year      Brand     BodyStyle Rental       Location GasMileage_city GasMileage_highway    Price   Mileage Transmission  FuelType ExteriorColor InteriorColor DoorsNum MaximumSeating Engine        Drivetrain  OptionCount  Certified  Accident Check  OwnershipHistory  SellingDays  OriginPrice\n",
       "0  2007  Chevrolet           suv    NaN    Garland, TX             NaN                NaN  11999.0  129280.0    Automatic  Gasoline          Gold           NaN      NaN            NaN     V8               NaN            0          0             0.0               2.0         1873      12999.0\n",
       "1  2005  Chevrolet           van    NaN  Claremont, NH             NaN                NaN  11995.0  118113.0    Automatic       NaN         White           NaN      NaN            NaN    NaN               NaN            0          0             1.0               1.0         1863          NaN\n",
       "2  2010  Chevrolet  pickup_truck    NaN  Frankfort, KY             NaN                NaN  15900.0  144000.0    Automatic  Gasoline         White          Gray  4 doors        6 seats     V8  Four-Wheel Drive            2          0             0.0               2.0         1837      16900.0"
      ]
     },
     "execution_count": 27,
     "metadata": {},
     "output_type": "execute_result"
    }
   ],
   "source": [
    "data2.head(3)"
   ]
  },
  {
   "cell_type": "code",
   "execution_count": 28,
   "metadata": {},
   "outputs": [
    {
     "data": {
      "text/plain": [
       "(2242856, 23)"
      ]
     },
     "execution_count": 28,
     "metadata": {},
     "output_type": "execute_result"
    }
   ],
   "source": [
    "data2.shape"
   ]
  },
  {
   "cell_type": "code",
   "execution_count": null,
   "metadata": {},
   "outputs": [],
   "source": []
  },
  {
   "cell_type": "markdown",
   "metadata": {},
   "source": [
    "----------------------------------------------------------------------"
   ]
  },
  {
   "cell_type": "code",
   "execution_count": 29,
   "metadata": {},
   "outputs": [],
   "source": [
    "data2 = data2.drop(columns=['ExteriorColor', 'InteriorColor'])"
   ]
  },
  {
   "cell_type": "code",
   "execution_count": 30,
   "metadata": {},
   "outputs": [
    {
     "data": {
      "text/plain": [
       "(2242856, 21)"
      ]
     },
     "execution_count": 30,
     "metadata": {},
     "output_type": "execute_result"
    }
   ],
   "source": [
    "data2.shape"
   ]
  },
  {
   "cell_type": "markdown",
   "metadata": {},
   "source": [
    "--------------------------------------------------------------"
   ]
  },
  {
   "cell_type": "code",
   "execution_count": 31,
   "metadata": {},
   "outputs": [
    {
     "data": {
      "text/plain": [
       "array(['AM', 'Acura', 'Alfa', 'Aston', 'Audi', 'BMW', 'Bentley', 'Buick',\n",
       "       'Cadillac', 'Chevrolet', 'Chrysler', 'Dodge', 'FIAT', 'Ferrari',\n",
       "       'Ford', 'GMC', 'Genesis', 'Honda', 'Hummer', 'Hyundai', 'INFINITI',\n",
       "       'Isuzu', 'Jaguar', 'Jeep', 'Kia', 'Lamborghini', 'Land', 'Lexus',\n",
       "       'Lincoln', 'MINI', 'Maserati', 'Mazda', 'McLaren', 'Mercedes-Benz',\n",
       "       'Mercury', 'Mitsubishi', 'Nissan', 'Oldsmobile', 'Plymouth',\n",
       "       'Pontiac', 'Porsche', 'Ram', 'Rolls-Royce', 'SRT', 'Saab',\n",
       "       'Saturn', 'Scion', 'Shelby', 'Subaru', 'Suzuki', 'Tesla', 'Toyota',\n",
       "       'Volkswagen', 'Volvo', 'smart'], dtype=object)"
      ]
     },
     "execution_count": 31,
     "metadata": {},
     "output_type": "execute_result"
    }
   ],
   "source": [
    "np.unique(data2['Brand'])"
   ]
  },
  {
   "cell_type": "code",
   "execution_count": 32,
   "metadata": {},
   "outputs": [
    {
     "data": {
      "text/plain": [
       "55"
      ]
     },
     "execution_count": 32,
     "metadata": {},
     "output_type": "execute_result"
    }
   ],
   "source": [
    "len(np.unique(data2['Brand']))"
   ]
  },
  {
   "cell_type": "code",
   "execution_count": 33,
   "metadata": {},
   "outputs": [
    {
     "data": {
      "text/plain": [
       "Brand\n",
       "AM                    1\n",
       "Acura             24019\n",
       "Alfa               1199\n",
       "Aston               616\n",
       "Audi              39121\n",
       "BMW               75526\n",
       "Bentley            1504\n",
       "Buick             33314\n",
       "Cadillac          35953\n",
       "Chevrolet        274936\n",
       "Chrysler          36095\n",
       "Dodge             99176\n",
       "FIAT               3908\n",
       "Ferrari            1725\n",
       "Ford             307654\n",
       "GMC               93653\n",
       "Genesis            1097\n",
       "Honda            117264\n",
       "Hummer             1962\n",
       "Hyundai           91673\n",
       "INFINITI          27279\n",
       "Isuzu               211\n",
       "Jaguar             6784\n",
       "Jeep             131427\n",
       "Kia               65029\n",
       "Lamborghini         644\n",
       "Land              13712\n",
       "Lexus             48060\n",
       "Lincoln           20398\n",
       "MINI              10174\n",
       "Maserati           2674\n",
       "Mazda             31360\n",
       "McLaren             445\n",
       "Mercedes-Benz     70330\n",
       "Mercury            2923\n",
       "Mitsubishi        12572\n",
       "Nissan           157142\n",
       "Oldsmobile          699\n",
       "Plymouth            373\n",
       "Pontiac            5783\n",
       "Porsche           14651\n",
       "Ram               69140\n",
       "Rolls-Royce         578\n",
       "SRT                  36\n",
       "Saab                807\n",
       "Saturn             2817\n",
       "Scion              4410\n",
       "Shelby               89\n",
       "Subaru            46504\n",
       "Suzuki              825\n",
       "Tesla              1105\n",
       "Toyota           184012\n",
       "Volkswagen        56298\n",
       "Volvo             12596\n",
       "smart               573\n",
       "dtype: int64"
      ]
     },
     "execution_count": 33,
     "metadata": {},
     "output_type": "execute_result"
    }
   ],
   "source": [
    "data2.groupby(by='Brand').size()"
   ]
  },
  {
   "cell_type": "code",
   "execution_count": 34,
   "metadata": {},
   "outputs": [
    {
     "data": {
      "text/html": [
       "<div>\n",
       "<style scoped>\n",
       "    .dataframe tbody tr th:only-of-type {\n",
       "        vertical-align: middle;\n",
       "    }\n",
       "\n",
       "    .dataframe tbody tr th {\n",
       "        vertical-align: top;\n",
       "    }\n",
       "\n",
       "    .dataframe thead th {\n",
       "        text-align: right;\n",
       "    }\n",
       "</style>\n",
       "<table border=\"1\" class=\"dataframe\">\n",
       "  <thead>\n",
       "    <tr style=\"text-align: right;\">\n",
       "      <th></th>\n",
       "      <th>Year</th>\n",
       "      <th>Brand</th>\n",
       "      <th>BodyStyle</th>\n",
       "      <th>Rental</th>\n",
       "      <th>Location</th>\n",
       "      <th>GasMileage_city</th>\n",
       "      <th>GasMileage_highway</th>\n",
       "      <th>Price</th>\n",
       "      <th>Mileage</th>\n",
       "      <th>Transmission</th>\n",
       "      <th>FuelType</th>\n",
       "      <th>DoorsNum</th>\n",
       "      <th>MaximumSeating</th>\n",
       "      <th>Engine</th>\n",
       "      <th>Drivetrain</th>\n",
       "      <th>OptionCount</th>\n",
       "      <th>Certified</th>\n",
       "      <th>Accident Check</th>\n",
       "      <th>OwnershipHistory</th>\n",
       "      <th>SellingDays</th>\n",
       "      <th>OriginPrice</th>\n",
       "    </tr>\n",
       "  </thead>\n",
       "  <tbody>\n",
       "    <tr>\n",
       "      <th>1235578</th>\n",
       "      <td>1993</td>\n",
       "      <td>AM</td>\n",
       "      <td>suv</td>\n",
       "      <td>NaN</td>\n",
       "      <td>Garland, TX</td>\n",
       "      <td>NaN</td>\n",
       "      <td>NaN</td>\n",
       "      <td>34988.0</td>\n",
       "      <td>94302.0</td>\n",
       "      <td>Automatic</td>\n",
       "      <td>NaN</td>\n",
       "      <td>NaN</td>\n",
       "      <td>NaN</td>\n",
       "      <td>NaN</td>\n",
       "      <td>NaN</td>\n",
       "      <td>0</td>\n",
       "      <td>0</td>\n",
       "      <td>0.0</td>\n",
       "      <td>4.0</td>\n",
       "      <td>27</td>\n",
       "      <td>39988.0</td>\n",
       "    </tr>\n",
       "  </tbody>\n",
       "</table>\n",
       "</div>"
      ],
      "text/plain": [
       "         Year Brand BodyStyle Rental     Location GasMileage_city GasMileage_highway    Price  Mileage Transmission FuelType DoorsNum MaximumSeating Engine Drivetrain  OptionCount  Certified  Accident Check  OwnershipHistory  SellingDays  OriginPrice\n",
       "1235578  1993    AM       suv    NaN  Garland, TX             NaN                NaN  34988.0  94302.0    Automatic      NaN      NaN            NaN    NaN        NaN            0          0             0.0               4.0           27      39988.0"
      ]
     },
     "execution_count": 34,
     "metadata": {},
     "output_type": "execute_result"
    }
   ],
   "source": [
    "data2[data2['Brand'] == 'AM']"
   ]
  },
  {
   "cell_type": "code",
   "execution_count": 35,
   "metadata": {},
   "outputs": [],
   "source": [
    "data2 = data2.drop(index=1235578)"
   ]
  },
  {
   "cell_type": "code",
   "execution_count": 36,
   "metadata": {},
   "outputs": [
    {
     "data": {
      "text/plain": [
       "54"
      ]
     },
     "execution_count": 36,
     "metadata": {},
     "output_type": "execute_result"
    }
   ],
   "source": [
    "len(np.unique(data2['Brand']))"
   ]
  },
  {
   "cell_type": "code",
   "execution_count": null,
   "metadata": {},
   "outputs": [],
   "source": []
  },
  {
   "cell_type": "markdown",
   "metadata": {},
   "source": [
    "---------------------------------------------------------------------"
   ]
  },
  {
   "cell_type": "code",
   "execution_count": 37,
   "metadata": {},
   "outputs": [],
   "source": [
    "brands = np.unique(data2['Brand'])"
   ]
  },
  {
   "cell_type": "code",
   "execution_count": 38,
   "metadata": {},
   "outputs": [],
   "source": [
    "data3 = pd.DataFrame()"
   ]
  },
  {
   "cell_type": "code",
   "execution_count": 39,
   "metadata": {},
   "outputs": [
    {
     "name": "stderr",
     "output_type": "stream",
     "text": [
      "c:\\program files\\python37\\lib\\site-packages\\pandas\\core\\indexing.py:494: SettingWithCopyWarning: \n",
      "A value is trying to be set on a copy of a slice from a DataFrame.\n",
      "Try using .loc[row_indexer,col_indexer] = value instead\n",
      "\n",
      "See the caveats in the documentation: http://pandas.pydata.org/pandas-docs/stable/user_guide/indexing.html#returning-a-view-versus-a-copy\n",
      "  self.obj[item] = s\n"
     ]
    }
   ],
   "source": [
    "for id in brands:\n",
    "    part = data2[data2.loc[:,'Brand'] == id]\n",
    "    most_frequent = part.groupby(by='BodyStyle').size().sort_values(ascending=False).index[0]\n",
    "    part.loc[:,'BodyStyle'] = part.loc[:,'BodyStyle'].fillna(value=most_frequent)\n",
    "    data3 = data3.append(part)"
   ]
  },
  {
   "cell_type": "code",
   "execution_count": 40,
   "metadata": {},
   "outputs": [
    {
     "data": {
      "text/plain": [
       "Year                        0\n",
       "Brand                       0\n",
       "BodyStyle                   0\n",
       "Rental                1859809\n",
       "Location                    0\n",
       "GasMileage_city        429499\n",
       "GasMileage_highway     429499\n",
       "Price                       0\n",
       "Mileage                 24023\n",
       "Transmission            35270\n",
       "FuelType                51539\n",
       "DoorsNum              1084343\n",
       "MaximumSeating         100475\n",
       "Engine                  56188\n",
       "Drivetrain             100520\n",
       "OptionCount                 0\n",
       "Certified                   0\n",
       "Accident Check          28827\n",
       "OwnershipHistory        63847\n",
       "SellingDays                 0\n",
       "OriginPrice            997577\n",
       "dtype: int64"
      ]
     },
     "execution_count": 40,
     "metadata": {},
     "output_type": "execute_result"
    }
   ],
   "source": [
    "data3.isnull().sum()"
   ]
  },
  {
   "cell_type": "code",
   "execution_count": null,
   "metadata": {},
   "outputs": [],
   "source": []
  },
  {
   "cell_type": "markdown",
   "metadata": {},
   "source": [
    "-------------------------------------------"
   ]
  },
  {
   "cell_type": "code",
   "execution_count": 41,
   "metadata": {},
   "outputs": [
    {
     "data": {
      "text/plain": [
       "(2242855, 21)"
      ]
     },
     "execution_count": 41,
     "metadata": {},
     "output_type": "execute_result"
    }
   ],
   "source": [
    "data2.shape"
   ]
  },
  {
   "cell_type": "code",
   "execution_count": 42,
   "metadata": {},
   "outputs": [],
   "source": [
    "data2 = None"
   ]
  },
  {
   "cell_type": "code",
   "execution_count": 43,
   "metadata": {},
   "outputs": [],
   "source": [
    "data2"
   ]
  },
  {
   "cell_type": "code",
   "execution_count": 44,
   "metadata": {},
   "outputs": [
    {
     "data": {
      "text/plain": [
       "(2242855, 21)"
      ]
     },
     "execution_count": 44,
     "metadata": {},
     "output_type": "execute_result"
    }
   ],
   "source": [
    "data3.shape"
   ]
  },
  {
   "cell_type": "markdown",
   "metadata": {},
   "source": [
    "--------------------------------------------------"
   ]
  },
  {
   "cell_type": "markdown",
   "metadata": {},
   "source": [
    "##### 補  Rental"
   ]
  },
  {
   "cell_type": "code",
   "execution_count": 45,
   "metadata": {},
   "outputs": [],
   "source": [
    "def fillRental(x, third_quantile):\n",
    "    if x.Rental != True:\n",
    "        if x.Mileage > third_quantile:\n",
    "            return True\n",
    "        else:\n",
    "            return False\n",
    "    else:\n",
    "        return True"
   ]
  },
  {
   "cell_type": "code",
   "execution_count": 46,
   "metadata": {},
   "outputs": [
    {
     "data": {
      "text/plain": [
       "array(['Acura', 'Alfa', 'Aston', 'Audi', 'BMW', 'Bentley', 'Buick',\n",
       "       'Cadillac', 'Chevrolet', 'Chrysler', 'Dodge', 'FIAT', 'Ferrari',\n",
       "       'Ford', 'GMC', 'Genesis', 'Honda', 'Hummer', 'Hyundai', 'INFINITI',\n",
       "       'Isuzu', 'Jaguar', 'Jeep', 'Kia', 'Lamborghini', 'Land', 'Lexus',\n",
       "       'Lincoln', 'MINI', 'Maserati', 'Mazda', 'McLaren', 'Mercedes-Benz',\n",
       "       'Mercury', 'Mitsubishi', 'Nissan', 'Oldsmobile', 'Plymouth',\n",
       "       'Pontiac', 'Porsche', 'Ram', 'Rolls-Royce', 'SRT', 'Saab',\n",
       "       'Saturn', 'Scion', 'Shelby', 'Subaru', 'Suzuki', 'Tesla', 'Toyota',\n",
       "       'Volkswagen', 'Volvo', 'smart'], dtype=object)"
      ]
     },
     "execution_count": 46,
     "metadata": {},
     "output_type": "execute_result"
    }
   ],
   "source": [
    "brands"
   ]
  },
  {
   "cell_type": "code",
   "execution_count": 47,
   "metadata": {},
   "outputs": [],
   "source": [
    "for id in brands:\n",
    "    brand_index = data3['Brand'] == id\n",
    "    part = data3.loc[brand_index,:]\n",
    "    third_quantile = part.Mileage.quantile(0.75)\n",
    "    part.loc[:,'Rental'] = part.apply(lambda x:fillRental(x, third_quantile), axis=1)\n",
    "    \n",
    "    data3.loc[brand_index, 'Rental'] = part.loc[:, 'Rental']\n",
    "    \n",
    "#     new_data2 = new_data2.append(part)"
   ]
  },
  {
   "cell_type": "code",
   "execution_count": 48,
   "metadata": {},
   "outputs": [
    {
     "data": {
      "text/plain": [
       "0"
      ]
     },
     "execution_count": 48,
     "metadata": {},
     "output_type": "execute_result"
    }
   ],
   "source": [
    "data3.loc[:,'Rental'].isnull().sum()"
   ]
  },
  {
   "cell_type": "code",
   "execution_count": null,
   "metadata": {},
   "outputs": [],
   "source": []
  },
  {
   "cell_type": "markdown",
   "metadata": {},
   "source": [
    "-------------------------------------------------"
   ]
  },
  {
   "cell_type": "code",
   "execution_count": 49,
   "metadata": {},
   "outputs": [
    {
     "data": {
      "text/html": [
       "<div>\n",
       "<style scoped>\n",
       "    .dataframe tbody tr th:only-of-type {\n",
       "        vertical-align: middle;\n",
       "    }\n",
       "\n",
       "    .dataframe tbody tr th {\n",
       "        vertical-align: top;\n",
       "    }\n",
       "\n",
       "    .dataframe thead th {\n",
       "        text-align: right;\n",
       "    }\n",
       "</style>\n",
       "<table border=\"1\" class=\"dataframe\">\n",
       "  <thead>\n",
       "    <tr style=\"text-align: right;\">\n",
       "      <th></th>\n",
       "      <th>Year</th>\n",
       "      <th>Brand</th>\n",
       "      <th>BodyStyle</th>\n",
       "      <th>Rental</th>\n",
       "      <th>Location</th>\n",
       "      <th>GasMileage_city</th>\n",
       "      <th>GasMileage_highway</th>\n",
       "      <th>Price</th>\n",
       "      <th>Mileage</th>\n",
       "      <th>Transmission</th>\n",
       "      <th>FuelType</th>\n",
       "      <th>DoorsNum</th>\n",
       "      <th>MaximumSeating</th>\n",
       "      <th>Engine</th>\n",
       "      <th>Drivetrain</th>\n",
       "      <th>OptionCount</th>\n",
       "      <th>Certified</th>\n",
       "      <th>Accident Check</th>\n",
       "      <th>OwnershipHistory</th>\n",
       "      <th>SellingDays</th>\n",
       "      <th>OriginPrice</th>\n",
       "    </tr>\n",
       "  </thead>\n",
       "  <tbody>\n",
       "    <tr>\n",
       "      <th>1711787</th>\n",
       "      <td>2010</td>\n",
       "      <td>Acura</td>\n",
       "      <td>sedan</td>\n",
       "      <td>True</td>\n",
       "      <td>Garland, TX</td>\n",
       "      <td>NaN</td>\n",
       "      <td>NaN</td>\n",
       "      <td>9499.0</td>\n",
       "      <td>119655.0</td>\n",
       "      <td>Automatic</td>\n",
       "      <td>Gasoline</td>\n",
       "      <td>NaN</td>\n",
       "      <td>NaN</td>\n",
       "      <td>I4</td>\n",
       "      <td>NaN</td>\n",
       "      <td>3</td>\n",
       "      <td>0</td>\n",
       "      <td>0.0</td>\n",
       "      <td>1.0</td>\n",
       "      <td>1690</td>\n",
       "      <td>11999.0</td>\n",
       "    </tr>\n",
       "    <tr>\n",
       "      <th>1711788</th>\n",
       "      <td>1999</td>\n",
       "      <td>Acura</td>\n",
       "      <td>sedan</td>\n",
       "      <td>False</td>\n",
       "      <td>Fredericksburg, VA</td>\n",
       "      <td>16 MPG City</td>\n",
       "      <td>22 MPG Highway</td>\n",
       "      <td>5495.0</td>\n",
       "      <td>62399.0</td>\n",
       "      <td>4-Speed Automatic</td>\n",
       "      <td>Gasoline</td>\n",
       "      <td>4 doors</td>\n",
       "      <td>5 seats</td>\n",
       "      <td>V6</td>\n",
       "      <td>Front-Wheel Drive</td>\n",
       "      <td>2</td>\n",
       "      <td>0</td>\n",
       "      <td>0.0</td>\n",
       "      <td>1.0</td>\n",
       "      <td>1574</td>\n",
       "      <td>6995.0</td>\n",
       "    </tr>\n",
       "    <tr>\n",
       "      <th>1711789</th>\n",
       "      <td>2006</td>\n",
       "      <td>Acura</td>\n",
       "      <td>sedan</td>\n",
       "      <td>True</td>\n",
       "      <td>Mesa, AZ</td>\n",
       "      <td>NaN</td>\n",
       "      <td>NaN</td>\n",
       "      <td>6900.0</td>\n",
       "      <td>116235.0</td>\n",
       "      <td>Automatic</td>\n",
       "      <td>Gasoline</td>\n",
       "      <td>NaN</td>\n",
       "      <td>NaN</td>\n",
       "      <td>V6</td>\n",
       "      <td>NaN</td>\n",
       "      <td>4</td>\n",
       "      <td>0</td>\n",
       "      <td>1.0</td>\n",
       "      <td>2.0</td>\n",
       "      <td>1542</td>\n",
       "      <td>10500.0</td>\n",
       "    </tr>\n",
       "  </tbody>\n",
       "</table>\n",
       "</div>"
      ],
      "text/plain": [
       "         Year  Brand BodyStyle  Rental            Location GasMileage_city GasMileage_highway   Price   Mileage       Transmission  FuelType DoorsNum MaximumSeating Engine         Drivetrain  OptionCount  Certified  Accident Check  OwnershipHistory  SellingDays  OriginPrice\n",
       "1711787  2010  Acura     sedan    True         Garland, TX             NaN                NaN  9499.0  119655.0          Automatic  Gasoline      NaN            NaN     I4                NaN            3          0             0.0               1.0         1690      11999.0\n",
       "1711788  1999  Acura     sedan   False  Fredericksburg, VA     16 MPG City     22 MPG Highway  5495.0   62399.0  4-Speed Automatic  Gasoline  4 doors        5 seats     V6  Front-Wheel Drive            2          0             0.0               1.0         1574       6995.0\n",
       "1711789  2006  Acura     sedan    True            Mesa, AZ             NaN                NaN  6900.0  116235.0          Automatic  Gasoline      NaN            NaN     V6                NaN            4          0             1.0               2.0         1542      10500.0"
      ]
     },
     "execution_count": 49,
     "metadata": {},
     "output_type": "execute_result"
    }
   ],
   "source": [
    "data3.head(3)"
   ]
  },
  {
   "cell_type": "code",
   "execution_count": 50,
   "metadata": {},
   "outputs": [
    {
     "data": {
      "text/plain": [
       "(2242855, 21)"
      ]
     },
     "execution_count": 50,
     "metadata": {},
     "output_type": "execute_result"
    }
   ],
   "source": [
    "data3.shape"
   ]
  },
  {
   "cell_type": "code",
   "execution_count": 51,
   "metadata": {},
   "outputs": [
    {
     "data": {
      "text/plain": [
       "Year                        0\n",
       "Brand                       0\n",
       "BodyStyle                   0\n",
       "Rental                      0\n",
       "Location                    0\n",
       "GasMileage_city        429499\n",
       "GasMileage_highway     429499\n",
       "Price                       0\n",
       "Mileage                 24023\n",
       "Transmission            35270\n",
       "FuelType                51539\n",
       "DoorsNum              1084343\n",
       "MaximumSeating         100475\n",
       "Engine                  56188\n",
       "Drivetrain             100520\n",
       "OptionCount                 0\n",
       "Certified                   0\n",
       "Accident Check          28827\n",
       "OwnershipHistory        63847\n",
       "SellingDays                 0\n",
       "OriginPrice            997577\n",
       "dtype: int64"
      ]
     },
     "execution_count": 51,
     "metadata": {},
     "output_type": "execute_result"
    }
   ],
   "source": [
    "data3.isnull().sum()"
   ]
  },
  {
   "cell_type": "code",
   "execution_count": 52,
   "metadata": {},
   "outputs": [],
   "source": [
    "data3 = data3.dropna(subset=['Engine'])"
   ]
  },
  {
   "cell_type": "code",
   "execution_count": 53,
   "metadata": {},
   "outputs": [
    {
     "data": {
      "text/plain": [
       "Year                        0\n",
       "Brand                       0\n",
       "BodyStyle                   0\n",
       "Rental                      0\n",
       "Location                    0\n",
       "GasMileage_city        376503\n",
       "GasMileage_highway     376503\n",
       "Price                       0\n",
       "Mileage                 21071\n",
       "Transmission            31559\n",
       "FuelType                    0\n",
       "DoorsNum              1048107\n",
       "MaximumSeating          82850\n",
       "Engine                      0\n",
       "Drivetrain              82695\n",
       "OptionCount                 0\n",
       "Certified                   0\n",
       "Accident Check          19315\n",
       "OwnershipHistory        53542\n",
       "SellingDays                 0\n",
       "OriginPrice            969134\n",
       "dtype: int64"
      ]
     },
     "execution_count": 53,
     "metadata": {},
     "output_type": "execute_result"
    }
   ],
   "source": [
    "data3.isnull().sum()"
   ]
  },
  {
   "cell_type": "code",
   "execution_count": 54,
   "metadata": {},
   "outputs": [],
   "source": [
    "data3 = data3.dropna(axis=0, subset=['GasMileage_city'])"
   ]
  },
  {
   "cell_type": "code",
   "execution_count": 55,
   "metadata": {},
   "outputs": [
    {
     "data": {
      "text/plain": [
       "Year                       0\n",
       "Brand                      0\n",
       "BodyStyle                  0\n",
       "Rental                     0\n",
       "Location                   0\n",
       "GasMileage_city            0\n",
       "GasMileage_highway         0\n",
       "Price                      0\n",
       "Mileage                16392\n",
       "Transmission           10847\n",
       "FuelType                   0\n",
       "DoorsNum              840097\n",
       "MaximumSeating             5\n",
       "Engine                     0\n",
       "Drivetrain                 0\n",
       "OptionCount                0\n",
       "Certified                  0\n",
       "Accident Check         15660\n",
       "OwnershipHistory       42974\n",
       "SellingDays                0\n",
       "OriginPrice           794455\n",
       "dtype: int64"
      ]
     },
     "execution_count": 55,
     "metadata": {},
     "output_type": "execute_result"
    }
   ],
   "source": [
    "data3.isnull().sum()"
   ]
  },
  {
   "cell_type": "code",
   "execution_count": null,
   "metadata": {},
   "outputs": [],
   "source": []
  },
  {
   "cell_type": "markdown",
   "metadata": {},
   "source": [
    "------------------------------------------------"
   ]
  },
  {
   "cell_type": "markdown",
   "metadata": {},
   "source": [
    "##### Transmission"
   ]
  },
  {
   "cell_type": "code",
   "execution_count": 56,
   "metadata": {},
   "outputs": [
    {
     "data": {
      "text/plain": [
       "52"
      ]
     },
     "execution_count": 56,
     "metadata": {},
     "output_type": "execute_result"
    }
   ],
   "source": [
    "len(np.unique(data3['Brand']))"
   ]
  },
  {
   "cell_type": "code",
   "execution_count": 57,
   "metadata": {},
   "outputs": [],
   "source": [
    "brands = np.unique(data3['Brand'])"
   ]
  },
  {
   "cell_type": "code",
   "execution_count": 58,
   "metadata": {},
   "outputs": [],
   "source": [
    "for id in brands:\n",
    "    brand_index = data3['Brand'] == id\n",
    "    part = data3.loc[brand_index,:]\n",
    "    \n",
    "    most = part.groupby(by='Transmission').size().sort_values(ascending=False).index[0]\n",
    "    \n",
    "    need_fill = part.loc[:,'Transmission'].isnull()\n",
    "    \n",
    "    part.loc[need_fill, 'Transmission'] = part.loc[need_fill,'Transmission'].fillna(value=most)\n",
    "    \n",
    "    data3.loc[brand_index, 'Transmission'] = part.loc[:, 'Transmission']\n",
    "    \n",
    "    \n",
    "#     part.loc[:,'Transmission'] = part.loc[:,'Transmission'].fillna(value=most)\n",
    "    \n",
    "#     data3.loc[brand_index, 'Transmission'] = part.loc[:, 'Transmission']"
   ]
  },
  {
   "cell_type": "code",
   "execution_count": 59,
   "metadata": {},
   "outputs": [
    {
     "data": {
      "text/plain": [
       "0"
      ]
     },
     "execution_count": 59,
     "metadata": {},
     "output_type": "execute_result"
    }
   ],
   "source": [
    "data3.loc[:, 'Transmission'].isnull().sum()"
   ]
  },
  {
   "cell_type": "code",
   "execution_count": 60,
   "metadata": {},
   "outputs": [
    {
     "data": {
      "text/plain": [
       "1711788      4-Speed Automatic\n",
       "1711790              Automatic\n",
       "1711792      5-Speed Automatic\n",
       "1711794      6-Speed Automatic\n",
       "1711795      5-Speed Automatic\n",
       "                  ...         \n",
       "294307               Automatic\n",
       "294313               Automatic\n",
       "294314               Automatic\n",
       "294322     6-Speed Dual Clutch\n",
       "294327               Automatic\n",
       "Name: Transmission, Length: 1810164, dtype: object"
      ]
     },
     "execution_count": 60,
     "metadata": {},
     "output_type": "execute_result"
    }
   ],
   "source": [
    "data3.loc[:, 'Transmission']"
   ]
  },
  {
   "cell_type": "code",
   "execution_count": null,
   "metadata": {},
   "outputs": [],
   "source": []
  },
  {
   "cell_type": "markdown",
   "metadata": {},
   "source": [
    "------------------------------------------------------------"
   ]
  },
  {
   "cell_type": "code",
   "execution_count": 61,
   "metadata": {},
   "outputs": [
    {
     "data": {
      "text/plain": [
       "Year                       0\n",
       "Brand                      0\n",
       "BodyStyle                  0\n",
       "Rental                     0\n",
       "Location                   0\n",
       "GasMileage_city            0\n",
       "GasMileage_highway         0\n",
       "Price                      0\n",
       "Mileage                16392\n",
       "Transmission               0\n",
       "FuelType                   0\n",
       "DoorsNum              840097\n",
       "MaximumSeating             5\n",
       "Engine                     0\n",
       "Drivetrain                 0\n",
       "OptionCount                0\n",
       "Certified                  0\n",
       "Accident Check         15660\n",
       "OwnershipHistory       42974\n",
       "SellingDays                0\n",
       "OriginPrice           794455\n",
       "dtype: int64"
      ]
     },
     "execution_count": 61,
     "metadata": {},
     "output_type": "execute_result"
    }
   ],
   "source": [
    "data3.isnull().sum()"
   ]
  },
  {
   "cell_type": "code",
   "execution_count": 62,
   "metadata": {},
   "outputs": [
    {
     "data": {
      "text/plain": [
       "52"
      ]
     },
     "execution_count": 62,
     "metadata": {},
     "output_type": "execute_result"
    }
   ],
   "source": [
    "len(np.unique(data3['Brand']))"
   ]
  },
  {
   "cell_type": "code",
   "execution_count": 63,
   "metadata": {},
   "outputs": [],
   "source": [
    "for id in brands:\n",
    "    if id == 'Genesis':\n",
    "        pass\n",
    "    else:\n",
    "        brand_index = data3['Brand'] == id\n",
    "        part = data3.loc[brand_index,:]\n",
    "\n",
    "        most = part.groupby(by='DoorsNum').size().sort_values(ascending=False).index[0]\n",
    "\n",
    "        need_fill = part.loc[:,'DoorsNum'].isnull()\n",
    "\n",
    "        part.loc[need_fill, 'DoorsNum'] = part.loc[need_fill,'DoorsNum'].fillna(value=most)\n",
    "\n",
    "        data3.loc[brand_index, 'DoorsNum'] = part.loc[:, 'DoorsNum']"
   ]
  },
  {
   "cell_type": "code",
   "execution_count": 64,
   "metadata": {},
   "outputs": [
    {
     "data": {
      "text/plain": [
       "Year                       0\n",
       "Brand                      0\n",
       "BodyStyle                  0\n",
       "Rental                     0\n",
       "Location                   0\n",
       "GasMileage_city            0\n",
       "GasMileage_highway         0\n",
       "Price                      0\n",
       "Mileage                16392\n",
       "Transmission               0\n",
       "FuelType                   0\n",
       "DoorsNum                 550\n",
       "MaximumSeating             5\n",
       "Engine                     0\n",
       "Drivetrain                 0\n",
       "OptionCount                0\n",
       "Certified                  0\n",
       "Accident Check         15660\n",
       "OwnershipHistory       42974\n",
       "SellingDays                0\n",
       "OriginPrice           794455\n",
       "dtype: int64"
      ]
     },
     "execution_count": 64,
     "metadata": {},
     "output_type": "execute_result"
    }
   ],
   "source": [
    "data3.isnull().sum()"
   ]
  },
  {
   "cell_type": "code",
   "execution_count": 65,
   "metadata": {},
   "outputs": [],
   "source": [
    "for id in brands:\n",
    "    if id == 'Genesis':\n",
    "        brand_index = data3['Brand'] == id\n",
    "        part = data3.loc[brand_index,:]\n",
    "\n",
    "        most = 4\n",
    "\n",
    "        need_fill = part.loc[:,'DoorsNum'].isnull()\n",
    "\n",
    "        part.loc[need_fill, 'DoorsNum'] = part.loc[need_fill,'DoorsNum'].fillna(value=most)\n",
    "\n",
    "        data3.loc[brand_index, 'DoorsNum'] = part.loc[:, 'DoorsNum']"
   ]
  },
  {
   "cell_type": "code",
   "execution_count": 66,
   "metadata": {},
   "outputs": [
    {
     "data": {
      "text/plain": [
       "Year                       0\n",
       "Brand                      0\n",
       "BodyStyle                  0\n",
       "Rental                     0\n",
       "Location                   0\n",
       "GasMileage_city            0\n",
       "GasMileage_highway         0\n",
       "Price                      0\n",
       "Mileage                16392\n",
       "Transmission               0\n",
       "FuelType                   0\n",
       "DoorsNum                   0\n",
       "MaximumSeating             5\n",
       "Engine                     0\n",
       "Drivetrain                 0\n",
       "OptionCount                0\n",
       "Certified                  0\n",
       "Accident Check         15660\n",
       "OwnershipHistory       42974\n",
       "SellingDays                0\n",
       "OriginPrice           794455\n",
       "dtype: int64"
      ]
     },
     "execution_count": 66,
     "metadata": {},
     "output_type": "execute_result"
    }
   ],
   "source": [
    "data3.isnull().sum()"
   ]
  },
  {
   "cell_type": "code",
   "execution_count": null,
   "metadata": {},
   "outputs": [],
   "source": []
  },
  {
   "cell_type": "markdown",
   "metadata": {},
   "source": [
    "-----------------------------------------------"
   ]
  },
  {
   "cell_type": "code",
   "execution_count": 67,
   "metadata": {},
   "outputs": [],
   "source": [
    "for id in brands:\n",
    "    brand_index = data3['Brand'] == id\n",
    "    part = data3.loc[brand_index,:]\n",
    "\n",
    "    most = part.groupby(by='Accident Check').size().sort_values(ascending=False).index[0]\n",
    "\n",
    "    need_fill = part.loc[:,'Accident Check'].isnull()\n",
    "\n",
    "    part.loc[need_fill, 'Accident Check'] = part.loc[need_fill,'Accident Check'].fillna(value=most)\n",
    "\n",
    "    data3.loc[brand_index, 'Accident Check'] = part.loc[:, 'Accident Check']"
   ]
  },
  {
   "cell_type": "code",
   "execution_count": 68,
   "metadata": {},
   "outputs": [
    {
     "data": {
      "text/plain": [
       "Year                       0\n",
       "Brand                      0\n",
       "BodyStyle                  0\n",
       "Rental                     0\n",
       "Location                   0\n",
       "GasMileage_city            0\n",
       "GasMileage_highway         0\n",
       "Price                      0\n",
       "Mileage                16392\n",
       "Transmission               0\n",
       "FuelType                   0\n",
       "DoorsNum                   0\n",
       "MaximumSeating             5\n",
       "Engine                     0\n",
       "Drivetrain                 0\n",
       "OptionCount                0\n",
       "Certified                  0\n",
       "Accident Check             0\n",
       "OwnershipHistory       42974\n",
       "SellingDays                0\n",
       "OriginPrice           794455\n",
       "dtype: int64"
      ]
     },
     "execution_count": 68,
     "metadata": {},
     "output_type": "execute_result"
    }
   ],
   "source": [
    "data3.isnull().sum()"
   ]
  },
  {
   "cell_type": "code",
   "execution_count": null,
   "metadata": {},
   "outputs": [],
   "source": []
  },
  {
   "cell_type": "code",
   "execution_count": 69,
   "metadata": {},
   "outputs": [],
   "source": [
    "for id in brands:\n",
    "    brand_index = data3['Brand'] == id\n",
    "    part = data3.loc[brand_index,:]\n",
    "\n",
    "    most = part.groupby(by='OwnershipHistory').size().sort_values(ascending=False).index[0]\n",
    "\n",
    "    need_fill = part.loc[:,'OwnershipHistory'].isnull()\n",
    "\n",
    "    part.loc[need_fill, 'OwnershipHistory'] = part.loc[need_fill,'OwnershipHistory'].fillna(value=most)\n",
    "\n",
    "    data3.loc[brand_index, 'OwnershipHistory'] = part.loc[:, 'OwnershipHistory']"
   ]
  },
  {
   "cell_type": "code",
   "execution_count": 70,
   "metadata": {},
   "outputs": [
    {
     "data": {
      "text/plain": [
       "Year                       0\n",
       "Brand                      0\n",
       "BodyStyle                  0\n",
       "Rental                     0\n",
       "Location                   0\n",
       "GasMileage_city            0\n",
       "GasMileage_highway         0\n",
       "Price                      0\n",
       "Mileage                16392\n",
       "Transmission               0\n",
       "FuelType                   0\n",
       "DoorsNum                   0\n",
       "MaximumSeating             5\n",
       "Engine                     0\n",
       "Drivetrain                 0\n",
       "OptionCount                0\n",
       "Certified                  0\n",
       "Accident Check             0\n",
       "OwnershipHistory           0\n",
       "SellingDays                0\n",
       "OriginPrice           794455\n",
       "dtype: int64"
      ]
     },
     "execution_count": 70,
     "metadata": {},
     "output_type": "execute_result"
    }
   ],
   "source": [
    "data3.isnull().sum()"
   ]
  },
  {
   "cell_type": "code",
   "execution_count": null,
   "metadata": {},
   "outputs": [],
   "source": []
  },
  {
   "cell_type": "code",
   "execution_count": 71,
   "metadata": {},
   "outputs": [],
   "source": [
    "data3 = data3.dropna(subset=['Mileage'])"
   ]
  },
  {
   "cell_type": "code",
   "execution_count": 72,
   "metadata": {},
   "outputs": [
    {
     "data": {
      "text/plain": [
       "Year                       0\n",
       "Brand                      0\n",
       "BodyStyle                  0\n",
       "Rental                     0\n",
       "Location                   0\n",
       "GasMileage_city            0\n",
       "GasMileage_highway         0\n",
       "Price                      0\n",
       "Mileage                    0\n",
       "Transmission               0\n",
       "FuelType                   0\n",
       "DoorsNum                   0\n",
       "MaximumSeating             5\n",
       "Engine                     0\n",
       "Drivetrain                 0\n",
       "OptionCount                0\n",
       "Certified                  0\n",
       "Accident Check             0\n",
       "OwnershipHistory           0\n",
       "SellingDays                0\n",
       "OriginPrice           784629\n",
       "dtype: int64"
      ]
     },
     "execution_count": 72,
     "metadata": {},
     "output_type": "execute_result"
    }
   ],
   "source": [
    "data3.isnull().sum()"
   ]
  },
  {
   "cell_type": "code",
   "execution_count": null,
   "metadata": {},
   "outputs": [],
   "source": []
  },
  {
   "cell_type": "markdown",
   "metadata": {},
   "source": [
    "-----------------------------------------------------------"
   ]
  },
  {
   "cell_type": "markdown",
   "metadata": {},
   "source": [
    "##### 補  OriginPrice"
   ]
  },
  {
   "cell_type": "code",
   "execution_count": 73,
   "metadata": {},
   "outputs": [
    {
     "data": {
      "text/plain": [
       "(1793772, 21)"
      ]
     },
     "execution_count": 73,
     "metadata": {},
     "output_type": "execute_result"
    }
   ],
   "source": [
    "data3.shape"
   ]
  },
  {
   "cell_type": "code",
   "execution_count": 74,
   "metadata": {},
   "outputs": [],
   "source": [
    "train_data = data3.loc[:,['Price', 'SellingDays', 'OriginPrice']].dropna()"
   ]
  },
  {
   "cell_type": "code",
   "execution_count": 75,
   "metadata": {},
   "outputs": [
    {
     "data": {
      "text/plain": [
       "Price          0\n",
       "SellingDays    0\n",
       "OriginPrice    0\n",
       "dtype: int64"
      ]
     },
     "execution_count": 75,
     "metadata": {},
     "output_type": "execute_result"
    }
   ],
   "source": [
    "train_data.isnull().sum()"
   ]
  },
  {
   "cell_type": "code",
   "execution_count": 76,
   "metadata": {},
   "outputs": [
    {
     "data": {
      "text/html": [
       "<div>\n",
       "<style scoped>\n",
       "    .dataframe tbody tr th:only-of-type {\n",
       "        vertical-align: middle;\n",
       "    }\n",
       "\n",
       "    .dataframe tbody tr th {\n",
       "        vertical-align: top;\n",
       "    }\n",
       "\n",
       "    .dataframe thead th {\n",
       "        text-align: right;\n",
       "    }\n",
       "</style>\n",
       "<table border=\"1\" class=\"dataframe\">\n",
       "  <thead>\n",
       "    <tr style=\"text-align: right;\">\n",
       "      <th></th>\n",
       "      <th>Price</th>\n",
       "      <th>SellingDays</th>\n",
       "      <th>OriginPrice</th>\n",
       "    </tr>\n",
       "  </thead>\n",
       "  <tbody>\n",
       "    <tr>\n",
       "      <th>1712016</th>\n",
       "      <td>52695.0</td>\n",
       "      <td>495</td>\n",
       "      <td>52695.0</td>\n",
       "    </tr>\n",
       "    <tr>\n",
       "      <th>1712032</th>\n",
       "      <td>2995.0</td>\n",
       "      <td>484</td>\n",
       "      <td>2995.0</td>\n",
       "    </tr>\n",
       "    <tr>\n",
       "      <th>1712221</th>\n",
       "      <td>8995.0</td>\n",
       "      <td>400</td>\n",
       "      <td>8995.0</td>\n",
       "    </tr>\n",
       "    <tr>\n",
       "      <th>1712346</th>\n",
       "      <td>5900.0</td>\n",
       "      <td>351</td>\n",
       "      <td>5900.0</td>\n",
       "    </tr>\n",
       "    <tr>\n",
       "      <th>1712628</th>\n",
       "      <td>40395.0</td>\n",
       "      <td>286</td>\n",
       "      <td>40395.0</td>\n",
       "    </tr>\n",
       "    <tr>\n",
       "      <th>...</th>\n",
       "      <td>...</td>\n",
       "      <td>...</td>\n",
       "      <td>...</td>\n",
       "    </tr>\n",
       "    <tr>\n",
       "      <th>293723</th>\n",
       "      <td>7999.0</td>\n",
       "      <td>755</td>\n",
       "      <td>7999.0</td>\n",
       "    </tr>\n",
       "    <tr>\n",
       "      <th>293724</th>\n",
       "      <td>7999.0</td>\n",
       "      <td>755</td>\n",
       "      <td>7999.0</td>\n",
       "    </tr>\n",
       "    <tr>\n",
       "      <th>293725</th>\n",
       "      <td>7999.0</td>\n",
       "      <td>755</td>\n",
       "      <td>7999.0</td>\n",
       "    </tr>\n",
       "    <tr>\n",
       "      <th>293739</th>\n",
       "      <td>5555.0</td>\n",
       "      <td>399</td>\n",
       "      <td>5555.0</td>\n",
       "    </tr>\n",
       "    <tr>\n",
       "      <th>293883</th>\n",
       "      <td>10995.0</td>\n",
       "      <td>84</td>\n",
       "      <td>10995.0</td>\n",
       "    </tr>\n",
       "  </tbody>\n",
       "</table>\n",
       "<p>13688 rows × 3 columns</p>\n",
       "</div>"
      ],
      "text/plain": [
       "           Price  SellingDays  OriginPrice\n",
       "1712016  52695.0          495      52695.0\n",
       "1712032   2995.0          484       2995.0\n",
       "1712221   8995.0          400       8995.0\n",
       "1712346   5900.0          351       5900.0\n",
       "1712628  40395.0          286      40395.0\n",
       "...          ...          ...          ...\n",
       "293723    7999.0          755       7999.0\n",
       "293724    7999.0          755       7999.0\n",
       "293725    7999.0          755       7999.0\n",
       "293739    5555.0          399       5555.0\n",
       "293883   10995.0           84      10995.0\n",
       "\n",
       "[13688 rows x 3 columns]"
      ]
     },
     "execution_count": 76,
     "metadata": {},
     "output_type": "execute_result"
    }
   ],
   "source": [
    "train_data[train_data['Price'] == train_data['OriginPrice']]"
   ]
  },
  {
   "cell_type": "code",
   "execution_count": 77,
   "metadata": {},
   "outputs": [
    {
     "data": {
      "text/plain": [
       "Price          float64\n",
       "SellingDays      int64\n",
       "OriginPrice    float64\n",
       "dtype: object"
      ]
     },
     "execution_count": 77,
     "metadata": {},
     "output_type": "execute_result"
    }
   ],
   "source": [
    "train_data.dtypes"
   ]
  },
  {
   "cell_type": "code",
   "execution_count": 78,
   "metadata": {},
   "outputs": [
    {
     "data": {
      "text/html": [
       "<div>\n",
       "<style scoped>\n",
       "    .dataframe tbody tr th:only-of-type {\n",
       "        vertical-align: middle;\n",
       "    }\n",
       "\n",
       "    .dataframe tbody tr th {\n",
       "        vertical-align: top;\n",
       "    }\n",
       "\n",
       "    .dataframe thead th {\n",
       "        text-align: right;\n",
       "    }\n",
       "</style>\n",
       "<table border=\"1\" class=\"dataframe\">\n",
       "  <thead>\n",
       "    <tr style=\"text-align: right;\">\n",
       "      <th></th>\n",
       "      <th>Price</th>\n",
       "      <th>SellingDays</th>\n",
       "      <th>OriginPrice</th>\n",
       "    </tr>\n",
       "  </thead>\n",
       "  <tbody>\n",
       "    <tr>\n",
       "      <th>Price</th>\n",
       "      <td>1.000000</td>\n",
       "      <td>0.003893</td>\n",
       "      <td>0.008597</td>\n",
       "    </tr>\n",
       "    <tr>\n",
       "      <th>SellingDays</th>\n",
       "      <td>0.003893</td>\n",
       "      <td>1.000000</td>\n",
       "      <td>-0.000366</td>\n",
       "    </tr>\n",
       "    <tr>\n",
       "      <th>OriginPrice</th>\n",
       "      <td>0.008597</td>\n",
       "      <td>-0.000366</td>\n",
       "      <td>1.000000</td>\n",
       "    </tr>\n",
       "  </tbody>\n",
       "</table>\n",
       "</div>"
      ],
      "text/plain": [
       "                Price  SellingDays  OriginPrice\n",
       "Price        1.000000     0.003893     0.008597\n",
       "SellingDays  0.003893     1.000000    -0.000366\n",
       "OriginPrice  0.008597    -0.000366     1.000000"
      ]
     },
     "execution_count": 78,
     "metadata": {},
     "output_type": "execute_result"
    }
   ],
   "source": [
    "train_data.corr()"
   ]
  },
  {
   "cell_type": "code",
   "execution_count": null,
   "metadata": {},
   "outputs": [],
   "source": []
  },
  {
   "cell_type": "code",
   "execution_count": 79,
   "metadata": {},
   "outputs": [],
   "source": [
    "from sklearn.ensemble import RandomForestRegressor"
   ]
  },
  {
   "cell_type": "code",
   "execution_count": 80,
   "metadata": {},
   "outputs": [],
   "source": [
    "forest = RandomForestRegressor(n_estimators=100,\n",
    "                              criterion='mse',\n",
    "                              random_state=1,\n",
    "                              n_jobs=-1)"
   ]
  },
  {
   "cell_type": "code",
   "execution_count": 81,
   "metadata": {},
   "outputs": [
    {
     "data": {
      "text/html": [
       "<div>\n",
       "<style scoped>\n",
       "    .dataframe tbody tr th:only-of-type {\n",
       "        vertical-align: middle;\n",
       "    }\n",
       "\n",
       "    .dataframe tbody tr th {\n",
       "        vertical-align: top;\n",
       "    }\n",
       "\n",
       "    .dataframe thead th {\n",
       "        text-align: right;\n",
       "    }\n",
       "</style>\n",
       "<table border=\"1\" class=\"dataframe\">\n",
       "  <thead>\n",
       "    <tr style=\"text-align: right;\">\n",
       "      <th></th>\n",
       "      <th>Price</th>\n",
       "      <th>SellingDays</th>\n",
       "      <th>OriginPrice</th>\n",
       "    </tr>\n",
       "  </thead>\n",
       "  <tbody>\n",
       "    <tr>\n",
       "      <th>1711788</th>\n",
       "      <td>5495.0</td>\n",
       "      <td>1574</td>\n",
       "      <td>6995.0</td>\n",
       "    </tr>\n",
       "    <tr>\n",
       "      <th>1711792</th>\n",
       "      <td>4480.0</td>\n",
       "      <td>1352</td>\n",
       "      <td>5980.0</td>\n",
       "    </tr>\n",
       "    <tr>\n",
       "      <th>1711799</th>\n",
       "      <td>12950.0</td>\n",
       "      <td>1290</td>\n",
       "      <td>18950.0</td>\n",
       "    </tr>\n",
       "    <tr>\n",
       "      <th>1711801</th>\n",
       "      <td>39500.0</td>\n",
       "      <td>1219</td>\n",
       "      <td>46890.0</td>\n",
       "    </tr>\n",
       "    <tr>\n",
       "      <th>1711802</th>\n",
       "      <td>10900.0</td>\n",
       "      <td>1198</td>\n",
       "      <td>13995.0</td>\n",
       "    </tr>\n",
       "  </tbody>\n",
       "</table>\n",
       "</div>"
      ],
      "text/plain": [
       "           Price  SellingDays  OriginPrice\n",
       "1711788   5495.0         1574       6995.0\n",
       "1711792   4480.0         1352       5980.0\n",
       "1711799  12950.0         1290      18950.0\n",
       "1711801  39500.0         1219      46890.0\n",
       "1711802  10900.0         1198      13995.0"
      ]
     },
     "execution_count": 81,
     "metadata": {},
     "output_type": "execute_result"
    }
   ],
   "source": [
    "train_data.head(5)"
   ]
  },
  {
   "cell_type": "code",
   "execution_count": 82,
   "metadata": {},
   "outputs": [],
   "source": [
    "train_data = train_data.sample(frac=1)\n",
    "# 打亂順序\n",
    "# 參考 : https://stackoverflow.com/questions/29576430/shuffle-dataframe-rows"
   ]
  },
  {
   "cell_type": "code",
   "execution_count": 83,
   "metadata": {},
   "outputs": [
    {
     "data": {
      "text/plain": [
       "Price          0\n",
       "SellingDays    0\n",
       "OriginPrice    0\n",
       "dtype: int64"
      ]
     },
     "execution_count": 83,
     "metadata": {},
     "output_type": "execute_result"
    }
   ],
   "source": [
    "train_data.isnull().sum()"
   ]
  },
  {
   "cell_type": "code",
   "execution_count": 84,
   "metadata": {},
   "outputs": [
    {
     "data": {
      "text/html": [
       "<div>\n",
       "<style scoped>\n",
       "    .dataframe tbody tr th:only-of-type {\n",
       "        vertical-align: middle;\n",
       "    }\n",
       "\n",
       "    .dataframe tbody tr th {\n",
       "        vertical-align: top;\n",
       "    }\n",
       "\n",
       "    .dataframe thead th {\n",
       "        text-align: right;\n",
       "    }\n",
       "</style>\n",
       "<table border=\"1\" class=\"dataframe\">\n",
       "  <thead>\n",
       "    <tr style=\"text-align: right;\">\n",
       "      <th></th>\n",
       "      <th>Price</th>\n",
       "      <th>SellingDays</th>\n",
       "      <th>OriginPrice</th>\n",
       "    </tr>\n",
       "  </thead>\n",
       "  <tbody>\n",
       "    <tr>\n",
       "      <th>1072466</th>\n",
       "      <td>18714.0</td>\n",
       "      <td>56</td>\n",
       "      <td>20000.0</td>\n",
       "    </tr>\n",
       "    <tr>\n",
       "      <th>965583</th>\n",
       "      <td>24200.0</td>\n",
       "      <td>42</td>\n",
       "      <td>24995.0</td>\n",
       "    </tr>\n",
       "    <tr>\n",
       "      <th>1609963</th>\n",
       "      <td>12999.0</td>\n",
       "      <td>15</td>\n",
       "      <td>12597.0</td>\n",
       "    </tr>\n",
       "    <tr>\n",
       "      <th>1066859</th>\n",
       "      <td>20000.0</td>\n",
       "      <td>64</td>\n",
       "      <td>23500.0</td>\n",
       "    </tr>\n",
       "    <tr>\n",
       "      <th>2180046</th>\n",
       "      <td>28992.0</td>\n",
       "      <td>105</td>\n",
       "      <td>29990.0</td>\n",
       "    </tr>\n",
       "    <tr>\n",
       "      <th>...</th>\n",
       "      <td>...</td>\n",
       "      <td>...</td>\n",
       "      <td>...</td>\n",
       "    </tr>\n",
       "    <tr>\n",
       "      <th>1561184</th>\n",
       "      <td>6495.0</td>\n",
       "      <td>198</td>\n",
       "      <td>7995.0</td>\n",
       "    </tr>\n",
       "    <tr>\n",
       "      <th>548007</th>\n",
       "      <td>24995.0</td>\n",
       "      <td>35</td>\n",
       "      <td>26995.0</td>\n",
       "    </tr>\n",
       "    <tr>\n",
       "      <th>2214089</th>\n",
       "      <td>23359.0</td>\n",
       "      <td>59</td>\n",
       "      <td>25930.0</td>\n",
       "    </tr>\n",
       "    <tr>\n",
       "      <th>1420327</th>\n",
       "      <td>13761.0</td>\n",
       "      <td>420</td>\n",
       "      <td>14900.0</td>\n",
       "    </tr>\n",
       "    <tr>\n",
       "      <th>2183461</th>\n",
       "      <td>22004.0</td>\n",
       "      <td>99</td>\n",
       "      <td>24975.0</td>\n",
       "    </tr>\n",
       "  </tbody>\n",
       "</table>\n",
       "<p>1009143 rows × 3 columns</p>\n",
       "</div>"
      ],
      "text/plain": [
       "           Price  SellingDays  OriginPrice\n",
       "1072466  18714.0           56      20000.0\n",
       "965583   24200.0           42      24995.0\n",
       "1609963  12999.0           15      12597.0\n",
       "1066859  20000.0           64      23500.0\n",
       "2180046  28992.0          105      29990.0\n",
       "...          ...          ...          ...\n",
       "1561184   6495.0          198       7995.0\n",
       "548007   24995.0           35      26995.0\n",
       "2214089  23359.0           59      25930.0\n",
       "1420327  13761.0          420      14900.0\n",
       "2183461  22004.0           99      24975.0\n",
       "\n",
       "[1009143 rows x 3 columns]"
      ]
     },
     "execution_count": 84,
     "metadata": {},
     "output_type": "execute_result"
    }
   ],
   "source": [
    "train_data"
   ]
  },
  {
   "cell_type": "code",
   "execution_count": 85,
   "metadata": {},
   "outputs": [],
   "source": [
    "y_train = train_data.iloc[:,2]"
   ]
  },
  {
   "cell_type": "code",
   "execution_count": 86,
   "metadata": {},
   "outputs": [
    {
     "data": {
      "text/plain": [
       "1072466    20000.0\n",
       "965583     24995.0\n",
       "1609963    12597.0\n",
       "1066859    23500.0\n",
       "2180046    29990.0\n",
       "            ...   \n",
       "1561184     7995.0\n",
       "548007     26995.0\n",
       "2214089    25930.0\n",
       "1420327    14900.0\n",
       "2183461    24975.0\n",
       "Name: OriginPrice, Length: 1009143, dtype: float64"
      ]
     },
     "execution_count": 86,
     "metadata": {},
     "output_type": "execute_result"
    }
   ],
   "source": [
    "y_train"
   ]
  },
  {
   "cell_type": "code",
   "execution_count": 87,
   "metadata": {},
   "outputs": [],
   "source": [
    "X_train = train_data.iloc[:,[0,1]]"
   ]
  },
  {
   "cell_type": "code",
   "execution_count": 88,
   "metadata": {},
   "outputs": [
    {
     "data": {
      "text/html": [
       "<div>\n",
       "<style scoped>\n",
       "    .dataframe tbody tr th:only-of-type {\n",
       "        vertical-align: middle;\n",
       "    }\n",
       "\n",
       "    .dataframe tbody tr th {\n",
       "        vertical-align: top;\n",
       "    }\n",
       "\n",
       "    .dataframe thead th {\n",
       "        text-align: right;\n",
       "    }\n",
       "</style>\n",
       "<table border=\"1\" class=\"dataframe\">\n",
       "  <thead>\n",
       "    <tr style=\"text-align: right;\">\n",
       "      <th></th>\n",
       "      <th>Price</th>\n",
       "      <th>SellingDays</th>\n",
       "    </tr>\n",
       "  </thead>\n",
       "  <tbody>\n",
       "    <tr>\n",
       "      <th>1072466</th>\n",
       "      <td>18714.0</td>\n",
       "      <td>56</td>\n",
       "    </tr>\n",
       "    <tr>\n",
       "      <th>965583</th>\n",
       "      <td>24200.0</td>\n",
       "      <td>42</td>\n",
       "    </tr>\n",
       "    <tr>\n",
       "      <th>1609963</th>\n",
       "      <td>12999.0</td>\n",
       "      <td>15</td>\n",
       "    </tr>\n",
       "    <tr>\n",
       "      <th>1066859</th>\n",
       "      <td>20000.0</td>\n",
       "      <td>64</td>\n",
       "    </tr>\n",
       "    <tr>\n",
       "      <th>2180046</th>\n",
       "      <td>28992.0</td>\n",
       "      <td>105</td>\n",
       "    </tr>\n",
       "    <tr>\n",
       "      <th>...</th>\n",
       "      <td>...</td>\n",
       "      <td>...</td>\n",
       "    </tr>\n",
       "    <tr>\n",
       "      <th>1561184</th>\n",
       "      <td>6495.0</td>\n",
       "      <td>198</td>\n",
       "    </tr>\n",
       "    <tr>\n",
       "      <th>548007</th>\n",
       "      <td>24995.0</td>\n",
       "      <td>35</td>\n",
       "    </tr>\n",
       "    <tr>\n",
       "      <th>2214089</th>\n",
       "      <td>23359.0</td>\n",
       "      <td>59</td>\n",
       "    </tr>\n",
       "    <tr>\n",
       "      <th>1420327</th>\n",
       "      <td>13761.0</td>\n",
       "      <td>420</td>\n",
       "    </tr>\n",
       "    <tr>\n",
       "      <th>2183461</th>\n",
       "      <td>22004.0</td>\n",
       "      <td>99</td>\n",
       "    </tr>\n",
       "  </tbody>\n",
       "</table>\n",
       "<p>1009143 rows × 2 columns</p>\n",
       "</div>"
      ],
      "text/plain": [
       "           Price  SellingDays\n",
       "1072466  18714.0           56\n",
       "965583   24200.0           42\n",
       "1609963  12999.0           15\n",
       "1066859  20000.0           64\n",
       "2180046  28992.0          105\n",
       "...          ...          ...\n",
       "1561184   6495.0          198\n",
       "548007   24995.0           35\n",
       "2214089  23359.0           59\n",
       "1420327  13761.0          420\n",
       "2183461  22004.0           99\n",
       "\n",
       "[1009143 rows x 2 columns]"
      ]
     },
     "execution_count": 88,
     "metadata": {},
     "output_type": "execute_result"
    }
   ],
   "source": [
    "X_train"
   ]
  },
  {
   "cell_type": "code",
   "execution_count": 89,
   "metadata": {},
   "outputs": [
    {
     "data": {
      "text/plain": [
       "RandomForestRegressor(bootstrap=True, criterion='mse', max_depth=None,\n",
       "                      max_features='auto', max_leaf_nodes=None,\n",
       "                      min_impurity_decrease=0.0, min_impurity_split=None,\n",
       "                      min_samples_leaf=1, min_samples_split=2,\n",
       "                      min_weight_fraction_leaf=0.0, n_estimators=100, n_jobs=-1,\n",
       "                      oob_score=False, random_state=1, verbose=0,\n",
       "                      warm_start=False)"
      ]
     },
     "execution_count": 89,
     "metadata": {},
     "output_type": "execute_result"
    }
   ],
   "source": [
    "forest.fit(X_train, y_train)"
   ]
  },
  {
   "cell_type": "code",
   "execution_count": 90,
   "metadata": {},
   "outputs": [],
   "source": [
    "need_pred = data3.loc[:,'OriginPrice'].isnull()"
   ]
  },
  {
   "cell_type": "code",
   "execution_count": 91,
   "metadata": {},
   "outputs": [],
   "source": [
    "fill_data = data3.loc[need_pred, ['Price', 'SellingDays', 'OriginPrice']]"
   ]
  },
  {
   "cell_type": "code",
   "execution_count": 92,
   "metadata": {},
   "outputs": [],
   "source": [
    "test_X = fill_data.iloc[:,[0,1]]"
   ]
  },
  {
   "cell_type": "code",
   "execution_count": 93,
   "metadata": {},
   "outputs": [
    {
     "data": {
      "text/html": [
       "<div>\n",
       "<style scoped>\n",
       "    .dataframe tbody tr th:only-of-type {\n",
       "        vertical-align: middle;\n",
       "    }\n",
       "\n",
       "    .dataframe tbody tr th {\n",
       "        vertical-align: top;\n",
       "    }\n",
       "\n",
       "    .dataframe thead th {\n",
       "        text-align: right;\n",
       "    }\n",
       "</style>\n",
       "<table border=\"1\" class=\"dataframe\">\n",
       "  <thead>\n",
       "    <tr style=\"text-align: right;\">\n",
       "      <th></th>\n",
       "      <th>Price</th>\n",
       "      <th>SellingDays</th>\n",
       "    </tr>\n",
       "  </thead>\n",
       "  <tbody>\n",
       "    <tr>\n",
       "      <th>1711790</th>\n",
       "      <td>10900.0</td>\n",
       "      <td>1400</td>\n",
       "    </tr>\n",
       "    <tr>\n",
       "      <th>1711800</th>\n",
       "      <td>6999.0</td>\n",
       "      <td>1283</td>\n",
       "    </tr>\n",
       "    <tr>\n",
       "      <th>1711828</th>\n",
       "      <td>2999.0</td>\n",
       "      <td>909</td>\n",
       "    </tr>\n",
       "    <tr>\n",
       "      <th>1711829</th>\n",
       "      <td>2299.0</td>\n",
       "      <td>909</td>\n",
       "    </tr>\n",
       "    <tr>\n",
       "      <th>1711831</th>\n",
       "      <td>4995.0</td>\n",
       "      <td>879</td>\n",
       "    </tr>\n",
       "    <tr>\n",
       "      <th>...</th>\n",
       "      <td>...</td>\n",
       "      <td>...</td>\n",
       "    </tr>\n",
       "    <tr>\n",
       "      <th>294307</th>\n",
       "      <td>5981.0</td>\n",
       "      <td>1</td>\n",
       "    </tr>\n",
       "    <tr>\n",
       "      <th>294313</th>\n",
       "      <td>8795.0</td>\n",
       "      <td>1</td>\n",
       "    </tr>\n",
       "    <tr>\n",
       "      <th>294314</th>\n",
       "      <td>5900.0</td>\n",
       "      <td>1</td>\n",
       "    </tr>\n",
       "    <tr>\n",
       "      <th>294322</th>\n",
       "      <td>10812.0</td>\n",
       "      <td>0</td>\n",
       "    </tr>\n",
       "    <tr>\n",
       "      <th>294327</th>\n",
       "      <td>5995.0</td>\n",
       "      <td>0</td>\n",
       "    </tr>\n",
       "  </tbody>\n",
       "</table>\n",
       "<p>784629 rows × 2 columns</p>\n",
       "</div>"
      ],
      "text/plain": [
       "           Price  SellingDays\n",
       "1711790  10900.0         1400\n",
       "1711800   6999.0         1283\n",
       "1711828   2999.0          909\n",
       "1711829   2299.0          909\n",
       "1711831   4995.0          879\n",
       "...          ...          ...\n",
       "294307    5981.0            1\n",
       "294313    8795.0            1\n",
       "294314    5900.0            1\n",
       "294322   10812.0            0\n",
       "294327    5995.0            0\n",
       "\n",
       "[784629 rows x 2 columns]"
      ]
     },
     "execution_count": 93,
     "metadata": {},
     "output_type": "execute_result"
    }
   ],
   "source": [
    "test_X"
   ]
  },
  {
   "cell_type": "code",
   "execution_count": 94,
   "metadata": {},
   "outputs": [],
   "source": [
    "pred_OriginPrice = forest.predict(test_X)"
   ]
  },
  {
   "cell_type": "code",
   "execution_count": 95,
   "metadata": {},
   "outputs": [],
   "source": [
    "data3.loc[need_pred, 'OriginPrice'] = pred_OriginPrice"
   ]
  },
  {
   "cell_type": "code",
   "execution_count": 96,
   "metadata": {},
   "outputs": [
    {
     "data": {
      "text/plain": [
       "Year                  0\n",
       "Brand                 0\n",
       "BodyStyle             0\n",
       "Rental                0\n",
       "Location              0\n",
       "GasMileage_city       0\n",
       "GasMileage_highway    0\n",
       "Price                 0\n",
       "Mileage               0\n",
       "Transmission          0\n",
       "FuelType              0\n",
       "DoorsNum              0\n",
       "MaximumSeating        5\n",
       "Engine                0\n",
       "Drivetrain            0\n",
       "OptionCount           0\n",
       "Certified             0\n",
       "Accident Check        0\n",
       "OwnershipHistory      0\n",
       "SellingDays           0\n",
       "OriginPrice           0\n",
       "dtype: int64"
      ]
     },
     "execution_count": 96,
     "metadata": {},
     "output_type": "execute_result"
    }
   ],
   "source": [
    "data3.isnull().sum()"
   ]
  },
  {
   "cell_type": "code",
   "execution_count": null,
   "metadata": {},
   "outputs": [],
   "source": []
  },
  {
   "cell_type": "markdown",
   "metadata": {},
   "source": [
    "----------------------------------------------------------"
   ]
  },
  {
   "cell_type": "code",
   "execution_count": 97,
   "metadata": {},
   "outputs": [
    {
     "data": {
      "text/plain": [
       "(1793772, 21)"
      ]
     },
     "execution_count": 97,
     "metadata": {},
     "output_type": "execute_result"
    }
   ],
   "source": [
    "data3.shape"
   ]
  },
  {
   "cell_type": "code",
   "execution_count": 98,
   "metadata": {},
   "outputs": [
    {
     "data": {
      "text/plain": [
       "Year                   object\n",
       "Brand                  object\n",
       "BodyStyle              object\n",
       "Rental                   bool\n",
       "Location               object\n",
       "GasMileage_city        object\n",
       "GasMileage_highway     object\n",
       "Price                 float64\n",
       "Mileage               float64\n",
       "Transmission           object\n",
       "FuelType               object\n",
       "DoorsNum               object\n",
       "MaximumSeating         object\n",
       "Engine                 object\n",
       "Drivetrain             object\n",
       "OptionCount             int64\n",
       "Certified               int64\n",
       "Accident Check        float64\n",
       "OwnershipHistory      float64\n",
       "SellingDays             int64\n",
       "OriginPrice           float64\n",
       "dtype: object"
      ]
     },
     "execution_count": 98,
     "metadata": {},
     "output_type": "execute_result"
    }
   ],
   "source": [
    "data3.dtypes"
   ]
  },
  {
   "cell_type": "code",
   "execution_count": 99,
   "metadata": {},
   "outputs": [],
   "source": [
    "data3.loc[:,['Year', 'Rental', 'OptionCount', 'Certified', 'SellingDays']] = \\\n",
    "    data3.loc[:,['Year', 'Rental', 'OptionCount', 'Certified', 'SellingDays']].astype('int32')"
   ]
  },
  {
   "cell_type": "code",
   "execution_count": 100,
   "metadata": {},
   "outputs": [
    {
     "data": {
      "text/plain": [
       "Year                    int32\n",
       "Brand                  object\n",
       "BodyStyle              object\n",
       "Rental                  int32\n",
       "Location               object\n",
       "GasMileage_city        object\n",
       "GasMileage_highway     object\n",
       "Price                 float64\n",
       "Mileage               float64\n",
       "Transmission           object\n",
       "FuelType               object\n",
       "DoorsNum               object\n",
       "MaximumSeating         object\n",
       "Engine                 object\n",
       "Drivetrain             object\n",
       "OptionCount             int32\n",
       "Certified               int32\n",
       "Accident Check        float64\n",
       "OwnershipHistory      float64\n",
       "SellingDays             int32\n",
       "OriginPrice           float64\n",
       "dtype: object"
      ]
     },
     "execution_count": 100,
     "metadata": {},
     "output_type": "execute_result"
    }
   ],
   "source": [
    "data3.dtypes"
   ]
  },
  {
   "cell_type": "code",
   "execution_count": 101,
   "metadata": {},
   "outputs": [],
   "source": [
    "data3.loc[:,['Price', 'Mileage', 'Accident Check', 'OwnershipHistory', 'OriginPrice']] = \\\n",
    "    data3.loc[:,['Price', 'Mileage', 'Accident Check', 'OwnershipHistory', 'OriginPrice']].astype('float32')"
   ]
  },
  {
   "cell_type": "code",
   "execution_count": 102,
   "metadata": {},
   "outputs": [
    {
     "data": {
      "text/plain": [
       "Year                    int32\n",
       "Brand                  object\n",
       "BodyStyle              object\n",
       "Rental                  int32\n",
       "Location               object\n",
       "GasMileage_city        object\n",
       "GasMileage_highway     object\n",
       "Price                 float32\n",
       "Mileage               float32\n",
       "Transmission           object\n",
       "FuelType               object\n",
       "DoorsNum               object\n",
       "MaximumSeating         object\n",
       "Engine                 object\n",
       "Drivetrain             object\n",
       "OptionCount             int32\n",
       "Certified               int32\n",
       "Accident Check        float32\n",
       "OwnershipHistory      float32\n",
       "SellingDays             int32\n",
       "OriginPrice           float32\n",
       "dtype: object"
      ]
     },
     "execution_count": 102,
     "metadata": {},
     "output_type": "execute_result"
    }
   ],
   "source": [
    "data3.dtypes"
   ]
  },
  {
   "cell_type": "code",
   "execution_count": null,
   "metadata": {},
   "outputs": [],
   "source": []
  },
  {
   "cell_type": "markdown",
   "metadata": {},
   "source": [
    "--------------------------------------------------------"
   ]
  },
  {
   "cell_type": "code",
   "execution_count": 103,
   "metadata": {},
   "outputs": [
    {
     "data": {
      "text/html": [
       "<div>\n",
       "<style scoped>\n",
       "    .dataframe tbody tr th:only-of-type {\n",
       "        vertical-align: middle;\n",
       "    }\n",
       "\n",
       "    .dataframe tbody tr th {\n",
       "        vertical-align: top;\n",
       "    }\n",
       "\n",
       "    .dataframe thead th {\n",
       "        text-align: right;\n",
       "    }\n",
       "</style>\n",
       "<table border=\"1\" class=\"dataframe\">\n",
       "  <thead>\n",
       "    <tr style=\"text-align: right;\">\n",
       "      <th></th>\n",
       "      <th>Year</th>\n",
       "      <th>Brand</th>\n",
       "      <th>BodyStyle</th>\n",
       "      <th>Rental</th>\n",
       "      <th>Location</th>\n",
       "      <th>GasMileage_city</th>\n",
       "      <th>GasMileage_highway</th>\n",
       "      <th>Price</th>\n",
       "      <th>Mileage</th>\n",
       "      <th>Transmission</th>\n",
       "      <th>FuelType</th>\n",
       "      <th>DoorsNum</th>\n",
       "      <th>MaximumSeating</th>\n",
       "      <th>Engine</th>\n",
       "      <th>Drivetrain</th>\n",
       "      <th>OptionCount</th>\n",
       "      <th>Certified</th>\n",
       "      <th>Accident Check</th>\n",
       "      <th>OwnershipHistory</th>\n",
       "      <th>SellingDays</th>\n",
       "      <th>OriginPrice</th>\n",
       "    </tr>\n",
       "  </thead>\n",
       "  <tbody>\n",
       "    <tr>\n",
       "      <th>1711788</th>\n",
       "      <td>1999</td>\n",
       "      <td>Acura</td>\n",
       "      <td>sedan</td>\n",
       "      <td>0</td>\n",
       "      <td>Fredericksburg, VA</td>\n",
       "      <td>16 MPG City</td>\n",
       "      <td>22 MPG Highway</td>\n",
       "      <td>5495.0</td>\n",
       "      <td>62399.0</td>\n",
       "      <td>4-Speed Automatic</td>\n",
       "      <td>Gasoline</td>\n",
       "      <td>4 doors</td>\n",
       "      <td>5 seats</td>\n",
       "      <td>V6</td>\n",
       "      <td>Front-Wheel Drive</td>\n",
       "      <td>2</td>\n",
       "      <td>0</td>\n",
       "      <td>0.0</td>\n",
       "      <td>1.0</td>\n",
       "      <td>1574</td>\n",
       "      <td>6995.000000</td>\n",
       "    </tr>\n",
       "    <tr>\n",
       "      <th>1711790</th>\n",
       "      <td>2001</td>\n",
       "      <td>Acura</td>\n",
       "      <td>crossover</td>\n",
       "      <td>0</td>\n",
       "      <td>Boaz, AL</td>\n",
       "      <td>15 MPG City</td>\n",
       "      <td>21 MPG Highway</td>\n",
       "      <td>10900.0</td>\n",
       "      <td>100600.0</td>\n",
       "      <td>Automatic</td>\n",
       "      <td>Gasoline</td>\n",
       "      <td>4 doors</td>\n",
       "      <td>7 seats</td>\n",
       "      <td>V6</td>\n",
       "      <td>Four-Wheel Drive</td>\n",
       "      <td>4</td>\n",
       "      <td>0</td>\n",
       "      <td>1.0</td>\n",
       "      <td>3.0</td>\n",
       "      <td>1400</td>\n",
       "      <td>15451.889648</td>\n",
       "    </tr>\n",
       "    <tr>\n",
       "      <th>1711792</th>\n",
       "      <td>2002</td>\n",
       "      <td>Acura</td>\n",
       "      <td>crossover</td>\n",
       "      <td>1</td>\n",
       "      <td>Danbury, CT</td>\n",
       "      <td>15 MPG City</td>\n",
       "      <td>21 MPG Highway</td>\n",
       "      <td>4480.0</td>\n",
       "      <td>222837.0</td>\n",
       "      <td>5-Speed Automatic</td>\n",
       "      <td>Gasoline</td>\n",
       "      <td>4 doors</td>\n",
       "      <td>7 seats</td>\n",
       "      <td>V6</td>\n",
       "      <td>All-Wheel Drive</td>\n",
       "      <td>2</td>\n",
       "      <td>0</td>\n",
       "      <td>0.0</td>\n",
       "      <td>2.0</td>\n",
       "      <td>1352</td>\n",
       "      <td>5980.000000</td>\n",
       "    </tr>\n",
       "    <tr>\n",
       "      <th>1711799</th>\n",
       "      <td>2011</td>\n",
       "      <td>Acura</td>\n",
       "      <td>crossover</td>\n",
       "      <td>1</td>\n",
       "      <td>Cleveland, TN</td>\n",
       "      <td>16 MPG City</td>\n",
       "      <td>21 MPG Highway</td>\n",
       "      <td>12950.0</td>\n",
       "      <td>127259.0</td>\n",
       "      <td>6-Speed Automatic</td>\n",
       "      <td>Gasoline</td>\n",
       "      <td>4 doors</td>\n",
       "      <td>7 seats</td>\n",
       "      <td>V6</td>\n",
       "      <td>All-Wheel Drive</td>\n",
       "      <td>6</td>\n",
       "      <td>0</td>\n",
       "      <td>2.0</td>\n",
       "      <td>1.0</td>\n",
       "      <td>1290</td>\n",
       "      <td>18950.000000</td>\n",
       "    </tr>\n",
       "    <tr>\n",
       "      <th>1711800</th>\n",
       "      <td>2002</td>\n",
       "      <td>Acura</td>\n",
       "      <td>sedan</td>\n",
       "      <td>1</td>\n",
       "      <td>Madison, TN</td>\n",
       "      <td>17 MPG City</td>\n",
       "      <td>27 MPG Highway</td>\n",
       "      <td>6999.0</td>\n",
       "      <td>116511.0</td>\n",
       "      <td>Automatic</td>\n",
       "      <td>Gasoline</td>\n",
       "      <td>4 doors</td>\n",
       "      <td>5 seats</td>\n",
       "      <td>V6</td>\n",
       "      <td>Front-Wheel Drive</td>\n",
       "      <td>2</td>\n",
       "      <td>0</td>\n",
       "      <td>1.0</td>\n",
       "      <td>7.0</td>\n",
       "      <td>1283</td>\n",
       "      <td>8923.769531</td>\n",
       "    </tr>\n",
       "  </tbody>\n",
       "</table>\n",
       "</div>"
      ],
      "text/plain": [
       "         Year  Brand  BodyStyle  Rental            Location GasMileage_city GasMileage_highway    Price   Mileage       Transmission  FuelType DoorsNum MaximumSeating Engine         Drivetrain  OptionCount  Certified  Accident Check  OwnershipHistory  SellingDays   OriginPrice\n",
       "1711788  1999  Acura      sedan       0  Fredericksburg, VA     16 MPG City     22 MPG Highway   5495.0   62399.0  4-Speed Automatic  Gasoline  4 doors        5 seats     V6  Front-Wheel Drive            2          0             0.0               1.0         1574   6995.000000\n",
       "1711790  2001  Acura  crossover       0            Boaz, AL     15 MPG City     21 MPG Highway  10900.0  100600.0          Automatic  Gasoline  4 doors        7 seats     V6   Four-Wheel Drive            4          0             1.0               3.0         1400  15451.889648\n",
       "1711792  2002  Acura  crossover       1         Danbury, CT     15 MPG City     21 MPG Highway   4480.0  222837.0  5-Speed Automatic  Gasoline  4 doors        7 seats     V6    All-Wheel Drive            2          0             0.0               2.0         1352   5980.000000\n",
       "1711799  2011  Acura  crossover       1       Cleveland, TN     16 MPG City     21 MPG Highway  12950.0  127259.0  6-Speed Automatic  Gasoline  4 doors        7 seats     V6    All-Wheel Drive            6          0             2.0               1.0         1290  18950.000000\n",
       "1711800  2002  Acura      sedan       1         Madison, TN     17 MPG City     27 MPG Highway   6999.0  116511.0          Automatic  Gasoline  4 doors        5 seats     V6  Front-Wheel Drive            2          0             1.0               7.0         1283   8923.769531"
      ]
     },
     "execution_count": 103,
     "metadata": {},
     "output_type": "execute_result"
    }
   ],
   "source": [
    "data3.head()"
   ]
  },
  {
   "cell_type": "code",
   "execution_count": 104,
   "metadata": {},
   "outputs": [],
   "source": [
    "locations = data3.Location.str.split(', ', expand=True).iloc[:,1]"
   ]
  },
  {
   "cell_type": "code",
   "execution_count": 105,
   "metadata": {},
   "outputs": [],
   "source": [
    "data3 = data3.drop(columns=['Location'])"
   ]
  },
  {
   "cell_type": "code",
   "execution_count": 106,
   "metadata": {},
   "outputs": [],
   "source": [
    "data3.insert(4,'Location',locations)"
   ]
  },
  {
   "cell_type": "code",
   "execution_count": 107,
   "metadata": {},
   "outputs": [
    {
     "data": {
      "text/html": [
       "<div>\n",
       "<style scoped>\n",
       "    .dataframe tbody tr th:only-of-type {\n",
       "        vertical-align: middle;\n",
       "    }\n",
       "\n",
       "    .dataframe tbody tr th {\n",
       "        vertical-align: top;\n",
       "    }\n",
       "\n",
       "    .dataframe thead th {\n",
       "        text-align: right;\n",
       "    }\n",
       "</style>\n",
       "<table border=\"1\" class=\"dataframe\">\n",
       "  <thead>\n",
       "    <tr style=\"text-align: right;\">\n",
       "      <th></th>\n",
       "      <th>Year</th>\n",
       "      <th>Brand</th>\n",
       "      <th>BodyStyle</th>\n",
       "      <th>Rental</th>\n",
       "      <th>Location</th>\n",
       "      <th>GasMileage_city</th>\n",
       "      <th>GasMileage_highway</th>\n",
       "      <th>Price</th>\n",
       "      <th>Mileage</th>\n",
       "      <th>Transmission</th>\n",
       "      <th>FuelType</th>\n",
       "      <th>DoorsNum</th>\n",
       "      <th>MaximumSeating</th>\n",
       "      <th>Engine</th>\n",
       "      <th>Drivetrain</th>\n",
       "      <th>OptionCount</th>\n",
       "      <th>Certified</th>\n",
       "      <th>Accident Check</th>\n",
       "      <th>OwnershipHistory</th>\n",
       "      <th>SellingDays</th>\n",
       "      <th>OriginPrice</th>\n",
       "    </tr>\n",
       "  </thead>\n",
       "  <tbody>\n",
       "    <tr>\n",
       "      <th>1711788</th>\n",
       "      <td>1999</td>\n",
       "      <td>Acura</td>\n",
       "      <td>sedan</td>\n",
       "      <td>0</td>\n",
       "      <td>VA</td>\n",
       "      <td>16 MPG City</td>\n",
       "      <td>22 MPG Highway</td>\n",
       "      <td>5495.0</td>\n",
       "      <td>62399.0</td>\n",
       "      <td>4-Speed Automatic</td>\n",
       "      <td>Gasoline</td>\n",
       "      <td>4 doors</td>\n",
       "      <td>5 seats</td>\n",
       "      <td>V6</td>\n",
       "      <td>Front-Wheel Drive</td>\n",
       "      <td>2</td>\n",
       "      <td>0</td>\n",
       "      <td>0.0</td>\n",
       "      <td>1.0</td>\n",
       "      <td>1574</td>\n",
       "      <td>6995.000000</td>\n",
       "    </tr>\n",
       "    <tr>\n",
       "      <th>1711790</th>\n",
       "      <td>2001</td>\n",
       "      <td>Acura</td>\n",
       "      <td>crossover</td>\n",
       "      <td>0</td>\n",
       "      <td>AL</td>\n",
       "      <td>15 MPG City</td>\n",
       "      <td>21 MPG Highway</td>\n",
       "      <td>10900.0</td>\n",
       "      <td>100600.0</td>\n",
       "      <td>Automatic</td>\n",
       "      <td>Gasoline</td>\n",
       "      <td>4 doors</td>\n",
       "      <td>7 seats</td>\n",
       "      <td>V6</td>\n",
       "      <td>Four-Wheel Drive</td>\n",
       "      <td>4</td>\n",
       "      <td>0</td>\n",
       "      <td>1.0</td>\n",
       "      <td>3.0</td>\n",
       "      <td>1400</td>\n",
       "      <td>15451.889648</td>\n",
       "    </tr>\n",
       "    <tr>\n",
       "      <th>1711792</th>\n",
       "      <td>2002</td>\n",
       "      <td>Acura</td>\n",
       "      <td>crossover</td>\n",
       "      <td>1</td>\n",
       "      <td>CT</td>\n",
       "      <td>15 MPG City</td>\n",
       "      <td>21 MPG Highway</td>\n",
       "      <td>4480.0</td>\n",
       "      <td>222837.0</td>\n",
       "      <td>5-Speed Automatic</td>\n",
       "      <td>Gasoline</td>\n",
       "      <td>4 doors</td>\n",
       "      <td>7 seats</td>\n",
       "      <td>V6</td>\n",
       "      <td>All-Wheel Drive</td>\n",
       "      <td>2</td>\n",
       "      <td>0</td>\n",
       "      <td>0.0</td>\n",
       "      <td>2.0</td>\n",
       "      <td>1352</td>\n",
       "      <td>5980.000000</td>\n",
       "    </tr>\n",
       "    <tr>\n",
       "      <th>1711799</th>\n",
       "      <td>2011</td>\n",
       "      <td>Acura</td>\n",
       "      <td>crossover</td>\n",
       "      <td>1</td>\n",
       "      <td>TN</td>\n",
       "      <td>16 MPG City</td>\n",
       "      <td>21 MPG Highway</td>\n",
       "      <td>12950.0</td>\n",
       "      <td>127259.0</td>\n",
       "      <td>6-Speed Automatic</td>\n",
       "      <td>Gasoline</td>\n",
       "      <td>4 doors</td>\n",
       "      <td>7 seats</td>\n",
       "      <td>V6</td>\n",
       "      <td>All-Wheel Drive</td>\n",
       "      <td>6</td>\n",
       "      <td>0</td>\n",
       "      <td>2.0</td>\n",
       "      <td>1.0</td>\n",
       "      <td>1290</td>\n",
       "      <td>18950.000000</td>\n",
       "    </tr>\n",
       "    <tr>\n",
       "      <th>1711800</th>\n",
       "      <td>2002</td>\n",
       "      <td>Acura</td>\n",
       "      <td>sedan</td>\n",
       "      <td>1</td>\n",
       "      <td>TN</td>\n",
       "      <td>17 MPG City</td>\n",
       "      <td>27 MPG Highway</td>\n",
       "      <td>6999.0</td>\n",
       "      <td>116511.0</td>\n",
       "      <td>Automatic</td>\n",
       "      <td>Gasoline</td>\n",
       "      <td>4 doors</td>\n",
       "      <td>5 seats</td>\n",
       "      <td>V6</td>\n",
       "      <td>Front-Wheel Drive</td>\n",
       "      <td>2</td>\n",
       "      <td>0</td>\n",
       "      <td>1.0</td>\n",
       "      <td>7.0</td>\n",
       "      <td>1283</td>\n",
       "      <td>8923.769531</td>\n",
       "    </tr>\n",
       "  </tbody>\n",
       "</table>\n",
       "</div>"
      ],
      "text/plain": [
       "         Year  Brand  BodyStyle  Rental Location GasMileage_city GasMileage_highway    Price   Mileage       Transmission  FuelType DoorsNum MaximumSeating Engine         Drivetrain  OptionCount  Certified  Accident Check  OwnershipHistory  SellingDays   OriginPrice\n",
       "1711788  1999  Acura      sedan       0       VA     16 MPG City     22 MPG Highway   5495.0   62399.0  4-Speed Automatic  Gasoline  4 doors        5 seats     V6  Front-Wheel Drive            2          0             0.0               1.0         1574   6995.000000\n",
       "1711790  2001  Acura  crossover       0       AL     15 MPG City     21 MPG Highway  10900.0  100600.0          Automatic  Gasoline  4 doors        7 seats     V6   Four-Wheel Drive            4          0             1.0               3.0         1400  15451.889648\n",
       "1711792  2002  Acura  crossover       1       CT     15 MPG City     21 MPG Highway   4480.0  222837.0  5-Speed Automatic  Gasoline  4 doors        7 seats     V6    All-Wheel Drive            2          0             0.0               2.0         1352   5980.000000\n",
       "1711799  2011  Acura  crossover       1       TN     16 MPG City     21 MPG Highway  12950.0  127259.0  6-Speed Automatic  Gasoline  4 doors        7 seats     V6    All-Wheel Drive            6          0             2.0               1.0         1290  18950.000000\n",
       "1711800  2002  Acura      sedan       1       TN     17 MPG City     27 MPG Highway   6999.0  116511.0          Automatic  Gasoline  4 doors        5 seats     V6  Front-Wheel Drive            2          0             1.0               7.0         1283   8923.769531"
      ]
     },
     "execution_count": 107,
     "metadata": {},
     "output_type": "execute_result"
    }
   ],
   "source": [
    "data3.head()"
   ]
  },
  {
   "cell_type": "code",
   "execution_count": 108,
   "metadata": {},
   "outputs": [],
   "source": [
    "data3['GasMileage_city'] = data3['GasMileage_city'].str.split(' ', n=1, expand=True).iloc[:,0]"
   ]
  },
  {
   "cell_type": "code",
   "execution_count": 109,
   "metadata": {},
   "outputs": [],
   "source": [
    "data3['GasMileage_highway'] = data3['GasMileage_highway'].str.split(' ', n=1, expand=True).iloc[:,0]"
   ]
  },
  {
   "cell_type": "code",
   "execution_count": 110,
   "metadata": {},
   "outputs": [],
   "source": [
    "data3['DoorsNum'] = data3['DoorsNum'].str.split(' ', n=1, expand=True).iloc[:,0]"
   ]
  },
  {
   "cell_type": "code",
   "execution_count": 111,
   "metadata": {},
   "outputs": [],
   "source": [
    "data3['MaximumSeating'] = data3['MaximumSeating'].str.split(' ', n=1, expand=True).iloc[:,0]"
   ]
  },
  {
   "cell_type": "code",
   "execution_count": null,
   "metadata": {},
   "outputs": [],
   "source": []
  },
  {
   "cell_type": "code",
   "execution_count": 112,
   "metadata": {},
   "outputs": [
    {
     "data": {
      "text/html": [
       "<div>\n",
       "<style scoped>\n",
       "    .dataframe tbody tr th:only-of-type {\n",
       "        vertical-align: middle;\n",
       "    }\n",
       "\n",
       "    .dataframe tbody tr th {\n",
       "        vertical-align: top;\n",
       "    }\n",
       "\n",
       "    .dataframe thead th {\n",
       "        text-align: right;\n",
       "    }\n",
       "</style>\n",
       "<table border=\"1\" class=\"dataframe\">\n",
       "  <thead>\n",
       "    <tr style=\"text-align: right;\">\n",
       "      <th></th>\n",
       "      <th>Year</th>\n",
       "      <th>Brand</th>\n",
       "      <th>BodyStyle</th>\n",
       "      <th>Rental</th>\n",
       "      <th>Location</th>\n",
       "      <th>GasMileage_city</th>\n",
       "      <th>GasMileage_highway</th>\n",
       "      <th>Price</th>\n",
       "      <th>Mileage</th>\n",
       "      <th>Transmission</th>\n",
       "      <th>FuelType</th>\n",
       "      <th>DoorsNum</th>\n",
       "      <th>MaximumSeating</th>\n",
       "      <th>Engine</th>\n",
       "      <th>Drivetrain</th>\n",
       "      <th>OptionCount</th>\n",
       "      <th>Certified</th>\n",
       "      <th>Accident Check</th>\n",
       "      <th>OwnershipHistory</th>\n",
       "      <th>SellingDays</th>\n",
       "      <th>OriginPrice</th>\n",
       "    </tr>\n",
       "  </thead>\n",
       "  <tbody>\n",
       "    <tr>\n",
       "      <th>1711788</th>\n",
       "      <td>1999</td>\n",
       "      <td>Acura</td>\n",
       "      <td>sedan</td>\n",
       "      <td>0</td>\n",
       "      <td>VA</td>\n",
       "      <td>16</td>\n",
       "      <td>22</td>\n",
       "      <td>5495.0</td>\n",
       "      <td>62399.0</td>\n",
       "      <td>4-Speed Automatic</td>\n",
       "      <td>Gasoline</td>\n",
       "      <td>4</td>\n",
       "      <td>5</td>\n",
       "      <td>V6</td>\n",
       "      <td>Front-Wheel Drive</td>\n",
       "      <td>2</td>\n",
       "      <td>0</td>\n",
       "      <td>0.0</td>\n",
       "      <td>1.0</td>\n",
       "      <td>1574</td>\n",
       "      <td>6995.000000</td>\n",
       "    </tr>\n",
       "    <tr>\n",
       "      <th>1711790</th>\n",
       "      <td>2001</td>\n",
       "      <td>Acura</td>\n",
       "      <td>crossover</td>\n",
       "      <td>0</td>\n",
       "      <td>AL</td>\n",
       "      <td>15</td>\n",
       "      <td>21</td>\n",
       "      <td>10900.0</td>\n",
       "      <td>100600.0</td>\n",
       "      <td>Automatic</td>\n",
       "      <td>Gasoline</td>\n",
       "      <td>4</td>\n",
       "      <td>7</td>\n",
       "      <td>V6</td>\n",
       "      <td>Four-Wheel Drive</td>\n",
       "      <td>4</td>\n",
       "      <td>0</td>\n",
       "      <td>1.0</td>\n",
       "      <td>3.0</td>\n",
       "      <td>1400</td>\n",
       "      <td>15451.889648</td>\n",
       "    </tr>\n",
       "    <tr>\n",
       "      <th>1711792</th>\n",
       "      <td>2002</td>\n",
       "      <td>Acura</td>\n",
       "      <td>crossover</td>\n",
       "      <td>1</td>\n",
       "      <td>CT</td>\n",
       "      <td>15</td>\n",
       "      <td>21</td>\n",
       "      <td>4480.0</td>\n",
       "      <td>222837.0</td>\n",
       "      <td>5-Speed Automatic</td>\n",
       "      <td>Gasoline</td>\n",
       "      <td>4</td>\n",
       "      <td>7</td>\n",
       "      <td>V6</td>\n",
       "      <td>All-Wheel Drive</td>\n",
       "      <td>2</td>\n",
       "      <td>0</td>\n",
       "      <td>0.0</td>\n",
       "      <td>2.0</td>\n",
       "      <td>1352</td>\n",
       "      <td>5980.000000</td>\n",
       "    </tr>\n",
       "    <tr>\n",
       "      <th>1711799</th>\n",
       "      <td>2011</td>\n",
       "      <td>Acura</td>\n",
       "      <td>crossover</td>\n",
       "      <td>1</td>\n",
       "      <td>TN</td>\n",
       "      <td>16</td>\n",
       "      <td>21</td>\n",
       "      <td>12950.0</td>\n",
       "      <td>127259.0</td>\n",
       "      <td>6-Speed Automatic</td>\n",
       "      <td>Gasoline</td>\n",
       "      <td>4</td>\n",
       "      <td>7</td>\n",
       "      <td>V6</td>\n",
       "      <td>All-Wheel Drive</td>\n",
       "      <td>6</td>\n",
       "      <td>0</td>\n",
       "      <td>2.0</td>\n",
       "      <td>1.0</td>\n",
       "      <td>1290</td>\n",
       "      <td>18950.000000</td>\n",
       "    </tr>\n",
       "    <tr>\n",
       "      <th>1711800</th>\n",
       "      <td>2002</td>\n",
       "      <td>Acura</td>\n",
       "      <td>sedan</td>\n",
       "      <td>1</td>\n",
       "      <td>TN</td>\n",
       "      <td>17</td>\n",
       "      <td>27</td>\n",
       "      <td>6999.0</td>\n",
       "      <td>116511.0</td>\n",
       "      <td>Automatic</td>\n",
       "      <td>Gasoline</td>\n",
       "      <td>4</td>\n",
       "      <td>5</td>\n",
       "      <td>V6</td>\n",
       "      <td>Front-Wheel Drive</td>\n",
       "      <td>2</td>\n",
       "      <td>0</td>\n",
       "      <td>1.0</td>\n",
       "      <td>7.0</td>\n",
       "      <td>1283</td>\n",
       "      <td>8923.769531</td>\n",
       "    </tr>\n",
       "  </tbody>\n",
       "</table>\n",
       "</div>"
      ],
      "text/plain": [
       "         Year  Brand  BodyStyle  Rental Location GasMileage_city GasMileage_highway    Price   Mileage       Transmission  FuelType DoorsNum MaximumSeating Engine         Drivetrain  OptionCount  Certified  Accident Check  OwnershipHistory  SellingDays   OriginPrice\n",
       "1711788  1999  Acura      sedan       0       VA              16                 22   5495.0   62399.0  4-Speed Automatic  Gasoline        4              5     V6  Front-Wheel Drive            2          0             0.0               1.0         1574   6995.000000\n",
       "1711790  2001  Acura  crossover       0       AL              15                 21  10900.0  100600.0          Automatic  Gasoline        4              7     V6   Four-Wheel Drive            4          0             1.0               3.0         1400  15451.889648\n",
       "1711792  2002  Acura  crossover       1       CT              15                 21   4480.0  222837.0  5-Speed Automatic  Gasoline        4              7     V6    All-Wheel Drive            2          0             0.0               2.0         1352   5980.000000\n",
       "1711799  2011  Acura  crossover       1       TN              16                 21  12950.0  127259.0  6-Speed Automatic  Gasoline        4              7     V6    All-Wheel Drive            6          0             2.0               1.0         1290  18950.000000\n",
       "1711800  2002  Acura      sedan       1       TN              17                 27   6999.0  116511.0          Automatic  Gasoline        4              5     V6  Front-Wheel Drive            2          0             1.0               7.0         1283   8923.769531"
      ]
     },
     "execution_count": 112,
     "metadata": {},
     "output_type": "execute_result"
    }
   ],
   "source": [
    "data3.head()"
   ]
  },
  {
   "cell_type": "code",
   "execution_count": 113,
   "metadata": {},
   "outputs": [
    {
     "data": {
      "text/plain": [
       "Year                    int32\n",
       "Brand                  object\n",
       "BodyStyle              object\n",
       "Rental                  int32\n",
       "Location               object\n",
       "GasMileage_city        object\n",
       "GasMileage_highway     object\n",
       "Price                 float32\n",
       "Mileage               float32\n",
       "Transmission           object\n",
       "FuelType               object\n",
       "DoorsNum               object\n",
       "MaximumSeating         object\n",
       "Engine                 object\n",
       "Drivetrain             object\n",
       "OptionCount             int32\n",
       "Certified               int32\n",
       "Accident Check        float32\n",
       "OwnershipHistory      float32\n",
       "SellingDays             int32\n",
       "OriginPrice           float32\n",
       "dtype: object"
      ]
     },
     "execution_count": 113,
     "metadata": {},
     "output_type": "execute_result"
    }
   ],
   "source": [
    "data3.dtypes"
   ]
  },
  {
   "cell_type": "code",
   "execution_count": 114,
   "metadata": {},
   "outputs": [],
   "source": [
    "data3.loc[:,['GasMileage_city','GasMileage_highway', 'DoorsNum', 'MaximumSeating']] = \\\n",
    "    data3.loc[:,['GasMileage_city','GasMileage_highway', 'DoorsNum', 'MaximumSeating']].astype('float32')"
   ]
  },
  {
   "cell_type": "code",
   "execution_count": 115,
   "metadata": {},
   "outputs": [
    {
     "data": {
      "text/plain": [
       "Year                    int32\n",
       "Brand                  object\n",
       "BodyStyle              object\n",
       "Rental                  int32\n",
       "Location               object\n",
       "GasMileage_city       float32\n",
       "GasMileage_highway    float32\n",
       "Price                 float32\n",
       "Mileage               float32\n",
       "Transmission           object\n",
       "FuelType               object\n",
       "DoorsNum              float32\n",
       "MaximumSeating        float32\n",
       "Engine                 object\n",
       "Drivetrain             object\n",
       "OptionCount             int32\n",
       "Certified               int32\n",
       "Accident Check        float32\n",
       "OwnershipHistory      float32\n",
       "SellingDays             int32\n",
       "OriginPrice           float32\n",
       "dtype: object"
      ]
     },
     "execution_count": 115,
     "metadata": {},
     "output_type": "execute_result"
    }
   ],
   "source": [
    "data3.dtypes"
   ]
  },
  {
   "cell_type": "markdown",
   "metadata": {},
   "source": [
    "---------------------------------------------------"
   ]
  },
  {
   "cell_type": "code",
   "execution_count": 116,
   "metadata": {},
   "outputs": [
    {
     "data": {
      "text/plain": [
       "52"
      ]
     },
     "execution_count": 116,
     "metadata": {},
     "output_type": "execute_result"
    }
   ],
   "source": [
    "len(np.unique(data3['Brand']))"
   ]
  },
  {
   "cell_type": "code",
   "execution_count": 117,
   "metadata": {},
   "outputs": [
    {
     "data": {
      "text/plain": [
       "10"
      ]
     },
     "execution_count": 117,
     "metadata": {},
     "output_type": "execute_result"
    }
   ],
   "source": [
    "len(np.unique(data3['BodyStyle']))"
   ]
  },
  {
   "cell_type": "code",
   "execution_count": 118,
   "metadata": {},
   "outputs": [
    {
     "data": {
      "text/plain": [
       "51"
      ]
     },
     "execution_count": 118,
     "metadata": {},
     "output_type": "execute_result"
    }
   ],
   "source": [
    "len(np.unique(data3['Location']))"
   ]
  },
  {
   "cell_type": "code",
   "execution_count": 119,
   "metadata": {},
   "outputs": [
    {
     "data": {
      "text/plain": [
       "30"
      ]
     },
     "execution_count": 119,
     "metadata": {},
     "output_type": "execute_result"
    }
   ],
   "source": [
    "len(np.unique(data3['Transmission']))"
   ]
  },
  {
   "cell_type": "code",
   "execution_count": 120,
   "metadata": {},
   "outputs": [
    {
     "data": {
      "text/plain": [
       "7"
      ]
     },
     "execution_count": 120,
     "metadata": {},
     "output_type": "execute_result"
    }
   ],
   "source": [
    "len(np.unique(data3['FuelType']))"
   ]
  },
  {
   "cell_type": "code",
   "execution_count": 121,
   "metadata": {},
   "outputs": [
    {
     "data": {
      "text/plain": [
       "array(['Biodiesel', 'Compressed Natural Gas', 'Diesel',\n",
       "       'Flex Fuel Vehicle', 'Gasoline', 'Hybrid', 'Propane'], dtype=object)"
      ]
     },
     "execution_count": 121,
     "metadata": {},
     "output_type": "execute_result"
    }
   ],
   "source": [
    "np.unique(data3['FuelType'])"
   ]
  },
  {
   "cell_type": "code",
   "execution_count": 122,
   "metadata": {},
   "outputs": [
    {
     "data": {
      "text/plain": [
       "34"
      ]
     },
     "execution_count": 122,
     "metadata": {},
     "output_type": "execute_result"
    }
   ],
   "source": [
    "len(np.unique(data3['Engine']))"
   ]
  },
  {
   "cell_type": "code",
   "execution_count": 123,
   "metadata": {},
   "outputs": [
    {
     "data": {
      "text/plain": [
       "5"
      ]
     },
     "execution_count": 123,
     "metadata": {},
     "output_type": "execute_result"
    }
   ],
   "source": [
    "len(np.unique(data3['Drivetrain']))"
   ]
  },
  {
   "cell_type": "code",
   "execution_count": 124,
   "metadata": {},
   "outputs": [
    {
     "data": {
      "text/plain": [
       "array(['4X2', 'All-Wheel Drive', 'Four-Wheel Drive', 'Front-Wheel Drive',\n",
       "       'Rear-Wheel Drive'], dtype=object)"
      ]
     },
     "execution_count": 124,
     "metadata": {},
     "output_type": "execute_result"
    }
   ],
   "source": [
    "np.unique(data3['Drivetrain'])"
   ]
  },
  {
   "cell_type": "code",
   "execution_count": null,
   "metadata": {},
   "outputs": [],
   "source": []
  },
  {
   "cell_type": "markdown",
   "metadata": {},
   "source": [
    "--------------------------------------------------------"
   ]
  },
  {
   "cell_type": "markdown",
   "metadata": {},
   "source": [
    "##### 類別變數轉成 dummy variable"
   ]
  },
  {
   "cell_type": "markdown",
   "metadata": {},
   "source": [
    "##### 1.BodyStylem"
   ]
  },
  {
   "cell_type": "code",
   "execution_count": 125,
   "metadata": {},
   "outputs": [],
   "source": [
    "data3 = pd.get_dummies(data3,\n",
    "        columns=['Brand'],\n",
    "        sparse=True,)"
   ]
  },
  {
   "cell_type": "code",
   "execution_count": null,
   "metadata": {},
   "outputs": [],
   "source": []
  },
  {
   "cell_type": "code",
   "execution_count": 126,
   "metadata": {},
   "outputs": [],
   "source": [
    "data3.to_csv('C:\\\\machine_learning\\\\20200214_final_data.csv', index=False)"
   ]
  },
  {
   "cell_type": "code",
   "execution_count": null,
   "metadata": {},
   "outputs": [],
   "source": []
  },
  {
   "cell_type": "code",
   "execution_count": null,
   "metadata": {},
   "outputs": [],
   "source": []
  },
  {
   "cell_type": "code",
   "execution_count": null,
   "metadata": {},
   "outputs": [],
   "source": []
  },
  {
   "cell_type": "code",
   "execution_count": null,
   "metadata": {},
   "outputs": [],
   "source": [
    "len(data3.columns)"
   ]
  },
  {
   "cell_type": "code",
   "execution_count": null,
   "metadata": {},
   "outputs": [],
   "source": [
    "brands_dummy_number = np.arange(20,72,1)"
   ]
  },
  {
   "cell_type": "code",
   "execution_count": null,
   "metadata": {},
   "outputs": [],
   "source": [
    "def oneToDotFive(x):\n",
    "    if x == 1:\n",
    "        return 0.5\n",
    "    else:\n",
    "        return 0"
   ]
  },
  {
   "cell_type": "code",
   "execution_count": null,
   "metadata": {},
   "outputs": [],
   "source": [
    "for i in brands_dummy_number:\n",
    "    data3.iloc[:,i] = data3.iloc[:,i].apply(oneToDotFive, axis=1)"
   ]
  },
  {
   "cell_type": "code",
   "execution_count": null,
   "metadata": {},
   "outputs": [],
   "source": [
    "data3.iloc[:,20:]"
   ]
  },
  {
   "cell_type": "code",
   "execution_count": null,
   "metadata": {},
   "outputs": [],
   "source": []
  },
  {
   "cell_type": "code",
   "execution_count": null,
   "metadata": {},
   "outputs": [],
   "source": []
  },
  {
   "cell_type": "code",
   "execution_count": null,
   "metadata": {},
   "outputs": [],
   "source": []
  },
  {
   "cell_type": "code",
   "execution_count": null,
   "metadata": {},
   "outputs": [],
   "source": []
  },
  {
   "cell_type": "code",
   "execution_count": null,
   "metadata": {},
   "outputs": [],
   "source": []
  }
 ],
 "metadata": {
  "kernelspec": {
   "display_name": "Python 3",
   "language": "python",
   "name": "python3"
  },
  "language_info": {
   "codemirror_mode": {
    "name": "ipython",
    "version": 3
   },
   "file_extension": ".py",
   "mimetype": "text/x-python",
   "name": "python",
   "nbconvert_exporter": "python",
   "pygments_lexer": "ipython3",
   "version": "3.7.5"
  }
 },
 "nbformat": 4,
 "nbformat_minor": 2
}
