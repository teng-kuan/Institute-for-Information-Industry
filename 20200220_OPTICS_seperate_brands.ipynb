{
 "cells": [
  {
   "cell_type": "code",
   "execution_count": 1,
   "metadata": {},
   "outputs": [],
   "source": [
    "import numpy as np\n",
    "import pandas as pd"
   ]
  },
  {
   "cell_type": "code",
   "execution_count": 2,
   "metadata": {},
   "outputs": [
    {
     "name": "stdout",
     "output_type": "stream",
     "text": [
      "Wall time: 8.62 s\n"
     ]
    }
   ],
   "source": [
    "%%time\n",
    "data = pd.read_csv('usedCar_Dataset_0206.csv')"
   ]
  },
  {
   "cell_type": "code",
   "execution_count": 86,
   "metadata": {},
   "outputs": [],
   "source": [
    "pd.set_option('display.max_rows', 500)\n",
    "pd.set_option('display.max_columns', 500)\n",
    "pd.set_option('display.width', 1000)"
   ]
  },
  {
   "cell_type": "markdown",
   "metadata": {},
   "source": [
    "-----------------------------------------------------"
   ]
  },
  {
   "cell_type": "code",
   "execution_count": 3,
   "metadata": {},
   "outputs": [
    {
     "data": {
      "text/plain": [
       "(2375350, 30)"
      ]
     },
     "execution_count": 3,
     "metadata": {},
     "output_type": "execute_result"
    }
   ],
   "source": [
    "data.shape"
   ]
  },
  {
   "cell_type": "code",
   "execution_count": 4,
   "metadata": {},
   "outputs": [
    {
     "data": {
      "text/plain": [
       "Index(['CarID', 'MakeId', 'Title', 'Year', 'Make', 'Model', 'Trim',\n",
       "       'BodyStyle', 'Rental', 'Location', 'GasMileage_city',\n",
       "       'GasMileage_highway', 'Price', 'Mileage', 'Transmission', 'FuelType',\n",
       "       'ExteriorColor', 'InteriorColor', 'DoorsNum', 'MaximumSeating',\n",
       "       'Engine', 'Drivetrain', 'VIN', 'OptionCount', 'MajorOptions',\n",
       "       'Certified', 'Accident Check', 'OwnershipHistory', 'SellingDays',\n",
       "       'OriginPrice'],\n",
       "      dtype='object')"
      ]
     },
     "execution_count": 4,
     "metadata": {},
     "output_type": "execute_result"
    }
   ],
   "source": [
    "data.columns"
   ]
  },
  {
   "cell_type": "code",
   "execution_count": 5,
   "metadata": {},
   "outputs": [
    {
     "data": {
      "text/html": [
       "<div>\n",
       "<style scoped>\n",
       "    .dataframe tbody tr th:only-of-type {\n",
       "        vertical-align: middle;\n",
       "    }\n",
       "\n",
       "    .dataframe tbody tr th {\n",
       "        vertical-align: top;\n",
       "    }\n",
       "\n",
       "    .dataframe thead th {\n",
       "        text-align: right;\n",
       "    }\n",
       "</style>\n",
       "<table border=\"1\" class=\"dataframe\">\n",
       "  <thead>\n",
       "    <tr style=\"text-align: right;\">\n",
       "      <th></th>\n",
       "      <th>CarID</th>\n",
       "      <th>MakeId</th>\n",
       "      <th>Title</th>\n",
       "      <th>Year</th>\n",
       "      <th>Make</th>\n",
       "      <th>Model</th>\n",
       "      <th>Trim</th>\n",
       "      <th>BodyStyle</th>\n",
       "      <th>Rental</th>\n",
       "      <th>Location</th>\n",
       "      <th>...</th>\n",
       "      <th>Engine</th>\n",
       "      <th>Drivetrain</th>\n",
       "      <th>VIN</th>\n",
       "      <th>OptionCount</th>\n",
       "      <th>MajorOptions</th>\n",
       "      <th>Certified</th>\n",
       "      <th>Accident Check</th>\n",
       "      <th>OwnershipHistory</th>\n",
       "      <th>SellingDays</th>\n",
       "      <th>OriginPrice</th>\n",
       "    </tr>\n",
       "  </thead>\n",
       "  <tbody>\n",
       "    <tr>\n",
       "      <th>0</th>\n",
       "      <td>100351603</td>\n",
       "      <td>m1</td>\n",
       "      <td>2007 Chevrolet Tahoe - $11,999</td>\n",
       "      <td>2007</td>\n",
       "      <td>Chevrolet</td>\n",
       "      <td>Tahoe</td>\n",
       "      <td>NaN</td>\n",
       "      <td>suv</td>\n",
       "      <td>NaN</td>\n",
       "      <td>Garland, TX</td>\n",
       "      <td>...</td>\n",
       "      <td>V8</td>\n",
       "      <td>NaN</td>\n",
       "      <td>1GNFC13J47R120389</td>\n",
       "      <td>0</td>\n",
       "      <td>NaN</td>\n",
       "      <td>NaN</td>\n",
       "      <td>0.0</td>\n",
       "      <td>2.0</td>\n",
       "      <td>1873</td>\n",
       "      <td>12999.0</td>\n",
       "    </tr>\n",
       "    <tr>\n",
       "      <th>1</th>\n",
       "      <td>101113873</td>\n",
       "      <td>m1</td>\n",
       "      <td>2005 Chevrolet Express - $11,995</td>\n",
       "      <td>2005</td>\n",
       "      <td>Chevrolet</td>\n",
       "      <td>Express</td>\n",
       "      <td>NaN</td>\n",
       "      <td>van</td>\n",
       "      <td>NaN</td>\n",
       "      <td>Claremont, NH</td>\n",
       "      <td>...</td>\n",
       "      <td>NaN</td>\n",
       "      <td>NaN</td>\n",
       "      <td>1GBJG31U251136588</td>\n",
       "      <td>0</td>\n",
       "      <td>NaN</td>\n",
       "      <td>NaN</td>\n",
       "      <td>1.0</td>\n",
       "      <td>1.0</td>\n",
       "      <td>1863</td>\n",
       "      <td>NaN</td>\n",
       "    </tr>\n",
       "    <tr>\n",
       "      <th>2</th>\n",
       "      <td>102996725</td>\n",
       "      <td>m1</td>\n",
       "      <td>2010 Chevrolet Silverado 2500HD Work Truck Ext...</td>\n",
       "      <td>2010</td>\n",
       "      <td>Chevrolet</td>\n",
       "      <td>Silverado 2500HD</td>\n",
       "      <td>Work Truck Extended Cab LB 4WD</td>\n",
       "      <td>pickup_truck</td>\n",
       "      <td>NaN</td>\n",
       "      <td>Frankfort, KY</td>\n",
       "      <td>...</td>\n",
       "      <td>V8</td>\n",
       "      <td>Four-Wheel Drive</td>\n",
       "      <td>1GC5KVBG7AZ218246</td>\n",
       "      <td>2</td>\n",
       "      <td>Steel Wheels,Tow Package</td>\n",
       "      <td>NaN</td>\n",
       "      <td>0.0</td>\n",
       "      <td>2.0</td>\n",
       "      <td>1837</td>\n",
       "      <td>16900.0</td>\n",
       "    </tr>\n",
       "    <tr>\n",
       "      <th>3</th>\n",
       "      <td>103384798</td>\n",
       "      <td>m1</td>\n",
       "      <td>2014 Chevrolet Corvette Stingray 3LT Coupe RWD...</td>\n",
       "      <td>2014</td>\n",
       "      <td>Chevrolet</td>\n",
       "      <td>Corvette</td>\n",
       "      <td>Stingray 3LT Coupe RWD</td>\n",
       "      <td>coupe</td>\n",
       "      <td>NaN</td>\n",
       "      <td>Lewistown, MT</td>\n",
       "      <td>...</td>\n",
       "      <td>V8</td>\n",
       "      <td>Rear-Wheel Drive</td>\n",
       "      <td>1G1YE2D73E5104797</td>\n",
       "      <td>5</td>\n",
       "      <td>Bluetooth,Backup Camera,Aluminum Wheels,Naviga...</td>\n",
       "      <td>NaN</td>\n",
       "      <td>0.0</td>\n",
       "      <td>1.0</td>\n",
       "      <td>1832</td>\n",
       "      <td>62900.0</td>\n",
       "    </tr>\n",
       "    <tr>\n",
       "      <th>4</th>\n",
       "      <td>104800849</td>\n",
       "      <td>m1</td>\n",
       "      <td>2002 Chevrolet Monte Carlo SS FWD - $3,440</td>\n",
       "      <td>2002</td>\n",
       "      <td>Chevrolet</td>\n",
       "      <td>Monte Carlo</td>\n",
       "      <td>SS FWD</td>\n",
       "      <td>coupe</td>\n",
       "      <td>NaN</td>\n",
       "      <td>Delavan, IL</td>\n",
       "      <td>...</td>\n",
       "      <td>V6</td>\n",
       "      <td>Front-Wheel Drive</td>\n",
       "      <td>2G1WX15K829249749</td>\n",
       "      <td>2</td>\n",
       "      <td>Leather Seats,Aluminum Wheels</td>\n",
       "      <td>NaN</td>\n",
       "      <td>0.0</td>\n",
       "      <td>2.0</td>\n",
       "      <td>1809</td>\n",
       "      <td>4800.0</td>\n",
       "    </tr>\n",
       "  </tbody>\n",
       "</table>\n",
       "<p>5 rows × 30 columns</p>\n",
       "</div>"
      ],
      "text/plain": [
       "       CarID MakeId                                              Title  Year  \\\n",
       "0  100351603     m1                     2007 Chevrolet Tahoe - $11,999  2007   \n",
       "1  101113873     m1                   2005 Chevrolet Express - $11,995  2005   \n",
       "2  102996725     m1  2010 Chevrolet Silverado 2500HD Work Truck Ext...  2010   \n",
       "3  103384798     m1  2014 Chevrolet Corvette Stingray 3LT Coupe RWD...  2014   \n",
       "4  104800849     m1         2002 Chevrolet Monte Carlo SS FWD - $3,440  2002   \n",
       "\n",
       "        Make             Model                            Trim     BodyStyle  \\\n",
       "0  Chevrolet             Tahoe                             NaN           suv   \n",
       "1  Chevrolet           Express                             NaN           van   \n",
       "2  Chevrolet  Silverado 2500HD  Work Truck Extended Cab LB 4WD  pickup_truck   \n",
       "3  Chevrolet          Corvette          Stingray 3LT Coupe RWD         coupe   \n",
       "4  Chevrolet       Monte Carlo                          SS FWD         coupe   \n",
       "\n",
       "  Rental       Location  ... Engine         Drivetrain                VIN  \\\n",
       "0    NaN    Garland, TX  ...     V8                NaN  1GNFC13J47R120389   \n",
       "1    NaN  Claremont, NH  ...    NaN                NaN  1GBJG31U251136588   \n",
       "2    NaN  Frankfort, KY  ...     V8   Four-Wheel Drive  1GC5KVBG7AZ218246   \n",
       "3    NaN  Lewistown, MT  ...     V8   Rear-Wheel Drive  1G1YE2D73E5104797   \n",
       "4    NaN    Delavan, IL  ...     V6  Front-Wheel Drive  2G1WX15K829249749   \n",
       "\n",
       "   OptionCount                                       MajorOptions Certified  \\\n",
       "0            0                                                NaN       NaN   \n",
       "1            0                                                NaN       NaN   \n",
       "2            2                           Steel Wheels,Tow Package       NaN   \n",
       "3            5  Bluetooth,Backup Camera,Aluminum Wheels,Naviga...       NaN   \n",
       "4            2                      Leather Seats,Aluminum Wheels       NaN   \n",
       "\n",
       "  Accident Check OwnershipHistory SellingDays OriginPrice  \n",
       "0            0.0              2.0        1873     12999.0  \n",
       "1            1.0              1.0        1863         NaN  \n",
       "2            0.0              2.0        1837     16900.0  \n",
       "3            0.0              1.0        1832     62900.0  \n",
       "4            0.0              2.0        1809      4800.0  \n",
       "\n",
       "[5 rows x 30 columns]"
      ]
     },
     "execution_count": 5,
     "metadata": {},
     "output_type": "execute_result"
    }
   ],
   "source": [
    "data.head(5)"
   ]
  },
  {
   "cell_type": "code",
   "execution_count": 6,
   "metadata": {},
   "outputs": [
    {
     "data": {
      "text/plain": [
       "MakeId\n",
       "m2      329590\n",
       "m1      293079\n",
       "m7      192976\n",
       "m12     167186\n",
       "m32     138695\n",
       "m6      122921\n",
       "m24     106549\n",
       "m26      99698\n",
       "m28      96737\n",
       "m3       78226\n",
       "m191     76643\n",
       "m43      72802\n",
       "m33      68444\n",
       "m55      58642\n",
       "m37      49712\n",
       "m53      48757\n",
       "m19      40281\n",
       "m23      38940\n",
       "m22      37894\n",
       "m21      35364\n",
       "m42      32988\n",
       "m84      28800\n",
       "m4       24941\n",
       "m38      21555\n",
       "m48      15158\n",
       "m35      14283\n",
       "m46      13522\n",
       "m56      13177\n",
       "m45      10680\n",
       "m31       6989\n",
       "m47       6474\n",
       "m52       4682\n",
       "m98       4135\n",
       "m44       3307\n",
       "m51       3205\n",
       "m40       2774\n",
       "m27       2110\n",
       "m25       1870\n",
       "m20       1596\n",
       "m124      1249\n",
       "m203      1146\n",
       "m112      1144\n",
       "m54        917\n",
       "m50        872\n",
       "m85        799\n",
       "m34        691\n",
       "m110       639\n",
       "m49        629\n",
       "m111       610\n",
       "m141       483\n",
       "m87        405\n",
       "m30        249\n",
       "m135        94\n",
       "m194        40\n",
       "m79          1\n",
       "dtype: int64"
      ]
     },
     "execution_count": 6,
     "metadata": {},
     "output_type": "execute_result"
    }
   ],
   "source": [
    "data.groupby(by='MakeId').size().sort_values(ascending=False)"
   ]
  },
  {
   "cell_type": "code",
   "execution_count": null,
   "metadata": {},
   "outputs": [],
   "source": []
  },
  {
   "cell_type": "markdown",
   "metadata": {},
   "source": [
    "---------------------------------------------------------------------------"
   ]
  },
  {
   "cell_type": "code",
   "execution_count": 7,
   "metadata": {},
   "outputs": [],
   "source": [
    "car_m54 = data[data['MakeId'] == 'm54']"
   ]
  },
  {
   "cell_type": "code",
   "execution_count": 8,
   "metadata": {},
   "outputs": [
    {
     "data": {
      "text/plain": [
       "(917, 30)"
      ]
     },
     "execution_count": 8,
     "metadata": {},
     "output_type": "execute_result"
    }
   ],
   "source": [
    "car_m54.shape"
   ]
  },
  {
   "cell_type": "code",
   "execution_count": 10,
   "metadata": {},
   "outputs": [],
   "source": [
    "car_m54 = car_m54.dropna(subset=['Price', 'Mileage', 'Accident Check', 'OwnershipHistory'])"
   ]
  },
  {
   "cell_type": "code",
   "execution_count": 11,
   "metadata": {},
   "outputs": [
    {
     "data": {
      "text/plain": [
       "(787, 30)"
      ]
     },
     "execution_count": 11,
     "metadata": {},
     "output_type": "execute_result"
    }
   ],
   "source": [
    "car_m54.shape"
   ]
  },
  {
   "cell_type": "code",
   "execution_count": 12,
   "metadata": {},
   "outputs": [
    {
     "data": {
      "text/plain": [
       "CarID                   int64\n",
       "MakeId                 object\n",
       "Title                  object\n",
       "Year                    int64\n",
       "Make                   object\n",
       "Model                  object\n",
       "Trim                   object\n",
       "BodyStyle              object\n",
       "Rental                 object\n",
       "Location               object\n",
       "GasMileage_city        object\n",
       "GasMileage_highway     object\n",
       "Price                 float64\n",
       "Mileage               float64\n",
       "Transmission           object\n",
       "FuelType               object\n",
       "ExteriorColor          object\n",
       "InteriorColor          object\n",
       "DoorsNum               object\n",
       "MaximumSeating         object\n",
       "Engine                 object\n",
       "Drivetrain             object\n",
       "VIN                    object\n",
       "OptionCount             int64\n",
       "MajorOptions           object\n",
       "Certified              object\n",
       "Accident Check        float64\n",
       "OwnershipHistory      float64\n",
       "SellingDays             int64\n",
       "OriginPrice           float64\n",
       "dtype: object"
      ]
     },
     "execution_count": 12,
     "metadata": {},
     "output_type": "execute_result"
    }
   ],
   "source": [
    "car_m54.dtypes"
   ]
  },
  {
   "cell_type": "code",
   "execution_count": 13,
   "metadata": {},
   "outputs": [],
   "source": [
    "train_data = car_m54.iloc[:,[3,12,13,23,26,27,28,29]]"
   ]
  },
  {
   "cell_type": "code",
   "execution_count": 14,
   "metadata": {},
   "outputs": [
    {
     "data": {
      "text/plain": [
       "Year                  0\n",
       "Price                 0\n",
       "Mileage               0\n",
       "OptionCount           0\n",
       "Accident Check        0\n",
       "OwnershipHistory      0\n",
       "SellingDays           0\n",
       "OriginPrice         503\n",
       "dtype: int64"
      ]
     },
     "execution_count": 14,
     "metadata": {},
     "output_type": "execute_result"
    }
   ],
   "source": [
    "train_data.isnull().sum()"
   ]
  },
  {
   "cell_type": "code",
   "execution_count": 15,
   "metadata": {},
   "outputs": [
    {
     "data": {
      "text/plain": [
       "(787, 8)"
      ]
     },
     "execution_count": 15,
     "metadata": {},
     "output_type": "execute_result"
    }
   ],
   "source": [
    "train_data.shape"
   ]
  },
  {
   "cell_type": "code",
   "execution_count": 16,
   "metadata": {},
   "outputs": [],
   "source": [
    "train_data = train_data.drop(columns=['OriginPrice'])"
   ]
  },
  {
   "cell_type": "code",
   "execution_count": 17,
   "metadata": {},
   "outputs": [
    {
     "data": {
      "text/plain": [
       "(787, 7)"
      ]
     },
     "execution_count": 17,
     "metadata": {},
     "output_type": "execute_result"
    }
   ],
   "source": [
    "train_data.shape"
   ]
  },
  {
   "cell_type": "code",
   "execution_count": 18,
   "metadata": {},
   "outputs": [
    {
     "data": {
      "text/plain": [
       "Year                0\n",
       "Price               0\n",
       "Mileage             0\n",
       "OptionCount         0\n",
       "Accident Check      0\n",
       "OwnershipHistory    0\n",
       "SellingDays         0\n",
       "dtype: int64"
      ]
     },
     "execution_count": 18,
     "metadata": {},
     "output_type": "execute_result"
    }
   ],
   "source": [
    "train_data.isnull().sum()"
   ]
  },
  {
   "cell_type": "code",
   "execution_count": null,
   "metadata": {},
   "outputs": [],
   "source": []
  },
  {
   "cell_type": "code",
   "execution_count": 19,
   "metadata": {},
   "outputs": [
    {
     "data": {
      "text/html": [
       "<div>\n",
       "<style scoped>\n",
       "    .dataframe tbody tr th:only-of-type {\n",
       "        vertical-align: middle;\n",
       "    }\n",
       "\n",
       "    .dataframe tbody tr th {\n",
       "        vertical-align: top;\n",
       "    }\n",
       "\n",
       "    .dataframe thead th {\n",
       "        text-align: right;\n",
       "    }\n",
       "</style>\n",
       "<table border=\"1\" class=\"dataframe\">\n",
       "  <thead>\n",
       "    <tr style=\"text-align: right;\">\n",
       "      <th></th>\n",
       "      <th>Year</th>\n",
       "      <th>Price</th>\n",
       "      <th>Mileage</th>\n",
       "      <th>OptionCount</th>\n",
       "      <th>Accident Check</th>\n",
       "      <th>OwnershipHistory</th>\n",
       "      <th>SellingDays</th>\n",
       "    </tr>\n",
       "  </thead>\n",
       "  <tbody>\n",
       "    <tr>\n",
       "      <th>1952578</th>\n",
       "      <td>2007</td>\n",
       "      <td>2977.0</td>\n",
       "      <td>157928.0</td>\n",
       "      <td>0</td>\n",
       "      <td>1.0</td>\n",
       "      <td>2.0</td>\n",
       "      <td>1830</td>\n",
       "    </tr>\n",
       "    <tr>\n",
       "      <th>1952579</th>\n",
       "      <td>2003</td>\n",
       "      <td>3500.0</td>\n",
       "      <td>163000.0</td>\n",
       "      <td>0</td>\n",
       "      <td>2.0</td>\n",
       "      <td>4.0</td>\n",
       "      <td>1431</td>\n",
       "    </tr>\n",
       "    <tr>\n",
       "      <th>1952581</th>\n",
       "      <td>2010</td>\n",
       "      <td>5999.0</td>\n",
       "      <td>90915.0</td>\n",
       "      <td>0</td>\n",
       "      <td>1.0</td>\n",
       "      <td>2.0</td>\n",
       "      <td>1312</td>\n",
       "    </tr>\n",
       "    <tr>\n",
       "      <th>1952587</th>\n",
       "      <td>2004</td>\n",
       "      <td>2750.0</td>\n",
       "      <td>117806.0</td>\n",
       "      <td>1</td>\n",
       "      <td>1.0</td>\n",
       "      <td>2.0</td>\n",
       "      <td>1139</td>\n",
       "    </tr>\n",
       "    <tr>\n",
       "      <th>1952589</th>\n",
       "      <td>2007</td>\n",
       "      <td>6750.0</td>\n",
       "      <td>74729.0</td>\n",
       "      <td>2</td>\n",
       "      <td>0.0</td>\n",
       "      <td>3.0</td>\n",
       "      <td>1050</td>\n",
       "    </tr>\n",
       "  </tbody>\n",
       "</table>\n",
       "</div>"
      ],
      "text/plain": [
       "         Year   Price   Mileage  OptionCount  Accident Check  \\\n",
       "1952578  2007  2977.0  157928.0            0             1.0   \n",
       "1952579  2003  3500.0  163000.0            0             2.0   \n",
       "1952581  2010  5999.0   90915.0            0             1.0   \n",
       "1952587  2004  2750.0  117806.0            1             1.0   \n",
       "1952589  2007  6750.0   74729.0            2             0.0   \n",
       "\n",
       "         OwnershipHistory  SellingDays  \n",
       "1952578               2.0         1830  \n",
       "1952579               4.0         1431  \n",
       "1952581               2.0         1312  \n",
       "1952587               2.0         1139  \n",
       "1952589               3.0         1050  "
      ]
     },
     "execution_count": 19,
     "metadata": {},
     "output_type": "execute_result"
    }
   ],
   "source": [
    "train_data.head(5)"
   ]
  },
  {
   "cell_type": "code",
   "execution_count": 20,
   "metadata": {},
   "outputs": [],
   "source": [
    "from sklearn.preprocessing import MinMaxScaler"
   ]
  },
  {
   "cell_type": "code",
   "execution_count": 21,
   "metadata": {},
   "outputs": [],
   "source": [
    "mms = MinMaxScaler()"
   ]
  },
  {
   "cell_type": "code",
   "execution_count": 22,
   "metadata": {},
   "outputs": [],
   "source": [
    "train_data.iloc[:,:] = mms.fit_transform(train_data.iloc[:,:])"
   ]
  },
  {
   "cell_type": "code",
   "execution_count": 23,
   "metadata": {},
   "outputs": [
    {
     "data": {
      "text/html": [
       "<div>\n",
       "<style scoped>\n",
       "    .dataframe tbody tr th:only-of-type {\n",
       "        vertical-align: middle;\n",
       "    }\n",
       "\n",
       "    .dataframe tbody tr th {\n",
       "        vertical-align: top;\n",
       "    }\n",
       "\n",
       "    .dataframe thead th {\n",
       "        text-align: right;\n",
       "    }\n",
       "</style>\n",
       "<table border=\"1\" class=\"dataframe\">\n",
       "  <thead>\n",
       "    <tr style=\"text-align: right;\">\n",
       "      <th></th>\n",
       "      <th>Year</th>\n",
       "      <th>Price</th>\n",
       "      <th>Mileage</th>\n",
       "      <th>OptionCount</th>\n",
       "      <th>Accident Check</th>\n",
       "      <th>OwnershipHistory</th>\n",
       "      <th>SellingDays</th>\n",
       "    </tr>\n",
       "  </thead>\n",
       "  <tbody>\n",
       "    <tr>\n",
       "      <th>1952578</th>\n",
       "      <td>0.777778</td>\n",
       "      <td>0.019348</td>\n",
       "      <td>0.596435</td>\n",
       "      <td>0.000</td>\n",
       "      <td>0.25</td>\n",
       "      <td>0.1</td>\n",
       "      <td>0.874343</td>\n",
       "    </tr>\n",
       "    <tr>\n",
       "      <th>1952579</th>\n",
       "      <td>0.629630</td>\n",
       "      <td>0.023605</td>\n",
       "      <td>0.615602</td>\n",
       "      <td>0.000</td>\n",
       "      <td>0.50</td>\n",
       "      <td>0.3</td>\n",
       "      <td>0.683708</td>\n",
       "    </tr>\n",
       "    <tr>\n",
       "      <th>1952581</th>\n",
       "      <td>0.888889</td>\n",
       "      <td>0.043946</td>\n",
       "      <td>0.343192</td>\n",
       "      <td>0.000</td>\n",
       "      <td>0.25</td>\n",
       "      <td>0.1</td>\n",
       "      <td>0.626851</td>\n",
       "    </tr>\n",
       "    <tr>\n",
       "      <th>1952587</th>\n",
       "      <td>0.666667</td>\n",
       "      <td>0.017500</td>\n",
       "      <td>0.444813</td>\n",
       "      <td>0.125</td>\n",
       "      <td>0.25</td>\n",
       "      <td>0.1</td>\n",
       "      <td>0.544195</td>\n",
       "    </tr>\n",
       "    <tr>\n",
       "      <th>1952589</th>\n",
       "      <td>0.777778</td>\n",
       "      <td>0.050059</td>\n",
       "      <td>0.282024</td>\n",
       "      <td>0.250</td>\n",
       "      <td>0.00</td>\n",
       "      <td>0.2</td>\n",
       "      <td>0.501672</td>\n",
       "    </tr>\n",
       "  </tbody>\n",
       "</table>\n",
       "</div>"
      ],
      "text/plain": [
       "             Year     Price   Mileage  OptionCount  Accident Check  \\\n",
       "1952578  0.777778  0.019348  0.596435        0.000            0.25   \n",
       "1952579  0.629630  0.023605  0.615602        0.000            0.50   \n",
       "1952581  0.888889  0.043946  0.343192        0.000            0.25   \n",
       "1952587  0.666667  0.017500  0.444813        0.125            0.25   \n",
       "1952589  0.777778  0.050059  0.282024        0.250            0.00   \n",
       "\n",
       "         OwnershipHistory  SellingDays  \n",
       "1952578               0.1     0.874343  \n",
       "1952579               0.3     0.683708  \n",
       "1952581               0.1     0.626851  \n",
       "1952587               0.1     0.544195  \n",
       "1952589               0.2     0.501672  "
      ]
     },
     "execution_count": 23,
     "metadata": {},
     "output_type": "execute_result"
    }
   ],
   "source": [
    "train_data.head()"
   ]
  },
  {
   "cell_type": "code",
   "execution_count": 24,
   "metadata": {},
   "outputs": [
    {
     "data": {
      "text/plain": [
       "(787, 7)"
      ]
     },
     "execution_count": 24,
     "metadata": {},
     "output_type": "execute_result"
    }
   ],
   "source": [
    "train_data.shape"
   ]
  },
  {
   "cell_type": "markdown",
   "metadata": {},
   "source": [
    "----------------------------------------------------------------------------------------"
   ]
  },
  {
   "cell_type": "code",
   "execution_count": 25,
   "metadata": {},
   "outputs": [],
   "source": [
    "from sklearn.cluster import OPTICS"
   ]
  },
  {
   "cell_type": "code",
   "execution_count": 26,
   "metadata": {},
   "outputs": [],
   "source": [
    "opt = OPTICS(min_samples=5,\n",
    "    max_eps=0.2,\n",
    "    metric='minkowski',\n",
    "    p=2,\n",
    "    cluster_method='xi',\n",
    "    eps=None,\n",
    "    xi=0.05,\n",
    "    leaf_size=30,\n",
    "    n_jobs=6)"
   ]
  },
  {
   "cell_type": "code",
   "execution_count": 27,
   "metadata": {},
   "outputs": [
    {
     "name": "stdout",
     "output_type": "stream",
     "text": [
      "Wall time: 1min 14s\n"
     ]
    }
   ],
   "source": [
    "%%time\n",
    "y_opt = opt.fit_predict(train_data)"
   ]
  },
  {
   "cell_type": "code",
   "execution_count": 28,
   "metadata": {},
   "outputs": [
    {
     "data": {
      "text/plain": [
       "array([-1,  0,  1,  2,  3,  4,  5,  6,  7,  8,  9, 10, 11, 12, 13, 14, 15,\n",
       "       16, 17, 18, 19, 20, 21, 22, 23, 24, 25, 26, 27, 28, 29, 30, 31])"
      ]
     },
     "execution_count": 28,
     "metadata": {},
     "output_type": "execute_result"
    }
   ],
   "source": [
    "np.unique(y_opt)"
   ]
  },
  {
   "cell_type": "code",
   "execution_count": 30,
   "metadata": {},
   "outputs": [],
   "source": [
    "y_cluster = y_opt[y_opt >= 0]"
   ]
  },
  {
   "cell_type": "code",
   "execution_count": 31,
   "metadata": {},
   "outputs": [
    {
     "data": {
      "text/plain": [
       "array([ 7,  7,  6,  5,  6,  7,  8,  8,  8, 11,  9,  6,  5,  9,  9,  7, 11,\n",
       "       10, 15,  7,  5,  5,  6,  6,  5,  7,  6,  6,  5,  6, 10,  9],\n",
       "      dtype=int64)"
      ]
     },
     "execution_count": 31,
     "metadata": {},
     "output_type": "execute_result"
    }
   ],
   "source": [
    "np.bincount(y_cluster)"
   ]
  },
  {
   "cell_type": "code",
   "execution_count": null,
   "metadata": {},
   "outputs": [],
   "source": []
  },
  {
   "cell_type": "code",
   "execution_count": 32,
   "metadata": {},
   "outputs": [],
   "source": [
    "from sklearn.cluster import DBSCAN"
   ]
  },
  {
   "cell_type": "code",
   "execution_count": 73,
   "metadata": {},
   "outputs": [],
   "source": [
    "db = DBSCAN(eps=0.2,\n",
    "    min_samples=5,\n",
    "    metric='euclidean',\n",
    "    n_jobs=6)"
   ]
  },
  {
   "cell_type": "code",
   "execution_count": 74,
   "metadata": {},
   "outputs": [
    {
     "name": "stdout",
     "output_type": "stream",
     "text": [
      "Wall time: 110 ms\n"
     ]
    }
   ],
   "source": [
    "%%time\n",
    "y_db = db.fit_predict(train_data)"
   ]
  },
  {
   "cell_type": "code",
   "execution_count": 75,
   "metadata": {},
   "outputs": [
    {
     "data": {
      "text/plain": [
       "array([-1,  0,  1,  2,  3], dtype=int64)"
      ]
     },
     "execution_count": 75,
     "metadata": {},
     "output_type": "execute_result"
    }
   ],
   "source": [
    "np.unique(y_db)"
   ]
  },
  {
   "cell_type": "code",
   "execution_count": 76,
   "metadata": {},
   "outputs": [],
   "source": [
    "y_cluster_db = y_db[y_db >= 0]"
   ]
  },
  {
   "cell_type": "code",
   "execution_count": 77,
   "metadata": {},
   "outputs": [
    {
     "data": {
      "text/plain": [
       "array([562, 144,  22,   5], dtype=int64)"
      ]
     },
     "execution_count": 77,
     "metadata": {},
     "output_type": "execute_result"
    }
   ],
   "source": [
    "np.bincount(y_cluster_db)"
   ]
  },
  {
   "cell_type": "code",
   "execution_count": null,
   "metadata": {},
   "outputs": [],
   "source": []
  },
  {
   "cell_type": "code",
   "execution_count": 78,
   "metadata": {},
   "outputs": [
    {
     "data": {
      "text/plain": [
       "(787, 30)"
      ]
     },
     "execution_count": 78,
     "metadata": {},
     "output_type": "execute_result"
    }
   ],
   "source": [
    "car_m54.shape"
   ]
  },
  {
   "cell_type": "code",
   "execution_count": 79,
   "metadata": {},
   "outputs": [
    {
     "data": {
      "text/plain": [
       "787"
      ]
     },
     "execution_count": 79,
     "metadata": {},
     "output_type": "execute_result"
    }
   ],
   "source": [
    "len(y_opt)"
   ]
  },
  {
   "cell_type": "code",
   "execution_count": 80,
   "metadata": {},
   "outputs": [
    {
     "data": {
      "text/plain": [
       "787"
      ]
     },
     "execution_count": 80,
     "metadata": {},
     "output_type": "execute_result"
    }
   ],
   "source": [
    "len(y_db)"
   ]
  },
  {
   "cell_type": "code",
   "execution_count": null,
   "metadata": {},
   "outputs": [],
   "source": []
  },
  {
   "cell_type": "code",
   "execution_count": 81,
   "metadata": {},
   "outputs": [],
   "source": [
    "car_m54['labels_opt'] = y_opt"
   ]
  },
  {
   "cell_type": "code",
   "execution_count": 82,
   "metadata": {},
   "outputs": [],
   "source": [
    "car_m54['labels_db'] = y_db"
   ]
  },
  {
   "cell_type": "code",
   "execution_count": 88,
   "metadata": {},
   "outputs": [
    {
     "data": {
      "text/html": [
       "<div>\n",
       "<style scoped>\n",
       "    .dataframe tbody tr th:only-of-type {\n",
       "        vertical-align: middle;\n",
       "    }\n",
       "\n",
       "    .dataframe tbody tr th {\n",
       "        vertical-align: top;\n",
       "    }\n",
       "\n",
       "    .dataframe thead th {\n",
       "        text-align: right;\n",
       "    }\n",
       "</style>\n",
       "<table border=\"1\" class=\"dataframe\">\n",
       "  <thead>\n",
       "    <tr style=\"text-align: right;\">\n",
       "      <th></th>\n",
       "      <th>CarID</th>\n",
       "      <th>MakeId</th>\n",
       "      <th>Title</th>\n",
       "      <th>Year</th>\n",
       "      <th>Make</th>\n",
       "      <th>Model</th>\n",
       "      <th>Trim</th>\n",
       "      <th>BodyStyle</th>\n",
       "      <th>Rental</th>\n",
       "      <th>Location</th>\n",
       "      <th>GasMileage_city</th>\n",
       "      <th>GasMileage_highway</th>\n",
       "      <th>Price</th>\n",
       "      <th>Mileage</th>\n",
       "      <th>Transmission</th>\n",
       "      <th>FuelType</th>\n",
       "      <th>ExteriorColor</th>\n",
       "      <th>InteriorColor</th>\n",
       "      <th>DoorsNum</th>\n",
       "      <th>MaximumSeating</th>\n",
       "      <th>Engine</th>\n",
       "      <th>Drivetrain</th>\n",
       "      <th>VIN</th>\n",
       "      <th>OptionCount</th>\n",
       "      <th>MajorOptions</th>\n",
       "      <th>Certified</th>\n",
       "      <th>Accident Check</th>\n",
       "      <th>OwnershipHistory</th>\n",
       "      <th>SellingDays</th>\n",
       "      <th>OriginPrice</th>\n",
       "      <th>labels_opt</th>\n",
       "      <th>labels_db</th>\n",
       "    </tr>\n",
       "  </thead>\n",
       "  <tbody>\n",
       "    <tr>\n",
       "      <th>1952660</th>\n",
       "      <td>238745222</td>\n",
       "      <td>m54</td>\n",
       "      <td>2004 Suzuki XL-7 EX III 4WD - $3,995</td>\n",
       "      <td>2004</td>\n",
       "      <td>Suzuki</td>\n",
       "      <td>XL-7</td>\n",
       "      <td>EX III 4WD</td>\n",
       "      <td>suv</td>\n",
       "      <td>NaN</td>\n",
       "      <td>Murphysboro, IL</td>\n",
       "      <td>15 MPG City</td>\n",
       "      <td>20 MPG Highway</td>\n",
       "      <td>3995.0</td>\n",
       "      <td>131800.0</td>\n",
       "      <td>5-Speed Automatic</td>\n",
       "      <td>Gasoline</td>\n",
       "      <td>Silver</td>\n",
       "      <td>Gray</td>\n",
       "      <td>4 doors</td>\n",
       "      <td>7 seats</td>\n",
       "      <td>V6</td>\n",
       "      <td>Four-Wheel Drive</td>\n",
       "      <td>JS3TX92VX44113055</td>\n",
       "      <td>1</td>\n",
       "      <td>Sunroof/Moonroof</td>\n",
       "      <td>NaN</td>\n",
       "      <td>0.0</td>\n",
       "      <td>2.0</td>\n",
       "      <td>245</td>\n",
       "      <td>4995.0</td>\n",
       "      <td>3</td>\n",
       "      <td>0</td>\n",
       "    </tr>\n",
       "    <tr>\n",
       "      <th>1952739</th>\n",
       "      <td>247692203</td>\n",
       "      <td>m54</td>\n",
       "      <td>2005 Suzuki Forenza S Sedan - $2,370</td>\n",
       "      <td>2005</td>\n",
       "      <td>Suzuki</td>\n",
       "      <td>Forenza</td>\n",
       "      <td>S Sedan</td>\n",
       "      <td>sedan</td>\n",
       "      <td>NaN</td>\n",
       "      <td>Mooresville, IN</td>\n",
       "      <td>NaN</td>\n",
       "      <td>NaN</td>\n",
       "      <td>2370.0</td>\n",
       "      <td>125217.0</td>\n",
       "      <td>5-Speed Automatic</td>\n",
       "      <td>Gasoline</td>\n",
       "      <td>Red</td>\n",
       "      <td>Gray</td>\n",
       "      <td>4 doors</td>\n",
       "      <td>5 seats</td>\n",
       "      <td>I4</td>\n",
       "      <td>Front-Wheel Drive</td>\n",
       "      <td>KL5JD56Z75K115854</td>\n",
       "      <td>1</td>\n",
       "      <td>Steel Wheels</td>\n",
       "      <td>NaN</td>\n",
       "      <td>0.0</td>\n",
       "      <td>2.0</td>\n",
       "      <td>150</td>\n",
       "      <td>NaN</td>\n",
       "      <td>3</td>\n",
       "      <td>0</td>\n",
       "    </tr>\n",
       "    <tr>\n",
       "      <th>1952741</th>\n",
       "      <td>247794090</td>\n",
       "      <td>m54</td>\n",
       "      <td>2003 Suzuki XL-7 Limited 4WD - $2,900</td>\n",
       "      <td>2003</td>\n",
       "      <td>Suzuki</td>\n",
       "      <td>XL-7</td>\n",
       "      <td>Limited 4WD</td>\n",
       "      <td>suv</td>\n",
       "      <td>NaN</td>\n",
       "      <td>Fredericksburg, VA</td>\n",
       "      <td>15 MPG City</td>\n",
       "      <td>18 MPG Highway</td>\n",
       "      <td>2900.0</td>\n",
       "      <td>137831.0</td>\n",
       "      <td>Automatic</td>\n",
       "      <td>Gasoline</td>\n",
       "      <td>White</td>\n",
       "      <td>NaN</td>\n",
       "      <td>4 doors</td>\n",
       "      <td>7 seats</td>\n",
       "      <td>V6</td>\n",
       "      <td>Four-Wheel Drive</td>\n",
       "      <td>JS3TX92VX34101504</td>\n",
       "      <td>1</td>\n",
       "      <td>Alloy Wheels</td>\n",
       "      <td>NaN</td>\n",
       "      <td>0.0</td>\n",
       "      <td>2.0</td>\n",
       "      <td>148</td>\n",
       "      <td>3499.0</td>\n",
       "      <td>3</td>\n",
       "      <td>0</td>\n",
       "    </tr>\n",
       "    <tr>\n",
       "      <th>1952762</th>\n",
       "      <td>249061807</td>\n",
       "      <td>m54</td>\n",
       "      <td>2004 Suzuki Verona 4 Dr S Sedan - $2,550</td>\n",
       "      <td>2004</td>\n",
       "      <td>Suzuki</td>\n",
       "      <td>Verona</td>\n",
       "      <td>4 Dr S Sedan</td>\n",
       "      <td>sedan</td>\n",
       "      <td>NaN</td>\n",
       "      <td>Republic, MO</td>\n",
       "      <td>17 MPG City</td>\n",
       "      <td>25 MPG Highway</td>\n",
       "      <td>2550.0</td>\n",
       "      <td>136811.0</td>\n",
       "      <td>Automatic</td>\n",
       "      <td>Gasoline</td>\n",
       "      <td>Blue</td>\n",
       "      <td>Black</td>\n",
       "      <td>4 doors</td>\n",
       "      <td>5 seats</td>\n",
       "      <td>I6</td>\n",
       "      <td>Front-Wheel Drive</td>\n",
       "      <td>KL5VJ52L64B110641</td>\n",
       "      <td>1</td>\n",
       "      <td>Steel Wheels</td>\n",
       "      <td>NaN</td>\n",
       "      <td>0.0</td>\n",
       "      <td>2.0</td>\n",
       "      <td>136</td>\n",
       "      <td>NaN</td>\n",
       "      <td>3</td>\n",
       "      <td>0</td>\n",
       "    </tr>\n",
       "    <tr>\n",
       "      <th>1952918</th>\n",
       "      <td>255648093</td>\n",
       "      <td>m54</td>\n",
       "      <td>2005 Suzuki XL-7 LX 4WD - $4,488</td>\n",
       "      <td>2005</td>\n",
       "      <td>Suzuki</td>\n",
       "      <td>XL-7</td>\n",
       "      <td>LX 4WD</td>\n",
       "      <td>suv</td>\n",
       "      <td>NaN</td>\n",
       "      <td>Johnstown, PA</td>\n",
       "      <td>15 MPG City</td>\n",
       "      <td>20 MPG Highway</td>\n",
       "      <td>4488.0</td>\n",
       "      <td>129000.0</td>\n",
       "      <td>5-Speed Automatic</td>\n",
       "      <td>Gasoline</td>\n",
       "      <td>Black</td>\n",
       "      <td>Brown (Tan)</td>\n",
       "      <td>4 doors</td>\n",
       "      <td>5 seats</td>\n",
       "      <td>V6</td>\n",
       "      <td>Four-Wheel Drive</td>\n",
       "      <td>JS3TX92V254100799</td>\n",
       "      <td>1</td>\n",
       "      <td>Alloy Wheels</td>\n",
       "      <td>NaN</td>\n",
       "      <td>0.0</td>\n",
       "      <td>2.0</td>\n",
       "      <td>67</td>\n",
       "      <td>4288.0</td>\n",
       "      <td>3</td>\n",
       "      <td>0</td>\n",
       "    </tr>\n",
       "  </tbody>\n",
       "</table>\n",
       "</div>"
      ],
      "text/plain": [
       "             CarID MakeId                                     Title  Year    Make    Model          Trim BodyStyle Rental            Location GasMileage_city GasMileage_highway   Price   Mileage       Transmission  FuelType ExteriorColor InteriorColor DoorsNum MaximumSeating Engine         Drivetrain                VIN  OptionCount      MajorOptions Certified  Accident Check  OwnershipHistory  SellingDays  OriginPrice  labels_opt  labels_db\n",
       "1952660  238745222    m54      2004 Suzuki XL-7 EX III 4WD - $3,995  2004  Suzuki     XL-7    EX III 4WD       suv    NaN     Murphysboro, IL     15 MPG City     20 MPG Highway  3995.0  131800.0  5-Speed Automatic  Gasoline        Silver          Gray  4 doors        7 seats     V6   Four-Wheel Drive  JS3TX92VX44113055            1  Sunroof/Moonroof       NaN             0.0               2.0          245       4995.0           3          0\n",
       "1952739  247692203    m54      2005 Suzuki Forenza S Sedan - $2,370  2005  Suzuki  Forenza       S Sedan     sedan    NaN     Mooresville, IN             NaN                NaN  2370.0  125217.0  5-Speed Automatic  Gasoline           Red          Gray  4 doors        5 seats     I4  Front-Wheel Drive  KL5JD56Z75K115854            1      Steel Wheels       NaN             0.0               2.0          150          NaN           3          0\n",
       "1952741  247794090    m54     2003 Suzuki XL-7 Limited 4WD - $2,900  2003  Suzuki     XL-7   Limited 4WD       suv    NaN  Fredericksburg, VA     15 MPG City     18 MPG Highway  2900.0  137831.0          Automatic  Gasoline         White           NaN  4 doors        7 seats     V6   Four-Wheel Drive  JS3TX92VX34101504            1      Alloy Wheels       NaN             0.0               2.0          148       3499.0           3          0\n",
       "1952762  249061807    m54  2004 Suzuki Verona 4 Dr S Sedan - $2,550  2004  Suzuki   Verona  4 Dr S Sedan     sedan    NaN        Republic, MO     17 MPG City     25 MPG Highway  2550.0  136811.0          Automatic  Gasoline          Blue         Black  4 doors        5 seats     I6  Front-Wheel Drive  KL5VJ52L64B110641            1      Steel Wheels       NaN             0.0               2.0          136          NaN           3          0\n",
       "1952918  255648093    m54          2005 Suzuki XL-7 LX 4WD - $4,488  2005  Suzuki     XL-7        LX 4WD       suv    NaN       Johnstown, PA     15 MPG City     20 MPG Highway  4488.0  129000.0  5-Speed Automatic  Gasoline         Black   Brown (Tan)  4 doors        5 seats     V6   Four-Wheel Drive  JS3TX92V254100799            1      Alloy Wheels       NaN             0.0               2.0           67       4288.0           3          0"
      ]
     },
     "execution_count": 88,
     "metadata": {},
     "output_type": "execute_result"
    }
   ],
   "source": [
    "car_m54[car_m54['labels_opt'] == 3]"
   ]
  },
  {
   "cell_type": "code",
   "execution_count": null,
   "metadata": {},
   "outputs": [],
   "source": []
  },
  {
   "cell_type": "markdown",
   "metadata": {},
   "source": [
    "-----------------------------------------------------"
   ]
  },
  {
   "cell_type": "code",
   "execution_count": 89,
   "metadata": {},
   "outputs": [],
   "source": [
    "opt2 = OPTICS(min_samples=5,\n",
    "    max_eps=0.2,\n",
    "    metric='minkowski',\n",
    "    p=2,\n",
    "    cluster_method='dbscan',\n",
    "    eps=0.2,\n",
    "    leaf_size=30,\n",
    "    n_jobs=6)"
   ]
  },
  {
   "cell_type": "code",
   "execution_count": 90,
   "metadata": {},
   "outputs": [
    {
     "name": "stdout",
     "output_type": "stream",
     "text": [
      "Wall time: 1min 15s\n"
     ]
    }
   ],
   "source": [
    "%%time\n",
    "y_opt2 = opt2.fit_predict(train_data)"
   ]
  },
  {
   "cell_type": "code",
   "execution_count": 91,
   "metadata": {},
   "outputs": [
    {
     "data": {
      "text/plain": [
       "array([-1,  0,  1,  2,  3])"
      ]
     },
     "execution_count": 91,
     "metadata": {},
     "output_type": "execute_result"
    }
   ],
   "source": [
    "np.unique(y_opt2)"
   ]
  },
  {
   "cell_type": "code",
   "execution_count": 92,
   "metadata": {},
   "outputs": [],
   "source": [
    "y_cluster_opt2 = y_opt2[y_opt2 >= 0]"
   ]
  },
  {
   "cell_type": "code",
   "execution_count": 93,
   "metadata": {},
   "outputs": [
    {
     "data": {
      "text/plain": [
       "array([561, 142,  22,   4], dtype=int64)"
      ]
     },
     "execution_count": 93,
     "metadata": {},
     "output_type": "execute_result"
    }
   ],
   "source": [
    "np.bincount(y_cluster_opt2)"
   ]
  },
  {
   "cell_type": "code",
   "execution_count": null,
   "metadata": {},
   "outputs": [],
   "source": []
  },
  {
   "cell_type": "markdown",
   "metadata": {},
   "source": [
    "------------------------------------------------------------------------------"
   ]
  },
  {
   "cell_type": "markdown",
   "metadata": {},
   "source": [
    "---------------------------------------------------------"
   ]
  },
  {
   "cell_type": "code",
   "execution_count": 94,
   "metadata": {},
   "outputs": [],
   "source": [
    "car_m45 = data[data['MakeId'] == 'm45']"
   ]
  },
  {
   "cell_type": "code",
   "execution_count": 95,
   "metadata": {},
   "outputs": [
    {
     "data": {
      "text/plain": [
       "(10680, 30)"
      ]
     },
     "execution_count": 95,
     "metadata": {},
     "output_type": "execute_result"
    }
   ],
   "source": [
    "car_m45.shape"
   ]
  },
  {
   "cell_type": "code",
   "execution_count": 96,
   "metadata": {},
   "outputs": [],
   "source": [
    "car_m45 = car_m45.dropna(subset=['Price', 'Mileage', 'Accident Check', 'OwnershipHistory'])"
   ]
  },
  {
   "cell_type": "code",
   "execution_count": 97,
   "metadata": {},
   "outputs": [
    {
     "data": {
      "text/plain": [
       "(9633, 30)"
      ]
     },
     "execution_count": 97,
     "metadata": {},
     "output_type": "execute_result"
    }
   ],
   "source": [
    "car_m45.shape"
   ]
  },
  {
   "cell_type": "code",
   "execution_count": 98,
   "metadata": {},
   "outputs": [
    {
     "data": {
      "text/plain": [
       "CarID                   int64\n",
       "MakeId                 object\n",
       "Title                  object\n",
       "Year                    int64\n",
       "Make                   object\n",
       "Model                  object\n",
       "Trim                   object\n",
       "BodyStyle              object\n",
       "Rental                 object\n",
       "Location               object\n",
       "GasMileage_city        object\n",
       "GasMileage_highway     object\n",
       "Price                 float64\n",
       "Mileage               float64\n",
       "Transmission           object\n",
       "FuelType               object\n",
       "ExteriorColor          object\n",
       "InteriorColor          object\n",
       "DoorsNum               object\n",
       "MaximumSeating         object\n",
       "Engine                 object\n",
       "Drivetrain             object\n",
       "VIN                    object\n",
       "OptionCount             int64\n",
       "MajorOptions           object\n",
       "Certified              object\n",
       "Accident Check        float64\n",
       "OwnershipHistory      float64\n",
       "SellingDays             int64\n",
       "OriginPrice           float64\n",
       "dtype: object"
      ]
     },
     "execution_count": 98,
     "metadata": {},
     "output_type": "execute_result"
    }
   ],
   "source": [
    "car_m45.dtypes"
   ]
  },
  {
   "cell_type": "code",
   "execution_count": 101,
   "metadata": {},
   "outputs": [],
   "source": [
    "train_data2 = car_m45.iloc[:,[3,12,13,23,26,27,28]]"
   ]
  },
  {
   "cell_type": "code",
   "execution_count": 102,
   "metadata": {},
   "outputs": [
    {
     "data": {
      "text/plain": [
       "Year                0\n",
       "Price               0\n",
       "Mileage             0\n",
       "OptionCount         0\n",
       "Accident Check      0\n",
       "OwnershipHistory    0\n",
       "SellingDays         0\n",
       "dtype: int64"
      ]
     },
     "execution_count": 102,
     "metadata": {},
     "output_type": "execute_result"
    }
   ],
   "source": [
    "train_data2.isnull().sum()"
   ]
  },
  {
   "cell_type": "code",
   "execution_count": 105,
   "metadata": {},
   "outputs": [
    {
     "data": {
      "text/plain": [
       "(9633, 7)"
      ]
     },
     "execution_count": 105,
     "metadata": {},
     "output_type": "execute_result"
    }
   ],
   "source": [
    "train_data2.shape"
   ]
  },
  {
   "cell_type": "code",
   "execution_count": 106,
   "metadata": {},
   "outputs": [
    {
     "data": {
      "text/html": [
       "<div>\n",
       "<style scoped>\n",
       "    .dataframe tbody tr th:only-of-type {\n",
       "        vertical-align: middle;\n",
       "    }\n",
       "\n",
       "    .dataframe tbody tr th {\n",
       "        vertical-align: top;\n",
       "    }\n",
       "\n",
       "    .dataframe thead th {\n",
       "        text-align: right;\n",
       "    }\n",
       "</style>\n",
       "<table border=\"1\" class=\"dataframe\">\n",
       "  <thead>\n",
       "    <tr style=\"text-align: right;\">\n",
       "      <th></th>\n",
       "      <th>Year</th>\n",
       "      <th>Price</th>\n",
       "      <th>Mileage</th>\n",
       "      <th>OptionCount</th>\n",
       "      <th>Accident Check</th>\n",
       "      <th>OwnershipHistory</th>\n",
       "      <th>SellingDays</th>\n",
       "    </tr>\n",
       "  </thead>\n",
       "  <tbody>\n",
       "    <tr>\n",
       "      <th>1848599</th>\n",
       "      <td>2010</td>\n",
       "      <td>6895.0</td>\n",
       "      <td>111871.0</td>\n",
       "      <td>1</td>\n",
       "      <td>0.0</td>\n",
       "      <td>1.0</td>\n",
       "      <td>1727</td>\n",
       "    </tr>\n",
       "    <tr>\n",
       "      <th>1848600</th>\n",
       "      <td>2007</td>\n",
       "      <td>7995.0</td>\n",
       "      <td>64415.0</td>\n",
       "      <td>1</td>\n",
       "      <td>0.0</td>\n",
       "      <td>5.0</td>\n",
       "      <td>1421</td>\n",
       "    </tr>\n",
       "    <tr>\n",
       "      <th>1848601</th>\n",
       "      <td>2008</td>\n",
       "      <td>7998.0</td>\n",
       "      <td>29731.0</td>\n",
       "      <td>1</td>\n",
       "      <td>2.0</td>\n",
       "      <td>1.0</td>\n",
       "      <td>1362</td>\n",
       "    </tr>\n",
       "    <tr>\n",
       "      <th>1848602</th>\n",
       "      <td>2002</td>\n",
       "      <td>4995.0</td>\n",
       "      <td>155985.0</td>\n",
       "      <td>0</td>\n",
       "      <td>0.0</td>\n",
       "      <td>6.0</td>\n",
       "      <td>1187</td>\n",
       "    </tr>\n",
       "    <tr>\n",
       "      <th>1848604</th>\n",
       "      <td>2003</td>\n",
       "      <td>3795.0</td>\n",
       "      <td>114701.0</td>\n",
       "      <td>0</td>\n",
       "      <td>0.0</td>\n",
       "      <td>3.0</td>\n",
       "      <td>1153</td>\n",
       "    </tr>\n",
       "  </tbody>\n",
       "</table>\n",
       "</div>"
      ],
      "text/plain": [
       "         Year   Price   Mileage  OptionCount  Accident Check  OwnershipHistory  SellingDays\n",
       "1848599  2010  6895.0  111871.0            1             0.0               1.0         1727\n",
       "1848600  2007  7995.0   64415.0            1             0.0               5.0         1421\n",
       "1848601  2008  7998.0   29731.0            1             2.0               1.0         1362\n",
       "1848602  2002  4995.0  155985.0            0             0.0               6.0         1187\n",
       "1848604  2003  3795.0  114701.0            0             0.0               3.0         1153"
      ]
     },
     "execution_count": 106,
     "metadata": {},
     "output_type": "execute_result"
    }
   ],
   "source": [
    "train_data2.head(5)"
   ]
  },
  {
   "cell_type": "code",
   "execution_count": 107,
   "metadata": {},
   "outputs": [],
   "source": [
    "mms = MinMaxScaler()"
   ]
  },
  {
   "cell_type": "code",
   "execution_count": 108,
   "metadata": {},
   "outputs": [
    {
     "name": "stderr",
     "output_type": "stream",
     "text": [
      "c:\\program files\\python37\\lib\\site-packages\\pandas\\core\\indexing.py:494: SettingWithCopyWarning: \n",
      "A value is trying to be set on a copy of a slice from a DataFrame.\n",
      "Try using .loc[row_indexer,col_indexer] = value instead\n",
      "\n",
      "See the caveats in the documentation: http://pandas.pydata.org/pandas-docs/stable/user_guide/indexing.html#returning-a-view-versus-a-copy\n",
      "  self.obj[item] = s\n"
     ]
    }
   ],
   "source": [
    "train_data2.iloc[:,:] = mms.fit_transform(train_data2.iloc[:,:])"
   ]
  },
  {
   "cell_type": "code",
   "execution_count": 109,
   "metadata": {},
   "outputs": [
    {
     "data": {
      "text/html": [
       "<div>\n",
       "<style scoped>\n",
       "    .dataframe tbody tr th:only-of-type {\n",
       "        vertical-align: middle;\n",
       "    }\n",
       "\n",
       "    .dataframe tbody tr th {\n",
       "        vertical-align: top;\n",
       "    }\n",
       "\n",
       "    .dataframe thead th {\n",
       "        text-align: right;\n",
       "    }\n",
       "</style>\n",
       "<table border=\"1\" class=\"dataframe\">\n",
       "  <thead>\n",
       "    <tr style=\"text-align: right;\">\n",
       "      <th></th>\n",
       "      <th>Year</th>\n",
       "      <th>Price</th>\n",
       "      <th>Mileage</th>\n",
       "      <th>OptionCount</th>\n",
       "      <th>Accident Check</th>\n",
       "      <th>OwnershipHistory</th>\n",
       "      <th>SellingDays</th>\n",
       "    </tr>\n",
       "  </thead>\n",
       "  <tbody>\n",
       "    <tr>\n",
       "      <th>1848599</th>\n",
       "      <td>0.444444</td>\n",
       "      <td>0.040342</td>\n",
       "      <td>0.433797</td>\n",
       "      <td>0.05</td>\n",
       "      <td>0.0</td>\n",
       "      <td>0.0</td>\n",
       "      <td>0.771326</td>\n",
       "    </tr>\n",
       "    <tr>\n",
       "      <th>1848600</th>\n",
       "      <td>0.277778</td>\n",
       "      <td>0.049399</td>\n",
       "      <td>0.249687</td>\n",
       "      <td>0.05</td>\n",
       "      <td>0.0</td>\n",
       "      <td>0.4</td>\n",
       "      <td>0.634658</td>\n",
       "    </tr>\n",
       "    <tr>\n",
       "      <th>1848601</th>\n",
       "      <td>0.333333</td>\n",
       "      <td>0.049423</td>\n",
       "      <td>0.115127</td>\n",
       "      <td>0.05</td>\n",
       "      <td>0.5</td>\n",
       "      <td>0.0</td>\n",
       "      <td>0.608307</td>\n",
       "    </tr>\n",
       "    <tr>\n",
       "      <th>1848602</th>\n",
       "      <td>0.000000</td>\n",
       "      <td>0.024699</td>\n",
       "      <td>0.604941</td>\n",
       "      <td>0.00</td>\n",
       "      <td>0.0</td>\n",
       "      <td>0.5</td>\n",
       "      <td>0.530147</td>\n",
       "    </tr>\n",
       "    <tr>\n",
       "      <th>1848604</th>\n",
       "      <td>0.055556</td>\n",
       "      <td>0.014820</td>\n",
       "      <td>0.444776</td>\n",
       "      <td>0.00</td>\n",
       "      <td>0.0</td>\n",
       "      <td>0.2</td>\n",
       "      <td>0.514962</td>\n",
       "    </tr>\n",
       "  </tbody>\n",
       "</table>\n",
       "</div>"
      ],
      "text/plain": [
       "             Year     Price   Mileage  OptionCount  Accident Check  OwnershipHistory  SellingDays\n",
       "1848599  0.444444  0.040342  0.433797         0.05             0.0               0.0     0.771326\n",
       "1848600  0.277778  0.049399  0.249687         0.05             0.0               0.4     0.634658\n",
       "1848601  0.333333  0.049423  0.115127         0.05             0.5               0.0     0.608307\n",
       "1848602  0.000000  0.024699  0.604941         0.00             0.0               0.5     0.530147\n",
       "1848604  0.055556  0.014820  0.444776         0.00             0.0               0.2     0.514962"
      ]
     },
     "execution_count": 109,
     "metadata": {},
     "output_type": "execute_result"
    }
   ],
   "source": [
    "train_data2.head()"
   ]
  },
  {
   "cell_type": "code",
   "execution_count": 111,
   "metadata": {},
   "outputs": [
    {
     "data": {
      "text/plain": [
       "(9633, 7)"
      ]
     },
     "execution_count": 111,
     "metadata": {},
     "output_type": "execute_result"
    }
   ],
   "source": [
    "train_data2.shape"
   ]
  },
  {
   "cell_type": "code",
   "execution_count": null,
   "metadata": {},
   "outputs": [],
   "source": []
  },
  {
   "cell_type": "code",
   "execution_count": null,
   "metadata": {},
   "outputs": [],
   "source": []
  },
  {
   "cell_type": "code",
   "execution_count": 112,
   "metadata": {},
   "outputs": [],
   "source": [
    "opt_2 = OPTICS(min_samples=5,\n",
    "    max_eps=0.2,\n",
    "    metric='minkowski',\n",
    "    p=2,\n",
    "    cluster_method='xi',\n",
    "    eps=None,\n",
    "    xi=0.05,\n",
    "    leaf_size=30,\n",
    "    n_jobs=6)"
   ]
  },
  {
   "cell_type": "code",
   "execution_count": 113,
   "metadata": {},
   "outputs": [
    {
     "name": "stdout",
     "output_type": "stream",
     "text": [
      "Wall time: 17min 40s\n"
     ]
    }
   ],
   "source": [
    "%%time\n",
    "y_opt_2 = opt_2.fit_predict(train_data2)"
   ]
  },
  {
   "cell_type": "code",
   "execution_count": 114,
   "metadata": {},
   "outputs": [
    {
     "data": {
      "text/plain": [
       "array([ -1,   0,   1,   2,   3,   4,   5,   6,   7,   8,   9,  10,  11,\n",
       "        12,  13,  14,  15,  16,  17,  18,  19,  20,  21,  22,  23,  24,\n",
       "        25,  26,  27,  28,  29,  30,  31,  32,  33,  34,  35,  36,  37,\n",
       "        38,  39,  40,  41,  42,  43,  44,  45,  46,  47,  48,  49,  50,\n",
       "        51,  52,  53,  54,  55,  56,  57,  58,  59,  60,  61,  62,  63,\n",
       "        64,  65,  66,  67,  68,  69,  70,  71,  72,  73,  74,  75,  76,\n",
       "        77,  78,  79,  80,  81,  82,  83,  84,  85,  86,  87,  88,  89,\n",
       "        90,  91,  92,  93,  94,  95,  96,  97,  98,  99, 100, 101, 102,\n",
       "       103, 104, 105, 106, 107, 108, 109, 110, 111, 112, 113, 114, 115,\n",
       "       116, 117, 118, 119, 120, 121, 122, 123, 124, 125, 126, 127, 128,\n",
       "       129, 130, 131, 132, 133, 134, 135, 136, 137, 138, 139, 140, 141,\n",
       "       142, 143, 144, 145, 146, 147, 148, 149, 150, 151, 152, 153, 154,\n",
       "       155, 156, 157, 158, 159, 160, 161, 162, 163, 164, 165, 166, 167,\n",
       "       168, 169, 170, 171, 172, 173, 174, 175, 176, 177, 178, 179, 180,\n",
       "       181, 182, 183, 184, 185, 186, 187, 188, 189, 190, 191, 192, 193,\n",
       "       194, 195, 196, 197, 198, 199, 200, 201, 202, 203, 204, 205, 206,\n",
       "       207, 208, 209, 210, 211, 212, 213, 214, 215, 216, 217, 218, 219,\n",
       "       220, 221, 222, 223, 224, 225, 226, 227, 228, 229, 230, 231, 232,\n",
       "       233, 234, 235, 236, 237, 238, 239, 240, 241, 242, 243, 244, 245,\n",
       "       246, 247, 248, 249, 250, 251, 252, 253, 254, 255, 256, 257, 258,\n",
       "       259, 260, 261, 262, 263, 264, 265, 266, 267, 268, 269, 270, 271,\n",
       "       272, 273, 274, 275, 276, 277, 278, 279, 280, 281, 282, 283, 284,\n",
       "       285, 286, 287, 288, 289, 290, 291, 292, 293, 294, 295, 296, 297,\n",
       "       298, 299, 300, 301, 302, 303, 304, 305, 306, 307, 308, 309, 310,\n",
       "       311, 312, 313, 314, 315, 316, 317, 318, 319, 320, 321, 322, 323,\n",
       "       324, 325, 326, 327, 328, 329, 330, 331, 332, 333, 334, 335, 336,\n",
       "       337, 338, 339, 340, 341, 342, 343, 344, 345, 346, 347, 348, 349,\n",
       "       350, 351, 352, 353, 354, 355, 356, 357, 358, 359, 360, 361, 362,\n",
       "       363, 364, 365, 366, 367, 368, 369, 370, 371])"
      ]
     },
     "execution_count": 114,
     "metadata": {},
     "output_type": "execute_result"
    }
   ],
   "source": [
    "np.unique(y_opt_2)"
   ]
  },
  {
   "cell_type": "code",
   "execution_count": 115,
   "metadata": {},
   "outputs": [],
   "source": [
    "y_cluster_opt_2 = y_opt_2[y_opt_2 >= 0]"
   ]
  },
  {
   "cell_type": "code",
   "execution_count": 116,
   "metadata": {},
   "outputs": [
    {
     "data": {
      "text/plain": [
       "array([ 6,  6,  5,  9,  5,  6,  7,  5,  5, 13,  8,  5, 11, 11, 11,  6,  8,\n",
       "        7,  7, 18,  9,  9,  5, 17, 12,  8, 10,  7,  7,  8, 15,  5,  9, 12,\n",
       "        5,  6,  5,  6,  6, 10,  9,  8,  6,  6, 11,  5, 14,  8, 14, 14,  7,\n",
       "        5,  5,  8, 15,  5,  5, 12,  5, 11,  8, 19, 10, 13, 22, 17,  6,  5,\n",
       "       11,  7, 11, 19, 16, 14, 11,  5,  8, 31,  8,  5, 13,  7,  8, 13, 23,\n",
       "       16,  8,  7,  6,  8, 12, 14, 10, 14,  7, 10, 10,  6,  5,  8,  5,  5,\n",
       "        6,  9, 15,  6, 12,  5, 14,  9, 16, 14,  6,  6,  5,  8,  8,  6,  5,\n",
       "        5,  9, 10,  8,  7, 13,  6,  7,  9,  7,  6,  6,  5, 21, 18,  6,  5,\n",
       "       12,  5,  9,  5, 28,  6,  5,  7,  7,  7, 10,  9, 18, 10,  7, 10, 12,\n",
       "       10,  6,  6,  5, 10,  5,  6, 15,  7, 11, 12,  9,  8,  6,  5, 13,  5,\n",
       "        6,  9,  9,  5,  7,  7, 18,  5,  8,  8,  8,  9,  5, 15,  9,  5,  8,\n",
       "        5, 14,  6,  7,  5, 11,  5,  5,  8, 22,  9,  5,  8,  9, 12,  8,  5,\n",
       "        5,  5,  5,  8,  9, 13,  8,  5,  5,  5,  5,  7,  5,  7,  6, 18,  5,\n",
       "        8, 15,  5,  5, 13,  5, 10,  7,  9, 12, 11,  5,  6,  5, 10, 15,  8,\n",
       "       11,  6,  9,  8,  6,  5, 14, 18,  6, 15,  7,  8, 13,  9, 12,  5, 10,\n",
       "       12,  5,  6,  5,  7,  9,  5,  6,  9, 10,  7, 11,  5,  8, 20,  5, 11,\n",
       "        7,  6,  5,  6,  5,  6,  5,  9,  6,  6, 14,  9,  6, 16,  5,  6,  7,\n",
       "        7, 14,  5, 10,  5,  6,  8, 11, 14,  9,  6,  6,  8,  5, 11,  6, 11,\n",
       "        6,  9, 10,  5,  6,  9,  5, 12,  7, 10,  5, 10,  7,  5,  5, 14,  6,\n",
       "        7, 10,  7, 11,  5,  6,  9,  5, 16,  5,  5,  7,  5,  8,  6,  5,  8,\n",
       "        5,  6, 11,  8,  5, 11,  5, 13, 14, 11,  6,  7, 14,  9,  6,  8, 15,\n",
       "        5, 11, 40,  9,  7,  5,  7,  5,  5,  6, 20, 11, 14,  6, 11],\n",
       "      dtype=int64)"
      ]
     },
     "execution_count": 116,
     "metadata": {},
     "output_type": "execute_result"
    }
   ],
   "source": [
    "np.bincount(y_cluster_opt_2)"
   ]
  },
  {
   "cell_type": "code",
   "execution_count": null,
   "metadata": {},
   "outputs": [],
   "source": []
  },
  {
   "cell_type": "code",
   "execution_count": 117,
   "metadata": {},
   "outputs": [],
   "source": [
    "db = DBSCAN(eps=0.2,\n",
    "    min_samples=5,\n",
    "    metric='euclidean',\n",
    "    n_jobs=6)"
   ]
  },
  {
   "cell_type": "code",
   "execution_count": 118,
   "metadata": {},
   "outputs": [
    {
     "name": "stdout",
     "output_type": "stream",
     "text": [
      "Wall time: 597 ms\n"
     ]
    }
   ],
   "source": [
    "%%time\n",
    "y_db2 = db.fit_predict(train_data2)"
   ]
  },
  {
   "cell_type": "code",
   "execution_count": 119,
   "metadata": {},
   "outputs": [
    {
     "data": {
      "text/plain": [
       "array([-1,  0,  1,  2,  3], dtype=int64)"
      ]
     },
     "execution_count": 119,
     "metadata": {},
     "output_type": "execute_result"
    }
   ],
   "source": [
    "np.unique(y_db2)"
   ]
  },
  {
   "cell_type": "code",
   "execution_count": 120,
   "metadata": {},
   "outputs": [],
   "source": [
    "y_cluster_db2 = y_db2[y_db2 >= 0]"
   ]
  },
  {
   "cell_type": "code",
   "execution_count": 121,
   "metadata": {},
   "outputs": [
    {
     "data": {
      "text/plain": [
       "array([8155, 1225,  179,   11], dtype=int64)"
      ]
     },
     "execution_count": 121,
     "metadata": {},
     "output_type": "execute_result"
    }
   ],
   "source": [
    "np.bincount(y_cluster_db2)"
   ]
  },
  {
   "cell_type": "code",
   "execution_count": null,
   "metadata": {},
   "outputs": [],
   "source": []
  },
  {
   "cell_type": "code",
   "execution_count": null,
   "metadata": {},
   "outputs": [],
   "source": []
  },
  {
   "cell_type": "code",
   "execution_count": null,
   "metadata": {},
   "outputs": [],
   "source": []
  },
  {
   "cell_type": "code",
   "execution_count": 122,
   "metadata": {},
   "outputs": [],
   "source": [
    "opt_3 = OPTICS(min_samples=10,\n",
    "    max_eps=0.2,\n",
    "    metric='minkowski',\n",
    "    p=2,\n",
    "    cluster_method='xi',\n",
    "    eps=None,\n",
    "    xi=0.05,\n",
    "    leaf_size=30,\n",
    "    n_jobs=6)"
   ]
  },
  {
   "cell_type": "code",
   "execution_count": 123,
   "metadata": {},
   "outputs": [
    {
     "name": "stdout",
     "output_type": "stream",
     "text": [
      "Wall time: 17min 30s\n"
     ]
    }
   ],
   "source": [
    "%%time\n",
    "y_opt_3 = opt_3.fit_predict(train_data2)"
   ]
  },
  {
   "cell_type": "code",
   "execution_count": 124,
   "metadata": {},
   "outputs": [
    {
     "data": {
      "text/plain": [
       "array([ -1,   0,   1,   2,   3,   4,   5,   6,   7,   8,   9,  10,  11,\n",
       "        12,  13,  14,  15,  16,  17,  18,  19,  20,  21,  22,  23,  24,\n",
       "        25,  26,  27,  28,  29,  30,  31,  32,  33,  34,  35,  36,  37,\n",
       "        38,  39,  40,  41,  42,  43,  44,  45,  46,  47,  48,  49,  50,\n",
       "        51,  52,  53,  54,  55,  56,  57,  58,  59,  60,  61,  62,  63,\n",
       "        64,  65,  66,  67,  68,  69,  70,  71,  72,  73,  74,  75,  76,\n",
       "        77,  78,  79,  80,  81,  82,  83,  84,  85,  86,  87,  88,  89,\n",
       "        90,  91,  92,  93,  94,  95,  96,  97,  98,  99, 100, 101, 102])"
      ]
     },
     "execution_count": 124,
     "metadata": {},
     "output_type": "execute_result"
    }
   ],
   "source": [
    "np.unique(y_opt_3)"
   ]
  },
  {
   "cell_type": "code",
   "execution_count": 125,
   "metadata": {},
   "outputs": [],
   "source": [
    "y_cluster_opt_3 = y_opt_3[y_opt_3 >= 0]"
   ]
  },
  {
   "cell_type": "code",
   "execution_count": 126,
   "metadata": {},
   "outputs": [
    {
     "data": {
      "text/plain": [
       "array([ 11,  21,  16,  19,  23,  17,  11,  23,  12,  12,  19,  11,  19,\n",
       "        18,  30,  26,  27,  50,  10,  12,  20,  18,  35,  10,  13,  24,\n",
       "        10,  13,  12,  14,  24,  27,  11,  20,  11, 238, 146, 190,  14,\n",
       "        21,  11,  21,  75,  31,  29,  45,  19,  44,  11,  14,  11,  20,\n",
       "        10,  22,  10,  29,  22,  13,  15,  29,  12,  14,  14,  28,  17,\n",
       "        14,  21,  13,  49,  13,  13,  19,  18,  13,  10,  14,  11,  17,\n",
       "        31,  12,  13,  14,  31,  14,  13,  17,  11,  16,  27,  13,  13,\n",
       "        13,  10,  10,  31,  14,  10,  18,  15,  11,  41,  20,  16],\n",
       "      dtype=int64)"
      ]
     },
     "execution_count": 126,
     "metadata": {},
     "output_type": "execute_result"
    }
   ],
   "source": [
    "np.bincount(y_cluster_opt_3)"
   ]
  },
  {
   "cell_type": "code",
   "execution_count": null,
   "metadata": {},
   "outputs": [],
   "source": []
  },
  {
   "cell_type": "markdown",
   "metadata": {},
   "source": [
    "----------------------------------------------------------------------------------"
   ]
  },
  {
   "cell_type": "code",
   "execution_count": null,
   "metadata": {},
   "outputs": [],
   "source": []
  },
  {
   "cell_type": "code",
   "execution_count": 127,
   "metadata": {},
   "outputs": [],
   "source": [
    "opt_4 = OPTICS(min_samples=20,\n",
    "    max_eps=0.2,\n",
    "    metric='minkowski',\n",
    "    p=2,\n",
    "    cluster_method='xi',\n",
    "    eps=None,\n",
    "    xi=0.05,\n",
    "    leaf_size=30,\n",
    "    n_jobs=6)"
   ]
  },
  {
   "cell_type": "code",
   "execution_count": 128,
   "metadata": {},
   "outputs": [
    {
     "name": "stdout",
     "output_type": "stream",
     "text": [
      "Wall time: 17min 12s\n"
     ]
    }
   ],
   "source": [
    "%%time\n",
    "y_opt_4 = opt_4.fit_predict(train_data2)"
   ]
  },
  {
   "cell_type": "code",
   "execution_count": 129,
   "metadata": {},
   "outputs": [
    {
     "data": {
      "text/plain": [
       "array([-1,  0,  1,  2,  3,  4,  5,  6,  7,  8,  9, 10, 11, 12, 13, 14, 15,\n",
       "       16, 17, 18, 19, 20, 21, 22, 23, 24, 25, 26, 27, 28, 29, 30, 31, 32,\n",
       "       33, 34])"
      ]
     },
     "execution_count": 129,
     "metadata": {},
     "output_type": "execute_result"
    }
   ],
   "source": [
    "np.unique(y_opt_4)"
   ]
  },
  {
   "cell_type": "code",
   "execution_count": 130,
   "metadata": {},
   "outputs": [],
   "source": [
    "y_cluster_opt_4 = y_opt_4[y_opt_4 >= 0]"
   ]
  },
  {
   "cell_type": "code",
   "execution_count": 131,
   "metadata": {},
   "outputs": [
    {
     "data": {
      "text/plain": [
       "array([  67,   23,   29,   68,   46,  120,   47,   40,   48,  127,   21,\n",
       "         80,   33,   32,   25,  106,   32,  237,  139,  187,   20,  135,\n",
       "         81,   51,   46,   22,   36,   38,   66,   34,   38,   29,   26,\n",
       "       1194,  150], dtype=int64)"
      ]
     },
     "execution_count": 131,
     "metadata": {},
     "output_type": "execute_result"
    }
   ],
   "source": [
    "np.bincount(y_cluster_opt_4)"
   ]
  },
  {
   "cell_type": "code",
   "execution_count": null,
   "metadata": {},
   "outputs": [],
   "source": []
  },
  {
   "cell_type": "code",
   "execution_count": null,
   "metadata": {},
   "outputs": [],
   "source": []
  },
  {
   "cell_type": "code",
   "execution_count": null,
   "metadata": {},
   "outputs": [],
   "source": []
  },
  {
   "cell_type": "code",
   "execution_count": null,
   "metadata": {},
   "outputs": [],
   "source": []
  },
  {
   "cell_type": "code",
   "execution_count": null,
   "metadata": {},
   "outputs": [],
   "source": []
  }
 ],
 "metadata": {
  "kernelspec": {
   "display_name": "Python 3",
   "language": "python",
   "name": "python3"
  },
  "language_info": {
   "codemirror_mode": {
    "name": "ipython",
    "version": 3
   },
   "file_extension": ".py",
   "mimetype": "text/x-python",
   "name": "python",
   "nbconvert_exporter": "python",
   "pygments_lexer": "ipython3",
   "version": "3.7.5"
  }
 },
 "nbformat": 4,
 "nbformat_minor": 2
}
